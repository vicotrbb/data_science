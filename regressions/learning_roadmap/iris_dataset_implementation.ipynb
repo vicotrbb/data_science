{
  "nbformat": 4,
  "nbformat_minor": 0,
  "metadata": {
    "colab": {
      "name": "iris_dataset_implementation.ipynb",
      "provenance": []
    },
    "kernelspec": {
      "name": "python3",
      "display_name": "Python 3"
    }
  },
  "cells": [
    {
      "cell_type": "code",
      "metadata": {
        "id": "4dnTUziJKmBm",
        "colab_type": "code",
        "colab": {}
      },
      "source": [
        "# Imports\n",
        "import numpy as np\n",
        "import matplotlib.pyplot as plt \n",
        "import pandas as pd  \n",
        "import seaborn as sns \n",
        "\n",
        "# O dataset esta disponivel entre os datasets do skelarn.\n",
        "from sklearn.datasets import load_iris\n",
        "from sklearn.model_selection import train_test_split\n",
        "from sklearn.linear_model import LinearRegression\n",
        "from sklearn.metrics import mean_squared_error, r2_score"
      ],
      "execution_count": 0,
      "outputs": []
    },
    {
      "cell_type": "code",
      "metadata": {
        "id": "HMpgzVHXQDVJ",
        "colab_type": "code",
        "colab": {
          "base_uri": "https://localhost:8080/",
          "height": 1000
        },
        "outputId": "d21a2657-0bc7-4453-da11-63e6633bc1dd"
      },
      "source": [
        "iris_dataset = load_iris()\n",
        "iris = pd.DataFrame(iris_dataset.data, columns=iris_dataset.feature_names)\n",
        "\n",
        "iris['target'] = iris_dataset.target\n",
        "\n",
        "print(iris_dataset.DESCR)\n",
        "print('\\n --------------------TARGETS INDEXES---------------- \\n')\n",
        "for i, name in enumerate(iris_dataset.target_names):\n",
        "  print(f'{i} - {name}')\n",
        "print('\\n')\n",
        "print('------------DATASET SAMPLES-------------- \\n')\n",
        "print(iris.sample(5))"
      ],
      "execution_count": 11,
      "outputs": [
        {
          "output_type": "stream",
          "text": [
            ".. _iris_dataset:\n",
            "\n",
            "Iris plants dataset\n",
            "--------------------\n",
            "\n",
            "**Data Set Characteristics:**\n",
            "\n",
            "    :Number of Instances: 150 (50 in each of three classes)\n",
            "    :Number of Attributes: 4 numeric, predictive attributes and the class\n",
            "    :Attribute Information:\n",
            "        - sepal length in cm\n",
            "        - sepal width in cm\n",
            "        - petal length in cm\n",
            "        - petal width in cm\n",
            "        - class:\n",
            "                - Iris-Setosa\n",
            "                - Iris-Versicolour\n",
            "                - Iris-Virginica\n",
            "                \n",
            "    :Summary Statistics:\n",
            "\n",
            "    ============== ==== ==== ======= ===== ====================\n",
            "                    Min  Max   Mean    SD   Class Correlation\n",
            "    ============== ==== ==== ======= ===== ====================\n",
            "    sepal length:   4.3  7.9   5.84   0.83    0.7826\n",
            "    sepal width:    2.0  4.4   3.05   0.43   -0.4194\n",
            "    petal length:   1.0  6.9   3.76   1.76    0.9490  (high!)\n",
            "    petal width:    0.1  2.5   1.20   0.76    0.9565  (high!)\n",
            "    ============== ==== ==== ======= ===== ====================\n",
            "\n",
            "    :Missing Attribute Values: None\n",
            "    :Class Distribution: 33.3% for each of 3 classes.\n",
            "    :Creator: R.A. Fisher\n",
            "    :Donor: Michael Marshall (MARSHALL%PLU@io.arc.nasa.gov)\n",
            "    :Date: July, 1988\n",
            "\n",
            "The famous Iris database, first used by Sir R.A. Fisher. The dataset is taken\n",
            "from Fisher's paper. Note that it's the same as in R, but not as in the UCI\n",
            "Machine Learning Repository, which has two wrong data points.\n",
            "\n",
            "This is perhaps the best known database to be found in the\n",
            "pattern recognition literature.  Fisher's paper is a classic in the field and\n",
            "is referenced frequently to this day.  (See Duda & Hart, for example.)  The\n",
            "data set contains 3 classes of 50 instances each, where each class refers to a\n",
            "type of iris plant.  One class is linearly separable from the other 2; the\n",
            "latter are NOT linearly separable from each other.\n",
            "\n",
            ".. topic:: References\n",
            "\n",
            "   - Fisher, R.A. \"The use of multiple measurements in taxonomic problems\"\n",
            "     Annual Eugenics, 7, Part II, 179-188 (1936); also in \"Contributions to\n",
            "     Mathematical Statistics\" (John Wiley, NY, 1950).\n",
            "   - Duda, R.O., & Hart, P.E. (1973) Pattern Classification and Scene Analysis.\n",
            "     (Q327.D83) John Wiley & Sons.  ISBN 0-471-22361-1.  See page 218.\n",
            "   - Dasarathy, B.V. (1980) \"Nosing Around the Neighborhood: A New System\n",
            "     Structure and Classification Rule for Recognition in Partially Exposed\n",
            "     Environments\".  IEEE Transactions on Pattern Analysis and Machine\n",
            "     Intelligence, Vol. PAMI-2, No. 1, 67-71.\n",
            "   - Gates, G.W. (1972) \"The Reduced Nearest Neighbor Rule\".  IEEE Transactions\n",
            "     on Information Theory, May 1972, 431-433.\n",
            "   - See also: 1988 MLC Proceedings, 54-64.  Cheeseman et al\"s AUTOCLASS II\n",
            "     conceptual clustering system finds 3 classes in the data.\n",
            "   - Many, many more ...\n",
            "\n",
            " --------------------TARGETS INDEXES---------------- \n",
            "\n",
            "0 - setosa\n",
            "1 - versicolor\n",
            "2 - virginica\n",
            "\n",
            "\n",
            "------------DATASET SAMPLES-------------- \n",
            "\n",
            "    sepal length (cm)  sepal width (cm)  ...  petal width (cm)  target\n",
            "49                5.0               3.3  ...               0.2       0\n",
            "44                5.1               3.8  ...               0.4       0\n",
            "47                4.6               3.2  ...               0.2       0\n",
            "27                5.2               3.5  ...               0.2       0\n",
            "34                4.9               3.1  ...               0.2       0\n",
            "\n",
            "[5 rows x 5 columns]\n"
          ],
          "name": "stdout"
        }
      ]
    },
    {
      "cell_type": "code",
      "metadata": {
        "id": "KW549c1URr1b",
        "colab_type": "code",
        "colab": {
          "base_uri": "https://localhost:8080/",
          "height": 355
        },
        "outputId": "1cd13505-b53e-472d-d291-3decf9ef0185"
      },
      "source": [
        "x = pd.DataFrame(iris_dataset.data, columns=iris_dataset.feature_names)\n",
        "y = pd.DataFrame(iris_dataset.target, columns=['target'])\n",
        "\n",
        "x_train, x_test, y_train, y_test = train_test_split(x, y, test_size=0.2, random_state=5)\n",
        "\n",
        "model = LinearRegression()\n",
        "\n",
        "model.fit(x_train, y_train)\n",
        "train_predict = model.predict(x_train)\n",
        "rmse = np.sqrt(mean_squared_error(y_train, train_predict))\n",
        "r2 = r2_score(y_train, train_predict)\n",
        "\n",
        "print('Conjunto de treino')\n",
        "print('---------RMSE----------')\n",
        "print(rmse)\n",
        "print('---------r2----------')\n",
        "print(r2)\n",
        "\n",
        "plt.scatter(x_train['sepal length (cm)'], x_train['sepal width (cm)'], \n",
        "            c=train_predict, cmap=plt.cm.Set1,\n",
        "            edgecolor='k')\n",
        "plt.show()"
      ],
      "execution_count": 47,
      "outputs": [
        {
          "output_type": "stream",
          "text": [
            "Conjunto de treino\n",
            "---------RMSE----------\n",
            "0.2028523400965125\n",
            "---------r2----------\n",
            "0.9389819137977665\n"
          ],
          "name": "stdout"
        },
        {
          "output_type": "display_data",
          "data": {
            "image/png": "[encoded data removed]",
            "text/plain": [
              "<Figure size 432x288 with 1 Axes>"
            ]
          },
          "metadata": {
            "tags": [],
            "needs_background": "light"
          }
        }
      ]
    },
    {
      "cell_type": "code",
      "metadata": {
        "id": "hpOmXPAyYMy9",
        "colab_type": "code",
        "colab": {
          "base_uri": "https://localhost:8080/",
          "height": 352
        },
        "outputId": "a43128cf-c5f6-4903-b279-9f0af41b8da8"
      },
      "source": [
        "test_predict = model.predict(x_test)\n",
        "rmse = np.sqrt(mean_squared_error(y_test, test_predict))\n",
        "r2 = r2_score(y_test, test_predict)\n",
        "\n",
        "print('Conjunto de treino')\n",
        "print('---------RMSE----------')\n",
        "print(rmse)\n",
        "print('---------r2----------')\n",
        "print(r2)\n",
        "\n",
        "plt.scatter(x_test['sepal length (cm)'], x_test['sepal width (cm)'], \n",
        "            c=test_predict, cmap=plt.cm.Set1,\n",
        "            edgecolor='k')\n",
        "plt.show()"
      ],
      "execution_count": 48,
      "outputs": [
        {
          "output_type": "stream",
          "text": [
            "Conjunto de treino\n",
            "---------RMSE----------\n",
            "0.2689132416315446\n",
            "---------r2----------\n",
            "0.8839877034361731\n"
          ],
          "name": "stdout"
        },
        {
          "output_type": "display_data",
          "data": {
            "image/png": "[encoded data removed]",
            "text/plain": [
              "<Figure size 432x288 with 1 Axes>"
            ]
          },
          "metadata": {
            "tags": [],
            "needs_background": "light"
          }
        }
      ]
    },
    {
      "cell_type": "markdown",
      "metadata": {
        "id": "4Tba4GcuQn-C",
        "colab_type": "text"
      },
      "source": [
        ""
      ]
    }
  ]
}