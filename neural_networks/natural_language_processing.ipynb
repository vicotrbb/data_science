{
  "nbformat": 4,
  "nbformat_minor": 0,
  "metadata": {
    "colab": {
      "name": "natural_language_processing.ipynb",
      "provenance": []
    },
    "kernelspec": {
      "name": "python3",
      "display_name": "Python 3"
    }
  },
  "cells": [
    {
      "cell_type": "markdown",
      "metadata": {
        "id": "aub_sk8d18wk",
        "colab_type": "text"
      },
      "source": [
        "# Natural Language Processing\n",
        "\n",
        "Natural Language Processing ou processamento de linguagem natural é  uma subarea da ciencia da computação e da Inteligencia Artificial que visa estudar as dificuldades de e métodos de compreender, processar, criar e traduzir linguagem natural utilizando computadores. "
      ]
    },
    {
      "cell_type": "code",
      "metadata": {
        "id": "Twv7kGEQvMNj",
        "colab_type": "code",
        "colab": {}
      },
      "source": [
        ""
      ],
      "execution_count": null,
      "outputs": []
    }
  ]
}