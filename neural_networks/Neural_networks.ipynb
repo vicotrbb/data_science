{
  "nbformat": 4,
  "nbformat_minor": 0,
  "metadata": {
    "colab": {
      "name": "Neural_networks.ipynb",
      "provenance": [],
      "collapsed_sections": []
    },
    "kernelspec": {
      "name": "python3",
      "display_name": "Python 3"
    }
  },
  "cells": [
    {
      "cell_type": "markdown",
      "metadata": {
        "id": "YNIBHFAQ9LCM",
        "colab_type": "text"
      },
      "source": [
        "# Neural networks\n",
        "\n",
        "\n",
        "\n",
        "\n",
        "### Referencias\n",
        "\n",
        "* https://matheusfacure.github.io/2017/07/12/activ-func/#sig\n",
        "* https://iamtrask.github.io/2015/07/12/basic-python-network/\n",
        "* https://en.wikipedia.org/wiki/Sigmoid_function#Applications"
      ]
    },
    {
      "cell_type": "markdown",
      "metadata": {
        "id": "JOcHlELCJsuP",
        "colab_type": "text"
      },
      "source": [
        "## Função sigmoide\n",
        "\n",
        "A **função sigmoide** é uma função usada amplamente na matemárica ecomica e computacional, é chamada dessa forma por sua caracteristica grafica em forma de \"S\", chamada de curva de sigmoide. A função sigmoide é utilizada para a criação e transformação de componentes matematicos não lineares, em ML/IA normalmente é utilizada como função de ativação para o modelo, sendo responsavel por treinar os modelos em relações não lineares entre as variáveis dependentes e independentes mapeando qualquer valor para valores entre 0 e 1.\n",
        "\n",
        "<img src=https://upload.wikimedia.org/wikipedia/commons/thumb/8/88/Logistic-curve.svg/1280px-Logistic-curve.svg.png width=\"500\">\n",
        "\n",
        "\n",
        "### Definição da função sigmoide\n",
        "\n",
        ">$ \\sigma(x)=\\frac{1}{1+e^x} $\n",
        "\n",
        "Sua derivada:\n",
        "\n",
        "> $ \\sigma'(x)=\\sigma(x)(1-\\sigma(x)) $\n",
        "\n",
        "No caso do primeiro algoritmo de exemplo, a função sigmoide está sendo utilizada para converter os valores em probabilidades. \n"
      ]
    },
    {
      "cell_type": "markdown",
      "metadata": {
        "id": "3q13Pt2YPDpv",
        "colab_type": "text"
      },
      "source": [
        "## Criando uma rede neural de duas camadas"
      ]
    },
    {
      "cell_type": "code",
      "metadata": {
        "id": "R6rn1LCu7lJn",
        "colab_type": "code",
        "colab": {}
      },
      "source": [
        "import numpy as np\n",
        "\n",
        "# Função sigmoide\n",
        "def nonlin(x,deriv=False):\n",
        "  if(deriv==True):\n",
        "      return x*(1-x)\n",
        "  return 1/(1+np.exp(-x))\n",
        "    \n",
        "# input dataset\n",
        "X = np.array([  [0,0,1],\n",
        "                [0,1,1],\n",
        "                [1,0,1],\n",
        "                [1,1,1] ])\n",
        "    \n",
        "# output dataset            \n",
        "y = np.array([[0,0,1,1]]).T\n",
        "\n",
        "# Gera uma seed para os numeros gerados randomicamente, visando a distribuição\n",
        "# homogenea para todas as interações\n",
        "np.random.seed(1)\n",
        "\n",
        "# initialize weights randomly with mean 0\n",
        "syn0 = 2*np.random.random((3,1)) - 1\n",
        "\n",
        "for iter in np.arange(10000):\n",
        "\n",
        "  # forward propagation\n",
        "  l0 = X\n",
        "  l1 = nonlin(np.dot(l0,syn0))\n",
        "\n",
        "  # how much did we miss?\n",
        "  l1_error = y - l1\n",
        "\n",
        "  # multiply how much we missed by the \n",
        "  # slope of the sigmoid at the values in l1\n",
        "  l1_delta = l1_error * nonlin(l1,True)\n",
        "\n",
        "  # update weights\n",
        "  syn0 += np.dot(l0.T,l1_delta)\n",
        "\n",
        "print(\"Output After Training:\")\n",
        "print(l1)\n"
      ],
      "execution_count": null,
      "outputs": []
    }
  ]
}