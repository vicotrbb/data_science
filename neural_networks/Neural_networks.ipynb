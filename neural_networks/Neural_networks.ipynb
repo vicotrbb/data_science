{
  "nbformat": 4,
  "nbformat_minor": 0,
  "metadata": {
    "colab": {
      "name": "Neural_networks.ipynb",
      "provenance": [],
      "collapsed_sections": [],
      "toc_visible": true,
      "include_colab_link": true
    },
    "kernelspec": {
      "name": "python3",
      "display_name": "Python 3"
    }
  },
  "cells": [
    {
      "cell_type": "markdown",
      "metadata": {
        "id": "view-in-github",
        "colab_type": "text"
      },
      "source": [
        "<a href=\"https://colab.research.google.com/github/vicotrbb/machine_learning/blob/master/neural_networks/Neural_networks.ipynb\" target=\"_parent\"><img src=\"https://colab.research.google.com/assets/colab-badge.svg\" alt=\"Open In Colab\"/></a>"
      ]
    },
    {
      "cell_type": "markdown",
      "metadata": {
        "id": "YNIBHFAQ9LCM",
        "colab_type": "text"
      },
      "source": [
        "# Neural networks\n",
        "\n",
        "\n",
        "\n",
        "\n",
        "### Referencias\n",
        "\n",
        "* https://matheusfacure.github.io/2017/07/12/activ-func/#sig\n",
        "* https://iamtrask.github.io/2015/07/12/basic-python-network/\n",
        "* https://en.wikipedia.org/wiki/Sigmoid_function#Applications\n",
        "* https://nextjournal.com/gkoehler/machine-translation-seq2seq-cpu"
      ]
    },
    {
      "cell_type": "markdown",
      "metadata": {
        "id": "j5zP951Bp19Y",
        "colab_type": "text"
      },
      "source": [
        "## Principais aplicações de uma rede neural"
      ]
    },
    {
      "cell_type": "markdown",
      "metadata": {
        "id": "P2K_orlZ-vH1",
        "colab_type": "text"
      },
      "source": [
        "## Função de ativação de uma rede neural\n",
        "\n",
        "As funções de ativação tem a responsabilidade de introduzir valores não lineares ao modelo de uma rede neural, habilitando a rede a trabalhar com valores desconhecidos, além das relações lineares entre as variaveis dependentes e independentes.\n",
        "\n",
        "Para um exemplo prático, vejamos o seguinte modelo de uma rede neural de duas camadas(os vieses foram omitidos):\n",
        "\n",
        ">$ y = \\phi(\\phi(\\pmb{X}\\pmb{W_1})\\pmb{W_2})\\pmb{w} $\n",
        "\n",
        "Onde:\n",
        "* $\\pmb{X}$ = Matriz de dados\n",
        "* $\\pmb{W_1}$ = Pesos das camadas oculta\n",
        "* $\\pmb{w}$ = Pesos da camada de saida\n",
        "* $\\phi$ = função de ativação/função não linear\n",
        "\n",
        "Note que caso nós retiremos as funções não lineares do modelo, temos o seguinte resultado:\n",
        "\n",
        ">$ y = \\pmb{X}\\pmb{W_1}\\pmb{W_2}\\pmb{w} $\n",
        "\n",
        "Note que se levarmos em consideração que $ \\pmb{W_1}\\pmb{W_2}\\pmb{w} $ é $\\pmb{u}$, teremos o seguinte resultado:\n",
        "\n",
        ">$ y = \\pmb{X}\\pmb{u} $\n",
        "\n",
        "Este resultado é exatamente um regressão linear, de forma que essa rede neural sem a função de ativação/função não linear, estára sujeita as mesmas restrições dos modelos lineares.\n"
      ]
    },
    {
      "cell_type": "markdown",
      "metadata": {
        "id": "JOcHlELCJsuP",
        "colab_type": "text"
      },
      "source": [
        "## Função sigmoide\n",
        "\n",
        "A **função sigmoide** é uma função usada amplamente na matemárica ecomica e computacional, é chamada dessa forma por sua caracteristica grafica em forma de \"S\", chamada de curva de sigmoide. A função sigmoide é utilizada para a criação e transformação de componentes matematicos não lineares.\n",
        "\n",
        "<img src=https://upload.wikimedia.org/wikipedia/commons/thumb/8/88/Logistic-curve.svg/1280px-Logistic-curve.svg.png width=\"500\">\n",
        "\n",
        "\n",
        "### Definição da função sigmoide\n",
        "\n",
        ">$ \\sigma(x)=\\frac{1}{1+e^x} $\n",
        "\n",
        ">onde: $ e = 2.718 $, constante de euler\n",
        "\n",
        "Sua derivada:\n",
        "\n",
        "> $ \\sigma'(x)=\\sigma(x)(1-\\sigma(x)) $\n",
        "\n",
        "No caso do primeiro algoritmo de exemplo, a função sigmoide está sendo utilizada para converter os valores em probabilidades. \n"
      ]
    },
    {
      "cell_type": "markdown",
      "metadata": {
        "id": "lDMRs27bxRqS",
        "colab_type": "text"
      },
      "source": [
        "### E como fica o código de uma função sigmoide?\n",
        "\n",
        "No código utilizamos o método numpy.exp, este método realiza uma exponenciação da constante de Euler pelo parametro passado pelo método\n",
        "\n",
        "* $ euler = 2.718 $"
      ]
    },
    {
      "cell_type": "code",
      "metadata": {
        "id": "kkGNIZpNxWsv",
        "colab_type": "code",
        "colab": {}
      },
      "source": [
        "import numpy as np\n",
        "\n",
        "def sigmoid(x):\n",
        "  return 1 / (1 + np.exp(-x))"
      ],
      "execution_count": 4,
      "outputs": []
    },
    {
      "cell_type": "code",
      "metadata": {
        "id": "x7hFEkFIxY3q",
        "colab_type": "code",
        "colab": {
          "base_uri": "https://localhost:8080/",
          "height": 35
        },
        "outputId": "c0ed1d0f-9788-4cfb-8525-ef5ce064490a"
      },
      "source": [
        "print('Valor de 7 ao passar por uma função de ativação: ', sigmoid(7))"
      ],
      "execution_count": 6,
      "outputs": [
        {
          "output_type": "stream",
          "text": [
            "Valor de 7 ao passar por uma função de ativação:  0.9990889488055994\n"
          ],
          "name": "stdout"
        }
      ]
    },
    {
      "cell_type": "markdown",
      "metadata": {
        "id": "0tYcubs5UXAk",
        "colab_type": "text"
      },
      "source": [
        "## Bias/Viés"
      ]
    },
    {
      "cell_type": "markdown",
      "metadata": {
        "id": "phTihzlgxe1B",
        "colab_type": "text"
      },
      "source": [
        "## Funcionamento de uma rede neural\n"
      ]
    },
    {
      "cell_type": "markdown",
      "metadata": {
        "id": "-R5D9wP6Cs6_",
        "colab_type": "text"
      },
      "source": [
        "### Neuronios\n",
        "\n",
        "Os neuronios são a unidade mais basica de uma rede neural, cada RN pode ter um numero diferente de neuronios com funcionamentos diferentes, mas basicamente, os neuronios recebem um dado, processam ele e devolvem outro dado processado. O processo realizado dentro de cada neuronio é parte crucial para definir o funcionamento das redes neurais.\n",
        "\n",
        "<img src=https://victorzhou.com/a74a19dc0599aae11df7493c718abaf9/perceptron.svg width=\"350\">\n",
        "\n",
        "O exemplo acima representa um neuronio de duas entradas, o processo que está aconcendo dentro dele pode ser definido como o seguinte:\n",
        "\n",
        "Primeiro, cada entrada é multiplicada por um peso:\n",
        "\n",
        "* $ x_1 = x_1 * w_1 $\n",
        "* $ x_2 = x_2 * w_2 $\n",
        "\n",
        "Segundo, o resusltado das entradas multiplicadas pelo peso são somadas a um bias/viés.\n",
        "\n",
        "* $ \\alpha = x_1 + x_2 + b $\n",
        "\n",
        "Terceiro, o resultado passa por uma função de ativação/não linearidade(Explicada a diante):\n",
        "\n",
        "* $ y = f(\\alpha) $\n",
        "\n",
        "No final, a seguinte equação define os neuronios:\n",
        "\n",
        "* $ y = f(x_1 * w_1 + x_2 * w_2 + b) $\n",
        "\n",
        "Para melhor entendimento, segue o exemplo:\n",
        "\n",
        "Parametros:\n",
        "* $ w_1 = 0, w_2 = 1 $\n",
        "* $ b = 4 $\n",
        "* $ f() = \\frac{1}{1+e^x} $ (sigma function)\n",
        "\n",
        "Entradas:\n",
        "* $ x_1 = 2, x_2 = 3 $\n",
        "\n",
        "Ex:\n",
        "\n",
        "* $ y = f(2 * 0 + 3 * 1 + 4) $\n",
        "* $ y = f(7) $\n",
        "* $ y \\approx 0,999 $\n",
        "\n"
      ]
    },
    {
      "cell_type": "markdown",
      "metadata": {
        "id": "yndJRS2pw32b",
        "colab_type": "text"
      },
      "source": [
        "### Como codar um neuronio?\n",
        "\n",
        "Basicamente, o código de um neuronio compreende todos os processos matematicos que aquele neuronio foi designado pra fazer.\n",
        "\n",
        "Segue exemplo:"
      ]
    },
    {
      "cell_type": "code",
      "metadata": {
        "id": "fjLdNg7uxKHm",
        "colab_type": "code",
        "colab": {}
      },
      "source": [
        "import numpy as np"
      ],
      "execution_count": 9,
      "outputs": []
    },
    {
      "cell_type": "code",
      "metadata": {
        "id": "y7k5cPBzxLiu",
        "colab_type": "code",
        "colab": {}
      },
      "source": [
        "class Neuron:\n",
        "\n",
        "  def __init__(self, weights, bias):\n",
        "    self.weights = weights\n",
        "    self.bias = bias\n",
        "\n",
        "  def feedforward(self, inputs):\n",
        "    total = np.dot(self.weights, inputs) + self.bias\n",
        "    return sigmoid(total)"
      ],
      "execution_count": 11,
      "outputs": []
    },
    {
      "cell_type": "code",
      "metadata": {
        "id": "NuOkfYxty-fk",
        "colab_type": "code",
        "colab": {
          "base_uri": "https://localhost:8080/",
          "height": 54
        },
        "outputId": "adcc47ee-55ab-4ad5-b00a-fb4bc05d2cf9"
      },
      "source": [
        "neuron = Neuron(np.array([0, 2]), 4)\n",
        "print('Valor das entradas 2 e 3 depois do processamento no neuronio: ')\n",
        "print(neuron.feedforward(np.array([2,3])))"
      ],
      "execution_count": 15,
      "outputs": [
        {
          "output_type": "stream",
          "text": [
            "Valor das entradas 2 e 3 depois do processamento no neuronio: \n",
            "0.9999546021312976\n"
          ],
          "name": "stdout"
        }
      ]
    },
    {
      "cell_type": "markdown",
      "metadata": {
        "id": "3q13Pt2YPDpv",
        "colab_type": "text"
      },
      "source": [
        "## Criando uma rede neural de duas camadas do zero\n",
        "\n"
      ]
    },
    {
      "cell_type": "code",
      "metadata": {
        "id": "R6rn1LCu7lJn",
        "colab_type": "code",
        "colab": {}
      },
      "source": [
        "import numpy as np\n",
        "\n",
        "# Função sigmoide\n",
        "def nonlin(x,deriv=False):\n",
        "  if(deriv==True):\n",
        "      return x*(1-x)\n",
        "  return 1/(1+np.exp(-x))\n",
        "    \n",
        "# input dataset\n",
        "X = np.array([  [0,0,1],\n",
        "                [0,1,1],\n",
        "                [1,0,1],\n",
        "                [1,1,1] ])\n",
        "    \n",
        "# output dataset            \n",
        "y = np.array([[0,0,1,1]]).T\n",
        "\n",
        "# Gera uma seed para os numeros gerados randomicamente, visando a distribuição\n",
        "# homogenea para todas as interações\n",
        "np.random.seed(1)\n",
        "\n",
        "# initialize weights randomly with mean 0\n",
        "syn0 = 2*np.random.random((3,1)) - 1\n",
        "\n",
        "for iter in np.arange(10000):\n",
        "\n",
        "  # forward propagation\n",
        "  l0 = X\n",
        "  l1 = nonlin(np.dot(l0,syn0))\n",
        "\n",
        "  # how much did we miss?\n",
        "  l1_error = y - l1\n",
        "\n",
        "  # multiply how much we missed by the \n",
        "  # slope of the sigmoid at the values in l1\n",
        "  l1_delta = l1_error * nonlin(l1,True)\n",
        "\n",
        "  # update weights\n",
        "  syn0 += np.dot(l0.T,l1_delta)\n",
        "\n",
        "print(\"Output depois do treino:\")\n",
        "print(l1)\n"
      ],
      "execution_count": null,
      "outputs": []
    },
    {
      "cell_type": "markdown",
      "metadata": {
        "id": "i06Uxb7MBnus",
        "colab_type": "text"
      },
      "source": [
        "## Exemplos e implementações"
      ]
    },
    {
      "cell_type": "markdown",
      "metadata": {
        "id": "B215uq2lBbZN",
        "colab_type": "text"
      },
      "source": [
        "### Encoder-decoder Inglês Alemão\n",
        "\n",
        "Encontrei esse modelo neste artigo: https://nextjournal.com/gkoehler/machine-translation-seq2seq-cpu, serve como otimo exemplo para implementação de um \"tradutor\" ou encoder-decoder.\n",
        "\n"
      ]
    },
    {
      "cell_type": "code",
      "metadata": {
        "id": "_PBbYRyekWuN",
        "colab_type": "code",
        "colab": {}
      },
      "source": [
        "import numpy as np\n",
        "import keras, tensorflow\n",
        "from keras.models import Model\n",
        "from keras.layers import Input, LSTM, Dense"
      ],
      "execution_count": null,
      "outputs": []
    },
    {
      "cell_type": "code",
      "metadata": {
        "id": "gtNsGTxEZhY1",
        "colab_type": "code",
        "colab": {}
      },
      "source": [
        "# Preparando os dados\n",
        "\n",
        "with open('deu-eng.txt', 'r', encoding='utf-8') as f:\n",
        "  lines = f.read().split('\\n')\n",
        "\n",
        "input_texts = []\n",
        "target_texts = []\n",
        "input_characters = set()\n",
        "target_characters = set()\n",
        "num_samples = 10000\n",
        "\n",
        "for line in lines[: min(num_samples, len(lines) - 1)]:\n",
        "  input_text, target_text = line.split('\\t')\n",
        "  target_text = '\\t' + target_text + '\\n'\n",
        "  input_texts.append(input_text)\n",
        "  target_texts.append(target_text)\n",
        "  for char in input_text:\n",
        "    if char not in input_characters:\n",
        "      input_characters.add(char)\n",
        "  for char in target_text:\n",
        "    if char not in target_characters:\n",
        "      target_characters.add(char)\n",
        "\n",
        "input_characters = sorted(list(input_characters))\n",
        "target_characters = sorted(list(target_characters))\n",
        "num_encoder_tokens = len(input_characters)\n",
        "num_decoder_tokens = len(target_characters)\n",
        "max_encoder_seq_length = max([len(txt) for txt in input_texts])\n",
        "max_decoder_seq_length = max([len(txt) for txt in target_texts])\n",
        "\n",
        "print('Number of samples:', len(input_texts))\n",
        "print('Number of unique input tokens:', num_encoder_tokens)\n",
        "print('Number of unique output tokens:', num_decoder_tokens)\n",
        "print('Max sequence length for inputs:', max_encoder_seq_length)\n",
        "print('Max sequence length for outputs:', max_decoder_seq_length)"
      ],
      "execution_count": null,
      "outputs": []
    },
    {
      "cell_type": "code",
      "metadata": {
        "id": "dOTUkLfvkRBH",
        "colab_type": "code",
        "colab": {
          "base_uri": "https://localhost:8080/",
          "height": 54
        },
        "outputId": "58341f00-c6da-45b7-8215-a20937ff13f4"
      },
      "source": [
        "input_token_index = dict(\n",
        "  [(char, i) for i, char in enumerate(input_characters)])\n",
        "target_token_index = dict(\n",
        "  [(char, i) for i, char in enumerate(target_characters)])\n",
        "\n",
        "encoder_input_data = np.zeros(\n",
        "  (len(input_texts), max_encoder_seq_length, num_encoder_tokens),\n",
        "  dtype='float32')\n",
        "decoder_input_data = np.zeros(\n",
        "  (len(input_texts), max_decoder_seq_length, num_decoder_tokens),\n",
        "  dtype='float32')\n",
        "decoder_target_data = np.zeros(\n",
        "  (len(input_texts), max_decoder_seq_length, num_decoder_tokens),\n",
        "  dtype='float32')\n",
        "\n",
        "print(encoder_input_data.shape)\n",
        "print(decoder_input_data.shape)"
      ],
      "execution_count": null,
      "outputs": [
        {
          "output_type": "stream",
          "text": [
            "(10000, 16, 70)\n",
            "(10000, 53, 87)\n"
          ],
          "name": "stdout"
        }
      ]
    },
    {
      "cell_type": "code",
      "metadata": {
        "id": "WTbruTRekh8x",
        "colab_type": "code",
        "colab": {}
      },
      "source": [
        "for i, (input_text, target_text) in enumerate(zip(input_texts, target_texts)):\n",
        "  for t, char in enumerate(input_text):\n",
        "    encoder_input_data[i, t, input_token_index[char]] = 1.\n",
        "  for t, char in enumerate(target_text):\n",
        "    # decoder_target_data is ahead of decoder_input_data by one timestep\n",
        "    decoder_input_data[i, t, target_token_index[char]] = 1.\n",
        "    if t > 0:\n",
        "      # decoder_target_data will be ahead by one timestep\n",
        "      # and will not include the start character.\n",
        "      decoder_target_data[i, t - 1, target_token_index[char]] = 1.\n",
        "\n",
        "print(encoder_input_data[155].shape)"
      ],
      "execution_count": null,
      "outputs": []
    },
    {
      "cell_type": "code",
      "metadata": {
        "id": "joLGjImWknZR",
        "colab_type": "code",
        "colab": {}
      },
      "source": [
        "# Construindo o modelo\n",
        "\n",
        "batch_size = 64  # batch size for training\n",
        "epochs = 100  # number of epochs to train for\n",
        "latent_dim = 256  # latent dimensionality of the encoding space\n",
        "\n",
        "# encoder \n",
        "encoder_inputs = Input(shape=(None, num_encoder_tokens))\n",
        "encoder = LSTM(latent_dim, return_state=True)\n",
        "encoder_outputs, state_h, state_c = encoder(encoder_inputs)\n",
        "encoder_states = [state_h, state_c]\n",
        "\n",
        "# decoder\n",
        "decoder_inputs = Input(shape=(None, num_decoder_tokens))\n",
        "decoder_lstm = LSTM(latent_dim, return_sequences=True, return_state=True)\n",
        "decoder_outputs, _, _ = decoder_lstm(decoder_inputs,\n",
        "                                     initial_state=encoder_states)\n",
        "decoder_dense = Dense(num_decoder_tokens, activation='softmax')\n",
        "decoder_outputs = decoder_dense(decoder_outputs)\n",
        "\n",
        "model = Model(inputs=[encoder_inputs, decoder_inputs], outputs=decoder_outputs)"
      ],
      "execution_count": null,
      "outputs": []
    },
    {
      "cell_type": "code",
      "metadata": {
        "id": "gpDXkeJkk5wT",
        "colab_type": "code",
        "colab": {
          "base_uri": "https://localhost:8080/",
          "height": 384
        },
        "outputId": "aab8bf42-97d3-405e-ac5e-f8a9e5d645f7"
      },
      "source": [
        "model.compile(optimizer='rmsprop', loss='categorical_crossentropy')\n",
        "model.summary()"
      ],
      "execution_count": null,
      "outputs": [
        {
          "output_type": "stream",
          "text": [
            "Model: \"functional_1\"\n",
            "__________________________________________________________________________________________________\n",
            "Layer (type)                    Output Shape         Param #     Connected to                     \n",
            "==================================================================================================\n",
            "input_1 (InputLayer)            [(None, None, 70)]   0                                            \n",
            "__________________________________________________________________________________________________\n",
            "input_2 (InputLayer)            [(None, None, 87)]   0                                            \n",
            "__________________________________________________________________________________________________\n",
            "lstm (LSTM)                     [(None, 256), (None, 334848      input_1[0][0]                    \n",
            "__________________________________________________________________________________________________\n",
            "lstm_1 (LSTM)                   [(None, None, 256),  352256      input_2[0][0]                    \n",
            "                                                                 lstm[0][1]                       \n",
            "                                                                 lstm[0][2]                       \n",
            "__________________________________________________________________________________________________\n",
            "dense (Dense)                   (None, None, 87)     22359       lstm_1[0][0]                     \n",
            "==================================================================================================\n",
            "Total params: 709,463\n",
            "Trainable params: 709,463\n",
            "Non-trainable params: 0\n",
            "__________________________________________________________________________________________________\n"
          ],
          "name": "stdout"
        }
      ]
    },
    {
      "cell_type": "code",
      "metadata": {
        "id": "XlA_39Sfk_fE",
        "colab_type": "code",
        "colab": {}
      },
      "source": [
        "# Treina o modelo\n",
        "\n",
        "model.fit([encoder_input_data, decoder_input_data], decoder_target_data,\n",
        "          batch_size=batch_size,\n",
        "          epochs=epochs,\n",
        "          validation_split=0.2)"
      ],
      "execution_count": null,
      "outputs": []
    },
    {
      "cell_type": "code",
      "metadata": {
        "id": "6DJTO3qDlzVG",
        "colab_type": "code",
        "colab": {}
      },
      "source": [
        "# Salva o modelo\n",
        "\n",
        "model.save('modelo.h5')"
      ],
      "execution_count": null,
      "outputs": []
    },
    {
      "cell_type": "code",
      "metadata": {
        "id": "1sPfTNzHldji",
        "colab_type": "code",
        "colab": {}
      },
      "source": [
        "# Carrega o modelo pre pronto, caso for carregado\n",
        "\n",
        "model = Model([encoder_inputs, decoder_inputs], decoder_outputs)\n",
        "model.compile(optimizer='rmsprop', loss='categorical_crossentropy')\n",
        "model.load_weights('modelo.h5')"
      ],
      "execution_count": null,
      "outputs": []
    },
    {
      "cell_type": "code",
      "metadata": {
        "id": "GjtJKB64l7xC",
        "colab_type": "code",
        "colab": {}
      },
      "source": [
        "# ---------------------------------------------------------------------\n",
        "\n",
        "encoder_model = Model(encoder_inputs, encoder_states)\n",
        "\n",
        "decoder_state_input_h = Input(shape=(latent_dim,))\n",
        "decoder_state_input_c = Input(shape=(latent_dim,))\n",
        "decoder_states_inputs = [decoder_state_input_h, decoder_state_input_c]\n",
        "\n",
        "decoder_outputs, state_h, state_c = decoder_lstm(\n",
        "  decoder_inputs, initial_state=decoder_states_inputs)\n",
        "decoder_states = [state_h, state_c]\n",
        "decoder_outputs = decoder_dense(decoder_outputs)\n",
        "\n",
        "decoder_model = Model(\n",
        "  [decoder_inputs] + decoder_states_inputs,\n",
        "  [decoder_outputs] + decoder_states)\n",
        "\n",
        "# ---------------------------------------------------------------------\n",
        "\n",
        "reverse_input_char_index = dict(\n",
        "  (i, char) for char, i in input_token_index.items())\n",
        "reverse_target_char_index = dict(\n",
        "  (i, char) for char, i in target_token_index.items())\n",
        "\n",
        "# ---------------------------------------------------------------------\n",
        "\n",
        "def decode_sequence(input_seq):\n",
        "  # encode the input sequence to get the internal state vectors.\n",
        "  states_value = encoder_model.predict(input_seq)\n",
        "  \n",
        "  # generate empty target sequence of length 1 with only the start character\n",
        "  target_seq = np.zeros((1, 1, num_decoder_tokens))\n",
        "  target_seq[0, 0, target_token_index['\\t']] = 1.\n",
        "  \n",
        "  # output sequence loop\n",
        "  stop_condition = False\n",
        "  decoded_sentence = ''\n",
        "  while not stop_condition:\n",
        "    output_tokens, h, c = decoder_model.predict(\n",
        "      [target_seq] + states_value)\n",
        "    \n",
        "    # sample a token and add the corresponding character to the \n",
        "    # decoded sequence\n",
        "    sampled_token_index = np.argmax(output_tokens[0, -1, :])\n",
        "    sampled_char = reverse_target_char_index[sampled_token_index]\n",
        "    decoded_sentence += sampled_char\n",
        "    \n",
        "    # check for the exit condition: either hitting max length\n",
        "    # or predicting the 'stop' character\n",
        "    if (sampled_char == '\\n' or \n",
        "        len(decoded_sentence) > max_decoder_seq_length):\n",
        "      stop_condition = True\n",
        "      \n",
        "    # update the target sequence (length 1).\n",
        "    target_seq = np.zeros((1, 1, num_decoder_tokens))\n",
        "    target_seq[0, 0, sampled_token_index] = 1.\n",
        "    \n",
        "    # update states\n",
        "    states_value = [h, c]\n",
        "    \n",
        "  return decoded_sentence"
      ],
      "execution_count": null,
      "outputs": []
    },
    {
      "cell_type": "code",
      "metadata": {
        "id": "byIObI8jmrLW",
        "colab_type": "code",
        "colab": {
          "base_uri": "https://localhost:8080/",
          "height": 769
        },
        "outputId": "2b343af5-27c0-4239-bf4c-ab3ddc9e9f21"
      },
      "source": [
        "for seq_index in range(10):\n",
        "  input_seq = encoder_input_data[seq_index: seq_index + 1]\n",
        "  decoded_sentence = decode_sequence(input_seq)\n",
        "  print('-')\n",
        "  print('Input sentence:', input_texts[seq_index])\n",
        "  print('Decoded sentence:', decoded_sentence)"
      ],
      "execution_count": null,
      "outputs": [
        {
          "output_type": "stream",
          "text": [
            "-\n",
            "Input sentence: Hi.\n",
            "Decoded sentence: Hallo!\n",
            "\n",
            "-\n",
            "Input sentence: Hi.\n",
            "Decoded sentence: Hallo!\n",
            "\n",
            "-\n",
            "Input sentence: Run!\n",
            "Decoded sentence: Lauf!\n",
            "\n",
            "-\n",
            "Input sentence: Fire!\n",
            "Decoded sentence: Feuer!\n",
            "\n",
            "-\n",
            "Input sentence: Help!\n",
            "Decoded sentence: Zu Hülf!\n",
            "\n",
            "-\n",
            "Input sentence: Help!\n",
            "Decoded sentence: Zu Hülf!\n",
            "\n",
            "-\n",
            "Input sentence: Stop!\n",
            "Decoded sentence: Stopp!\n",
            "\n",
            "-\n",
            "Input sentence: Wait!\n",
            "Decoded sentence: Warte!\n",
            "\n",
            "-\n",
            "Input sentence: Go on.\n",
            "Decoded sentence: Mach weiter.\n",
            "\n",
            "-\n",
            "Input sentence: Hello!\n",
            "Decoded sentence: Hallo!\n",
            "\n"
          ],
          "name": "stdout"
        }
      ]
    },
    {
      "cell_type": "code",
      "metadata": {
        "id": "UPKOc1Z0m0xB",
        "colab_type": "code",
        "colab": {
          "base_uri": "https://localhost:8080/",
          "height": 73
        },
        "outputId": "c9ef81aa-f989-4f1c-b866-ada7a2a30a3b"
      },
      "source": [
        "input_sentence = \"bread\"\n",
        "test_sentence_tokenized = np.zeros(\n",
        "  (1, max_encoder_seq_length, num_encoder_tokens), dtype='float32')\n",
        "for t, char in enumerate(input_sentence):\n",
        "  test_sentence_tokenized[0, t, input_token_index[char]] = 1.\n",
        "print(input_sentence)\n",
        "print(decode_sequence(test_sentence_tokenized))"
      ],
      "execution_count": null,
      "outputs": [
        {
          "output_type": "stream",
          "text": [
            "My name bread\n",
            "Maria ist klanz.\n",
            "\n"
          ],
          "name": "stdout"
        }
      ]
    }
  ]
}