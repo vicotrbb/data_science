{
  "nbformat": 4,
  "nbformat_minor": 0,
  "metadata": {
    "colab": {
      "name": "Best_pratices_for_ML_engineers.ipynb",
      "provenance": []
    },
    "kernelspec": {
      "name": "python3",
      "display_name": "Python 3"
    }
  },
  "cells": [
    {
      "cell_type": "markdown",
      "metadata": {
        "id": "uXJDf46z7TX3",
        "colab_type": "text"
      },
      "source": [
        "# Importantes dicas para ser um engenheiro de ML melhor\n",
        "\n",
        "Um questionamento constante que tenho quando estou desenvolvendo um novo script para treinar um modelo ou mesmo uma nova API para poder consumi-los, é se oque eu se estou seguindo as boas práticas, criar serviços voltados a ML e IA não são iguais ao desenvolvimento de software convencional, mas isso não quer dizer que não devemos seguir boas práticas e manter esses serviços o melhor possivel.\n",
        "\n",
        "A frente, seguem dicas que podem ajudar a melhorar seu trabalho. A maioria dos topicos são retirados de leituras que realizei e alguns poucos são de minha autoria, referencias seguem abaixo.\n",
        "\n",
        "## Author\n",
        "\n",
        "* Victor Bona - https://www.linkedin.com/in/victorbona/\n",
        "\n",
        "## Referencias\n",
        "\n",
        "* https://medium.com/modern-nlp/10-great-ml-practices-for-python-developers-b089eefc18fc"
      ]
    },
    {
      "cell_type": "code",
      "metadata": {
        "id": "UvLCEVLo6-hl",
        "colab_type": "code",
        "colab": {}
      },
      "source": [
        ""
      ],
      "execution_count": null,
      "outputs": []
    }
  ]
}