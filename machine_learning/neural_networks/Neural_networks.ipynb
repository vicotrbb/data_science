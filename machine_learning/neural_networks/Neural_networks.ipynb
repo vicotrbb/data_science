{
  "nbformat": 4,
  "nbformat_minor": 0,
  "metadata": {
    "colab": {
      "name": "Neural_networks.ipynb",
      "provenance": [],
      "collapsed_sections": [],
      "toc_visible": true,
      "include_colab_link": true
    },
    "kernelspec": {
      "name": "python3",
      "display_name": "Python 3"
    }
  },
  "cells": [
    {
      "cell_type": "markdown",
      "metadata": {
        "id": "view-in-github",
        "colab_type": "text"
      },
      "source": [
        "<a href=\"https://colab.research.google.com/github/vicotrbb/machine_learning/blob/master/machine_learning/neural_networks/Neural_networks.ipynb\" target=\"_parent\"><img src=\"https://colab.research.google.com/assets/colab-badge.svg\" alt=\"Open In Colab\"/></a>"
      ]
    },
    {
      "cell_type": "markdown",
      "metadata": {
        "id": "YNIBHFAQ9LCM"
      },
      "source": [
        "# Neural networks\n",
        "\n",
        "### Observações\n",
        "\n",
        "* **Nenhum(a)** dos gifs/imagens utilizadas aqui são de minha autoria.\n",
        "\n",
        "### Referencias\n",
        "\n",
        "* https://matheusfacure.github.io/2017/07/12/activ-func/#sig\n",
        "* https://iamtrask.github.io/2015/07/12/basic-python-network/\n",
        "* https://en.wikipedia.org/wiki/Sigmoid_function#Applications\n",
        "* https://nextjournal.com/gkoehler/machine-translation-seq2seq-cpu"
      ]
    },
    {
      "cell_type": "markdown",
      "metadata": {
        "id": "cC_MAzUSxauL"
      },
      "source": [
        "## Oque é uma rede neural\n",
        "\n",
        "Redes neurais são um sistema de computação inspiradas por redes neurais biologicas que formam o cerebro de seres vivos. Estes sistemas são capazes de \"aprender\" a efetuar tarefas, geralmente sem a necessidade de programar as rotinas das tarefas previamente.\n",
        "\n",
        "Um rede neural é composta por 3 tipos de camadas:\n",
        "\n",
        "* **Camada de entrada** -> A camada de entrada é responsavel por realizar o input de informações;\n",
        "\n",
        "* **Camada oculta** -> É a camada intermediaria entre a de entrada e de saída e é responsavel por performar toda a computação(pode haver mais de uma);\n",
        "\n",
        "* **Camada de saída** -> A camada de saída é responsavel por realizar o output da informação.\n",
        "\n",
        "<img src='https://miro.medium.com/max/500/1*3fA77_mLNiJTSgZFhYnU0Q.png'>\n"
      ]
    },
    {
      "cell_type": "markdown",
      "metadata": {
        "id": "j5zP951Bp19Y"
      },
      "source": [
        "## Principais aplicações de uma rede neural\n",
        "\n",
        "TO-DO"
      ]
    },
    {
      "cell_type": "markdown",
      "metadata": {
        "id": "1Sp63Cv2UfC9"
      },
      "source": [
        "# Camadas de uma rede neural\n",
        "\n",
        "TO-DO"
      ]
    },
    {
      "cell_type": "markdown",
      "metadata": {
        "id": "P2K_orlZ-vH1"
      },
      "source": [
        "# Funções de ativação\n",
        "\n",
        "As funções de ativação tem a responsabilidade de introduzir valores não lineares ao modelo de uma rede neural, habilitando a rede a trabalhar com valores desconhecidos, além das relações lineares entre as variaveis dependentes e independentes.\n",
        "\n",
        "Para um exemplo prático, vejamos o seguinte modelo de uma rede neural de duas camadas(os vieses foram omitidos):\n",
        "\n",
        ">$ y = \\phi(\\phi(\\pmb{X}\\pmb{W_1})\\pmb{W_2})\\pmb{w} $\n",
        "\n",
        "Onde:\n",
        "* $\\pmb{X}$ = Matriz de dados\n",
        "* $\\pmb{W_1}$ = Pesos das camadas oculta\n",
        "* $\\pmb{w}$ = Pesos da camada de saida\n",
        "* $\\phi$ = função de ativação/função não linear\n",
        "\n",
        "Note que caso nós retiremos as funções não lineares do modelo, temos o seguinte resultado:\n",
        "\n",
        ">$ y = \\pmb{X}\\pmb{W_1}\\pmb{W_2}\\pmb{w} $\n",
        "\n",
        "Note que se levarmos em consideração que $ \\pmb{W_1}\\pmb{W_2}\\pmb{w} $ é $\\pmb{u}$, teremos o seguinte resultado:\n",
        "\n",
        ">$ y = \\pmb{X}\\pmb{u} $\n",
        "\n",
        "Este resultado é exatamente um regressão linear, de forma que essa rede neural sem a função de ativação/função não linear, estára sujeita as mesmas restrições dos modelos lineares.\n"
      ]
    },
    {
      "cell_type": "markdown",
      "metadata": {
        "id": "Wxz7-54zbf2w"
      },
      "source": [
        "# Principais tipos de funções de ativação\n",
        "\n",
        "<img src=https://mlfromscratch.com/content/images/2019/12/activation-functions.gif>"
      ]
    },
    {
      "cell_type": "markdown",
      "metadata": {
        "id": "JOcHlELCJsuP"
      },
      "source": [
        "## Função sigmoide\n",
        "---\n",
        "A **função sigmoide** é uma função usada amplamente na matemárica ecomica e computacional, é chamada dessa forma por sua caracteristica grafica em forma de \"S\", chamada de curva de sigmoide. A função sigmoide é utilizada para a criação e transformação de componentes matematicos não lineares.\n",
        "\n",
        "<img src=https://upload.wikimedia.org/wikipedia/commons/thumb/8/88/Logistic-curve.svg/1280px-Logistic-curve.svg.png width=\"500\">\n",
        "\n",
        "\n",
        "### Definição da função sigmoide\n",
        "\n",
        ">$ \\sigma(x)=\\frac{1}{1+e^x} $\n",
        "\n",
        "Sua derivada:\n",
        "\n",
        "> $ \\sigma'(x)=\\sigma(x)(1-\\sigma(x)) $\n",
        "\n",
        "onde: \n",
        "\n",
        "> $ e = 2.718 $, constante de euler\n",
        "\n",
        "No caso do primeiro algoritmo de exemplo, a função sigmoide está sendo utilizada para converter os valores em probabilidades. \n"
      ]
    },
    {
      "cell_type": "markdown",
      "metadata": {
        "id": "lDMRs27bxRqS"
      },
      "source": [
        "## E como fica o código de uma função sigmoide?\n",
        "\n",
        "No código utilizamos o método numpy.exp, este método realiza uma exponenciação da constante de Euler pelo parametro passado pelo método\n",
        "\n",
        "* $ euler = 2.718 $"
      ]
    },
    {
      "cell_type": "code",
      "metadata": {
        "id": "kkGNIZpNxWsv"
      },
      "source": [
        "import numpy as np\n",
        "\n",
        "def sigmoid(x):\n",
        "  return 1 / (1 + np.exp(-x))"
      ],
      "execution_count": 6,
      "outputs": []
    },
    {
      "cell_type": "code",
      "metadata": {
        "id": "x7hFEkFIxY3q",
        "colab": {
          "base_uri": "https://localhost:8080/"
        },
        "outputId": "b5ed8a92-386b-4a73-d583-4c8d192349e6"
      },
      "source": [
        "mmatrix = np.array([[1,-2,3],[4,0,6]])\n",
        "print('Valor da matriz [[1,2,3],[4,0,6] ao passar por uma função de ativação sigmoide: \\n', sigmoid(mmatrix))"
      ],
      "execution_count": 11,
      "outputs": [
        {
          "output_type": "stream",
          "text": [
            "Valor da matriz [[1,2,3],[4,0,6] ao passar por uma função de ativação sigmoide: \n",
            " [[0.73105858 0.11920292 0.95257413]\n",
            " [0.98201379 0.5        0.99752738]]\n"
          ],
          "name": "stdout"
        }
      ]
    },
    {
      "cell_type": "markdown",
      "metadata": {
        "id": "vZM2msGZlhMX"
      },
      "source": [
        "## tanH\n",
        "---\n",
        "\n",
        "A **função Tangencial hiperbolica(tanh)** é utilizada como função de ativação,derivada da função sigmoidal(contendo tambem um grafico com formato em S), sendo orientada ao zero e contendo um *range* entre -1 e 1.\n",
        "\n",
        "A principal vantagem dessa FA em relação a função sigmoide é seu forte mapeamento de valores abaixo de zero, ou seja: *inputs* negativos tenderão fortemente para valores mais negativos e valores perto de zero tenderão a ficar proximo de zero.\n",
        "\n",
        "![tanh.png](data:image/png;base64,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)"
      ]
    },
    {
      "cell_type": "markdown",
      "metadata": {
        "id": "nfJW_I9epWPL"
      },
      "source": [
        "### Definição da função tanh\n",
        "\n",
        "> $ tanh(x) = \\frac{e^x - e^{-x}}{e^x + e^{-x}} $\n",
        "\n",
        "Sua derivada:\n",
        "\n",
        "> $ tanh(x) = 1 - f(x)^{2} $\n",
        "\n",
        "onde: \n",
        "\n",
        "> $ e = 2.718 $, constante de euler\n",
        "\n",
        "Podemos observar o efeito do mapeamento de valores tendendo ao -1 se compararmos os códigos de exemplo entre a função sigmoide e a função tanh. Veja por exemplo o valor -2(presente na matriz), na função sigmoide, tendeu ao positivo, já na tanh, tendeu fortemente ao -1. O mesmo se observa com o 0."
      ]
    },
    {
      "cell_type": "markdown",
      "metadata": {
        "id": "YuUgzWtJpSCk"
      },
      "source": [
        "## E como fica o código de uma função tanh?\n",
        "\n",
        "No código utilizamos o método numpy.exp, este método realiza uma exponenciação da constante de Euler pelo parametro passado pelo método\n",
        "\n",
        "* $ euler = 2.718 $"
      ]
    },
    {
      "cell_type": "code",
      "metadata": {
        "id": "O4OPATJ6pMS9"
      },
      "source": [
        "import numpy as np\n",
        "\n",
        "def tanh(x):\n",
        "  return (np.exp(x) - np.exp(-x)) / (np.exp(x) + np.exp(-x))"
      ],
      "execution_count": 8,
      "outputs": []
    },
    {
      "cell_type": "code",
      "metadata": {
        "id": "PDcPqyxEqh_G",
        "outputId": "9e485846-1eb0-41fd-9fbc-1f3e1faf4207",
        "colab": {
          "base_uri": "https://localhost:8080/"
        }
      },
      "source": [
        "mmatrix = np.array([[1,-2,3],[4,0,6]])\n",
        "print('Valor da matriz [[1,2,3],[4,0,6] ao passar por uma função de ativação sigmoide: \\n', tanh(mmatrix))"
      ],
      "execution_count": 10,
      "outputs": [
        {
          "output_type": "stream",
          "text": [
            "Valor da matriz [[1,2,3],[4,0,6] ao passar por uma função de ativação sigmoide: \n",
            " [[ 0.76159416 -0.96402758  0.99505475]\n",
            " [ 0.9993293   0.          0.99998771]]\n"
          ],
          "name": "stdout"
        }
      ]
    },
    {
      "cell_type": "markdown",
      "metadata": {
        "id": "-tSmVutuboa3"
      },
      "source": [
        "## ReLu \n",
        "---\n",
        "A ativação linear retificada é extremamente semelhante a função identidade, sendo diferente apenas que a ReLu produz zero em metade de seu dominio e como consequencia, as derivadas se mantêm grandes enquanto a unidade estiver ativa.\n",
        "\n",
        "<img src=https://matheusfacure.github.io/img/tutorial/activations/RELU.png width=\"500\">\n",
        "\n",
        "A definição da função ReLu é a seguinte:\n",
        "\n",
        "> $ ReLU(x) = max(0,x) $\n",
        "\n",
        "E sua derivada:\n",
        "\n",
        "> $ ReLU'(x)= \\begin{cases}\n",
        "    \t1, & \\text{se } x\\ge 0\\\\\n",
        "    \t0, & \\text{se } x\\leq 0\n",
        "\t    \\end{cases} $\n",
        "\n",
        "Note que as derivadas não são apenas grandes, mas também estáveis, sendo 1, quando $ x>0 $ e 0 quando $ x<0 $. Note tambem que a segunda derivada é zero em todo o domínio.\n",
        "\n",
        "A ativação ReLu é muito mais eficiente que a ativação sigmoidal por exemplo, contribuindo para popular ainda mais o deep learning e mostrando como algo simples pode ser poderoso.\n"
      ]
    },
    {
      "cell_type": "markdown",
      "metadata": {
        "id": "0qm10xinbsYE"
      },
      "source": [
        "## E como fica o código de uma função ReLu?"
      ]
    },
    {
      "cell_type": "code",
      "metadata": {
        "id": "X5hpD_k9mHo5"
      },
      "source": [
        "import numpy as np\n",
        "\n",
        "def relu(x):\n",
        "  return np.maximum(0,x)"
      ],
      "execution_count": null,
      "outputs": []
    },
    {
      "cell_type": "code",
      "metadata": {
        "id": "9fq0ltmMmHpH",
        "colab": {
          "base_uri": "https://localhost:8080/",
          "height": 72
        },
        "outputId": "a94150c1-2169-421c-855f-083b9972509a"
      },
      "source": [
        "mmatrix = np.array([[1,2,3],[4,0,6]])\n",
        "print('Valor da matriz [[1,2,3],[4,0,6] ao passar por uma função de ativação ReLu: \\n', relu(mmatrix))"
      ],
      "execution_count": null,
      "outputs": [
        {
          "output_type": "stream",
          "text": [
            "Valor da matriz [[1,2,3],[4,0,6] ao passar por uma função de ativação ReLu: \n",
            " [[1 2 3]\n",
            " [4 0 6]]\n"
          ],
          "name": "stdout"
        }
      ]
    },
    {
      "cell_type": "markdown",
      "metadata": {
        "id": "OHyP-opkoe8M"
      },
      "source": [
        "## Softmax\n",
        "---\n",
        "A função softmax é utilizada para modelos de predição de multiplas classes principalmente. A função produz saidas entre 0 e 1, sendo que a soma das saidas em modelos de classificação de classes, sera sempre 1.\n",
        "\n",
        "A definição da função Softmax é a seguinte:\n",
        "\n",
        "> $ f(x) = \\frac{\\exp(x_i)}{\\sum \\exp(x_i))} $\n",
        "\n",
        "A principal diferença entre uma função sigmoide e uma função softmax é seu objetivo de uso, enquanto a função sigmoide é custumeiramente utilizada pra classificação binaria a função softmax é utilizada para classificações multiplas. "
      ]
    },
    {
      "cell_type": "markdown",
      "metadata": {
        "id": "F7jakmXgofea"
      },
      "source": [
        "## E como fica o código de uma função Softmax?"
      ]
    },
    {
      "cell_type": "code",
      "metadata": {
        "id": "V63GfvSXofkj"
      },
      "source": [
        "def softmax(X):\n",
        "    expo = np.exp(X)\n",
        "    expo_sum = np.sum(np.exp(X))\n",
        "    return expo/expo_sum"
      ],
      "execution_count": null,
      "outputs": []
    },
    {
      "cell_type": "code",
      "metadata": {
        "id": "OjJ2l_pIsUtc",
        "colab": {
          "base_uri": "https://localhost:8080/",
          "height": 72
        },
        "outputId": "28bc302f-7a69-4e50-a955-edf65c8f6ef8"
      },
      "source": [
        "mmatrix = np.array([[1,2,3],[4,0,6]])\n",
        "print('Valor da matriz [[1,2,3],[4,0,6] ao passar por uma função de ativação \\\n",
        "ReLu: \\n', softmax(mmatrix))"
      ],
      "execution_count": null,
      "outputs": [
        {
          "output_type": "stream",
          "text": [
            "Valor da matriz [[1,2,3],[4,0,6] ao passar por uma função de ativação ReLu: \n",
            " [[0.00555636 0.01510375 0.04105626]\n",
            " [0.11160249 0.00204407 0.82463706]]\n"
          ],
          "name": "stdout"
        }
      ]
    },
    {
      "cell_type": "code",
      "metadata": {
        "id": "ZkirQkltsilb",
        "colab": {
          "base_uri": "https://localhost:8080/",
          "height": 35
        },
        "outputId": "08890b6d-956e-471b-fc84-cf550dbeebef"
      },
      "source": [
        "result = softmax(mmatrix)\n",
        "print('Prova de que a soma dos valores de saida da função sempre será 1: ',\n",
        "      np.sum(result))"
      ],
      "execution_count": null,
      "outputs": [
        {
          "output_type": "stream",
          "text": [
            "Prova de que a soma dos valores de saida da função sempre será 1:  1.0\n"
          ],
          "name": "stdout"
        }
      ]
    },
    {
      "cell_type": "markdown",
      "metadata": {
        "id": "qHiFLVBotjoN"
      },
      "source": [
        "## Principais casos de uso para cada função\n",
        "\n",
        "* Softmax -> Classificação multipla\n",
        "* Sigmoide -> Classificação binaria\n",
        "* ReLu -> Redes neurais convolucionais"
      ]
    },
    {
      "cell_type": "markdown",
      "metadata": {
        "id": "0tYcubs5UXAk"
      },
      "source": [
        "# Bias/Viés\n",
        "\n",
        "Um Bias/Viés represeta uma variação fixa no calculo de alguma coisa, no caso de redes neurais, utilizamos um valor de bias durante o calculo dos neuronios.\n",
        "\n",
        "Exemplo: Ao se pesar em uma balança convencional, o valor nunca sera 100% preciso, pois, existe o peso dos itens que estão no seu corpo(roupas, relogio e etc), esse valor dos itens é uma variancia fixa e é chamado de Bias."
      ]
    },
    {
      "cell_type": "markdown",
      "metadata": {
        "id": "phTihzlgxe1B"
      },
      "source": [
        "# Funcionamento de uma rede neural\n"
      ]
    },
    {
      "cell_type": "markdown",
      "metadata": {
        "id": "-R5D9wP6Cs6_"
      },
      "source": [
        "## Neuronios\n",
        "---\n",
        "Os neuronios são a unidade mais basica de uma rede neural, cada RN pode ter um numero diferente de neuronios com funcionamentos diferentes, mas basicamente, os neuronios recebem um dado, processam ele e devolvem outro dado processado. O processo realizado dentro de cada neuronio é parte crucial para definir o funcionamento das redes neurais.\n",
        "\n",
        "<img src=https://victorzhou.com/a74a19dc0599aae11df7493c718abaf9/perceptron.svg width=\"350\">\n",
        "\n",
        "O exemplo acima representa um neuronio de duas entradas, o processo que está aconcendo dentro dele pode ser definido como o seguinte:\n",
        "\n",
        "Primeiro, cada entrada é multiplicada por um peso:\n",
        "\n",
        "* $ x_1 = x_1 * w_1 $\n",
        "* $ x_2 = x_2 * w_2 $\n",
        "\n",
        "Segundo, o resusltado das entradas multiplicadas pelo peso são somadas a um bias/viés.\n",
        "\n",
        "* $ \\alpha = x_1 + x_2 + b $\n",
        "\n",
        "Terceiro, o resultado passa por uma função de ativação/não linearidade(Explicada a diante):\n",
        "\n",
        "* $ y = f(\\alpha) $\n",
        "\n",
        "No final, a seguinte equação define os neuronios:\n",
        "\n",
        "* $ y = f(x_1 * w_1 + x_2 * w_2 + b) $\n",
        "\n",
        "Para melhor entendimento, segue o exemplo:\n",
        "\n",
        "Parametros:\n",
        "* $ w_1 = 0, w_2 = 1 $\n",
        "* $ b = 4 $\n",
        "* $ f() = \\frac{1}{1+e^x} $ (sigma function)\n",
        "\n",
        "Entradas:\n",
        "* $ x_1 = 2, x_2 = 3 $\n",
        "\n",
        "Ex:\n",
        "\n",
        "* $ y = f(2 * 0 + 3 * 1 + 4) $\n",
        "* $ y = f(7) $\n",
        "* $ y \\approx 0,999 $\n",
        "\n"
      ]
    },
    {
      "cell_type": "markdown",
      "metadata": {
        "id": "yndJRS2pw32b"
      },
      "source": [
        "## Como codar um neuronio?\n",
        "\n",
        "Basicamente, o código de um neuronio compreende todos os processos matematicos que aquele neuronio foi designado pra fazer.\n",
        "\n",
        "Segue exemplo:"
      ]
    },
    {
      "cell_type": "code",
      "metadata": {
        "id": "fjLdNg7uxKHm"
      },
      "source": [
        "import numpy as np"
      ],
      "execution_count": null,
      "outputs": []
    },
    {
      "cell_type": "code",
      "metadata": {
        "id": "y7k5cPBzxLiu"
      },
      "source": [
        "class Neuron:\n",
        "\n",
        "  def __init__(self, weights, bias):\n",
        "    self.weights = weights\n",
        "    self.bias = bias\n",
        "\n",
        "  def feedforward(self, inputs):\n",
        "    total = np.dot(self.weights, inputs) + self.bias\n",
        "    return sigmoid(total)"
      ],
      "execution_count": null,
      "outputs": []
    },
    {
      "cell_type": "code",
      "metadata": {
        "id": "NuOkfYxty-fk",
        "colab": {
          "base_uri": "https://localhost:8080/",
          "height": 54
        },
        "outputId": "9bb820e6-7acf-4106-a7fb-f8a8cee34fb6"
      },
      "source": [
        "neuron = Neuron(np.array([0, 2]), 4)\n",
        "print('Valor das entradas 2 e 3 depois do processamento no neuronio: ')\n",
        "print(neuron.feedforward(np.array([2,3])))"
      ],
      "execution_count": null,
      "outputs": [
        {
          "output_type": "stream",
          "text": [
            "Valor das entradas 2 e 3 depois do processamento no neuronio: \n",
            "0.9999546021312976\n"
          ],
          "name": "stdout"
        }
      ]
    },
    {
      "cell_type": "markdown",
      "metadata": {
        "id": "RNqqzdXGwuZi"
      },
      "source": [
        "## Relacionamento entre neuronios\n",
        "\n",
        "Como mencionado anteriormente, uma rede neural nada mais é do que um conjunto de neuronios agrupados e trabalhando em conjunto, onde a saida de um, é a entrada de outro.\n",
        "\n",
        "<img src='https://miro.medium.com/max/3000/1*BIpRgx5FsEMhr1k2EqBKFg.gif' width=\"500\">\n",
        "\n",
        "Como pode ser observado no exemplo a cima, cada neuronio comunica-se com todos os outros na proxima camada, enviando seu output para cada um deles.\n",
        "\n",
        "A estrutura de uma rede neural pode seguir diversos tipos de arquiteturas, contudo, normalmente é melhor representada e construida em cima de um grafo.\n",
        "\n",
        "Os diversos tipos de relacionamentos entre os neuronios de uma rede definem que tipo de rede ela se dará."
      ]
    },
    {
      "cell_type": "markdown",
      "metadata": {
        "id": "v-oepx--UmL7"
      },
      "source": [
        "## Como codar um relacionamento entre os neuronios para formar uma rede \"Feedforward\"\n",
        "\n",
        "Lembrando que redes neurais do tipo Feedforward não formam um ciclo, sendo o mais simples tipo de rede neural.\n",
        "\n",
        "Vamos então criar uma rede neural com 3 entradas, uma camada oculta com 3 neuronios e 1 neuronio de saída. Assumindo as seguintes variaveis:\n",
        "\n",
        "* $\\pmb{w_n}$ = [1, 0]\n",
        "* $\\pmb{x_n}$ = [2, 3]\n",
        "* $\\pmb{b}$ = 0"
      ]
    },
    {
      "cell_type": "code",
      "metadata": {
        "id": "bLbXdLIPS3KU",
        "colab": {
          "base_uri": "https://localhost:8080/",
          "height": 35
        },
        "outputId": "257a95c4-767f-4c5c-822b-fb8b9e49f76c"
      },
      "source": [
        "import numpy as np\n",
        "\n",
        "class FeedforwardNetwork:\n",
        "\n",
        "  def __init__(self):\n",
        "    weights = np.array([1, 0])\n",
        "    bias = 0\n",
        "\n",
        "    self.n1 = Neuron(weights, bias)\n",
        "    self.n2 = Neuron(weights, bias)\n",
        "    self.o1 = Neuron(weights, bias)\n",
        "\n",
        "  def feedforward(self, x):\n",
        "    out_n1 = self.n1.feedforward(x)\n",
        "    out_n2 = self.n2.feedforward(x)\n",
        "    out_o1 = self.o1.feedforward(np.array([out_n1, out_n2]))\n",
        "\n",
        "    return out_o1\n",
        "\n",
        "network = FeedforwardNetwork()\n",
        "x = np.array([2, 3])\n",
        "print(network.feedforward(x))"
      ],
      "execution_count": null,
      "outputs": [
        {
          "output_type": "stream",
          "text": [
            "0.7069873680001046\n"
          ],
          "name": "stdout"
        }
      ]
    },
    {
      "cell_type": "markdown",
      "metadata": {
        "id": "yZHOZ1ADVR_U"
      },
      "source": [
        "# Avaliando uma rede neural\n",
        "\n",
        "Avaliar uma rede neural tem como principais objetivos entender o quão bom a rede está se comportando e ser capaz de quantificar o quanto as alterações que realizamos nos dados e no modelo afetam sua acuracia"
      ]
    },
    {
      "cell_type": "markdown",
      "metadata": {
        "id": "2Gzvn4GLV6qW"
      },
      "source": [
        "## Loss - Perda\n",
        "\n",
        "A métrica de Loss representa basicamente o quão bem um modelo foi predizendo um exemplo em especial, este dado é utilizado de muitas formas e existem diversas formulas de calcula-lo(como será explicado nos proximos tópicos).\n",
        "\n",
        "Lembrando que quanto menor o Loss/perda, melhor o modelo.\n",
        "\n",
        "## Formulas para calculo do Loss"
      ]
    },
    {
      "cell_type": "markdown",
      "metadata": {
        "id": "MDToxzrqZCst"
      },
      "source": [
        "## mean squared error (MSE)\n",
        "\n",
        "O erro quadrático médio (MSE) é uma formula utilizada para calcular o erro quadrático de um estimador, levando em consideração o valor estimado e o valor real do exemplo utilizado.\n",
        "\n",
        "Sua formula é a seguinte:\n",
        "\n",
        "* $ MSE = \\frac{1}{n}\\sum (y_{true} - y_{pred})^{2} $\n",
        "\n",
        "Onde:\n",
        "\n",
        "* $ n $ representa o numero de amostras utilizadas\n",
        "* $ y $ representa a variavel que está sendo predizida\n",
        "* $ y_{true} - y_{pred} $ são os valores que representam a amostra, sendo **true** o valor real e **pred** o valor predizido"
      ]
    },
    {
      "cell_type": "markdown",
      "metadata": {
        "id": "cgmGdQiLZgUz"
      },
      "source": [
        "## Como codar um algoritmo de MSE"
      ]
    },
    {
      "cell_type": "code",
      "metadata": {
        "id": "hpq76S3oZe55",
        "colab": {
          "base_uri": "https://localhost:8080/",
          "height": 35
        },
        "outputId": "2fe596ef-2890-4c91-9080-9b781a03fd57"
      },
      "source": [
        "import numpy as np\n",
        "\n",
        "def mse_loss(y_true, y_pred):\n",
        "  return ((y_true - y_pred) ** 2).mean()\n",
        "\n",
        "y_true = np.array([1, 0, 0, 1])\n",
        "y_pred = np.array([0, 0, 0, 0])\n",
        "\n",
        "print(mse_loss(y_true, y_pred)) # 0.5"
      ],
      "execution_count": null,
      "outputs": [
        {
          "output_type": "stream",
          "text": [
            "0.5\n"
          ],
          "name": "stdout"
        }
      ]
    },
    {
      "cell_type": "markdown",
      "metadata": {
        "id": "VnFg1X-xZRy9"
      },
      "source": [
        "## Sparse Categorical Crossentropy"
      ]
    },
    {
      "cell_type": "markdown",
      "metadata": {
        "id": "1LqvvzLuX9J6"
      },
      "source": [
        "# Treinando uma rede neural"
      ]
    },
    {
      "cell_type": "markdown",
      "metadata": {
        "id": "w8NyueiLAp8x"
      },
      "source": [
        "## Tipos de treinos de uma rede neural"
      ]
    },
    {
      "cell_type": "markdown",
      "metadata": {
        "id": "hY-Wg0eNWVb5"
      },
      "source": [
        "# Otimizadores"
      ]
    },
    {
      "cell_type": "markdown",
      "metadata": {
        "id": "SNfXLT32YEEz"
      },
      "source": [
        "# Tipos de redes neurais\n",
        "\n",
        "\n",
        "\n",
        "<img src='https://mk0iaexpertacadlbryk.kinstacdn.com/wp-content/uploads/2020/06/image-3.png' width=800>"
      ]
    },
    {
      "cell_type": "markdown",
      "metadata": {
        "id": "K5V6VxFlAaep"
      },
      "source": [
        "## Perceptron (P), Feed Forward Network (FFN), Radial Basis Network (RBF) & Deep Feed Forward(DFF)\n",
        "\n",
        "![image.png](data:image/png;base64,iVBORw0KGgoAAAANSUhEUgAAAiwAAACfCAYAAADatoIbAAAgAElEQVR4nOydd1hUV/rHB0vWbNpm0/PLbowm2U2yWbMpxhZ7SVTsoih2UEAkKiL2gkYRFRV711hi7B0hRuzSBcUCKlZQBOmdmfv5/TGe473DDEXNRrPzfZ77zMydc095z7nn/Z73vOccHU85iouLAVizZg06nY4//elP6HQ6OnfuDIBer0dRFLPPKYrCgQMH0Ol02NjYoNPpePbZZ7l16xaKoqDX6wFQFEXGob6fnZ3Ntm3b6N+/Pw0aNOCjjz7i/fff56uvvqJDhw4sWrSImzdvyucMBkOJ+Ex/i7gBDh06xJAhQ2jSpAmffPIJn3zyCa1atcLHx4fr168DYDAYGDBgADqdjmeeeQadTse6des0slGnY1qGoqIi9u7di6urK40aNeLjjz+mRo0afPnll9ja2uLn58fly5dlHObKYC7e9PR0VqxYQdeuXfnss8+oWbMm//znP2ncuDHOzs7s2rVL5s9UHuWFoigyjpEjR2rqf/r06QB89tln6HQ6qlatik6nY8CAAVLOpnUg4urevbsmrpUrV0pZmaYv4hByAbh06RJz5syhXbt2fPnll9SoUYNPPvmEb775hkGDBrF3714Zl7qO1PkR8aWlpTFx4kScnJwYPHgwR44ckXI2JzORJ71ez7Jly3BycsLJyYlVq1ZhMBhK1JvBYMBgMLBmzRocHR1xcXEhLCxM1mNiYiLDhw/n888/p3r16nzxxRe4urqSlJSkeV7gzp077NixA3d3d1q1asVnn31G9erV+eijj6hXrx6Ojo5s3ryZ/Px8WQ/myi++5+bmMmPGDBwdHXFzcyM4OLhE+c3VQWhoKJ6enjRq1Ih//OMf1KhRgy+++IIuXbrg6+vL1atXS9ShFVZY8WRD93tn4FHxqIQlKCgInU5HpUqV0Ol0vPzyy6SnpwNa5Sw+xb2tW7fy8ccfo9PpSr1efvllpkyZItMzjVMN0XlfvXqVDh06lBrvX/7yF+bNmweAi4uLpuzmCIs5UhEYGEjt2rXLLMNzzz2Hl5cX2dnZZuViGu+WLVt47733yoy3du3axMbGap6tCMwRFkHaJk+ejKIobN26VdavjY0NzzzzDGfPntUoPXFVlLCY1ltmZiYeHh48++yzZZb966+/5tdff5X1ZKp8RV5E+xRXly5dZF7UClpAkJLs7Gyee+45TR1mZWVp2qAIW1BQwFtvvSXD9u7dG4CQkBDeeecds/lfuHAhAIWFhQCcP38eR0dHXn/99TLLrtPpqFWrFkeOHJHyMyUOQqanT5/WPPfdd99J+Yj8i7IAJCcnY29vLwcglq4XX3yRGTNmlEr+rLDCiicL/1OERa2chPKZPXu2HIHb2Njw1VdfyVGj6WhUKJaxY8fKjk8QHWGlUf9Wf+/WrRuFhYXo9XqNolGPiME4On/33Xfl81WqVCm143V1daVnz56lWlhMywAwc+ZMGUflypU1cap/qzv+xo0bk56erhlVmyr75cuXmy1/1apVZd2orzFjxgCWyUBpKM3CIghLcXExdevW1VhZhNI3JQoVISym9XblyhW++uqrEjLT6XQl6lD8rly5Mps2bZLtVA3x++DBg1SuXJlq1apRpUoVevXqpWmL5mQCkJWVxdtvv02VKlWoUqUKb775JpmZmSXaA0B+fj7/+Mc/ZFgXFxcuXLjAyy+/bDH/c+bMkTI4efIkL774YrmISuXKlWX7qlatGqGhobIu1HkSv6Ojo6latSrPPPMMVapUoVOnTiVIhninUlJS+Pzzz0u0PZ1Ox5///OcSefnrX/9KWlqahsRZYYUVTy7+cIRFKO1OnTphMBgoKiqSnZvBYECv18tRYUFBAf/4xz80ymzixImAUTmZG31Pnjy5RCfer18/AgICiImJ4cyZMwQGBuLs7Cw7ZhH3sGHDZJ5NpxP0ej35+fn85z//0Tyj0+moX78+48aNY/78+Xh5efHRRx9pOmWhIEV6liws4vfSpUtlePFs165d2bVrF9HR0Zw9e5ZDhw4xYsQIaS0QcrW3twcooTAUReHq1as8//zz2NjYSMXk4eHBwYMHOXfuHBcuXGD//v24u7vzt7/9DZ1Ox4gRIzQEsiIojbBMmDBBhvvll1+kvGxsbLCxseHUqVMaxV8RwqKuN4PBQHZ2tmxHQk41atRg5syZhIWFce7cOaKioli9ejX16tXT1G+VKlWIiooyK1MwEhZ13To4OGjakDmZCAvLG2+8IdvQ66+/Li0spgS+oKCADz74QIZt0qSJbGPi+vLLL2nRooWst+XLl8s0hw4dqgn70UcfMWzYMNavX8/Bgwc5fPgwmzdvpl+/frLNivfnq6++0lhLTMsfHR0t602n09GxY0dN+dX1NnjwYE29ffbZZ6xdu5aIiAguXbpEZGQkixcvpnHjxpLE3L17V5OeFVZY8eTiD0dYRGclRtGWkJWVRZcuXTSd5yuvvFLCf0WkoSgKx48fp2rVqtIa8/LLLxMUFGQxjV9++YUXX3yRSpUqUbVqVSpXrkxoaKimk1V/nzVrlsyP6NhnzpxZIt7c3FymTJlSYjRvibCoR6RxcXE8//zzVKpUicqVK1O1alU2btxosQwhISG8/vrr2NjYSCW7d+9ejVyEIhd5Ekp7ypQpFuO9e/cuo0eP5uDBg8DDKYzSCMv48eOBB1MWrVq10hCF5s2by3QF8aiohUXkedCgQZpyt23bltTUVIt5dnd317S7Bg0ayDwIxW1KWETY8hAWMPpXqadnBGFRhxGfpoRFfdWoUYODBw9KC0RWVha//PILqampsk15e3uj0xmn+LZu3Splbg579+7l2Wef1VgjRRtQE2xTwiLCCsKiHoSAsT2Jd02n0/Hee+9ZrAOA7du3M3r06BJEyQorrHhy8YcjLEJptGvXjvT0dO7du0dGRgaZmZncvn2bU6dOMWPGDGrUqKFRYFWrVmX37t0yTrV1RXSe3377rUZ57Ny5EzAqxeLiYvR6PXq9nuLiYgoKCgCYM2eOJh3h9Kn2aVEUhdzcXOkvIIiHl5eXDFtUVCQ/Ree6adMmWV61xcUcYRHfhYOuyM/ixYsBZPyiDHq9XpZh06ZNmnJ/++23Ui7COqQoCra2thpze0ZGhsyzOqypM/DDojwWlvz8fBRFISwsTCo+Iad9+/Zp6qIiFhZR5gsXLmimOT7++GPy8vJku1DLs7CwUNa5mLoQz504cUJTZ4+DsJizsKjDWCIswgr1t7/9jStXrgBopgEFxO9bt26xc+dODaEzbU/qd8LV1VUj34kTJ0ria8nCYomwCDmYWqJ8fHxk/Zu2PVO5WcmKFVY8HfjDERbRYVWpUoWXXnqJl156iVdeeYVXX32V559/3uwo8p133iEwMBAo6aQrOs7Y2FhpJdHpHjj/qTtZc9M8wpdApPXWW2+Rm5srw4j87927V5P/v//97+Tk5MgOX8QvnhOj2J9++ok//elPchrGlLCoSVFiYiIvv/yytMp8+eWXUlGYW/0j8qfX6zUOxs8995xc/aT2yWnWrJkM8+abb1JQUKD5X00CRdylOSGXhfIQFqE4AenrI8jal19+KfMgpg+hfIRFfPf09NQQim3btpUIa+o7pSgKa9eu1RBs9dTY47KwPAxhEdMvVapU4fDhwwCSaKmnVS3Vl6lfkLo9iba0f/9+TT307NkT0Lal8hIWIa+dO3dqrICLFi1CURSNtcd0EGJupZEVVljx5OIPQ1hWr16tsTKUdokpl7/97W94e3tz+/ZtwLyDrugQhXOuUDBr166lsLCQ/Px8ioqKzF75+fkUFxfTqVMnjTKIjIyUnaaI38PDQxO/h4cHUNKXRp0/MWI1nZIwtbCIz59++kkTzsfHh6KiIvLy8szmX10+MSoWCuHAgQOSMAglZWdnJ5WdaT5MrVbmylNRlIewqNOOj4+nWrVqGnInpsNEOCibsAiCo9fr+de//iXb1dtvv01aWpqUnTmZFhQUUFRURFxcnMY61qxZM0kIRNzw358SEumMHTtW0/7M1ZEpsTVXt6IswsKk1+uJiYnRTAm1adMGMO/DUx4LC8DJkyc17/8333yjWbpvuiLMtO1ZCYsVVjz5+MMQFmFhKQ9hEcrq66+/5tatWwAlRmKARnGYkg6xD0p5MGbMGA1R2Lp1qyRDIv4WLVpoFIYIY276RORPKABTZW1qYRFKR5AOkUZISEi5y7Bs2TJNGgsWLJBxC0W+ePFiSWpsbGz485//zIoVKzRTCaYOlo+iLMprYVGHE/4jgnh99NFH5OfnV8jCol7RJfwx1Fa38kK9lLhmzZqyDf6eFhadzjidl5ycrGn/lurIHEERlhRLuH79usapvFmzZiXKVBEfFkVRyMrK4q233tKQUVtbWxISEmS6ptYhK1GxwoqnC38YwiIsLKIjrFevHgEBAezZs4fdu3ezdOlSevfuLZWQet+VyMhIoOR+EOpOWD0lUrVqVSZNmsTixYuZP38+CxcuNHv5+/uzdOlSSUZE3tasWSPN1cJS8v7776PT6aSF4sKFC1JxWVJMlqwzasKi9j1o2rSppuxeXl4sWbLEYhkWLFggy2Bvb68pw7Rp00qkkZWVxaeffqoJp9PpqFu3Lhs3biQjI0Pm39xUUUVRXguLum4TExP5y1/+olFsK1asAJCbmXXr1q1UwmK66aCI5/PPP2fp0qXMnz+fBQsWWJTpwoUL8fPz4y9/+YtmCk29T8qjEpasrKyHdrp96623SElJ0RACS/I3tbKoUVBQwM2bN4mNjSUyMpITJ05w4sQJ1q9fr1n5IwjLw1hY1G1gyZIlsn2LOnnppZcYOnQo0dHRmrxZp4OseFRYstI9Le2ptLz/VuV61Hj/MIRl1apVGiXTvXt3s+FPnz4tzfhCCXz44YdkZmaWUKLie05OjtwIrawNqUqbhhK+JosWLQKQUzppaWn83//9nwz72muvcefOHUC7e6cphAIdMWJEqRYWcVnaJ6SiZahUqRJjx47VkCahYC5cuMA///lP+Yx62uPdd9/F09OT8+fPyzI8CmkpL2ExVWyTJk3S1H/NmjXJycmR/wtyVhphgQfOyA8rT7F6rEqVKrz44ouaDQt/z1VCb7zxRpnLfU3JioDY5bdDhw588MEHPP/88/zpT3+S07DCoVctt6ZNm8q0KkpYRF5E+O+//14zsBDfK1euTPPmzfn55581u+w+bUrmaYSpkvpvTsmVlvZvXfe/R5qPA6bvdlnlKG/9mrPGVlQefxjCIiwsQkF26dJFzpsL/wRhcr9x4wZvvvmmxklv3LhxMj4hUNGh3b17V5rXH1Y5qa+DBw9qlP2tW7fkJl063QNfCCh9uW95CQsYp4/EXiGPowwbNmzQyF+d19TUVBwdHTUKQ/29WrVquLq6lijjb0lY4IHvSVpaGu+8847G30bsGgzg4OBQLsIi9rMpzzRkWddnn31GYWFhiWXNYg8ZkU/hoFoeC8trr732UITlzTffJCUlRcrMkuzhQd2lp6fj4uKi2V23PIRNp3t0C4vIj3qn5Q8//FBDtNV19Omnn3LgwIESaT7JSuRphun7px5APKqVtbxpqxWkqUJ9lLhFHKYLF8pK80loayIPlhY/mH5Xl0XttF4auSntvoj3f9LCIgiL6T4swmoiBCOsGsInQ2ye9tJLL8nzUUTHJ54ztYA8++yzTJ48mQULFjB37lz8/f3Ldc2fP1/uYaImRImJifz1r3+V8T9uC4v4LqZrhLIYM2ZMhcvg7+/Ptm3bzDoxCnkLnDlzBnd3d40vhZq4fPLJJ1y5ckUj84o03tIIi9iHRb20Wx1+0aJFUpnZ2Njw9ttvk5qaiqIo9OrVS0N+TQmL+BRtTkw/1K5dm0WLFjF37lzmzZtXLlnOmzePhQsXcunSJU2bK2vjOLUzrKlM4NGmhMoiLOq6NhgM3L17V1rv1Nfbb79NkyZNcHBwwNnZGVdXVwYPHkzXrl01xPlRCItpecRzOTk5rF27lm+++UZjZVFv+Dh16tQScVnx34e5VYSP4yoPyrIClBa3moB5enrKPrustB8mTfWzln5XtAxCP6xatUruJybeBfEehYaGcvz48TLrrqK4ePGiXPBgSnxKw/8EYTFtZHq9nry8PGrWrKkZvYpdbk13oi0sLNR06C+++KLc5vxhoM4LwL179zRLn5999lm5/8Wj+rCoy1G/fn2Zho2NDVevXn3oMqjLIb6bylggOTmZRYsWaVbUCOJSp04daVmoaOOvCGEREOnk5+fLqSvT+i+vhWXHjh2asog9dh4WanlamhKyt7fXdDamEDLMzMx8aAuLekrIEmFRd2qCgIj2984777Bq1SpJekxx5cqVx05YzJEWgSNHjkhHavUgRafTldh7yYrHD1Ef+/fvp3379jg7O9OrVy8mTpxIYmIi8KCdqevO0rSfpe/mnhHvakBAAO3bt8fNzQ1XV1f69OnDyZMnAS35t5SmaZ+m/m0wGOjevTtJSUnAg/4hIiKCdu3aMXjwYFxcXOjXrx9hYWEyTXWZ1Wla2u/I3P+WfMwsyUf97oo2P3PmTLZs2SLzLvrIvLw8vv/+e5KSkkhNTcXe3p4BAwbQu3dvhg4dKs8CE/3i9OnTsbOzw83NDUdHR0aNGgUYB4ddunTBzc0NZ2dnHB0duXHjBmPGjCE+Pt7sO2sJf1jC0rVrV8DyUmV4cI6QUAbvvvsu2dnZslGolegXX3whLROVKlUiKipKs0y1vJeaRIjGVlRUJJWn6JjDwsIsVqR4Xih6YWGx5HQrZNC2bVtNeffv3y+XXz9MGUReTPOlLp+aMBQUFDB9+nTNXh+PojRKIyymTrfqvJou8xYK7JVXXiEvL08uE69WrZpZwiLkeezYMY31o2nTpnKDtIrI09w+OKLejxw5okmjQ4cO8n/Tjk0t+4yMjN/MwiJkAEZCoZbha6+9RlxcnCacuAoKCiguLpbPPI4pIXPlV7cNdf6PHj0qneeFZa1Ro0aad9GKxw/x3kyYMIHRo0eTmprKjRs3WLZsGQ0aNJALDMxNL5taGUx3mzYNb/qfCD9//nymTp1KSkoKSUlJ3LlzR64ONM2n6Wjf3F4+pv85OjpKwiLi+fnnn/n++++5e/cuSUlJJCcnU1BQoEnT3OpUQPbJ5v4z91vcUw+k1WFEn6S+L9JetmyZ3D9KEBmAzZs3s3r1asBIvpo2bSrL8uuvv/Ldd9/JBQsAvXv35pdffiElJYXbt29Li5Obmxtbt27l7t273L59W24jEhISIndyL2/f/z9FWARE55SUlCRXagiF8PPPP2s6OyFIR0fHEqRAvRS2IqY4EV7N0tu0aaMZrS9cuFBjRTFHEMT0lrCwlLWsedy4cZpwvr6+JdKoaBlK+64mLmqlPHz4cClLGxsbvLy8ZD4qYmUpjbBYsrCoyaher5enVQu5L1iwoERclpY13759u4TvkXqlz6PIU9RdSEiIxhrxzTffWHxWtG2DwUBBQQGvvvrqQxGWt956S25rb8nCItqMv7+/RlZi/yChDNT5FO/imTNnNM63j8uHxdJ3sd8RQFxcHC+99JJM+y9/+Yv0pXpY87YVpUO8gz/88AP+/v6a/7Zu3Uq7du3k7z179tC+fXvs7e2ZPXs28KCuvb29sbe3p2vXrpw6dQowWqf79u2Lvb099vb2jBo1ipycHPkeiLQXL17Mjz/+aDZ/hw8fxs7Oju7du+Pr6yvzXFRUhKenJz169MDe3p7w8HDA2KauXr1Kr1696N27N05OTtSvX5979+5pyrtt2zZmzZqlSUu0y+joaBwcHHBwcMDNzY20tDTpXzd06FBGjhzJ1KlTiYqKkos0ACIjI6VuUBTjDs9ix/W5c+cyevRonJyc5DROXl4eEyZMYNiwYYwePZpr166hKArjx4/Hzs6OgQMH0rBhQ82u3+LdGzduHHFxcSiKQnR0NHZ2dpqyZGdnU6dOHeLj4wFwcXHh2rVrJeQ7YsQITp8+XUIOYn+vzMxM2WeWhf85wiIqWjwnzP+CiKjPmBHhFEVhxYoVGsXWoUMHwPJOt+aUtjknM/H8xIkTNflo0aKFLJ+pghHPAcTExMiRtKWzhMTnvn37NOG+/vpr+b8557fylkF8L20DMZFOcXExp06d0lh6Bg4cWKKs5UFphEXtRG36jPq5wMBAjUw+/PBD2rVrp6kLSxvHAfIkaLXVSl0/pclTKFNzdSza39WrVzWnXL/66qtkZmZq8qAmK+rRrHpztsdpYVErArHTr5DVsmXLNKM00/o3GAxcu3ZNcyL4o64SEumYWypvTjYtW7aUaVerVk124uU1S1tRMYi2MHXqVGbPno2iKJrFEE2aNCE5OZmEhARatmzJzZs3KSoqolu3bgQEBABGZTx06FAMBgOxsbG0adOG/Px8zp8/T8uWLUlLSyMlJYWJEyfKqVk1UV26dCmenp5ERkZy8uRJoqKiUBSFhIQEvvvuO65cuYJer6dfv35yemTKlClyMBUeHo6trS2FhYUUFBTQrl07tm7dSmZmJlFRUdSuXbsEYdmxYwcDBgyQS/qjo6MxGAwkJyfTtGlTjh07RmZmJn5+fvTr1w8wWjIGDhwoLd/p6en07dtXWv4XLVpE/fr1AWMbnzVrFoGBgRgMxkNYARITE3FwcKCgoIA7d+5ga2tLQUEBWVlZ6PV6pk+fjrOzM/fu3ePu3bvY2tqyfft2Td7T0tJwcXGR70RMTIzmpHQxWB46dCgLFiwAoG/fvqxdu1aWV5CX4cOHs3DhQnn/woUL8j319PQkNjYWKN+A4X+OsMADRScYqnoEW6VKFc6cOVOiA1Tv3yGWo4o5ULEFvalyFx13aR2h+E8ocTHyFAclquMXikK8hOfPn+fvf/+7fM7cWULq0X5WVhbVq1eX8dvY2EhToDoNdRnKsxGYpXoxHWEXFBRoZC42mPPw8PivWVjUz4oyfffdd5opCqFMxWdpW/PPnTtXQ2RFZyLCm8pA3S5KI2dCDoWFhXKPHrUVELTn5KhlJw7RVO918jgtLCI9RVFKyN3b21vGqS63muiKZwTJexTCYk6Gor2aEkNRZ4Jk6nQ6XnjhhVLLasWjQ01Y/Pz85D1Rdy1btiQhIQFfX19cXV0JCwvj5MmTjBo1CicnJwAaNGjAhg0bOHbsGOHh4bRo0YKIiAhu3LghV84JtGrVSvoAimmPVatW0axZM7y9vfHy8pJTEf7+/vTo0UMq06lTp+Lq6gpAvXr12L17N0ePHiU8PJzatWtz4cIFTp8+XeJw3Q4dOsgpEFHePXv2UKdOHSZPnszIkSOlxejHH39kxIgRABoZpKamcuHCBcaMGQM86G/GjBnD0aNHAeO77ebmxuXLlwHjdIvYDqGwsJCQkBAiIyPp3LkzaWlp0gIlkJ+fT8uWLUlOTpb3xo0bx+bNmzVpJiUl0bt3bxkmJiaGzp07Aw+IoF6vx9vbW8qyZ8+e9OrVC29vbzw8PPjll18AGDZsGHZ2dnh7ezNixAg5O6EoCtOmTePXX38t94Dhf5KwwINpoeLiYj755BON0hk+fDhQcpdUNzc3zWiyRo0aJUxdlpCUlMSSJUu4cOGCJn2hxIqKivjPf/6j8e2oVauWfAlMcfDgQd58803Z8ZZmYVGX4YcfftCU9dVXX5XOU2UhJSWFlStXSscx4ZsARq/v5s2bs2nTpjKtJJ07d9YorE2bNgGWV75YwsMSFvWIX4ye1I6Y4hJK0txpzaL+UlNTeeWVVzQb0Tk7O8sDEMvC0aNHWbZsWQkHaXXZevfuramzGjVqyLOc1CguLpa7KpuW5XFPCYm8LV++XJO3jz/+WLNjr2n+xHSgmoQ8ypSQCDd06FCcnJzMykWNw4cPU6VKFVnftWvXlqTPSlh+G6gJy6xZs+SUpRip169fn/z8fIYNG8agQYPw8fFh6tSpTJo0SZ4U3qxZM8aOHcsPP/zAlClTmDJlCklJSVy6dImuXbtK3zGDwUDHjh0JDg6WgyQwOn6uXbtWky9FUZg+fTpdu3ZlxowZTJkyBW9vbwICAsjMzKR+/fpMnz4db29v+V9WVhZBQUG4uLjINAsLC2ndujXJycmad2Pr1q1SmavTFMRNHItiMBjo0aMHFy9eJD4+Hk9PT2mFUhSFzZs34+/vT05ODv7+/mzdupXNmzdz584daUmOj4/nu+++w8vLi1GjRvHvf/+b3NxcUlJScHBwkO9VSkoKjRs3lgfT6vV6hg8frnG6VRSju0SvXr1kvoWFRQxghVwdHR2lH4uTkxNXzSzk8PDwICoqqkSbsBKWClhY1A3Lx8dHo0Dffvtt0tPTNSNivV5PcnKyXFkkOujnn3+eESNGcOLECdLS0sjNzSUvL4+0tDTOnj3L6tWr6d69u5y2mWjmZFqRj507d8p8iA76gw8+YOnSpURFRRETE0NAQABOTk4ak/rbb79N5cqVLZ7WDA+82nNzc6UDsSjDM888w+DBgwkODubevXuyDOnp6Vy4cIGNGzfSt29fuZJp4MCBUn6iHNu3b5f5qVu3LkuXLuXy5cvk5eVRWFhIZmYmR48epWPHjhpZV69enezs7P/aKiFLbaBHjx4aklIaYVGP2gE2bNggw4t6qVWrFitXruTSpUtkZWWRl5dHdnY2SUlJBAcHM2XKFM1I//LlyyVeWpG3Q4cOSUIqiEiNGjVYvHgxp0+fJjY2lo0bN8pVYII8qZfiP07CIu4risKNGzd47rnnNBY+W1tbzp8/L4lLTk4OQUFBNGrUSEOiHsfGcSIfwpn2lVdewd3dnSNHjpCenk5RURG5ubncuHGD2bNny+0DxKBDdLbWVUK/HdSDJXE6vMCsWbOkYpw+fbp0wFdDURR69OghN/xT4+zZs/Tp00dzr2XLlty4cQN4YGFZsmQJixYtori4mPz8fA2RWbp0aYl4s7OzNZYJNSIjI0scw9GxY0fu3Lmj6VO2b9+Ot7e3TFPkZePGjTBKlrEAACAASURBVDg6Omqeb9KkCVlZWZw/f57Ro0cDD9rk3bt3mTx5Mtu3b2fr1q2kpaXh5+fHzz//zI4dO1AUhdGjR8upGUBjYRHyEWSjdevWXLx4UYYdP348W7Zs0ViOxb5KoizR0dHY29tr8hwfH0/dunWltcbFxYWoqCiKi417nonyenp6EhwcLImO2mLv4eHxvzclpCgKa9asoVKlSlSrVo1KlSrRrVs3qQAsdUTiv2vXrvHcc89RqVKlEgf3me7kGhISIhW3mjTodMZt/qtXr0716tV5+eWXNXuOiEt9xg2UVH7CuVedF3O/xdW6dWuOHz9OlSpVJNFZv3695sUxVQIXL16UxEs9baDTGZ0Q3333Xd577z3++te/anaqFZd42cQcNDxQquo8VqtWjffee4+PPvpIs8RWLRe1s5c6r+WBemrPy8tLU/8TJkzQyMDS86INXLhwgWeeeUaSDrGpYKVKlVi+fLkc8Zh7HmD06NGyTGqZVatWjTfeeIOaNWvy9ttvmz0x3MbGRpp4TVdHiN/9+/eXbU7d7sT0pGmcP/30E0OHDpVTjOqt/9WERYxC//GPf8iw//d//yf3pCltWbOQ7bRp02TeRP1XrVqVTz/9lHr16slpS3F9+umnNGjQQLY9U78x9ffo6GiNRURtllbLR5A/NeF8/fXX+fjjj6levTp//vOfS1gi27VrJztPq3Xlt4Po6yZOnEj//v0JDw/n0KFDeHp60rZtW1JSUjAYDFy/fp22bdty4MABrl27RmhoqJzu+PHHHxk0aBBnzpzh4sWLxMbGoigKly5d4tNPPyUwMJCYmBiGDBmCp6cn8MBxFmDOnDnMmTNH5kcMkBITE+nSpQsBAQFcv36dyMhIeYTIkiVLcHJyIjY2lvPnz3PmzBnZ7gYNGsTw4cM5ffo0oaGhfPnll3IrAJHmTz/9JMmHOs3MzEyaN2/O8uXLiY6OZvDgwTJceHg47u7uMv/iHZs0aRJffvmlHEi4ublJkqMoCsuXL6dr166EhYURFhbGV199RUZGBikpKZLki3xt3LiRFi1acPToUWJjY2nXrp2cZlaTiTFjxsgVXNHR0dSuXZuQkBCOHj3KokWLaNq0qZz2AejVq5fmmBuRnrOzMwcPHpTxi/6jsLAQFxcXzUKFsvDUExa1U5W6UxQnwJoubRQwVQgdOnTQPN+4ceMShEc0nsuXL9O8efMSSqKsq1atWhr/GJEP0J4A7OLionnO0k6qHh4eFBYWEh8fr7lvySIADxTirVu35IGOFbk+/PBDTp48qZGNwWAgNzdXWk/Kc7322mtyt9zS/BFKg9qRcsiQIZr4RaelnsaxBCETPz8/s3kVDmnmlhmqFffatWt55513KiTPqlWr4uLiounQTMuo1xt3bO7SpYvmWVPCrNPpeO+99yQJ7NOnj7z/5z//WS55FGmIz/z8fM0+QC+88EKZW/Obll0srS/r6tChA2lpaQwYMEDeq1OnDqB9V0W8ERERmudbtWqlCSvazpYtWzQrtsq6unbtSm5urqajtFpYfhuoB3vDhg1j3LhxeHh4sGHDBvmf+BQ+HBMnTsTX11cqMzBaLDw8PBg9erS0CFy8eJG2bdsybtw4OZ0k2oZ6FeaRI0fk1Ld6/xSAq1evMnbsWMaPH8+MGTNIS0uTaW7YsIFRo0YxduxYdu7cqfGHmjFjBs7Ozjg7OzNnzpwSJPrs2bMEBgbKNNVt7c6dO3h6euLi4oK/v7/8Pykpif3798v8CQvi+fPn5RJjRVE4ceKEnMYRMwBz587F2dmZ77//Hl9fX0mO1qxZI58T6e/cuRMnJyfc3Nzw9PTkxo0b8n/1lJbQJWlpaUycOJFRo0bh4eGBn5+fPDhYvSpK3FPLftu2bXIlkfr+8ePH//eWNYuKPn78OLVq1aJGjRp89NFHzJ07VzMCNwe10j116hSffvop1atXp2bNmvTv31/jZ6JOTyAgIAAHBwfef/99zUoOne7ByLp27doMHz6cwMBAi1YE0xEvQFBQEF27duWNN97QWEDeeOMNOnXqxLFjx+TzycnJNG7cmBo1avDJJ59w/PjxEtYFS2U4evQoTk5O/POf/+TZZ58tUYbXXnuN//znP7i5ubF7927pm6GOT/19z549ODg48OGHH5aI74UXXuDzzz9n/PjxJNw/RdfcCpnyQl2/P//8M//61794//33+de//sX27dvLZWERn0ImK1as4JtvvuGjjz7i448/ZsCAARanrMw9n5KSwuzZs2natCmvv/66hlRUrlyZF154gRo1atCmTRtmzZrFuXPnZBymbU1NZgVWrlxJnTp1NFvgV61alX/9619MmzZNru7R6/WsXLmSmjVr8ve//51OnTrJOXF1vkUH0q9fP9577z2qV6+OnZ0d+fn5pY56TOMA44orW1tbzf4vNjY2vP7665qVCGAcvb7//vvUrFlTOhmq24J49xITE6lfvz7Vq1fngw8+YMaMGWbDgnFDuokTJ1K3bl1effXVEtN71atXp3v37uzZs0fmw0pWfn+YEmhTlNYOY2JiGDlypNlnSoO5d8v0f3NxlDWwKk87Kk0flXXfUh9REZT1Tou+Li8vD3d3dzm9Zg4VXYwh+src3FyGDRtGQkJCua0r8AcgLKCtNHGIobhfkQakKMYNt9QOk+bIhOhMBfLy8oiPjyc6OppTp05x+vRp4uPjNZ7YAuY6SFMlom4EycnJnD17luPHjxMZGalxwjWd7srJyTGbX3PpmCrgoqIiLl26RExMDKdOnSIqKor4+Hi5yY+lMlhKr6CggEuXLhEVFcWpU6eIiIjgqolDlrqcD6swTNPNycmx+J+l58WnWh6mlrmyOi/TegPjKOrcuXOEh4cTEhJCbGwsCQkJ5ObmasKZtidL8avDXLlyhcjISE6dOsWFCxc01h+1Ms/Pz7e4mZTp75ycHLk00lKZzT1rKrs7d+7Ieo+JidG0IXW7KygoMPuumfudnZ0t/Q7MhTXt8JKSkjh79iwhISGEhoZy9uxZ6cMjwpf2rljx+KDuc8Q0h7mVXOowauuZiENYEtRWgCtXrjBjxgw5/WNpmwnTbQAqmqZ6gYF4VpTB0tYEamuCpTTNPWtOf5nmzVzc5vJjLj5xT5TZNH31MxEREXIALPxPxGU6oDeVnfq+kL3a+iQWW1TEwv7UExZLJKIsZSPuW2Laph2aOry6UstimOqGVFYHWd64xX+W4iuPonmYMphr2KbxlbUEWoQxXe77MLBU3+Z+lycedd4ETOVs6XlxqTu/0qDuMEzbVVn5s5QP03RNv5trz+KzrLCWYNqWSnPSNWcVMf1u6Z2zFLaisjftzK1E5cmBuf5E/dv0u4A5BV/eeq1omhXNW3nSrMizluKrSJzlDVsRnVLR/D5svH8IwlLWVZHnTVmjpYo095yaiavnHx81P6bxlqfMZaX1uMtQ3vgqKo+KyOph6r88can/r0gcpuUvq/4eJe7S8mzJmmDu+8N0ohWt9/KkV576KK3uzMn+cbY9K35fWOqDrHh0qN8Nc5apxxG3ul+qSLxPPWGxwgorrLDifwtlEXArHg2W5Pt7x2slLFZYYYUVVlhhxRMPK2GxwgorrLDCCiueeFgJixVWWGGFFVZY8cTDSlissMIKK6ywopwo4eCt6NErxSUug1L2CsCnMf3fE1bCYoUVVlhhhRVlwNRR1KCUvWmaohgwKCX3m3ka038SYCUsVlhhhRVWWFEKjIpekAX1NgEGruaEc/COP0G3Z/PLnTkE3p7F4eSl3M67qHr+0TYq/L3Tf1JgJSxPAKxL9B4vSlvrb5WpFVZYURHIfkMBg2Iw8gYFjqesZsq5L3EKr4RDiI5eITp6herkd5eIZ5l9sQWxGQcA7k/RVPwoiN87/ScJTzVhMbdZlKXNpixtXvUwm2qVN4y57ZOfRJRWJkv3Hkd6ZV0ibGkbzpnmx/S5R8mfue/mwopP9eFnT+oZNeryPO58ijjK2+4tvT/qvFmqd9M0rWTfit8aBoOxTecWpzEvrg09Q3T0CdXhFK7DOaIygzRXJRzDdfQONYb56foQY5/0CKTh907/ScBTS1jUHZjpVvCmZy6on1EftGVpBz91h6uO01z86rgfpSxg3FpdnDPze3W6ahk9TpKijl+gPNuzl+eIBXNpiLA3btzg1q1bZg+yrGhcpYWxouIojciU9d0KK/4bkIPP+74g+fps5sS1oscpnSQGAyOMpGFgRMlrUERlBoZXomeIjk3X3VEUMCjlP/D1907/ScNTSVjMKb3CwkLi4uLk4W2mI65r166ZfV4chy3umzuQT6SRnp4uD3IzN+JTFEUewgUQGRnJtm3bgAfn/5g7P0ac0xMWFoarq6sMb+6QKUGmTM/1MbUUid/m4hDPmzt8zLTspuWzVAbT7c/V+SztuIO0tDQyMjLM1pnAzZs3uXv3rryfnZ1dIv/qtMQ1cuRImjVrxpAhQ8jNzZXHwpdHFpasKeryqc9NysrKYsmSJRgMBnbs2EFERASKolBUVGQxftP7apmVVjeWYFoflupdHBy3fv16Ll26pGknwrJRWls1zbOpVSQqKkq2e0uHpZnKr7CwUNaroijs379fnkienp6usbiYO/eouLhYhjNtF5a25bckJ3XeKvLOWPHHhKIo6O87uG68Nhj7UzqcI6qUShTEJf4fFFGZniE6jt1dDoDeUHLQ+6Sm/yThqSQsoB19r1mzhoEDB+Lj44O7uzsLFiyQYU6cOEHXrl1xcnKibdu2soNOTU2lT58+9OnTB0dHRzIzM2V8ycnJ9O7dW3Os9rp16+jYsSN9+vRh9uzZwANSAeDn50fHjh0ZMGAA3bp1Y/369Rw+fBg/Pz8AzWm68IAEqQnS2bNncXBwKDW8OTmY+15eqBWRoihMmDCB/fv3oyjG0zkVRWHnzp3MmDGjRB4q0mmrrTYirT179tCtWze6devGoUOHpGIQhCMtLY2+ffvSr18/unXrxsyZM8nLy8PJyUmTB3P5OnPmDO3atbMom9LkqY7Ty8uL8+fPa54xd9BiWloaI0aMwGAwsGDBAilDS/FXRGbm8l8RmJMRwMSJE4mKiirX85bKooZIIyAggDlz5piNy/SQUoG5c+eydetW+XvhwoXs3buXpKQkXFxcysxjcHAwEydOLJEXS/k1l4eHnUK04o8LRVHQG4z9VWxGIP3DbBgYXpmB4TrjVQpZ0JIGGwaE2eAe9TIpBQn338myScPvnf6ThqeSsAilB7B27VoGDhxIXFwcmzZt4pdffmHEiBGSVMTGxhIbGwuAr6+vVHajRo1i1KhRGAwGvLy8GDduHAA7d+6kW7du1KpVi7i4OABu375Nw4YNuX79OoWFhbRo0YLjx48DxpEhwMCBA1mzZg3p6ekkJyeTk5NDbm4ud+7ckY0iODiYZcuWcenSJeBBB3nq1CnWrFnD/PnzcXR0tBheURRu3rzJxo0bWbNmDWlpaYBxBHrhwgUZJjU1latXr3L37l1WrFjBypUruXfvHoqikJmZSVBQEMuWLWP//v0l5Ll69WpJmgoKCgDo2bMnu3fvBmDXrl2sWLFCWjwAcnNzWbt2LRs3bpQWjFu3brF9+3aWL19OZGSkTEdNCNq0aUNSUhJnz56le/fuGAwGeUQ8wA8//MCoUaNkGa9evUpaWhqNGzdm165dBAYGyjzu2bOHFStWcOfOHSm7jh07EhAQwNGjRykuLmbr1q0sXLhQtoeioiKioqJYvXo169atk/JUTxe2b9+esLAwQOvzcfr0aZYtW8aZM2cAoyVBWOtE/QNm4wfIzs5m9erVbNu2TcZ7584ddu7cybJlywgJCdHIrDwQYXNycti0aROLFy+WbRggJCSExYsX88svvwDGdp2Xl4der+fkyZOsWLGCrVu3kpqaSkBAAKtXr9ZYINPT01m9ejWbN2+Wlobo6GhZXwUFBdLKKeohISGBTZs2sXLlSuLj42Vcp0+fZvHixezcuRMAb29vBg8eTGBgINeuXSMzM5OsrCwSEhJo2LAh+/bt4/jx49y7d0++D2Ak+YWFhRw8eBBbW1sCAgLku5mTkyPbpSDJ6gM9AbZt28aqVatITU2VMrxw4QKrV69my5Yt8r3YtWsXy5Yt49ChQ+Tm5lotLP8DeNBfGd/5efHf4hCiY1BEpTItG+ZIg3NEZXqc0rH95mgASUSe1PSfRDyVhEV0Ovn5+Tg4OBAfH0/v3r1ZtGgRP/30E0VFRXTu3Fl2QgLr16/H3d0dgObNm8vO/OzZs9ja2qIoCnFxcaSkpODo6EhMTAwAERERdOnSRcbj5+fHzJkzpRUCwM3NTRIAgZ9//pmBAwcCMHPmTDp16oSfnx+NGzfm8OHDAKxYsYKWLVvi7+9P+/bt6dGjBwCzZs2iY8eO+Pn50ahRI44cOYKiKHTs2JHhw4fj5+dHQkICAImJiXz77bdkZ2ejKAq+vr4sXLiQc+fOMWfOHCZNmoStrS1gtBTVq1eP+fPn06ZNG7y9vQGj8lYUhaysLJo0aSKJ1q1bt2jdujUAkyZNokePHsyYMYOWLVuSkpJCYWEh7du3Z9y4cXh4eDBo0CAAXF1d6dmzJ3PnzqVx48YEBQVpTPQGgwE3NzeCgoLw9fXVWMWEkpg/fz69evWSv8GoNBs0aMCkSZPw9fWlqKiIyZMnY29vz4wZM2jevDkZGRmEhobSqFEjpkyZwtq1a8nJyWHGjBksXbqUb775htjYWNLT0/n666+ZOXMmo0aNomPHjtLSJixf3bt3l4RLkNPdu3fTunVr/P39adSoEceOHSM/P5/GjRujKAqurq7s2LGDvLw8ateuLePv0KEDubm5ZGZm0qFDB6ZPn46TkxNDhgwBwMPDg06dOjF37lwaNGjAli1bNBap0qC2oiQmJjJz5kwWL15MkyZNSEpK4tChQ3Tq1InFixfj6+uLoih069aN8PBwrl27xr///W9mz56Nk5MTtWrVYvz48UydOpUmTZqQlpbGvXv3aN68OVOmTGHIkCH07t0bgE6dOnHy5EkUReHo0aO4u7tz4MABHB0dAWjbti1DhgzBx8eH2rVrEx8fz+nTp2VefvjhBxRFke198uTJnD17lqlTp7JkyRKysrKoXbs2kydPZu3atQQEBGgsLu3ateP27duEhITQuHFjWd+5ubmadunq6qo5wdlgMODq6oqzszPTpk2jefPmJCUlUVBQQL169Zg+fTrz588nNzcXJycnBgwYgL+/P7Vr1+bgwYOadmrFHxPCCgGQkp+Ae9RLDKiAZaPEFW5D31Adk2NrUajPva/HLE9Xqq0rd/OvPOb08yxaXp9kPLWEBSAuLo6xY8eyZs0aZs6cqQkzbNgwwsLCZNgbN27QuHFj4uLiMBgMNGnShMTERBRFISEhAVtbW0k+wKiozp49CxhHai1atGDRokUcPnwYOzs75syZg6Io5Ofny/TatGnD0KFDGTBgAElJSezfv5+RI0eSk5ND3bp1ycvLAyAwMBA7Ozvy8/Np0KABiYmJAJw5cwYnJycyMjKoV6+eDB8UFESnTp0A6NKlixy9woMppT59+sg5/759+xIdHS3DpKWl0apVK9LT01mzZo20PqWlpdG2bVvy8/NRFEWOlN3c3Fi6dCmKouDv78/UqVPJysqiTp060t9kwIABbNiwgcDAQLp16wYYX/D69euTmJiIl5eXHOnu27dPKjDh0wGwaNEiqlSpIknTzZs3ycrKkoS0sLCQkSNH0qZNG/z8/CgqKiItLU3KAuDatWs0aNBAk6+1a9dy5swZBg8eXKLtZGVlMXHiRBYtWkRWVpa0JgH06tWLQ4cOyXwCdOvWTRIW4cPQunVrjhw5AsCGDRsYMGCAtBiBkXjs27eP9PR0Tfz29vZER0ezfv16SexycnJo0KABmZmZjBo1Slo/jh8/Tq9evWS65e1Y1MQmKyuLoUOHsn37dn788UdNXhRFoV+/fsTExHD+/Hn69+8v77dt21bW0aBBgzh69Cjz589nzJgx8vkOHToQGhrKqlWrmDp1KoqiMG3aNDZv3syxY8dwc3MDjO1V+H3Nnz8ff39/ORWozsvkyZPZsGGDvOft7c2PP/5IcnIy3bt3l/eDgoL4/vvvZTnt7Oy4e/cuhw4dYsSIETLchg0b6Nmzp4y/YcOGcmoP4MiRI7K+AHx8fJg4cSKKotC+fXt5f/fu3XTt2lX+9vLyYt++fYB2OteKPyb09x1Uz2ccpF+okSw4PQxZiDA+NyBcx5CoF8jS365QPuKyD9E39EE8D51+mA73qBdIKzRaTpVybD73JOGpJiw3b95k2LBh7N27FycnJ/R6vTS7Dxo0SJrrr127RuPGjfn1118BY0fTrFkzbty4gV6v59KlS9ja2mqc73r06CGnDgCuXr2Kh4cHPj4+NGzYkO3btwMPpk3c3d1ZtGgRcXFxnDlzhoKCArZv386ECROIj4/Hzs4OMI7Sb926hZ2dHefOncPOzo6ioiIKCws5cuQIQ4YM4cyZM7KTLiwsJDExUVqA7O3tOX/+vFSeYvS9fPlyfHx8yMnJkdMrCxYsoHXr1ri4uPDJJ5+QmprKjz/+iLe3N8XFxeTk5GBnZ8e9e/cAZFwnT56UpKBjx44kJCQQGRnJF198waBBg3BycsLW1pbg4GAWL15M/fr1cXFxoW/fvtja2nL9+nVGjhzJ3r17KS4u5tixY3KqS8hry5YtODk5cerUKZo1a0ZMTAxDhw6VPhXq6ZdLly7h6OhI7969ycjIoH379mRlZVFQUMCRI0f46quvZL7atWvHgQMHiIyMxNHRUTp8Civa4MGDadiwIUuWLCEjI4Nu3bqRm5tLcXExw4cPZ/fu3SiKIq0pdnZ2hIWFyZF5ZmYmDRo0wNHREUdHRxwcHJgwYQK5ubm0bdsWgOHDh7N3794S8bu7u3P8+HFmzJjBd999x6BBg+jfvz/t2rUjIyODMWPGyGmIc+fO4eDgIEdB5Zrrvj9Nc/z4cZo1a4a7uzuff/45q1evprCwEFdXVxo2bMiWLVsAI0GLiYnh4sWLODg4UFxcTF5eHt27dyc+Pp7i4mK8vLzYvXs3Xl5e7Nq1i4KCAgoLC5kyZQoLFiwgJSVFWh979uxJamoqBw4ckFajLl26cO7cOYqLi9m+fTsjR47EYDAwatQoGjZsyJo1awCYPHkyS5YsoaCggOLiYqZMmcKaNWu4e/cunTt3lukGBgYydOhQ2f67dOnC3bt3OXz4MIMHD5bhfHx8aNCggWyX7du3JzY2VtbjokWLGDduHIWFhRQUFBAcHEz//v0pKCigXbt2ZGVlUVxcjI+PDz4+PhQXF1NYWMiQIUOkf5KVsPyxYXR2NRL3Y3dX0Ov+dMxDWTfuT8s4hetwiqhCdGIQt5PukHQ7kTt37pi9bt++TeLtRG7fvkPgdX/6hOkYGP7w6Ys8OIZXISE7xNi3WAnLbw91ZzFgwACOHDnC3LlzGTZsGIsXL+bs2bN07dqV/Px8cnJy6Nmzp/QJEOjcuTMnT54E4PDhw3IUJUbWDg4OkrCoO6b8/Hxat24tp0xE+CFDhrB3715NGtu2bWP06NGkpaXRqFEjef/06dN07NiRjIwMmjRpQlZWFmC0sLi6unLnzh2aNGkiw0dHR9O2bVsURaF79+5yKkvta3Hr1i0GDhzIggULWLp0KcXFxdSuXVsSBAcHBxITE9mwYQPTpk0DkIQlLS1NM79vMBjo3bs3S5culT4/p0+f5ttvvy1RF/PmzWPYsGEl7g8dOpSgoCAAjh07JqfGRH769u0rSd/Vq1f597//LacZ1GRFjWbNmnHixAk5bQZGH6VWrVqVCBscHKyxsPTq1Us6dS5btox58+aRlZVFjx49KCwsRFEUPDw82LNnD/CgHdjb22t8JsA4nXj9+nXNvdTUVDp27AgYrW379u0jIyNDE//333/PyZMnWbBgAZMmTSqR5xEjRkifDkFYwLKjqhrqaSxbW1tpBZg9ezbz5s2T4a5fv06dOnVISEjAzc2N06dPc/HiRfr06QMY68fe3l5ON44aNYoDBw4wY8YM5s6dK+NxcnJi/fr18vvatWsZOnQoADt27JBtws7OjosXjTtubt++HU9PTxnH7du3adKkCbGxscyaNYvVq1fL/6ZMmcK6deu4d+8enTt3lvdPnjzJgAED5O+ePXuSnJzM4cOH5XQvmG+Xahnu3r1bWmDA6Ls1bNgwFEWhQ4cO0rq5Y8cOWa8A33//vdXC8j8Cg8FAsWLsBwJv+9IzRMeg8CqPRljCdDid0dFt0r+xbdOe9h3a0b59e8tXh3a0a9uBnkv+zsAzOpxCbR6JsAyKsKFPqI7zmUEaQva04KkmLIqicO7cOWxtbdm+fTvBwcFs3LiRjh07yumRVatW8fXXXxMYGMiGDRvYtWsXiqKwZcsWWrVqRXBwMG3btmXbtm2akXW7du3ktIrBYODYsWPMmTOHNm3aSEWsXiXUr18/fvrpJ+lbo9fr2bZtG99//z0Azs7OuLu7ExAQwLfffsuPP/4IGP1C2rdvT1BQED4+PtKy4erqqgkvlEOrVq2kaVvIQOTB09OTd955h6ysLIqKimjZsiULFy4kODiYr7/+mjt37rBixQrGjh0LGAlLq1atNA6HIq6dO3ei0+k4fPiwlHevXr0YNmwYhw4dYv369eTm5nLr1i3q1q3LkiVLCAgIYM+ePSiKwoABA6TyP3TokLQYiZVHW7du5dtvvyUoKIiNGzdia2tL48aNiY2NlQp68+bNrF27lsjISHx9fWndujUZGRnY2tri7+/P1q1buXfvHv3795f5WrduHXq9noMHD8opFTCO4B0dHTl8+DD9+/dn5syZZGRk0KZNG0miBg4cKEmNaAffffcd3t7ebN68mVWrVnHmzBn8/f3p2LEjBw4cYMOGDVy9epWsrCwaNWokLTX79u2TU24iDohB6wAAIABJREFUfkdHR/bs2UNiYiL169fnxx9/ZN++fezduxdFURg4cCA///wzADExMXKVkyUCZ/pOiLobOnQozs7OHD16lE6dOrF06VJiY2NZt24dhw4dol69eiQkJNC7d2/Cw8M5d+6cVMoFBQW0bt1akjR3d3c2bNjAtWvXqF27Ntu2bWPhwoVyilFRFAICAnj22Wf59ddfURSFn376SU4BtmrVinPnzgHGaZrhw4cTHx/PunXrOHr0KC1atODs2bPs3buXli1bsmvXLsLDw5k4cSL+/v4YDAbq1q3L+vXr2b59O3fu3KFp06YsXryY/fv38/nnn5OYmChlun37dnbu3MnNmzepV6+epl2C0Wds7ty5FBQU0LZtW/z8/Ni5cycNGjQgJiaGnJwcmjRpIttpUVER9vb29OzZE09PT2rVqiVXtFl9WP7YEApdURTOpO+VUzKPRhgq0StER1jaTyKVMnJhfO+33RpJz1NGx9mHJkz3p6Tcop7jbv4VY+xWC8t/D6ITT0pKwtfXl/Hjx+Pj48Ply5cB5CqGuXPnMnv2bHx9fVm5cqUcGW3evJnhw4dLJaW2WOzfv1+jyH/++WcWLlwo/U1M94T49ddf5SoIMToPCAjA3d1dEiF/f39GjBghO0+Rj3Xr1uHh4cHYsWM5evSo7AxNwyuKIhWhuvwiL5cvX2bHjh0ybFxcHGPGjGHUqFEsWbKE4uJiYmNjCQ0NBYxTQHv37pV+OOrph7y8PNavXy+dccW92bNn4+Hhgb+/vxyFxsfHM27cOEaMGCEdRQ8dOsTVq1cBo/VH+Gaole/OnTuZNGkSM2bM4N69e0RGRkpnZEVROHXqFGPHjmXYsGFMmjRJLjM/d+4cnp6eTJs2jYyMDIqKipg1axYeHh7MmzdPrlISaYqpqHnz5jFy5Eh8fHy4ePEieXl57Nu3T9bD4cOHuXLliqZudu/eja+vL7Nnz2b69OkcPXoUgI0bN+Lp6cmECRO4du0aer1eyt7Dw4Ndu3ZRWFjInj17NPELIhAbG8uYMWPw9PSUJDo4OFi23Xv37kkn7vJYWNThcnJymDlzJl5eXkyfPp2bN28SHR2Np6cnI0eO5ODBg7J93r17l3v37nHgwAFNmxA+QSdOnJC+XFFRUYwcOZLx48fL90D4cW3cuFFaki5fvkxwcDBgXL0l2mtcXByhoaGcO3cOLy8vPD09pVXSYDCwePFiRo4cybFjxzh9+rScHgwJCcHDw4M5c+ZQVFREXFwco0ePZvTo0axbt04SwsDAQDw8PFixYgUAly9flu1y8+bNKIrCpk2bpCUnJSWFyZMnM3LkSLkSLCcnhz179pSQeUxMDNHR0fTu3VuWzWph+eNC1L04OPBK5ikcQ20eTOs8hOOr032H2QFhNlzPidQ41Vq6ig3G/vdEyqoHK4QeljCF29A/TIdn9NvkFKVqViA9LXgqCYt6SaGlkWd5RqSl/S7tP/W24+bC6vV6Dhw4gK2tLRs3btQ8Y5o/S3GYwpLSEvfU/6nl8zhQWnwP62Velrwt/f8w5XqcsoDS9/hYt24d33zzjVxm/t/IjzrO8sZd0TxYKvPjKEtF3r3yhqvo+2/6jPg/Ozsbf39/9u3bx5IlS2jbti0ZGRmawY0VfyxoCINqc8NZV+vS+1H8WMJt6Btqw+gz71Ggz9EMEC1dBoMeFLidfxHniKo4PiRZMlp3KuMQomPZFaO1W28o23L7pOGpJCxQkrSonVBNd8JU77ZpbhdMc7tXmm6/bxq3ufBq68HatWtZtWqVDKvOo2l66ryryZBpeNN8mX6q/RjMyUXtpyKeM41P/d10Oa1pXs3JX6Rvek6N6dkyavmb7lBrKf9qi5KoT3MyVMdvKe+iozCVrSmRVO8Oq37OtM4UxbjHja+vr3TuFvVhLv6HkVlZMK07U9matifTd8Fcm1DnSS0LU+Vu2h7UZVLft5QX0/aubgvqdE3fJdP6Vk/TWpKx+G7uf1O55Ofns2LFCn744Qf8/PxISkqSz/4WxNOKslFSsetRDMUlL6X8B5+a68/VbXz/riDslryB0xkdA8Nsyk0ahFVFvQ/KrlsTjGmUcx8Wg2IkLQvibTVWlvJYetTpD4yoRJ9QHWfS95Yr/ScRTy1hETBVtuaUubnL0jOlfbcUt/qeue8Pk8fS8meJsJQVt2mY8pT5YcrwKHGVJ97SyvEwsijvM+WRgzo/pt8rmmdLz1lCafkrK/3fur1UJH9l5elR7pVXJuK7JTlb8d+Hpq4UI1Ep+xmDMZyZtmEar6IoGvIK8MsvQXTp2pl2rTux5dAyBp+pwoBQGxUJKB9pGRRRib6hOjyi3iS7OBXl/tlA5YEgFtdyIugXYoNjeCUGRtiUe2pITZb8LjRHnPr8tE0HwR+AsDxJUL8QplYIayf3x4W6jq3nzfwxYFqnppYla93+l6EogKiTB8rWoEBOahT3Li0m7dICMq4sJP3yfNKurCIv85Lqcf39OMwTdVOLSmBgIO3bt6dDhw5yVRhAQKIP9qd0OIbaMDDcRlo6zFo2JFmxYUCYDseoyiQUHUUxGKdjRF4sF1lFpAzFoMDx7IX0DNUxMLwSgyJsNOlYSt/5Plkae6EGuSQby6ron8o2bCUsjxFljdat+GOioiN0K54OlNeaZsVvDEW5byERZMVIXTJubOb2sTqk/lqFjF915B7RkXfUeGUH60j59XmSTrQmJ+UkCuJZbZ2aWlSCgoLo0qULbdq0kYsdwEhoivTGlYM7b47H5VwVHCN0OIXqGBhhfqmxU5iOQeGVcDipY9iFF/h28PtsXGPcA0k4qIu8mC/2g6lUsZBj/Ghv7Hz+iet5HX1OGuN3CrO8Isk5ojIOp3S4n3seh9ENOXzwBKA9q+5pas9WwmKFFVZYYcUTD8Vwn6zos0mLdiD9Vx2GEB1E6iCqEkRVVl2VIEJH4Qkdqb8+S2bc2PukRY+iGMptUdH6WRnQ6+9vHbCwNX1+fY7BcTr6hetwNLFwOIbpcD6jo3e4jgnnapGQf5xL525Q8/0acosKS6RFTY7VZGXkyJHUr1+ftOQsTqWtxePM2/SJ1OEcY0xPk364jj6hOnqG3E+/4DgXYq7wdZ2vCA42rsRUrwB9WkiLlbBYYYUVVljxZOK+dQXhi6LPRYlvh+GkDiIrQWQllHCdxYvIyhChM4a/ORIAg+GBdcGSRUXtMC+UuXDm3rNvN9069iI19yYOcz/GI+Q9XE//CccwI1FwDNfhGvksgwLeoOe0Lxk97sGREQkJCbz//vusW7cOME9azJEVLy8vGjRoQGFRoYyrp2NHnJbWpn/AC7hF/8k47XQ//UFh1VhwqxnO85swcvSDDRTj4uKoU6dOiSNI1Ok+ybASFiussMIKK55cGM0qxq83POCUDiKqPiAlEbrSv0fYQERllBAdSoqRKAQFBdC+XbsyLCpaS4der5eHr964dZ24C5dp+HUL8vJzScq7QHzmES5lH+dCejBpRdfp06sfi+au5MsvvuLylUsUFxkJz7Vr13j//fdLtbSYWlYaNGggNyTV6/UEBh2gedNWeI/1YdKkidzTX+F82iEuZx/nUtYxkvMSALhzI42aNT7g6rUEmf6lS5eoU6eO3PPqabK0WAmLFVZYYYUVTyYUBQzFRh+WzGAIq4wSXrkEKSGi5GVKWopDbFDi38JvSneaNW/Dnj27ZTKmFhXTS1hXXF1dmT9/PgCDB7syc7avMQL1gp/7M02rVq1khOdwpk2bJnd+FpsclmZpMWtZub/ztrjfunVrlq9YRtduXTgddfq+rLSiE2FHjBghD1sV6T+tlhYrYbHCCiussOLJg5gOur+ihkvtIUQHEZXAAkmxeIXrUMIrQZiOlOOfyiQsWVSMyWungvbu3SuPsLh37x5169bl1q1b0rfFoBhX3+gNRRgUA8nJxjPhLl++zMcff8y1a9dQlAfHv1iytJizrMADS8iJEyeoW7cup06dolWrVhjup683PMiD2k/n/9l777gqrvz/f8BsyW6yu9/tn8/uZ3+7aZ8kZlOMMfYCiiX2XkAjIsUCgoIdo8YaS2LviTWWaGwxlhi7tAsqFiyAKEjvVbh3zvP3xzCHuZeLokZj9nNfj8c8uNw7M+fMOWfOeZ13TU9P55VXXqlW/k9R0uIgLA444IADDjx90MmKAMpvw7nfQ6Ty4GTFpCD0v5FOcOE3iLJEjaio9yYruuSloKCAFi1acOPGDYQQrF27ViYMNQYv1K/VSU7Pnj05fvw4M2bMkFIW3UUeqktadHJiK1kxejO1bduWrVu3smDBAkJDQyXJsWe4q5djlLIYy/+pSVochMUBBxxwwIGnE8IMCCg6pZGVByQq1VVETpotS+4+Tc2kVk9gWZMqaNmyZfKcDh068N1338lzbMmCTiDWr1+Pl5cXpaWlvPDCCyQlJVlFe4YqSYue4yowMNBKsmKUAoWFhfHGG28AWtb4CxcuSPdsewRDL8soZbEt/6ckaXEQFgcccMABB54+CKERFiEg63OIUCDK+ZFIC1HO2n0yV1Tev8JOsdaqoG+++Ybu3bsDGgGIiYmhVatWUuVSE1EALcHm+++/j9lsZvz48Xh7e8t7GwnR9evXcXFxYcCAAXTr1k0mljWm0QAte/yGDRtISEjAxcUFIazzEdk+x72kLMbfrl27xvvvvy+Tuz6tkhYHYXHAAQcccODpg6pqhEIISJun2a9EPfOIhKWORlgylmplCGsJiz2voObNmxMfHy9JSEBAAHPnasa2RmmE8R5GMtCnTx/27NlDYWEhL774opRy6GREN4QNDg5GURS2b98OaAayRgnO2bNnee211wCYOHEiU6dOtasOsoU9WxZjvi+9nleuXKFBgwacP39efv+0SVochMUBBxxwwIGnD0YJS8GRR1YJaYezRnyyN1fd36pIa7Lh5+fH8uXLAW3hLyoqonHjxiQnJ0vpRk3QF/wNGzbQv39/AEaNGmUl5dBtVMaMGYObmxsxMTG8+uqrbNiwAdAMcXVi8cEHH7B0qUa0mjdvTmxsrKxXzU14fymL0dA3PDycBg0ayHvr1+n3+rHhICwOOOCAAw48ndATBJacB9MzmsHtwxjdGtygLeEKloKoSiek6ka3Rq8gXRWkSzs2bdrEgAED5Hk1SR+MqpqMjAyaNGlCQUEBmZmZUsqhE40pU6bQpEkTioqKAEhISLDyHrJYLISFhVG3bl0qKiowmUy0adPmnuogW9zLlkWHkbS89957XLhwodpz/tikxUFYHHDAAQccePogRKVaSNWIy+V6EOH0CHYsmsEtt94GQLVYsJitVTq2XkEJCQlWEohOnTrx7bffVjO2vV/8ln79+vHll18CmpRlyJAhAMydO5d69epRUlICICUuuvfQ+vXrAXBzc+PTTz8FNHfnadOmWamD7B229bqflOWnIGlxEBYHHHDAAQeeTojKwHGAqLRjEaY6VUHh7usVpJ0johQskc5wXmHllL+xc/chWYTRC8eeV5AeH+XixYu0bNlSZu3WFnkVizBjEVUxUFRhkd9VVJRLtdDAgQMBzSuoWbNmjB07lvfee4+srCxZD6giB4mJibz11luMGzcOV1dXiouLMZvNuLi4SO8gs8VcY/mqMKMnfNQNd+9ly6KjtpIWeagWhMVc/TBIf34o6YyDsDjggAMOOPD0olLKIiwliCsNNLdkI2mJqh7tVuYTkp+dsYQrqHH/H9u3rKLB+4344IMOHD58WBajG78avYLMZrNcwEePHs2MGTMAqKgoRxXVXaKrQYAqzGRmZdK0aVNycnIA6Nq1K88//zzFxcVAFVmxVUulpaWhKAqBgVo+oDNnzuDm5oaqWjBbym1Ls998wvxAUpbaSFp0onLfx1e1WDf8QKTFQVgccMABBxx4OiFsot0WR0L07zQ7lujqIfrt5xRy0ohMhILIrcobtGHDBho2bEirVq04cOCAdvviYpo0acL169etPHmKioq0HEK3b2MRFhl+P+duMsczV/J54ocsudGZZTe6suRGVzYn+RGR8yXF5hwZMr9nrx7s3buXRYsWUa9ePd5//32Sk5Ot3KON0hCLxUJMTAzvvPMO77zzDnv27GHmzJlMCp2o3VCtZfmVzagK9b62LEZCUaOkxeDybDGXU3Q1jOx9C8ndN4/c/fPJ2fMJOYdXU5p6o6ob1ao4MY9CXByExQEHHHDAgacbonLRA0ThSQrP/BnzGQVinDTiYnJGmJwMyQ6dESZniHHCEq6Qd+wZRM5mBGA2WycbXLt2Le+//z4DBw6kd+/ebN68GdBUQbqx7ebNm6WnDwIKKlLZmOTLiOjf4R6uMCBcwSNCwSNcsfp/9Lm/sef2VBAqx747yV//6y+0b9+ewsJCgoODGTp0KFBdymGMart69WrS0tJ46623+ee//kF6cjYFFelsSKxd+fvuTMesatIjVbXUWspiT9Jy4VwMABXld8k5tILUkLfI9lAo6qNQ2k87Svoq5PdWyPB6jrQF/SmKO601myFmjYOwOOCAAw448J8H485cNSOA0oJ4MqO6kXdUofyMgogweA9FKajh2neFxxXObf0vyvNOa2RHra4e0TFq1Ch+8YtfVMvgDNClcxf27t0DQHzBWUaf/wf9wxS8ohR8Tc74mupUO3xMznhGKvQ+rbD0TmumzplAHeXn5OXnAnDnzp1qtiS2cVf+/e9/S4Pck6ePoygKGw7M56P4F+l7RmFI5P3L7x+mMONyQ/LKUwAwW8z3tWWxK2kJO0uTFi5cOHWQrDntyemhoA5SwFsB3zo2hzN4KZT1U0hz/zkZWydr7W+xPBJpcRAWBxxwwAEHnm4YA7NVGuGqAgpTD5N1YRiZp98j4/s/kH74WTKP/xe5US2I+qohmxd3ZpBHX0wxlwC1mq2IqqqUl5dTUFBA165duX79Ops2baJhw4Z06NCBY8eOERd3lTZurpgrLNwpvUxAzJ8ZGK7ga3oGb5MTQ6MUvE1Ktb/a4YRPVB08IhUG7Xmelq2bsm/vN1IFY0/KodexY8eOMu6KqqrMnbWADv0bMeCIwmCTgk9UHbyj7l++r+kZ+ocpTL9cnxJzHqqw2M3kbC8nkpS0VHovRX69lpNuCuoQBXycEd7OiKFKjQe+dcBbIau7QsaXmipLWMwOCYsDDjjggAP/ubBeTFUrEqOqgvLSTMqKbnO3NAcBZOeU0rPPYL755lvat2/L3bt3bTx8rAPELV682Kq8L774gubNm/OPf/wDX18/KixlhMbWxSNCwddURyMGVuSg5sMr3Jng27+g7Zzn8BrkB4BFtVSTcuhuyqdPn+aNN96grKxMq68Kbdq2pv+u5wi4/gxDI5xqVa53lEZgfE3P0C9MYXVCX6BmKYs9WxbVomV/vpubzp1RL2P+UAFfZ1SvSlLibSAo9j57O4FPHTL6KuSb9lfes+YYNveCg7A44IADDjjwk0B1OwsLQlT3VjGbNQnClCmT2P311yxbtozg4GCgKpy+vVxBFRUVktQAlJaW8uprr9CsUUsGLngbn8sKQyOcbKQYNR9DowxHpBODIhSau/+T/KwSLJWGxEYphx6HpVWrVqxbt04+c9yFRN73+wU+lxS8wq3vW1vS4mOqw8AIhQt5Gmkor7hbrXy7tiwWrZ1SVw8jq5sCfnWqkRW8rQ8jaVG9FISPM+qHCqmBL2Iuzud+UYJrgoOwOOCAAw448JNDdfKiykOt9EpJSEigV69egJY48MSJE4BGTCwWC4WFhbRs2ZL4+HipjtGNTc1mM19+uYUPBw1GtZjxPvFrvExOeEfVUrpRTcqi4H/NiRZzFXbv2C/L06UciYmJqKrK4cOHqVevHhaLrroRLF+9mA6bFUZcroNX5IOXrREWZzzCFeZfdZExXO5ny6KqKgIoz07h5qBfow5xQngrqPcgK/aIizpUAV8nCvoq5BzSUh2oD6EachAWBxxwwAEH/mNgq+7x8PDAZDIRHx9Ps2bNKC4ulpKMwMBAGUFWly4YF+0POrbn2KGzJKtnGRShaDYjptqrgqwkLZEKw87Xods+Bf+JgwEou1sGQFBQEF5eXgA0bdqU9evXI4SgvOIulnLBoEmtcD+rkY5aS1bsSFq8ohSGRT9LVlkiQgjulmtSltGjR8tM0hUVFVI9ZDFrn3O+W0t6DwX8nFGHWktQanPoUhazu0LarHaat7pqQRUPJmVxEJZawp4PuZEd2jNUsj3n/xrsGXDpn38KuFfdH/a5fsrtATXX394z/NT7/0njQeaQx9Wu/0n9pROQ/fv3M3z4cAAWLlyIr68vAAcPHqRTp06oqmoVZl+Xsly8eJHmLZqCBfanTqNfmGa78qBkRUpYojTCMyRG4f2e/01+Vqmsa05ODg0bNmTZsmW0aNHC6jkSrtyhyYjn8ItT8Ip4SLJiUhhqUvAxOTEwXOFy0UGrMvLy8qhbty63bt2y25YZa0dQ0EtB+NZBeD0YWbEywh2ikO77R+7mpgOaq/ODwEFYagnjy2s0TLI3yegD/lEC5PwnwMpw6wfwwX/SMHoS1LSY2Bqq3evZbK/7qbUH1O49MJ77uJ/3QQjU0w7btq2pvezNNfbO+yHqYCzvpwRjG5aWltKlSxdSU1MB6NGjB5s2baJLly5cvnwZsI40q0tmgkYH8fHMaQgEX8R74R6u4BPl/FBkwdukSVi8whVGXnPmpU4K61ZuIjk5mYSEBFJTUwkJCUFRFFatWkVKSgrx8fEkJyfzycxPecNPwf+GM0PCH65sXcrjHeXMwEiF3ddnk5yczK3kJJKSkkhNTWXQoEEMGTKE1NRUkpKSSE5OJvn2LZKTk4mf5kbZAE1K8iBkxUrK4u2E8FLI9v4NZRlJlfYx94+Wa0StCYtxIJvNZqvDVpf4pFDTovG4yrGdjG3bwWhEZE/68jTC2IY1Pc+j1P9eu8PHVeaTQm3Gg73v7cU7eNzPe6/31zbK5pOAcTf7pOpiHHf2NhX3Wvyf1FzzIDCWb9uOts9S05xt79qnJdHdo8JIPmbNmsWSJUs09UZODr/+9a9ZsWIFUGWEC1XEuqCggEaNGpGcchshBOsTfwDCEqURluFxCi18/8if/vgX3Nq64eLigqurK2+99RaKotCsWTP5XRu31vzh//2R9jOfZ9iVR5SwRGnX+1xU6DrhFVq3bk3rNq64urrK8n7+85/TsGHDqvJdXWndujU7uvwBi5fyUOogKWnxdkIMUcjx+S13M7V2/dEkLPcSZ95LzFib7x509/RD3Nu2DGOqcN1wyx5KSkr49ttv7d7/p4iHaTd7u7SFCxfKJF8P23+17av73a+2Y1MnFrt37yYsLEx+Z3yumzdvypDV9yrbFocPHyYjI8PqXj8mbMl2TW2mP39ERAS7du0CICsri9LS0mobFyGEVRueO3euWlm1rUtN77H+f3l5OXl5eXbrYLyupnLs4Yd8d+835oznlJeXs2LFCsrKyqrVXb9Gr/vp06cpLCy0W2Ztnq8mJCUlcfLkSQArcvdTg173a9eu0a1bNwAiIyN59dVXCQkJAaw9Y3Ty8vnnnzNo0CDtJgK+uh3MgDAF36g6D01YvE0K3pFODDYpHLm5nLYuncjJzZZ17du3L3Xr1mXSpEnyu6vX4+jo1oOvkkMYEF4Ze+URytcNb6PyttptL39/f0aPHl3t+7TFHhT10dyZH5SsWBneemkRcMsyNNVTbfIRGVFrwqIP/lu3bhESEsL48ePx9/dn6dKl8sXSdy46YzfuRPTvjcxf/99216LvEIx6RX03rn+vXwdw9OhRLl68KH8z3tt4nvEe9nYgxvrr39tOvFOnTuXkyZOUlJQwadIkQkJCCAwMZN68eXJBnjZtmiQ1ttEUnzbozxUZGUlAQACTJ09m0qRJBAUFER0dDWC1a7NtG3v9rf+uW9qbzWZ69uwpRbL6PW7cuMGoUaOYNGkSkyZNYsyYMZw/f16eY28cGMeH3oe2Vu22/+v10seCcUzYG5v6d2VlZZjNZmbPns22bdtkW+gLhqqqBAcHc+XKFQoLCxk3bhzjx49n8uTJBAYGysRqU6ZMYezYsUyaNInAwEDWrVvHkSNHmDVrlqzX414QjO/RggULCAoKIjg4mOnTp3P79m35m/7sRr2+8X3VY1ns2rWLjz76CIDhw4fz/fffy/YxXq8HqJo6darM12IcK5s3byYwMJAJEyYQEhJCTEzMPeuiP4t+Dz2T7smTJ63CnBvfZ+OzA8TGxlrVRf99165dZGRkyGe1nW8AIiIiOHXqlHw24/jSy7D939h+9qRsRkmjqqoUFxczcOBASkpK5LPaI43nz59n3LhxlJeXs2/fPkaOHMmECRMIDAzk2LFj8v45OTlMnjyZCRMmEBQUxIIFCygoKJD3+/rrr+W7P2HCBMaOHcv169cJCgoiPT292jP9VGA7d/v4+LB7927at2/P9evX8fb2lq7DtkHb2rdvz3fffSfvcSJ9Nf0f0ehVv+7DMIVibjF0sB9r161GVVV2795N48aNSUtL4+WXXyY+Ph6LxcLkKZP4ePJcrov99DldWf4jqYQUhkQ6kVQUrT2varZ6z1JSUnjppZe4c+eONi7LtdQEmTtnkt1DQRhcmh/Y6NbbCXWQQvr4t7GUlz3UZq3WhEVfeL/66itat25NWFgYx44dIzg4mN69e1NaWmp3ca5pErZXUXvn3msi17NrfvTRR1KqUdN97JVnnEzuVRd9EMfGxkr2e+7cORo0aMCZM2c4ceIE8+fPp3nz5mRlZZGRkcGoUaOqiWafRugLyqJFixgxYgSRkZGcOXOG06dPk5mZec+2rKkP7V3j5eUlCYte5vbt2+nXrx8RERGcOXOGM2fOkJWVVas+ud9vtWnz2o7N1atXs3PnTsA6Ff2RI0f47LPPAG1suLm5ERYWRlhYGKdOneL27dtkZWXh6upKWFgY4eHhnD59mkuXLgEwceJEEhO/F/t+AAAgAElEQVQTZZmPc5zoz5Sdnc2///1vDh8+zJkzZ1i9ejWNGzfmxo0b95w8bH87deoUc+fOBbT3sKb66309Z84cSeCMxLdFixZ88cUXhIeHs3nzZpo1a8bJkydrnMxqaiPdBfReY0efn/bs2cPPfvYzKTXT6zho0CAuX758z+dYuHChVCXcD8b7PMj8U1xcjK+vryQstvfUx19oaChxcXEADBw4kNDQUMLDw9m7dy/t2rVjzZo1ABw7doxGjRoRHh7OyZMnmTx5Mj169JAh3319fVm4cKF8D0+dOoXFYuHQoUMsX665oBqJ3U8NOhE8c+YMv//972WuoPT0dJo1a0ZCQoKVdCUyMhIXFxeNEFfGKikng9Fxv2VIxCNIV6Kc+DDSibHn/gFCsG3rNvr16wdA48aN2bRpE6ClCNA9dlq5tOScKZZCkczQyDp4PayHkF5+hBPjY//FXUuxfMeM0iWAkSNHMnLkSEDLGQRQFHea5N4K+Dhp0pJaGt4apSvC15nSvgqZ67XM04/VrVmfYHbt2sWoUaOsfuvZs6dk9GvXrsXPz49x48aRlpYmG2Xz5s1MmjSJjz76SBo6HTlyhKCgICZNmsTBg5rVcmFhIVOmTGHYsGGsWLFCNmZiYiIhISEEBATg5+cnxZWgTSLdunVj6tSpbN26FSEEBw4cYMKECYSGhmIymQC4dOkSAQEBeHt7ywVICEFycjKhoaFyl6/f22iDIIRg3rx5HDlyBFVViY6OZsCAAVbtMHz4cFatWgXA5MmT5WTyuBejR4E+iS9fvpyNGzfaPefWrVsEBQXh6+vL3r17ra77/PPPZX+np6fL/i4pKWHq1KkMHz6cadOm0bZtWymB0q/duXMn8+fPt1tmdnY2EyZMwM/PT+qedanHokWLCA0NZd68eVy+fJn9+/fL6xITEzl48KAcNzExMbI/16xZQ2hoKBMnTuTmzZuAthBt2LCBCRMmMH36dJKTkwHYsmUL3t7ejB8/nl69erFv3z6gapcMGlE+d+4cQghiY2Px9/ev9hx37tyRO38j9F3VkiVLrBbTxwV9/GVmZtKuXTur3+bMmSODaiUmJjJ16lQmTpzIypUrrcjFqVOn8PPzIzg4GE9PT0lYvvrqK65du4YQgujoaCZPnszYsWPZsGGDLHfWrFlWhEVfwLt160Z6erqsy7p16wgICAA0z4V58+YRGhrKrFmzKCgoQFVVioqKmDNnDtOnT2fevHmYzWaysrI4cOAAQgiysrKYOnUqH330EcuXL7fK0QKaesrf35+goCBu374tx8qIESPkO2s7D+n1/fzzz+nQoQNTp05l+/btnD59mhMnTsh7nD59mqioKPn/sWPHSEhIAODEiRP4+/vj7e0tJVJCCG7cuMGUKVOYMmUKX331FRUVFXh5eVFUVARoEVeTkpKsJACpqamMGTNG3mPEiBEcOXJEtmNCQgKurq6ARliGDBli1edt27aVEtTRo0dLdZ0RxcXFjBw50krd9zTAKPnWDouWI8j2qIyGq/f7hQsX+O1vfyvHEcCBAwfo2rUrULUBHj58eLV5adWyz2n/6c/wvaQZzz5I4LiqaLN16B+msDtFy6uTmppChw4d2LBhA40bN5bvWmpqKu+88w67du2iXbv2Wp8LWHy9o2ZHUyllqY2kx175e1JCAaR0RYdRyvLyyy9LKYtqMaNaLCRNeI+S/lVRbm0DxNkjK/pfLW6LE5mDn6UkKbZynXjwzfwDE5adO3fKCUVHhw4duHDhAjt37qRbt25cunSJNWvW0LevFga4oKCA7t27c+nSJeLj48nPz+fUqVP07t2b2NhY4uPjSUpKwmKxMHjwYObNm8eVK1fw9PRk2bJlACxYsIA+ffoQExPDgQMHaNmypZSqzJo1i/nz58t7AXTu3Jnjx4+TkJBAZmYmCQkJuLi4sG/fPiIiIujatatcoLds2YK/vz9JSUmYTCb69+/P9evXrURlAMHBwZKNx8TESHasw8vLi9WrVyOEYOnSpaxbt+6JLEaPAr1uK1asYO7cuWRnZ5OWlkZWVhaqqpKbm0vHjh3ZuXMnsbGxdOrUiePHjyOEluW0Z8+eVv2tExZPT0+mTZtGTEwMW7Zs4a233iIvL8+qzJ07dxISEiLLzM7OxmKxUFRURJcuXVi5ciUxMTH4+fkxcaKWh+LcuXP07duXxMREEhMTSUlJwcPDQ6oGVq9eTZMmTQBtYlu0aBFfffUVQgji4uLIysri8OHDeHl5YTabSU9Px83NjRs3bhAXF0dJSQkbN26kU6dOhIWFcfbsWRo3bsyePXtk3YUQFBYW4u/vT1mZJtq8fPkyAwcOlBK2zMxMef++ffuSlZVFZmYmGRkZFBcXy2sCA7XdxuOWxBkJi5ubm9VvEydO5OOPPwY09cHVq1fJyMhg3LhxfPHFFwghOHPmDC1btuTQoUNERkbSq1cvJk+eDGjjXl8sk5OTuX79OikpKXh6enL8+HEAZsyYYVfC0rFjR44dO0ZKSgrR0dF4eHhIwllSUkJcXBzZ2dmsWLGCiRMnIoRg4sSJrFixgvT0dGJiYjCbzZw/fx4/Py3kub+/P3v37iU1NVWqivW+A9i6dSvLly8nISGBDz/8UO7A/fz8uHLlCqqq1jgPLVu2jAkTJhAbG8vt27c5cuSIJHugzTvjxo2T7e3r60t2djYmk4mWLVty/PhxTp06haurq1QbT58+nZkzZ3LrluaRUVpaKiOPrly5kmXLllFeXm6lHv36669ZunSpLMfPz4/vvvtO1iMyMlL284kTJ+jatSspKSncvn2bbdu24eHhQW6uloQvKCiI3bt3y/cwNzdXtllAQADXrl0D7m8T87hhRZoqicp9r1EtWMzl3L1bxqhRo2jUqBGLFy9GCCFNGUaNGsUnn3wCaO9Ho0aNJHnZsGED7zd8n9Yt27Hr2GqGx9ZhSISTJAG1JS0+Jmc+jFAYHfNXiiqyUSvbd+TIkfzsZz+TyRb1cmfOnMkvf/lLKeESFkFSsYnB4U54RTpjzGH0wOWbsxFCRTW0n962+jtiT8pScO4QiV0UhE8dAwmxT1qsyIqXAsOeobiXQtpKb9kvDzPfPTBh2bt3Lx06dODQoUPs3LkTHx8fBg0ahMVikSLx7Oxs8vPzadGiBbGxsZjN5mq7zxEjRkjRuI7IyEhcXV0pKCggJyeHY8eO0aFDB4QQfPbZZ8ybN0+ee/bsWT744ANA69xDhw7J34QQDB48WC6QoOnQdfE9aPYTbm5uCCHYsWMHX3zxhfxt3bp1bN2qGSXpHVhWVoavr680cLt48SLNmzfn4MGD7N69m/Hjx+Pm5kZ2tmZEtWnTJhYtWgRwT1H1jw2jpKRhw4YEBQXh7e0tVV9r1qxh8ODBFBcXk5eXx5IlS2Rf6qoOvb+bN28uF369b3R07dpV7qT1Mvfv389bb71FYGAgQ4cOZcqUKYCmU9dFojpatWpFUVERly9fJjQ01Oq34OBgKUWbP38+np6e3LlzB9AmI90uASA/P5/i4mIGDBhATk4OOTk5eHp6yt8tFgsdOnSQu2KA0NBQacOii01TU1MZOHCgPCc+Pp633nqLESNGMGzYMAICAsjOzqaoqIj3338fPz8//P39GTp0qLTTSE9Px9/fv5oh7+OAPv5ycnJo0KABK1euZNWqVUycOBF3d3cyMzOtys/Ozubo0aNy0vL09JRSSYBt27bJMRIYGCjVODpycnL48ssv5Tv78ccfy3fUSFjc3Nxo3LgxnTp1ol69etStW7daXXJycrh586bcAIWGhrJw4UKrZ4uNjSU4OBghBMOHD2fLli3Vnl0vc8eOHUybNg2ApUuXynsNGTKElJQULl68iIuLS7V5CGDJkiVS1QJQVFTEkCFDsFgslJaWMmjQIEk2bt++LaUgAwcOtJIEfvfdd/Tp0wchBHPmzLGav4qLi/Hx8WHlypVyU2Urtl+6dKmUQIM2nwYEBLBx40ZmzpxJx44dpdQ6MjKS//7v/+aDDz6gTZs2/PWvf2XcuHGyvNGjR9OuXTuCgoIYMmQIy5cvl1LhGTNmyA2K0e7miUMIQLdh0qLZgpYAsTg7hpwby8m9sYT8hKXkxS8mN2EdpQXxmCuH0cyZM/lyy2YuXLhA/fr15fOYzWZKSkpo2rQp169fZ8uWLQwdOpSdO3fKBIg60Qb49s5s+oUpGmkxOUlJh13JhiQLTgyJVPCKqUNixUmECncrNDXq6tWreemll7RnMdhc5eTk8NxzzxEdHY2qqlSYy0GFM0VLGWhS8K70VrKf8FBXAemSFedq5etpAWzXJd1eSZeypKamam1VUYEKFO8MJaNbZTwWaZtiJ96KUbLiV4fSfgrJo+tSkZ+FULVIxPbKvx8emLAcOHCA+vXrM3LkSCZOnChVBLm5udSvX5/AwEBGjhxJQEAAAwcOJCkpibKyMvz8/ORuVAiBu7s7GRkZWCwWysvLUVWV/fv306BBA4KDgxk5ciQjRoyQO+vFixfz0UcfyUGWkZFB27ZtAU2kvWvXLisjPA8PDynSEkLg6enJoUOHpF1Jfn4+nTp1AjQ119KlS2Vn7dixg5UrV1pNEAUFBQwcOJDSUi3YT1xcHO+++y7Dhg0jJCSETZs2SZ0waNIDPdPm06z/1cnDsmXLpG5elyoJIZg9ezZubm4EBwcTEBCAr68va9asoaSkhHfffdeqvz08PMjIyODo0aP4+vpSUVHB3bt3KS8v54MPPpDEwWgPNX36dFmm/rLOmDGDBQsWUFFRQWlpKaqq0r9/f65evcqNGzcIDg5GVVU5ntauXcuqVasoLy/ns88+Y82aNezbt4/c3FxCQkIQQpCdnY2npye+vr74+Pjw5ptvUlJSQlZWFu7u7vJ5s7KyaNmyJXl5eXKsBAUFsWPHDll3IYQkLHq/Xrx4UZIsY1/bEhsjcnNzGT58uGyPJyFhyc7OxtXVlTVr1rBq1SrNdbNSDSaE4PDhw3Tu3Jng4GBcXV3x9/dHCIGrqyvR0dGyTVavXi0lLAEBAVLFsWnTJnr27ElwcDBNmzaVO9cZM2ZYERadkHTu3Fnu4M1mMxs3bqRjx44AXL16le7duzNq1Cj69OlDu3btEEJQXFzM9OnTGTRokFTVnTt3Tko6cnJyGDNmDEOGDCE8PBywNsbevn07M2fOlH3u4+PDpUuXCA4OJjk5maNHj/Lee+/ZnYdWrFghVZT6XBAYGMi1a9eIjo5mw4YNzJ07l4yMDL777js5j7Rp04a4uDjZfomJiVI1N3fuXHbt2iV3uGazmRYtWtC4cWO5AdLHiD4fLVu2TEp9QCPmISEhbN26lY4dO0qiKITgxIkT9O/fX16fl5dHjx49WL16tew/oxpcL08IIVV5PyphEaJSoqKTFY265N/eTtqphmQffYb8owolJxRKT2pH0TGFjO9+TbapC5fCljN6dCAC7fqGDRtKg1pdyhIXF4e7uzvNmjXjT3/6E+3atZNSD6i0kbJo0XH33pnCsLif4RmpqVl8TPZdnX1Mzvia6uB+ViEw7nnaDX+JLV9o84guSWnfvj1///vfpdpNb/eEhAScnJykBLa0TBtrn81fRqcp/8OwKwqDwmpXvkeYQuBV6/L1dVJrXmuvNXu2LPpYnxj6EYvb/4P8AQrlH2pkRMvarIXsF7r7so+zzNRc1Fvhdkg97mYkaeWolsq+fAISlh07dshQxkbk5eXVODHn5eUxYsQIq0YaMmSInCj1l/Hw4cNyR2KLRYsWSZ05aO6kLi4uclE1uhKDZkCXlpYmz/f397ey0cjIyKBNmzYIIfjqq6+sDOl27NghbVGM1uMjR46UdjnR0dFWuxQd+jOuWbOG5cuXWw2ApxFGlZCxvnqdFyxYwNq1a6tdd6/+PnXqFD169LD6rkuXLtKN16gSmj59uixT/37VqlVW+nnQdO7Z2dlcvXpVtrsuubp58ybTp0/n9OnTbNiwgTt37rBkyRK+++47NmzYAGgLpr7oCCHo1KkTeXl55OTkyOcQQnD37l3c3Nysxs748ePZsWOHVV9mZWXh7e0t63fp0iV8fHys1IhCCNLS0hg0aJCUoOiHEILExERpD/a4PTH0eqamplrZM0REREiiZTabadeunfTU2rt3L76+vggh6Nu3r9VOc8OGDYSGhiKEICAggLCwMPLy8nB1dZXG1UuXLmXGjBmShH7//ffV1Kxdu3blxo0bVnVt2LAhQgiGDBkiJSUJCQl0797dapK7efMmHh4enDp1ips3b0oJi47Y2Fjc3d25cuWKVd/t2LGD2bNnA1q7JyQk4OPjw8CBA8nIyODUqVMEBQXZbcPFixdLCYs+Xnfs2MGmTZv48ssvuXbtGnv27OHIkSMsX76cixcvAlqwsjNnzsh7RUdH07lzZ4QQzJ07l927d8v6FBUVERAQQGRkJD179iQpSZvojSqhdevWsWrVKvm8Y8aM4erVq4A2B7m7u0v1+LFjx/Dw8JD3AFi/fr2UBI0aNUra4Ri9q0Ab+7p9y48qYQGEWklWLEXknncn76iCGq5AtAIxzhBTx3A4g0nBHKaQsk8h+2wjLHdvI4DPPl0g8wuB1q+bN2/mr3/9K//85z85e/as/M24kVJVFYtqBgEDpzfEL/z3uEcofGgnNopXlMKgCIUB4Qqhl98isew0Ny7f5sWXXmD9+vUA0rShd+/ecn7RCZRuP9W4cWOuXLkCwCeffMKbb75JcmIakXkbCbrwX/QPV/jQjk2NXn7/MIUJF+pys+yMLF837rVHWvRnNnoMpaSkABA8ZgxNmjYlLTObvG8Xkzz492T1UCgfoCA+1FyW8dKi2aoDFUr6KqT1f4b0NSMxF2vqR9Vi4VG2ZQ/sJbR161YmTZqE2WyWbp/6b9OmTWPmzJkUFxdTUlIivUzy8vIYMmSI1MPqahgfHx/y8/MpLS2loKCAvLw8evXqRVhYGGazmfz8fKmCWbZsGe7u7mRnZ5Obm4uPj480jNInz4qKCilO7t27t1QL6LsM3SI8Ly+P4cOHS739pk2brNRFW7ZskanGjQvp5MmTiYyMRAghJ3qz2WyVtlw/d/78+dIQ+Wn2FNIn8c8++4zPPvtMTux6nS9dukSvXr1ITEzEbDaTk5Mj2ba9/tZdX7t06cLq1aspLCwkOzubpk2bSpWQXubWrVulXYLRRTQlJYVGjRpx5swZCgsL+eyzz2RMBJPJJBd5o3voxIkTad26tQwt7e/vT6dOnWSZs2fPJjAwUI6zFi1akJubS3Z2tpy89HrNnTtXSouKi4vx9PTkyy+/tCpTVVVCQkKkMeSFCxekxMVIWO7cuUPv3r2tCIvetidPnmTKlClWO6vHBZ0gpKam0qtXLzluASZNmsTatWtRVZVWrVpx+vRpSkpK2LRpk2z3PXv24OrqyrVr1ygtLWXu3LlSouHj48PJkyfJz8+nWbNmxMXFUVxczMyZM6X6bvr06VLtauw3V1dXTp06RU5ODrdv3yYwMFAurh4eHqxevZqioiJiYmKkTUZubi4FBQWAZvi8ceNGkpOTZfj1nJwcKe0cOXKkJFp6/pgtW7ZIl2x9gdi8eTPPPvssGRkZFBYW1jgP7dq1i9DQUMrLy8nOzsZsNlNQUEDnzp0ZOnQoFouFzMxMOnbsSEhIiOzrXbt20blzZ9LT08nKyqJnz56SjE2bNk1K8HS3Zt2gPzY2Fk9PT7Kzs62IxIULF6QKVVeDnTlzRv5+/Phxqar6/vvvad++PTk5OaSlpREeHk6TJk0kSfLz8+Po0aNW41A/dBsc4xh6oqiUriBUhLCApQRxvTPqWQWinSHaGRGl1HgQ7Qzn6iDCFCwX6yHMuWRnZ1H/3Xrcvn2b/fv307BhQzp16kSLFi3429/+Jg2v9QXdVvIwY+bHhIyaTF75HXbdnszk2DfwMf0cr8pcPV5RCj6Rv2RJiiu+i1sRMj5QPk5CQgIvvvgiW7ZsoX379uzevZsDBw7I/tbn3ubNm5Oens7UqVMZNmwYK1eu5I033pB9AdB9QFumf9uTWQnvMDTyZ1blDzM9y4zLjfkufRFllgKo7LrExEReeukluXm3JS22tiy6BmH27Nk0bNiQisp3SAV8enfg/JpQchb3IW3UC2R4PkvG4GfJHPZn0ie+R8aGEIqvR1Z1pT5+xMMbcD+whOXEiRPyRbONSVFWVkZoaCgjR44kKChIJnAqKipi8eLFshH0gb9kyRJ8fX0ZM2aMvOeVK1fw8/Nj7NixBAYGyqBca9eupWXLlvj7+9OrVy8+/vhj+QIXFhYSEhJCUFAQc+fOpaKigmnTpsnO1eu+bds2evXqRZ8+fZg2bZqcTE6dOiVVWwAnT56U+majvv3w4cPSCOratWvS6E1fnPS/FRUVjBw5UhpXPq1kBaqI6K5du2QgMNt+OnbsGEOHDmX8+PFMmDBBEtHS0lKr/ta9QlRVJTU1FU9PT9zd3enfvz9+fn7y5TB6nei7Dds4CBEREfTp0wd3d3eGDx9OTk4OQgji4+PlDte4+zlx4oQMBKUT4pkzZ8rz8vPz8fX1pX///gwePFga3ebm5jJ16lT5vPozz5gxgx49euDp6Um3bt24ePGifDa9fdauXSsXmsTERObPn281DkBTwej2EraTwSeffGIVnOtxwl599OfNzs5m4sSJlJeXc+LECbp06YKXlxfdu3eXhuOgEfuuXbvi6elJ586d2b17N0IIFi5cKG2IvvrqK7p168awYcPo1auXVHVcvnyZ0aNHy/gf+vNOmTKF/v37M3LkSDw8PJgzZw7FxcWoqkp8fDx9+vRh8ODB9OvXT5LbTZs2yQBXEyZMoKysjKSkJGnTsWjRIsaMGcPw4cP59NNPrYgiaO+37tpqJE+TJk2SMWni4uKs5iG9/8vLyxk3bhyjRo1i9uzZ0pPnk08+kSoW0GzmdBsSfaFbsWIF3bt3p0ePHixZskT2y7Zt2+SuXpfyLVy4UN57x44dVoRZV32PGjVKtufy5cu5fv26PAc0uw3d6aBHjx4MHz4cLy8vfHx8ZN1Ak17rdlXG+S42NlYSux9Vra2JVbSPt0dDmAKmn1WREpNy38/C9IxGWuL7oqrQqVMHXnjhBVq3bs2+ffsoLi6mefPm7N+/H1dXV/Lz8602HnqbREdH4+rqSmlZsW5Sg0WYSS2N43rhSeKLTnOj8BQZpVq4gvTbubz4wsvcTErEXKH1y61bt3jhhRd44403AEhLS6Np06bSCDoiIkJK/ysqKvjTn/5Ew4YNZcgHi2ph3/691Hu7PtzVvH3ulFyxKj/r7k2rJlRFlXdjUlISL7300j0lLfo4KC4u5pe//CXt2rWjpKSkSuCwfRu9+7tr9wYqyoq5m3WbssxblBdkoxqGiqYC+mHSPPzgkW5B08/Zi9Jo/N/YMPqO3XhuYWGhleh4yZIlMsiP0VbEeE1xcXGN9TPuDvSdlr361XStqqrcvXuXUaNGSRGZ7XPpA2Lbtm1WYuOnmbDUBL3OxnbTd7XG36F6fxt/Kysre6j2Nl5/v2uN39uWb/t/eXm5VX3s3cv47MYxZfxeCM0uxt/f36pd7gUjmUlMTGTMmDFWk+KPMU5s20qH7Ttm7BN9Ib3X9TX1m36f+z2r8Xfdjsn4fXFxsVU9bK8rKiqqcZ6wd01Nz6HPQ7bf13Tvmsaf0TbEaLN0v3Ywtrt+rtEGzGjHYjyvNu1cU5wbfUyGhoYSHR1ttWA/cQgBqlnblRccg8g6iKg61UgJpuqHLWkxRzjDZSc+Dm5C/QbNeP/9+rKY2bNnS0nrokWLZIJEo+T87t27tGnTRtpFmc0VWETNHqA6UR0zZoxUv+nvRZ8+ffjjH/8onTt0iZuqqowdO1ZKJpcvX85zzz0n1eC6VLRZs2Zs27YVgYrZbL9vBAKLqFx/hPUadS9Ji6qqsu6zZs3i+eeflypUXUvSvn17ok0mUC1YzPZNHoTFrEWyNUhuHnWOe6hcQsaXwVgJ24Fte01tzrXV5esNt3btWukybNxZ11Qn4y5X/854je31NU06xmtBkwps3LhRsl9jGwihuWLOmTNHBn36sV0B7wd7bWDbr7Yqrfv1IVSPOGvb3vrfmsaSkawaP9u7xlie7f/Guhn/N45H28m9pnONZeq/79u3Txrw2Y4He/XVr1u6dKncVT8JlWFN9bH97l5tXdM7Z2yf2pxjO06M/WAk+LZzgb1FWC+vpkW6pnFn7zvb8WOPLNi+0zWdb2xH4/1rqpftZ2N72d5H/72iooJPP/2UvLw8u/W17Ufj2LV9VmP/gSZd0VXuxjZ+ohCV6iA9fPuNLhCugMkZaiAp9zpElBMiSiH95BvcLYfOnTty7JhmV9WgQQOOHTsm26x379589dVXQBVJGD9+vDQjMHp+CiFQK92E9UOIqoja6enpvPLKKyQmJqKqKt9++y0NGjTgwoULvPDCC+zZs4eDBw9Kw+imTZuSkZHB0qVLqVevHufOneP111+XLve6c4o+x2llW5evCuucXMa+u5+kRV9zdcP7S5cu8corr3Dr1i1UVWX79u1SbWulQlTVSjujmst+VDwUYbG3sNX2uN919n4HbcdUVFRUq2setp7GZ73XJGd8+Wsq016dnkbcbxJ/XMejlmnv+nv14aOOy4cZX/eq15PwDDLix+rne7VLTWU/zjrZawN7ZT5s3Yzt/Sjj6l51NP6F6kSutvW8Vxs8iBTosUFUkhUBlN+Gc7+HSOUhyUrl30gFYn4N5LNk2VpGBwVy6dIlK1dnXaXdpEkTKU0/fvw47du3l6T6fhIs23YcPXq0DCDZvHlzqS24fv06r7/+Op9++in9+/fn8OHDDBgwgBkzZlCvXj0yMzMBGDt2LB9++CGgRcW1DbtRmz4y9n9NkhZdAjR27FiaNm0q/x82bJj0GGrTpg0mk+lHmcd+MJXQfzLsTQ73OudHfckdeOyozXi433W2/1qlGbcAACAASURBVDvGiwO1xb2IzE/h/g9WGTMgoOiURlYekKhUJy1OWMIU1KKDpGcW0b6dli1Z93w1Olls3bqV/v37U1BQQPPmzWXcsAeROOmSr9TUVN59912WLl1Ko0aNZC4q0Axx3377bf7nf/6H5s2b88c//pEPPvhAqjx1Q+769eszd+5cmjdvLqVkRulYrZrTcK6tpOXzzz8HNDd9nazoJC45OZn69evzySefSC/DH0Py9tQTlqfl5XmQ3VlNuy4H/nNwv/FQ0zVPy3h24KeLxzmOHmZcPzYIoREWISDrc4hQIMr5EUmLMyJCwXxHM3oOCgrgV7/6Ffn5+QhRpTrTF/MpU6bw7rvvWhlp17761tKMefPm4eTkJB06jPZMN2/epF69eiiKQvfu3aVkw3jOokWLUBRFRpW2TYr5oPUy1u369eu4uLgwYMAAunXrJu1KdVd60AzJn332WeLj4yWRedJ46gmLAw444IAD/wehqiAqNMKSNk+zX4l65pEIC1F1EBEKFXc+QwiVhQs+sYo0a7uQHzx4EEVRyMjIsLKLq60KBqoMdw8fPoyiKDIDti6h0G1kJk+ejKIofP3114BmO6PXRVVVTpw4gZOTk9X1DwNbMqqXHxwcjKIobN++3W75+/fv53e/+92P6iTgICwOOOCAAw48fTBKWAqOPLpKyKQgTM6IcAVL9mbMFmjt2ornn3+e8PBwq8VZVVUZT2fx4sUylpLRKLy2pEUnJj169OD1119n7NixgEZkdI/FqVOn4uTkxO9+9zt+/vOfy3AJulcOaIbAr7zyivQYehQJC1h7A40ZMwY3NzdiYmJ49dVXrbyH9Pp3796dl156SQYSfdjyHwUOwuKAAw444MDTCT1BX8l5MD2jGdw+pNGtbnhbfkbBUnGN749H0PGD9ixcuFAGbjPalnh4eEjj2ICAAObMmSPPuR9pMUpqhBDs37+fJk2akJaWxssvvyyT/YKmdmrSpAldunRh/PjxdOrUifr168tAixaLhaNHj9KwYUNSU1N55ZVXSEpKsvIMexCjW7AmKyEhITRt2lTazOjB7fS4XBaLhf3799OsWTNu3bpFkyZNKCwsrOaZ9iTgICwOOOCAAw48fRCiUi2kasTlcj2IcHoEOxYnRLgC8XUBcHfXAhWWlZXxv//7v1LVAvDFF1/IKM/l5eWUlZXh4uJSLU3B/WwY9fOaN28u3YdHjRolDVdnzZpFixYtOHv2LN27dycrK4t27dpx5coVXnvtNRlY083NTUZfHzVqlIzrYhuZ2NZ20p5hv5Gs6N5AuqRH/xsXF8c///lPmfKmYcOGsv4jRoxgwYIF1cp/EvhRCIv9BrYgVLP1ISw1doQDPx5q3X+qmcfhk2+vfFVYsAiz1aGKx1O+A48Gx/hxoNYQQgscB4hKOxZhqlPlplwbV+bKz5ZIJ8R5hVVT/8bS5eto1qwx+fn5gBbITZeg3Lhxg2bNmpGTk2O1uJ89e5a2bdtapecQQjWMl6o4KBZhpsJcjkDwzTff0KBBA2nAmpKSQtOmTRk7dizvvPMOxcXFTJs2TeY669q1K99++y0pKSm88cYbjBs3DldXV4qKirBYLKSlpRmkLFpSRnvl245fsC9Z0Q18dXKl/x4VFcWbb77JpEmTaN++vVQPJSUl0bRpU03KYrGgWsxakDjbo4bwH4+CJ05YrNlfZX6I+17zw4X2deDRUN174P5W86LyxbG9/tHLV1FrUb4qzKiO8fNUwDF+HHhgVEpZhKUEcaUBwpa0RFWPdlsVkl//7IwlXEG98j8c2LuRl156kT/84ffSwNVkMtGgQQPMZjOdO3e28uQxGuF+9NFHTJo0CYBy891717tymDRp1pitW7XUCrr3Tbdu3Xj++eelaqVFixacO3cOIQTr16+XQeRSUlJQFEUmg9UjLI8eHcRQb6/K9rlP8wkzAnFPyYqtxEg/78qVKyiKIiUqevkBAf7Mn6dlYr/XCi5US7Vot4+CJ0tYhEDvRSNRMZcXUZB6iOxri8iLX0p+wlJybyyiMPUQ5nJjGHD9GlF5LweeKKz6r+otMVeUUJj2HdnXF1v1X17SVspLswyX24+KW/viq8pXDfcqsxRwOf8Qh9LmcSR9AUfSF3AobR7h2ZspqEiX56nCIicRx6LzI8Axfhx4UAhRFUAOoDgSon+n2bFEVw/RbzenULQzIlJBjVBQc74BoFvXzoSGhuLm5kajRo34/vvv6dKlC927d5eExDZytS5ZcWvXhmNHTwCQVXqL45kr+TzxQ5bc6MyyG11ZcqMrGxJ8uFy+l627NtKikRtCFdwt1wjOggULqF+/Pu+99x45OTmcP3+eNm3aSJuQjIwMGjduTEVFBbGxsbz99tu89957MvN8hbmcrIwc3nz1XUxxJwnLX8e6hEFW5W9O8iMi50uKzTmVzSioMGvkpCbJir1nPXHiBP/+97957733pHrIXF5Ocmo6TV3cyLiTTFl8FFl7F5C7bx65++eTs+cTcg6vpjS1Kgu7lk/o0d3knxxhkZWtrDxQXppF9pVpZJ54idyjCoXHFEpPKJSeVCg5rpB/TCH9+EtkXZlGeWkWAv3Bre/pwBOAnf6ruJtPdtws0k+8TM5RhcLvDf13QiH/qELG8f8h43wAd4tuVvafIbfSA/Rf1TVgqZy8is057E35iHGx/8IzUsE9XMEjQjvcwxU8whWCz/8XG28OI7MsHtAShd3PYM6BxwDH+HHgUWAYN6LwJIVn/oz5jAIxThpxMTkjTE6VUhUnhMkZoutAtIL5rIIl6neYM9YjgBMnjlGvXj1563Xr1tG8eXP+/ve/849//EN+ry/aej9bLBYEKldir9PLvSMbb/oxPPp3uIcrDNDHTrg2dvqHKXidU+i2S2H+9wOpsGhkZf6CT6hbty6FhYUyeeeCBQtk7iDdxbh3794cPHiQXr16sXLlStLT0/nXv/7F+g2fA1BQkcGonQ3od1jhQ5NWnrF8vT6jz/2NfXemy/JDxo6pUbJiz/amUaNG7Nmzh7i4OP7+97/z7Tea5Kk8M4lvBr/JZY8/kD/kZxT2Vijtpx0lfRXyeytkeD1H2oL+FMWd1sqoIT3Hg+DJEBZ9ZyOENuEAFbnHyTz5KiUndBasQEwd7YjW/2qhlEuOK2ScfJWK3ONy0jLe04HHDKv+0yYNc/E1Mk79m6JjleGu7fVfjJb6vfSEQvrRv1GatvWhFh19ZyyEwFKpz04piWVi7P8yIExhcKSCt8kJX1MdfKwOZ4ZEKQwIUwiI+QtnszUDNsei84ThGD8OPAqMO/PK9aO0IJ7MqG7kHdW8fkSEwXsoSvu/7JRC8ZlfEb69ITs3Tqi8mcrAgQOZNWsWFotFEgSLxUL9+vX5y1/+Qvv27Tlw4IAsviqqrDZ2ku9GM+zsn+gXpuAVpeBjcsbXVMf6iK6Dd5QTfhecGGhSWJziwrwlM6n35ntkZmnh9lNSUqhbty5169blypUrCCFkPp+vv/6af/3rX7i4uEhJSOLNBN7433os2zGDKTdeZHCMgk+Mgk+UnfIrx69npEKf0wpL7rgy6eNgmjdpdU/Jiv69EFW2N7p6yBQVyctvvMP3q2dxx/dPlAxQwEuBoQr41rE5nMFLoayfQpr7z8nYOll7d+3k9noQPEEJC1A5WVF6GdX0nDbIYupUMWN7h8lJOydCQTU9B6VXtHuoVeJZBx4zhLDuv7JE1NhXNIv7+/VflBPEPAORCmq4Arlf25DO2hQvNKlw5c44rTSOkPP/ZGCEUvliOuFtUhgapeBtMhxR+kL0DJ6RCoMiFKJytBwcqkFE6cBjhmP8OPCoMLS1qCQOqoDC1MNkXRhG5un3yPj+D6QffpbM4/9N5tnGZF+aQGluNPmF5fTuO4ibifEUFRXx2muvkZ6eLgkCaIkNly1bxvjx43F1dcXFxYX27dtz+PBhq2qkll7BP/pPDI5S8It+xmq86ONnaJThc6TC0AgnPM8ptFulkJSSAEDZXY00hISE8Nprr2nPU6kSEkJLovurX/1KJmAsu6vZvkRcPULbLxWGntfua7dMq3HshE9UHT6MVuj8hUJ2nqbiNFvs54oySleaN28ucxbdLdPKj977BUcbKwgvBeHthDrUCeGtIIbaP/CtA94KWd0VMr7UjIqFxfzQ786Tk7AICwgVylMRF1+rDALkXM2S25qsVH2PyRkiFcTF16E8Fenq5pg0ngxEpXuhuQBx6S0tTHal4Zu4R/9VWevX0frv3J/hbqJ2L7X2/adlH1UpMecSevF1BkYo+JjqaC+n7UJjcwyt3AUNjlTwj/l/pJddQwjhWHSeJBzjx4FHhK3BtLHvVVVQXppJWdFtysvy0MOD6JZSkRFhjB49mvnz59OvXz+gyoX32LFjuLm5AZonUI8ePQBYv349DRs2pGXLlhw6eJgKSykfXfo3HuGaVMM+QbB/+EQ9g1esM5/fckeogooKTZIyf/58fvGLX8hIurqE5dSpUyiKwsmTJxGqRiLKKoqYdf1dhp6vg09UnfuWaVv+kAtOrE3qr5F3YalGVHTbFaN0RbVYsJg1j5+7uencCXgJy5A6CF9nVK9KUmIgLHY/ezuBTx0y+irkmzSVkmp5OHfox09YtK0NegAgkTgIwu5v5W37vTaB1dGuTRxUeW9L5b0dk8ZjhRBQ6U0hUmdZ9Z940P4LVxDxvSq1BBZtm3Sf/tPcTrXy96SE0j9M2xnXZrGxXXQ8whWW3OiEqEzHLlSH18djh2P8OPADobpLugX7nqZVv+kePitWrOA3v/kNMTExMuuyntgwLi5Ouiq7urpy8uRJQFOPrFmzmkbvNcV9/tv4XLaWbNRm3FRJW5xwD1O4kLcfhKC8opxevXrRunVrgoKCgCoS1aVLFzp37sywYcP0x2H/nY/pe1YjS7b3rm35HuGV5VNdtWmUrjRr1kxKVyoqjYVTVw8jq5sCftXJCt7Wh5G0qF4KwscZ9UOF1MAXMRdX5W16UDwhCUul+ubuLYh5HqKcHipaoRbl0Em7x91boE9aDjw+SMIpoCILzv8NIp20fnjY/ov6GRSbKu9/7/7TB7YQgvzyNEaf/zOeUU54Rzk90A6j6uV1YmhUHeILzwLW3iIOPAY4xo8DjwnVyYtqOKxtMlRV5caNG/zyl78kJSVFLpa+vr4sXboUqDJ4XblyJZ6enmieNZr9RmlFIb6nnsfL9PBjRye88660RAiIiAynwwcfkJWVxcsvv0xCQgKqqrJv3z4aNWpEQUEBjRs3JjsrB7MoZcy5vzI44tHLn3/VpZLEW1DVmm1XtHxFms1QeXYKNwf9GnWIpgJS70FW7BEXdagCvk4U9FXIObQcqJKyPAiejIRFTxGetaZSFOz88ITF5KzdI2uNdk9Re122Aw8JPVZFzpdaAjLTwxNOuUu+M6XSiK7cboAhKxc7VXMvPJP1BR4RCj6m2u9wqr+0dXAPV9iVrOXjMO4yHHhMcIwfB34E6P2vG43OmTOHtm3b8uGHHwKwfft2evfuDVQlKBRCkJeXR+PGjcnIyEAITRJzMf8bPCvJylBT7SVzVkdUpZFuxM9RKWTWx3MIGRsMgL+/P0OHDgW0qLJ6Lp++/fqwY/Nu7hCG+xlFK/9hyjaUPyz6WbLKEitVTVW5k3RJVLNmzfjyyy81G5+yUoSqkvPdWtJ7VEpXhlpLUGpz6FIWs7tC2qx2Gi1QLTK+UW3xhAhLpa45oV9lxs1HSBEe5azdI6Gf9b0deDwQBlKYPLay/+o8fP+ZKvvvaosHrsr25CDcw7VF46FeWJMmTh0YoTD7SkO5E3vS+TD+T8Exfhz4EaEvxkVFRbRo0YLCwkImTJjA+PHj6datG8nJyVIVottwAAwbNoxPP/1Uu4mA/XemS1XiQ5EVk1JJdJzwCFO4UXqUbh/0IeacJinMysqiUaNGLFy4EFdXV1n/3Xt2McR9GGdLl9Ln9KON3aEmjawPDFe4XHTQbnsdOHCApk2bVvs+Y+0ICnopCN86msHtA5AVKyPcIQrpvn/kbq5m/Cse8N15/IRFzwUBcKWhJh15GHGwJCxO2j2uNNTuKVRwTBiPDwb7I65/8MiEU1T2n7jyPtnZ2aSlppGelkZ6errdIy0tjbS0VDLSM5h3xUXbIVfqcB/ucGJQpML0S29LrxHHDvkxwjF+HPiRYDQi3bZtm8wNBPDMM8/IPD3GAHE6cYmKiqJ169aaG7yATTd9NLL7CGNnaJTmNeQTqzD/gBetmrhx63YSSUlJpKamEhwcjKIorF+/npSUFJKTk4m7doUmDVox42Q7PGMUvCMfXB1kLN87ypmBkQq7r88mOTmZW8lJ2t9bt0hLS6Nx48YsXLiQlJQUkpKSSL59i+TkZOKnuVE2QJOSPAhZsZKyeDshvBSyvX9DWUaS1uaWB1OpPiEJS+ULrRMW0yMQFpMtYXHEYnms0GR32ufr7atUeg+94Gh/zZG/ZrjXB3Ts2JmuXbvQpcs9js5d6Nq9M16Hf4P3Oe2lf+gdsknbIX98+d1qum4HHgMc48eBHwG2RqS9evXi0KFDgOb906ZNG3x9fWV+H2PWY520tGvXjmPHv0cIwRcJnj8IYRkSrjDiqsLrPZx49ZXXadOmNa1atcLV1ZW33noLRVFo2rQpLi4uuLi44ObWhhf/9RKNxiqMvKrgFV47r6SayveKUPC5qNB1wiu0bt2a1m00F+7WrVvz+uuv89vf/hY3Nzdc/v/2zjxOqurM+6eqybxjxmSSzGRmXmd8XxdcojEalXdkURTQEFQWg2wNdAO9AYIQI4sLETU6LCpuuCTRRHFBzSIKIqjQoPRS1c0ia0ND2w3d9L4vVXXv+b5/nHtv3aquqt6k6Yb7+3zup6qr695z6p7fPed5nvMsQ4YwdOhQbh06lGHDhvH+qH9BSxKd2g6yLC0pLuQMQWXqP9NSVmhs6fZkC8uhYd/eltChYeqajoXl1MIW4cHRxG/BpC+UL0LOORAo6VBXHt13DQlZSsvttIbsURryo3uvRoVG4pj0TyUc/jg4TTAFjwMHDihriaaRl5fHgAEDaGpq4r777mtVddj+/tVXX2Xa9AQA3j02n/gMQVoHw4ntR1K2IDlLMHOf4LIRfdjjPRjS3/Hjx3PNNdewcOFCIMirzzZs5+oUwZw8F0mZnRe2TYF7SqbAU/1uq/s1bNgwKzIoHCXPT6F+vIC0jltYQhxvk1QG3ObSbwDlx9IRdJOFxa9eTyzt0oRlhjbKTEGgcIkhofkdLedUwj5+pS8aTpNdN+mz9worY2ksp0ld1w3HRnjlyN3EZ4oO5yCwaxipXjeTMwWv5E1Q+9u2iuAOTgEc/jjoZoQ72y5evJiVK1cCMGLECDZuVP4btbW13HLLLVaWWVPAsaLKamr47xv6UVVaR2b1G0z8So1/e8KJI3En2SNIy3EzKV0wasZANJ+q7yOltCKDysrKuOSSS8jLyzP8bzRqypoYPvdCZuxUocmdad/sQ4pHMCPbRUF9jnKq9bcgpeTjjz+mX79+RmSQZvn+6AG1vpb95QkqfiWQM+OskOYOO92muNATBCcXX4Pma+6U/9epF1ggqGFVfxzcEupMlIBXGP4vccBXAASMGw6ts/Y5+JZg+iA05KqQ0s6GpXttUR7HZhi7BYGoi41l1jWE0i2lLxCfEZw0OrfouJjujSNPqkJeLf5mhz+nGg5/HHQzzMWwqamJQYMG0djYyKpVq1rlO9m8eTOjR48GQiOFTGFn1uyZPL38OcDHvV9/jxlZnbduJGUL7tkXx22vCZ5etQIIZtq98cYbWbNmDaAqKU+bNk31069CrRf9z0zu+kQwc1dcF6KEXCRmuVi850JatAZDSAtGBpnWFdPCJKVUocdA/YEvKRonINWlrCXtdLy1W1dkmpumCYKyP88HenJYs7ktpDcj916lnOaMdNz2feloVhXLuuIRyFxBxedxvLJ6OeXlwUqu9pvc1sQRMX5fC0Q+ZGvt7ayClEZyLpVLRx4ZqxYMe5biNsYvdAxV5VRZ95VRYiHQRvPBjKK1vpPMy/0R07Ndlqd+ux9eQytJzXUxNV3w+KoHKCsts9rpMn90zeFPJDj8idgnhz+dR+v7pynB1XYE/C0gdd55523mzZtHYeE3DB48mKamJkswMSOCZs+ezerVq4HgOPp8PnRd50j+Ee4cdQfrPviEkS/+L1L2BK0cHbFqJHsESZkuZh0U3DD7HL7OyTP6jpX3xKxZVF5ezmWXXcbhw4ctAWrDus3c+Jhgbp6bpKygxaYj/UjzxhGfKfjw+BIAw7pCWN6V1lWVFTc1Ch7oR+MkAUaW2/AEcZGEFfNV5W1xUTbtHBoL9oQ8lx1BN1lYpDWxyOp1yOw4pKcP0mNW14yR6dKaqFxITxy6pw8NJ99k1XMvM3LkHSxbtoyqqiqrKfteZKQH3P6ZOVG02X1dQ8qgU9ZZN2mY4yclssGL9MTZxqTt8QsuSt9BZgj0w3cblzXuazsmd7No3cbiZYz/SjDT24fkDiw49gd29aGxPP7YEwwYOICHH344ouBrbztSf9R73aprEvP2aQHLuczhj8Mfhz+dQ8hvNwSVqN81Xu+4cxRffbmNsWPHhmSvtbYLNY3q6moGDx7MkSNHLCdcE5988gn//IPv87OfXsNrf1/JPXv6MCPLZQkh7eVOcraLmXsEd7wrGDF6KFLHsm6E1Owxktc98MADlpVFSp26qib6/fJCJm1VQnNythEm3c72U71uErMF9+86j/pABbrUrXpC9vbN326/17rxvdqdn3J0tIC0Pmp7J4bQEiKsJAmY1YeGuwUlr6So63eyrEX3CCwQIrRwYilkCMhxQ5imZT+CE5VbfTdDIE8stS5ZW1vDypUrGTVqFMuXt21xsd8geziVr6aM6i/XUrluBVUfPUXVR09RuW4F1V+uxVdTFvGcs27SkFLVbgEoXa1qQeW4rPGLVAsmOKZGAcsMAQcuA6pV5dN2RFnYJ3dNDyDReOX4KCZmCGZ6vxOixUScKIzPZ3r7MCVTsHD3hdT5SwEoLj7BokWLuOmmm3jssccoK4utMau+GP2xCbr+xlpqd26k4kMbfz5cTlX6GnxGvgHzHPOXOvxx+GPC4U87YL93RjZbUMa7hopcKg+/RNXhF6jJf5HKvGdpOL6G3dkfMit1KgsXP84jS9W6ES5Qmgv0unXrrK0hgLVr1zJw4ECGDx/OjBlJzJs/F4CPC3/HxAxBirdPMAFhNMHF9FvxukncIVj4zfcZfc/1PPHISqRRPTzcumH6jlRUVIRYWQASJiYzfVU/7jmsoo3a236q102SR5CYJfi6Rm1l+gM+iGBdMS065v0J3xqqff8hjt8ukCkCUoNJ5FrlW7FbVmbG0TRRUHTflfhrypGGb47ZRkfQfRYWUBOMHkDKAP7CpdSnC6O0vBu8YVVbvS61X52jih7WpwsChY8iZQBdDxAwUiYDVFZWWoJLLIuL2RVpSIy+qhLK3nqAklnnUTlO0DBB0GQcDRMEleMEJbPOo+ytB/BVqYgEZaY1r3WWTBp2rcaYNAMlL1G7RRgVt6ONnxty4sAjqN8qqM+5haQpN7P/wBEAAv7IFUODzQY/1zQNiaSpuYkxd9/JrI+vIHGn2hdO88YROfLDZZVZn5QheGDPpRQ37QeCe8MAJSUlLFmyhEGDBsXUmAGj6LB62Px1FZS9+1uK515AZbygYbygaaLiT+MEQdU4wcnZ/8HJV2fSXHxYna+FTphnBRz+BPuEw58OQ0rDomIKK+o+1hS+R8n2G6j4vA81nwsa0wVN2wRN6YovJZviOPj3/2DVQ1fQ0tKELjEEXXW+KbCYQsuiRYtIS0tjxIgRDBw4kLVr1wIqT0u//9ePwqICAD4sepjJmYLp2cLiRySBIdXrJs0bx5QMwdx95zJu0fVc+J+XcqLkOIFA65o9JlfM/titLFpA44stX3D+f15A6qv9SP1akJDRvvYTsgRJnu+QVfGWupYMRKwZZBeyIcgvU5gBmDdvHh8+MI7ae/6Flolqe4jUOBWynCKMw4VMdVuVmuvHCQoXXEtLqbp/yrrSOf52r4WF4CSiAzUFb1Gx/Uoa0gVahgh1xMtWnzWkC8q3X0l1wVvo0OqG2s13NTWxLS66rluTRd2uTZyYcyEN4wVyunHj0+LCDjdyuppITsy5kLpdqtS45Sx0Npln7eOnB9T4FX5A2fafUb9VENghjArcwfHTM9UkUvrZDyk/uApNhw0bt/Dzn1/NwYMqpC+SCTL8b/Nh8fl8DBw4gAW/WUSLv5G3C+YyPdtNvDF52E20yV7BDI9gcqZgSpbgxcO/otp3XF3PnLSkHsKf4uLimBqzbmgaAI0Fuymadyl14wRymtqfjcQfZggaxwtOJP0blVv+pH7b2bro4PDH4U/noaLBQGr1VO2aTPXniiPkGEJvblzwyHFDjkDPFjRuF1Rk9Ef6jytBRddaWVpeffVVhgwZgsvl4o9//KPVplk9ed6981ixYgUSCTp8Vf4a83J/zKQMQWJ26+2hJI8gIUswKUOweNcVFPoySd+UiRCC9957D1BWnUi+I3Yry6WXXkpeXh6gBBghBGXHq8muWcPcnPa1/9CeKzlY+wUAmu5vXZE5iu+K2Rfz+UlJSWHOPffgB+r3b+PEQzdSOVHQMsngcJJxzBDoU5XQXTKpDyf/MIdAgzIi6FrQStgZdJ/AAmFCi6Fl+Oqpzn+Fkxm3Urr1Ako3f5fSzd+lLP0CSjNupTr/Zfy+euO8CA5BxmGfOGJZXCTQeDSHE1P+ES1BmatkiivEnBVypLhgZhxaguDElH+kIT8H6PqN75WIMH4BfyPVR1/jZMZwSrdewElz/LZdSGnGUCoPPU1znZKsNU1ZxbZs3cq1117L4cNKawxfdCItNs3NzQwaNIiFC0JzFOTXZ/La0UR+s+s8kj0ukjzCOu7N/QHP593JT/v0rgAAH4tJREFUzqoPrZ9gmSIJDX218yeWxiwlNBXt48Ts/0tgSjv4k+yCmX2Q0wXFdwuqvnzX6sfZtNgADn9w+NNhGIqh2v7TQGtE5o1E32FY5nPcrbYSW20rel3q+/uuRwaqwTZzv/HGG/Tv358bb7yRbdu2sWnTJqvWUEtLi7W45+bmcvPNN6NpAQIGD2t8xfz9+CM8/PVPSfX+Qwh3ZnnP4Xf7BvDZyedobKkG4IknHyc1NZWBAwfy3HPPMWLECCsyKJzD5t8LFixgzpw5PP/889x22y8YN24cf//wrwBUNhfxYTvab9ZqgWDdK/OZaNN3JUxYuffee9XnhtCtawGqv3qPkuUjOTn/Ykqnn0PptHMom/VvnHywH6VvLKAhLzs4lGYIcxcU/e4VWLBrBKFOUxIlvDTXF9FcX4TfVx8iEKjvttYq2m1xWbaMssoqApXHKbrnIrRpKszKchxKiSSsiGAMeZobbZrg+JyLaCn7BqR+9kwaNoTe+9DxC/jqaW4Ijp8ecp66V2a44JYtW/j5z38eU1O2a8aDBg2yEir5/X4rB4aJZq2OgoYc8uq2cbhuO/n1mdT5bf5Htn3vcM5E40+oxvwopWXlyJZGCuf/BP/kUG/58D3cSOXV5XTBiRk/pOn4QZBSCb0Of9R7HP44/IkCZVZRbwvvU/6P3u9E8HWK9b6PctjOn0hTcwuvvfYa/fv3Z8SIEWzatCmkudTU1JCoIZNHt99+O59//rniYSC4JajJAMVNB8ir28aR+i85XLed8pZjtv5DQPMzePBgDh8+TE1NDZdddhmXXnqp1Ua0bZhAIMCPf/xj+vXrR1NTE2vXrmXy5MmAtLIFtNk+WPmCollXTN+VaMLK3LnKh0dZYloHqwSaG2kpL6S57Bt8tRXoNlp+m0Er3S6wQKQHXjnQtf6ijpSxve7DrxnJ4lJVWcmKFStISEhg3/yf45tsOAwltZ4cohVt0pMM56FxguJnx1umRXt57rMF7R4/pDF+esi55qKzNYqmDK014wULFgDBxca8li61kIUnHLoMTe4ViUPh/4ukMT/00EPcettwPItvo2WqgFRXu/ljLjqkufFNEpQsu11NEA5/HP44/IkNKYMRZrVbIDvOFmVmD8yIHGVmF1oCWW7kPhcP3nMdN/QfwiefbLCaMYWD8KghKSUtLSrX12uvvcbUqVMBc4tPR5OBKB03lHAjMVx2dja33Xabxd2JEydy/vnn89JLLwHBekbqJwfzs/z+97/n3HPPtYTt4uJiBg0aRHV1tRHp44vRvkSz1k8ZYl2J5bsSzbJiL2Fg9lPqWtT0+iq6TbMsKl0VVuA0CSwmIm/v6ITnHrB/tz3XjKbxVHy9nePjBKS5Qryb25teWE9WE83JyXE05OeqNjpYvOlMQvhE3db42d/H0pTb0oyjtW0uPuYRqR/t/U3mezt/irb/lSMjlODaEf6EpKZOdVE+2U39AZX4UHf44/DH4U9kSGM7yNTmD48KZkqOkbsnek4fFcBRlXGt1YSZ+yRc0V2/fj133XUXEBQmampqGDBgAKWlpZZgqropLcE2eCgemzx98MEH+e1vf4uUkr/97W/ccMMNHDt2jKuuuopnnnkmpB3znOXLl3P99dezc+dOrrjiCg4cOADAuHHjeO+996z+Rm+/9fZoJOuKnduxLSuR3TGsQ9cNP6NTlzvotAospxIhE1HARyAQoGrDszRMcIVUnGxvtj771lD9eEHFR08rs2zA/60OyJmOSItOuKas63qbmvGpvOfhD5vmV/wp+9O91I53WyXWO8efOBonCMreUouo3YHSQdtw+HMW8ccUViTgK4SdP1KO2Z0SVozXbAG7v4dszleLsB5aWsEutMyaNcvaGjLzo8yePZtVq1YBoVaR1l2XlvOspmkMGTKE3bt3AzBo0CDefvttAEpLS/nJT35iVY5ubm4GYMmSJVx33XWW4/bChQst687rr79uVZ4Ot45Ev5WxfVegfZaV0821M1ZgMWGZrYCTz4zFF6+2gzpaC8Ey3aa68cULTj4z1toWOt2D2NsQTVO++uqrOXToEJqm0b9//6iacXdCt2kMhQ8PormL/CHVjTZVUPLwf1v7xk7xvI7B4c9ZxB8ZACTUbw+NIuvEoYQWFzJTIKs+UlsVtsR94VsiNTU13HTTTeTn51sWhuzsbIYOHRoikETjVPg5oCw3Zs0eU1goLCzk4osv5vXXXwdg/vz5DBw4kIaGBus6ZsRQQUEBVVVVDBgwgJqamjbH3245imRdMc+19yeWZeV044wXWHRdZcLUdJ2SRdegJwgwvPLbO1mEajqqgFPJomvQjGuf0RPGKUKkReeLL77g9ttvZ8SIESxZsgToXs04Vj81fwtF8y4hYONPp6qWpriQiYKyxVcT0DqXPMmBw5+zgj9SKoFFSih/XdWh83S+cCZe4/wsAWUvG9f3hzUZfWvI/OyXv/wl6enprbb8wq9j8vKBBx5gqZG4rn///iHWDfP8vLw8hgwZQnx8PGPGjKGpqQkI+taY1zGtLHfffXerbaFo/bBbVyL5rtiFlbS0tB5pWTFxxgssUkokauBLFl2DTOy6wCITDYHFCG3uKYPZ22DXaMyH+9Zbb0UIYYWCmp+fjsUm2C4EfM0U3XsRWqKdC51YcFLdkCgof/BaAmGe+Q46Boc/Zzh/dB2r0nfJSuW/4unTRYElTgkspS+qNqI4zUbbGpJS8sorrzB9+nQg8paM5YpgWDEGDx7M0aNH2bp1K9dff32I74iU0tpuuv/++0PytJjOvva8LBdffDElJSW8//77TJkyJaQPkX4DxPZdsT87CxcuJDk5OeQc+3V6As54gcVuki159CYCRoRQV0yygcmCkkdvMginOxaWTsC+2Jj3Lz4+nuXLl7Nu3Touuugijh49CkRPDtYdCJrdNYoWXoNvirAqlnaOP4aFbuHPlIUOHP50Ag5/zgL+2C0stZu7vCWkDrcSfCreCl6/VbOhW0PhUUPV1dURnW/tMC0a9u2gQYMGhVg37MLCb37zG2677TZyc3O5/PLLeeONN4Bg4jqTw4sXLyY1NRVd17nhhhuorq62+hBNaInmu2K3rCxevNjKP9MTLSsmzmiBxXJ8MxxjT765gMYJotNOb9JwemuaKCh/+wHVhuY43XYU4RMCQGJiIosXL7a+s2bNGvr27Ut+fj5wehYdiz+aylJasHwM9eMVB/QO8MfikZFPwzdJUPr8pKB/lcOfDsHhz1nEHzPkvHEXePsoh9tOOt2ajrdapkCrzVbyitQiciLW1hDAzJkzozrf2reDFi5cyLPPPktmZibXXnttiO+I+Z0FCxYwaNAg6utVgtT8/Hz69u1rJZUzK0fbrSwVFRVMmzaNtWvXRtyaiua7YkZF2dtftGiR5cRrVwB6Iq/OSIHFTkApJX6fkeTn4BfUxLuRqcGw5vYKLFZYYZqLyvGCmowP1PW1tqutOggikmackJDAokWLALWwmDkI3nrrLfr27cuxY8es/5nXCJ8g7J+H/r/jC1Qr/rQoz32Z/Q4Vd6tIsVj5M9riT80EQdXWN9V9cPjTITj8OYv4I6WxLaQrwWXftZDl6oIfi3K45dhVgMoWrBnKbOtxN7sQujX0wgsvAJCZmcmwYcMsHtrDiO3RQTfffDP5+fkMHz6cd955B1ACjl2gGTRokMVZ8/Xo0aP07duXN9980/rcfs59993Hhg0biI+PB6IX24zku+L3+yNaVuxOuD1RWIHTnDgu9NBUYUT7ESFhU6wbGf49u9RZXl7OCyufYOcYF6Soh789VpYQ60qqW6Xo//VlBFoare2gnjq4pwrtHj89QKRcFtE0Y9MUKWUwcVJbmrKUKn+GJgPoMhCSi0CT/jaTfkX7XeHJv4pPnGDpwvl8eUcfSLUlE0yJvfDYw+dligs5zUXJ/Ivw11fFNOWeyXD44/Cn3ZBSJY4DpOHHIr1xtrT7sa0qduuKlh0HuwWvP3kZ733wsdVEtFo64Xwzo4aOHDmCruvceuutpG9LR5cBfIEWizcBzY8m/WRm7eDuu+9m8+bNVmSQpmmtLCtmKLPJaZM3BQUFIZaWlpYWdF2nvLycK6+80hCahlJVXYEm/Wh6wMbdgEpaR2vfld5oWTHR7QJLqPZh1Ido85zYqX3DNZqQLLdVVSxbtoyRd97Bsy++ROnmP1IxQUBaXKvS2LEmC6Xd9KF8vKD6K+UUpZ/JORCiIPxeyxiZHoPnBLOVRtOM7dEc5rXb0pR1Gy/agrnwmNeO9ZvC06svXryYW265mWVPraLUu5GyeBeYC0iMRacVf2bGUfUrQeWnL6s+ae3LoXAmweGPw58Ow7CySK0Ruf//qbBku9Bi2+4J3wKS5ntvHNoOgX48ia1b0/nFL4YzevRoNmwIzXZrd4aNpPyuX7+ekSNHAvDKqy+TMEU534bUkTGWtAXzHmLVM88x+q5RrFmjLCWmcBJuWdFsEV/29sItLeb5Cxbcz/xfz2PuPfN5+/UPjPsUdt+MPg28cQDvvvtOyPm9zbJionsFFinBqgcUFFQCvnpqiz+l4tBzVB95kZr8F6k6/Bx1xZ8SMAofhp4jIQapQFlUli9fzqhRo1i5ciW1tTXW/0pemkHVaCW0WIXHbJOGvZaQqdmQFkfVaEHJy0kqMuhsqeNhR8j4BZ+OgL+RupLPqMh7PmT8qgvexdcULPym6/6YmrG6bujkH01T9geCKakLGrysL/4dr+ZP4IXDI3nh8CheOjKWvxQt4mDtF8HFLkbxzFYacXExS5YsYfDgwTz22GNUVlZa/yv/cDmVE4Ry3g5z4I7EH3OxqRsrOLFitEo2qLd/sTxj4PAHcPjTIUhpWFmMub8hG3J+oPxYclqn6I9YRygnTjnsfn0FsqXEuvTGjRsZM2YMw4cP56OPPrI+j5QB1r6+pM1M5eXVr4IPho3sz4ajq3jjmxk8nzeSFw+P4vlDo3j7mzlMXTqQhx9bxC+HjETTdItz0Swr4cJnNEuLz++joqyKm24YykNP/prUVTfxTtFsnjt4J6sPj+aFw6N5Iz+Vfb51vPvXNxnc/zZ0XVrt90bLionuE1isBx0rkZuvqZyK/Y9Slt6Xqs8FdVsETemCpm2Cxq2Cmi2Ck1v7Ur7/UXxN5bZEbUGBNppFxRRU7BNFwO9H1wLoAT+laxZTMVEgpwtVxj3VrYSXFGOiSHFBqhvSVNGxiomC0jWLW00WvWGQvxVEGD9/Sw0VB57kZPolVH4uqPvCNn7pgprPBaVbz6d017001x01FACNxMTImnH4YmO+2jXlSy7py+F8VW79SO0Onj40nCSPm/hMweRMwZQsdUzOFMRnCqZlCR7dez05VX8BsFJmB39WZI14yJAhPPHEE1RUVFj/8xv8AShft5LScQI9sS3+xEGyoGqs4PjKX6G1NFkLnP13nvFw+OPwpyuw8UbWbaPuq38j8JWAXJcSXLxupNdlWFNcSK9bCSq5guZtggbvNdByTKW4CIRa49avX8+IESMYNWpUVIsLGMnVND8Ntc38atLtvLx3OrM832PSDsUXO38mZgjuOeDi7g/drPx8CgHdEFYW3h/TsmJ/H8nS8uc3Xgeg1l/KfX/rz5Qv4kj9WjApw2jb6MekDEHSTsGYvwqe+nyq1f6ixQt7pWXFRPcILKZmJaXalwb8VVsp23Y5jemmFCwgN04dOearQGYr4aV02+X4q7YaQksAGabRhFtUamqCFpXwapjm+4qNqzmR/O/UThQq3Hm6gCTjmK4+q50oOJH871RsXN3q/N4yyF1GyPipSSPQcIjS7VdRv0WNUcTxy1Wl35vSBSWfnUeg4gPumbuIhUa69LbC5yItOm+u+TP9rh7I+3seJTU3jvgMQYpHkOaNi3ikeF0kGA/ymoI0kEpT1nWt3RpxK/4Yk0zVtrconn85NeOFqr47LZQ/2hRB3XjBiWnfp/zvK9HNCVfXz678PQ5/HP50BfZ7Z6wfTbVHKPOMofpzge8rgcwSweghj/q75UtBxWffoXzPvfiaKkIVXiktgcREWxYXzfClKWjK4tc7z2f8V4LknCjcyelDUpYgbZdgqkfwwvGhPPT4/dw08JY2LSvmZyYsoeXYUX562bWsfv93/PbwxUzLFaTkClKyXaR5+5Aa0n4cKR4XM3e7mOoRPH98KI8sW0ji1OnWb+ptwgp0q4UFMB44mvahe89VJMuNC0rGkQ6vS30nS6B7z4Wm/djvb0yLSgTPaTB8ZwwTo6+mjIr1z1Ky9GZK5/wXpdPOUcec/6Jk6c1UrH8WX42q5/BtlsnuVTBNWub4NR9F33Op8rhva/w8avzwCAI7BF++eyMAuh7ZjN+6aVu0hWHSXLVhJndsFKTlukn1uEnxCpI9auFJ8Qrr72Tj71Sv+t6EDMH7hfND9ptjacTR+SMt/vgba6nY+BLFjw7lpJ0/c8+nZOmNlP/lSZpLjth+p6nZOfxx+OPwp92wb8/opg8S1BVvonz3LMq+7EfpF//CyU3nULb1PMp2DKBy34M0lHtslwi6FNjvnd3SANEtLgDFTfuZm/tjErIEM3P6hPDE/mq9zxYkZ7lIzBGM/JOgovokAAGt7TB7O29M7mYd3Mwv3hEk71LXjdhmWPsp2W7iswVzP7rcuG9K4Dbb6E3oPguL1EDq4CtGfv0TIwmQO8Tbu7WwEvwcr6q0qe+5Al0rpbSsiuXLl3XIomL+bfbJnDRAzUH+hlqaywppLivE31Ab4kdllskOucbZBGmEFwZqkXuvVtkiDcc3GWP8rL1kr0uN4R43suzP6t6apc/buJ9SSku7ya/N4t59/0xqbh9SPC5rgYl1BBeePkzKEGRVvUnJiVIeXvJQ+zTiaPzRwvlTE8Ifu4eBPV/GWSXsmnD4Y/1tvHH400GEK532cdd1ia+pjOb6QnzN1dhzuUUL2ggXJmNZXDas/wRfoJFH9l7FlExBmtfdSlCJdaR6+jBjt4s/FkxCylB/qLZghk03+et5Mu86knfFkeqJaxd3g+3HkbL7H9he/nsAtA6035Nw6gUWKQ0vb0OiO5oAGW17eYd/Lj0C3eNG9wgqs68nMXEqK1asoKqqbYtK6y6FWVu0QORJT0qjGupZaFWxQ0rMjJCy+MmQ8ZPtGD+7tUzLFMidP0b6Sw1NM7bjoLlfr0sNTfez7MAA4ncIUo3Fpj2ThV3rSPK6mbnjB4wYM5QnHm+fRhypT6Em/jb4o+uYWp3DH4c/Dn86j/D7q4SRSJGmtv+1MSbhn7eyuGz4mBG3jibhmWtI3Rdq2Wgvb5S1w8WUTMHuahVSremxo0wtQcp4dtafeJwJO0SIVbCtfgS/42JalmBuzg8pbzlqPBe9T2jpJguLUSK85RvI/R54XF0oEe5Cy/4HWmr3W5ePpdHE7FYrSVtX+8O2dP7275yVsAROCf5y2PWfkO1SY9jB8VNjHgcZAkqeUtfX/W1qyOYDe6D2CxKzBCked7snjPCHN83rJn6HYEfx29b1u8Kf0MPhTys4/Ilxaxz+dAUR758MvXddGY9wi8sjOdeR6HGRYggMHeVOqtfNlEzBUweHKIFBauh67L6ZeXaatTru3/W/mZblardlsDV345iUIfhrkYqua0tg6onoHguLWSK8/A+GKdjdKYFFCS1uNeFVvq4mCt3fYWI66CDMXBmV76g6HN7OCZzW+GW5kAduROo6uq6hGxpNtCOg+ZC65O2C2cRnClK9HTOHhppG3UzJcvFh8cOqWqrm8OeUw+GPg14E+1jquhJaypry+fXuf2V6tsGFTgi8KR5BkkcwK+ccypuPInWJpgXa5K6uS/ZUf0xCliDF037rTuv2XSRmCZbuvRqfFhpt1lvQTQKL4f+RP9GouNm51MqmL4vMFMgjE4zL9z6zVq+CKXBKCUULjfGL69T4WUe2gF3/CjR1qCsrDt7E1EylqXTmgTW1nKlZgif3/belifW2h7ZXweGPg14MTQ8gkeyv2aysc972byO24o9XkOp1MTVTsL/+0w7145OTTzIpQxiRa51vf0a2YG7u96jyHQfsjsi9A6deYDFrQQDsv0FZWDpjDjYPj0tdY/8N6ppSB2fCOHWw+R+Rd3uXBE5L6PQoTbn4aDpFRUUUFX5DYWFh1KOoqIhj3+SzMPcCpeF0VsPwClK8LhKyBY/tvabXesr3Kjj8cdBLYfcf2V72B6Z0Qdi1BB2Pm6nZgr8e+h1FRYUUFB6Lyd1vCo9RVFTI6r2TmJIV9F/pSh+SPH04Wp9pbUv1JnSThcV4oE2BxdsFgcUbLrC0HSXgoAuQMihw5v0yuKXXxQUn4P1X5qSN5c6Ro7nrrjGMGRPtGM2Y0aP51dgxpGz+Eck7jVC9Tj6wpob8+L7rWvkJODgFcPjjoJdC13UCUtXd+bRkudpO9PTpkrCQnC1I3SNIeHwgo+4cw5i7Rsfm7l2jGXXnXcz4/U9J/VqQnNUVYVtZeBKyBPtrN4UIZL0F3WthOTSsyxoWHre6xqFh6pqOheXUwhbhwdHEb8Gkb4zfgRs63JXXjk1lchd9EFI8SkN+dO/VqNBIHJP+qYTDHwe9FOaCLqXyIUnsorCQ7BXM8Ahm5/wTVYHCDvVlX93Gb639e3L/ibJmVaLCsbCEQ0qQhif/iaVdn7A8ceoaJ5aGXtvBqYH9Hpe+aDhNdkVDVuMnj00zIiL8MZ3OdF3Hr/nQdZ1NJU8ZC46b5E4+tKke5an/h/x4yyTqaMinEA5/HPRimAv6sfpsUjxx7QoljiXsTs8W3L/rPOr9FYqfbTiMa1oAXeocrc/6Vttv8FdYkVW9CadeYIGghlX9cXBLqDNRAkZYM1lCXct+bQenDqYU3pALnu90OiwdMwFYlkBWfWDsFrTOXRF+6LoKi8+vzyS5Cw+tmY9gapYgs0IVEuttJtFeCYc/DnohTIdqKVXiwUf2/pSErM6FNad4lWVvcqbg1XwVMKLpmnX96Nw99e33JnSPhcXcFtKbkXuvUhOOkY7b2peOMkmFJJczJ6u9V4HeHNwOcjScUwcpVQ5sI5eOPDJWabj2LMUdGb9sF/LrK0CrD83REbV5idSlVXTu+bzbmZplaMkdWXTM5EnZLh7c05fGQHXIhODgFMHhj4NejJDEbcWPE5+pInU6yh0zwiwhS7CnnYnjekL7PQ3dZGGRYKTGltXrkNlxSE8fpMesrhkj06X56nGpc7LjkNXr1HX1KBkiHXy7MMdPSmSDF+mJs41Je8dPZTclQyDL/6yua45fOx5aMyLjSP0OZmS7SPK4SPG2LydBMLW6SpyUXvoKEHxge9tD2+vg8MdBL4ZuJPJrCFSxcPf/IcEu8LbFH48taVumYNWh25TfU1jV757cfk9C9wgsECK0cGKpylaZ44YwTct+BDUst/puhuG7Ao6w0t2QEszaS6WrVS6MHJc1fpFqwYRoxrmG78GRcUZeDi3ojN2u5oOLzqaSFSRkCZI9bivMMHzhCa/zYWZ5XH14NJruN3wPet8D22vh8MdBL0Rwa0atXYfq0pnpPZdp2cGcKBG3GD2h3JmaJVi8py8VLQUWF9sj7J7u9nsaus/CAiB1Y885gL9wKfXpwigt7wZvWNVWr0tpVDmq6GF9uiBQ+ChSBlS1TnOy6GU3vFfCGj9VMFICgZKXqN0ijIrb0cbPDTnKwbr+C0HLwYmg+9VEr7d//Ozpyc0idptPPk1CliAxS2m+auGxp6x2kep1k+aNI8kjiM8UvHRkLD49NMNjb3tgeyUc/jjo5bALvPtrNzEn50cqL4rXRZo3jlRvaLp8kzvJHsHkTMHDX1/ByeZDAIaw0Lva7ynoXgsLNokRqCl4i4rtV9KQLtAyRKgjXrb6rCFdUL79SqoL3kK3nW+/poNugH389IAav8IPKNv+M+q3CgI7hFGBOzh+eqagMV1Q+tkPqcx7joBmjp8KB+3I+IUuOurBza58mwf3/IQpWYIpWYLp2Sr1dZJHvU/IUg/r7Jzv82nJU1a7uvHqLDbdCIc/DnopIgm8Jc0HeDZvhMWRaTbuJHkEidlKyJ2RHcebBTOp9Z8E1DYiMvS6Pb39noTuE1ggTGhRk4bfV091/iuczLiV0q0XULr5u5Ru/i5l6RdQmnEr1fkv4/fVG+dpjrByOhFh/AL+RqqPvsbJjOGUbr2Ak+b4bbuQ0oyhVB56mua6AuM8+75pxxP+2R9cM9ywWatja+lLPHVwGAt2/xezcs5hVs45LNx9PisO3MSG4v+xcg6EhvH1PnNor4fDHwe9FPaxNoUGKSU7q/7O6sN38eCevszOOYfZOecwJ/dcfvv1T/nT0ekcrvvKOi+Y86Tj3Dnd7fcUdK/Agv3GByct9ZcSXprri2iuL8Lvq0eGnKdhioa99WafCbDf+/DxC/jqaW4Ijp8ecp4WsmB0VuC08yc86VFToJbKlkIqWwppCtSG/E8Pa9/h0OmBwx8HvRX2cQ/Pv+PTmqjyFVHZUki174QlVKjvBgXtrnDndLffE9DtAguE3jT13uaTEvJFXfmsOBNFj0K7xw9pjN+3+7CEt6/b2gj/niZV4iVTq3D4c/rh8MdBb0Vr7mhRs8Wa//s216/T3f7pxmkRWEyE30jT5Gqv0RGiVTnoUQgdt+4fv+hth/bhVLXvoGtw+OOgtyI2dyMngzuT2j9dOK0CiwMHDhw4cODAQXvgCCwOHDhw4MCBgx4PR2Bx4MCBAwcOHPR4OAKLAwcOHDhw4KDHwxFYHDhw4MCBAwc9Ho7A4sCBAwcOHDjo8XAEFgcOHDhw4MBBj4cjsDhw4MCBAwcOejz+P/+JsoU2jI6WAAAAAElFTkSuQmCC)\n",
        " \n"
      ]
    },
    {
      "cell_type": "markdown",
      "metadata": {
        "id": "c72snOiGkgje"
      },
      "source": [
        "Este tipo de rede neural carateriza os modelos mais basicos que existem, o processo realizado é 100% linear da entrada à saida. Em cada neuronio é realizada uma função matematica linear do tipo $W_x + b$, onde x é o valor de entrada, e W e b são os parametros de peso e bias. \n",
        "\n",
        "O resultado dessa operação pode ou não passar por uma função de ativação antes de partir para a camada adiante.\n",
        "\n",
        "A conexão entre os neuronios representam a passagem de informação de um para o proximo, neuronios que recebem mais de uma entrada, soma elas antes de perfomar a função linear pelo qual é responsavel.\n",
        "\n",
        "* Perceptron -> Modelo mais basico.\n",
        "* Feed Forward Network -> Performa um impacto sintetico dos dados de entrada nos dados de saída.\n",
        "* Radial Basis Network -> Executa funções de ativação com base radial.\n",
        "\n",
        "As NN do tipo FFN e RBF podem conter varias camadas ocultas, sendo comumente chamadas de redes neurais profundas nesse caso."
      ]
    },
    {
      "cell_type": "markdown",
      "metadata": {
        "id": "n1FzAzayCxI0"
      },
      "source": [
        "Estas redes neurais são comumente utilizadas para solucionar problemas mais simples e que não demandam um correlacionamento temporal/espacial.\n",
        "\n",
        "Alguns de seus usos são:\n",
        "* Determinar doenças apartir de exames de sangue\n",
        "* Determinar irregularidades em transações simples\n",
        "* Detectar incosistencias em sistemas de armazenamentos\n",
        "* Entre outros..."
      ]
    },
    {
      "cell_type": "markdown",
      "metadata": {
        "id": "Hj3GI_ZYAfDJ"
      },
      "source": [
        "## E como fica o código de uma rede neural dessas?\n",
        "\n",
        "Bom, o código de uma rede neural do tipo FFN ja foi descrito a cima, contudo, segue o mesmo exemplo:"
      ]
    },
    {
      "cell_type": "code",
      "metadata": {
        "id": "gp-yYynNJMl5",
        "colab": {
          "base_uri": "https://localhost:8080/"
        },
        "outputId": "c752dbf0-763e-4bb4-93ae-78f2b38f8b28"
      },
      "source": [
        "import numpy as np\n",
        "\n",
        "class FeedforwardNetwork:\n",
        "\n",
        "  def __init__(self):\n",
        "    weights = np.array([1, 0])\n",
        "    bias = 0\n",
        "\n",
        "    self.n1 = Neuron(weights, bias)\n",
        "    self.n2 = Neuron(weights, bias)\n",
        "    self.o1 = Neuron(weights, bias)\n",
        "\n",
        "  def feedforward(self, x):\n",
        "    out_n1 = self.n1.feedforward(x)\n",
        "    out_n2 = self.n2.feedforward(x)\n",
        "    out_o1 = self.o1.feedforward(np.array([out_n1, out_n2]))\n",
        "\n",
        "    return out_o1\n",
        "\n",
        "network = FeedforwardNetwork()\n",
        "x = np.array([2, 3])\n",
        "print(network.feedforward(x))"
      ],
      "execution_count": null,
      "outputs": [
        {
          "output_type": "stream",
          "text": [
            "0.7069873680001046\n"
          ],
          "name": "stdout"
        }
      ]
    },
    {
      "cell_type": "markdown",
      "metadata": {
        "id": "Nrbdr5r1DZrM"
      },
      "source": [
        "## Rede neural recorrente(RNN)\n",
        "\n",
        "![image.png](data:image/png;base64,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)\n"
      ]
    },
    {
      "cell_type": "markdown",
      "metadata": {
        "id": "WBPScTEykOZ3"
      },
      "source": [
        "Este modelo de rede neural pode-se de dizer que foi o primeiro a implementar um sistema recorrente no fluxo de dados da rede, dessa forma, os modelos deste modelo são capazes de considerar proprios dados durante o calculo de suas funções matematicas.\n",
        "\n",
        "Além dos dados da camada anterior, os neurônios escondidos da rede neural recorrente utilizam tambem o resultado do seu calculo anterior, realizado no periodo temporal(epoch) anterior.\n",
        "\n",
        "Dessa forma as RNN's são capazes de considerar correlações temporais entre os dados de entrada."
      ]
    },
    {
      "cell_type": "markdown",
      "metadata": {
        "id": "9k_HNyFGMDKP"
      },
      "source": [
        "Este modelo foi essencial para a avolução das redes neurais e foi amplamente utilizado para descrever modelos que representam dados com fortes correlações temporais.\n",
        "\n",
        "Dessa forma, esse modelo pode ser utilizado para os seguintes propositos:\n",
        "\n",
        "* Previsão do clima baseado em janelas de tempo passadas.\n",
        "* Previsões monatárias ou de ativos baseados em valores históricos.\n"
      ]
    },
    {
      "cell_type": "markdown",
      "metadata": {
        "id": "ykmIjUx0MdT7"
      },
      "source": [
        "## E como fica o código de uma rede neural RNN?\n",
        "\n",
        "TO-DO"
      ]
    },
    {
      "cell_type": "code",
      "metadata": {
        "id": "IiV7zetSMQTb",
        "colab": {
          "base_uri": "https://localhost:8080/"
        },
        "outputId": "930c572d-a647-4614-ab91-db7642cb8c98"
      },
      "source": [
        "import numpy as np\n",
        "\n",
        "class RecurrentNetwork:\n",
        "\n",
        "  def __init__(self):\n",
        "    weights = np.array([1, 0])\n",
        "    bias = 0\n",
        "\n",
        "    self.n1 = Neuron(weights, bias)\n",
        "    self.n2 = Neuron(weights, bias)\n",
        "    self.o1 = Neuron(weights, bias)\n",
        "\n",
        "  def feedforward(self, x, epochs):\n",
        "    out_n1 = self.n1.feedforward(x)\n",
        "    out_n2 = self.n2.feedforward(x)\n",
        "    for _ in np.arange(epochs):\n",
        "      out_n1 = self.n1.feedforward(out_n1)\n",
        "      out_n2 = self.n2.feedforward(out_n2)\n",
        "      print(out_n1, out_n2)\n",
        "\n",
        "    out_o1 = self.o1.feedforward(np.array([out_n1, out_n2]))\n",
        "    return out_o1\n",
        "\n",
        "network = RecurrentNetwork()\n",
        "x = np.array([2, 3])\n",
        "epochs = 5\n",
        "print(network.feedforward(x, epochs))"
      ],
      "execution_count": null,
      "outputs": [
        {
          "output_type": "stream",
          "text": [
            "[0.70698737 0.5       ] [0.70698737 0.5       ]\n",
            "0.6697351368613155 0.6697351368613155\n",
            "[0.66144385 0.5       ] [0.66144385 0.5       ]\n",
            "0.6595846545654619 0.6595846545654619\n",
            "[0.65916708 0.5       ] [0.65916708 0.5       ]\n",
            "[0.65907326 0.62245933]\n"
          ],
          "name": "stdout"
        }
      ]
    },
    {
      "cell_type": "markdown",
      "metadata": {
        "id": "BTwQISr3hWc9"
      },
      "source": [
        "## Long/Short Therm Memory(LSTM) & Gated Recurrent Unit(GRU)\n",
        "\n",
        "![image.png](data:image/png;base64,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)\n",
        "\n"
      ]
    },
    {
      "cell_type": "markdown",
      "metadata": {
        "id": "XO0ucBQWkM03"
      },
      "source": [
        ""
      ]
    },
    {
      "cell_type": "markdown",
      "metadata": {
        "id": "UFy1GUVniOmK"
      },
      "source": [
        "Dessa forma, esse modelo pode ser utilizado para os seguintes propositos:\n",
        "\n",
        "* Reconhecer padrões de fala e escrita;\n",
        "* Realizar analise de videos e imagens(principalmente videos);\n",
        "* Analisar padrões com forte correlação temporal."
      ]
    },
    {
      "cell_type": "markdown",
      "metadata": {
        "id": "iFOTGRD1hx6e"
      },
      "source": [
        "## E como fica o código de uma rede neural LSTM/GRU?\n",
        "\n",
        "TO-DO"
      ]
    },
    {
      "cell_type": "code",
      "metadata": {
        "id": "bsrlqlFfhWCk"
      },
      "source": [
        ""
      ],
      "execution_count": null,
      "outputs": []
    },
    {
      "cell_type": "markdown",
      "metadata": {
        "id": "VQAC6Eia4JD1"
      },
      "source": [
        "# Hyperparametros\n",
        "\n",
        "Hyperparametros são os atributos que irão definir a arquitetura(Ex: número de neuronios ocultos) do modelo da sua rede neural, bem como como a sua rede neural irá ser treinada(Ex: taxa de treino), esses paraemtros são definidos antes de iniciar o treinamento do modelo e são de extrema importancia para a perfomance, eficacia e acuracia do modelo.\n",
        "\n",
        "\n"
      ]
    },
    {
      "cell_type": "markdown",
      "metadata": {
        "id": "j3ws3gvQCQxp"
      },
      "source": [
        "# Principais tipos de Hyperparametros\n",
        "\n",
        "Estes são alguns dos principais hyperparametros que podemos utilziar para trinar alguns modelos de redes neurais, bem como a sua definição e onde podemos utiliza-los."
      ]
    },
    {
      "cell_type": "markdown",
      "metadata": {
        "id": "1PyHP3fnCacC"
      },
      "source": [
        "### Nº de camadas ocultas\n",
        "---\n",
        "Este parametro define o numero de camadas ocultas entre a camada de entrada e a camada de saida da sua rede neural, é amplamante utilizada em todas as redes neurais.\n",
        "\n",
        "Basicamente, estas camadas ocultas são utilizadas para melhorar a acuracia do seu modelo, pode-se adicionar novas camadas até que não faça mais diferença se adicionar mais alguma.\n",
        "\n",
        "Varias camadas com boas tecnicas de regularização podem aumentar muito a acuracia do modelo, já se não forem utilizadas ou utilizar poucas, pode acabar gerando um efeito de *underfitting*.\n",
        "\n",
        "*“Very simple. Just keep adding layers until the test error does not improve anymore.”*\n",
        "\n",
        "* Utilizado em: Arquitetura do modelo"
      ]
    },
    {
      "cell_type": "markdown",
      "metadata": {
        "id": "RuCSiC7bENDo"
      },
      "source": [
        "## Dropout\n",
        "---\n",
        "Dropout é um parametro utilizado para evitar *overfitting*, aumentar a acuracia e melhorar o poder de generalização.\n",
        "\n",
        "Geralmente, se utiliza o dropout com valores entre 10% a 50%(porcentagens fazenbdo sempre referencia ao numero de neuronios), 20% pode ser um ponto pra começar a testar a eficacia do parametro. Caso o valor for muito baixo para o tamanho do modelo, o efeito será quase imperceptivel, caso for muito grande, o modelo irá perder poder de aprendizagem.\n",
        "\n",
        "Normalmente o dropout tem mais efeito em redes neurais grandes, dando mais oportunidade da rede neural estabelecer novas representações e conexões.\n",
        "\n",
        "* Utilizado em: Arquitetura do modelo"
      ]
    },
    {
      "cell_type": "markdown",
      "metadata": {
        "id": "Lw-sOQ1zLadE"
      },
      "source": [
        "## Função de ativação\n",
        "---\n",
        "Como ja explicado anteriormente, as funções de ativação são utilizadas para introduzir elementos de não linearidade ao modelo de rede neural. \n",
        "\n",
        "Para mais informações, consultar \"Função de ativação de uma rede neural\"\n",
        "\n",
        "* Utilizado em: Arquitetura do modelo"
      ]
    },
    {
      "cell_type": "markdown",
      "metadata": {
        "id": "PVZn_lPCM_Iq"
      },
      "source": [
        "## Taxa de aprendizado\n",
        "---\n",
        "A taxa de aprendizado define o quão rapido o modelo irá atualizar seus parametros durante o treinamento, uma baixa taxa de aprendizado pode atrasar o treinamento, contudo, em algum momento irá normalizar. Altas taxas de treinamento pode acelerar o treinamento do modelo, contudo, pode não haver normalização e o modelo não convergir para sua linha natural.\n",
        "\n",
        "Normalmente, se prefere uma taxa de aprendizado decadente.\n",
        "\n",
        "* Utilizado em: Processo de treinamento do modelo"
      ]
    },
    {
      "cell_type": "markdown",
      "metadata": {
        "id": "MAZsaM7nNs9l"
      },
      "source": [
        "## Momentum\n",
        "---\n",
        "\n",
        "Este parametro é utilizado para direcionar o aprendizado do modelo de acordo com o resultado da geração de treinamento anterior, ajudando a reduzir oscilações.\n",
        "\n",
        "Normalmente, é preferivel manter este parametro entre 0,5 e 0,9.\n",
        "\n",
        "* Utilizado em: Processo de treinamento do modelo"
      ]
    },
    {
      "cell_type": "markdown",
      "metadata": {
        "id": "1IJ9d9mUT3hz"
      },
      "source": [
        "## Numero de *Epochs*\n",
        "---\n",
        "\n",
        "O numero de *epochs* define o numero de vezes que o dataset de treino irá passar pelo modelo e consequentenmente, quantas vezes o modelo irá treinar utilizando esses dados.\n",
        "\n",
        "Caso o modelo não treine por epocas suficientes, ele não ficará preciso, caso treine por epocas demais, pode ocorrer o efeito de *overfitting*. \n",
        "\n",
        "* Utilizado em: Processo de treinamento do modelo"
      ]
    },
    {
      "cell_type": "markdown",
      "metadata": {
        "id": "d5GsMj76Uce8"
      },
      "source": [
        "## Batch size\n",
        "---\n",
        "\n",
        "O tamanho do *batch* define o tamanho dos subgrupos de dados que serão \"entregues\" ao modelo depois de cada atualização de parametros.\n",
        "\n",
        "Normalmente, o tamanho padrão é definido por multiplos de 32 sendo o tamanho 128 o mais utilizado.\n",
        "\n",
        "* Utilizado em: Processo de treinamento do modelo"
      ]
    },
    {
      "cell_type": "markdown",
      "metadata": {
        "id": "0rNpeGUN0Duq"
      },
      "source": [
        "# Modelo de rede neural generica\n",
        "\n",
        "TO-DO"
      ]
    },
    {
      "cell_type": "markdown",
      "metadata": {
        "id": "i06Uxb7MBnus"
      },
      "source": [
        "# Exemplos e implementações"
      ]
    },
    {
      "cell_type": "markdown",
      "metadata": {
        "id": "98s73XxIZZAn"
      },
      "source": [
        "## MLPClassifier utilizando keras\n",
        "\n",
        "Este exemplo implementa um classificador MLP(Multilayer perceptron), normalmente utilizado para realizar classificação."
      ]
    },
    {
      "cell_type": "code",
      "metadata": {
        "id": "_uH-mz43ZchP",
        "colab": {
          "base_uri": "https://localhost:8080/",
          "height": 164
        },
        "outputId": "993cc403-5fe5-4ea1-99e3-b836720e3199"
      },
      "source": [
        "import numpy as np\n",
        "import pandas as pd\n",
        "from sklearn.model_selection import train_test_split\n",
        "from sklearn.datasets import load_iris\n",
        "from sklearn.neural_network import MLPClassifier\n",
        "\n",
        "iris_dataset = load_iris()\n",
        "data = pd.DataFrame(iris_dataset.data, columns=iris_dataset.feature_names)\n",
        "data['target'] = iris_dataset.target\n",
        "\n",
        "validation = data.sample(5)\n",
        "data.drop(validation.index, axis=0, inplace=True)\n",
        "\n",
        "features = data.drop('target', axis=1)\n",
        "x_train, x_test, y_train, y_test = train_test_split(features, data['target'], random_state=42, test_size=0.25)\n",
        "\n",
        "model = MLPClassifier(max_iter=1000)\n",
        "model.fit(x_train, y_train)"
      ],
      "execution_count": null,
      "outputs": [
        {
          "output_type": "execute_result",
          "data": {
            "text/plain": [
              "MLPClassifier(activation='relu', alpha=0.0001, batch_size='auto', beta_1=0.9,\n",
              "              beta_2=0.999, early_stopping=False, epsilon=1e-08,\n",
              "              hidden_layer_sizes=(100,), learning_rate='constant',\n",
              "              learning_rate_init=0.001, max_fun=15000, max_iter=1000,\n",
              "              momentum=0.9, n_iter_no_change=10, nesterovs_momentum=True,\n",
              "              power_t=0.5, random_state=None, shuffle=True, solver='adam',\n",
              "              tol=0.0001, validation_fraction=0.1, verbose=False,\n",
              "              warm_start=False)"
            ]
          },
          "metadata": {
            "tags": []
          },
          "execution_count": 19
        }
      ]
    },
    {
      "cell_type": "code",
      "metadata": {
        "id": "e0EkZS0mZf2A",
        "colab": {
          "base_uri": "https://localhost:8080/",
          "height": 35
        },
        "outputId": "e5973128-8ec6-4c37-c9b2-52f901e8e542"
      },
      "source": [
        "sample = np.array([5., 2., 3.5, 1.]).reshape(1, -1)\n",
        "flower = model.predict(sample)\n",
        "print(flower[0]) # Iris-Versicolour"
      ],
      "execution_count": null,
      "outputs": [
        {
          "output_type": "stream",
          "text": [
            "1\n"
          ],
          "name": "stdout"
        }
      ]
    },
    {
      "cell_type": "code",
      "metadata": {
        "id": "pBM0aQiHZ9R6",
        "colab": {
          "base_uri": "https://localhost:8080/",
          "height": 35
        },
        "outputId": "57ece60a-a43c-4083-a882-158951a1323a"
      },
      "source": [
        "x_val = validation.drop('target', axis=1)\n",
        "y_val = validation['target']\n",
        "\n",
        "model.score(x_val, y_val)"
      ],
      "execution_count": null,
      "outputs": [
        {
          "output_type": "execute_result",
          "data": {
            "text/plain": [
              "1.0"
            ]
          },
          "metadata": {
            "tags": []
          },
          "execution_count": 22
        }
      ]
    },
    {
      "cell_type": "markdown",
      "metadata": {
        "id": "NqFeNoQSAvO6"
      },
      "source": [
        "## Rede neural convolucional(Tensorflow) para detecção de tumor cerebral\n",
        "\n",
        "Este modelo de rede neural convolucional é excelente para trabalhar com imagens e categorização das mesmas, amplamente utilizada no mundo médico, como pode ser observado pelo exemplo."
      ]
    },
    {
      "cell_type": "code",
      "metadata": {
        "id": "loN_eTO1A-3i"
      },
      "source": [
        "import numpy as np\n",
        "import os\n",
        "import cv2\n",
        "import random\n",
        "import pickle\n",
        "from zipfile import ZipFile\n",
        "\n",
        "import tensorflow as tf \n",
        "from tensorflow.keras.models import Sequential\n",
        "from tensorflow.keras.layers import Dense, Dropout, Activation, Flatten, Conv2D, MaxPooling2D\n",
        "from sklearn.model_selection import train_test_split\n",
        "import pickle\n",
        "from tensorflow.keras.models import model_from_json\n",
        "from tensorflow.keras.models import load_model\n",
        "import matplotlib.pyplot as plt\n",
        "\n",
        "from google.colab import drive\n",
        "drive.mount('/content/drive')"
      ],
      "execution_count": null,
      "outputs": []
    },
    {
      "cell_type": "code",
      "metadata": {
        "id": "IB2_X5yQBHBR"
      },
      "source": [
        "def prepare_data(datadir, img_size=28):\n",
        "\tfile_list = []\n",
        "\tclass_list = []\n",
        "\tx = []\n",
        "\ty = []\n",
        "\tdata = []\n",
        "\terror = False\n",
        "\tcategories = ['NO', 'YES']\n",
        "\n",
        "\tfor category in categories: \n",
        "\t\tpath = os.path.join(datadir, category)\n",
        "\t\tclass_index = categories.index(category)\n",
        "\t\tfor img in os.listdir(path):\n",
        "\t\t\ttry:\n",
        "\t\t\t\timg_array = cv2.imread(os.path.join(path, img), cv2.IMREAD_GRAYSCALE)\n",
        "\t\t\t\tnew_array = cv2.resize(img_array, (img_size, img_size))\n",
        "\t\t\t\tdata.append([new_array, class_index])\n",
        "\t\t\texcept Exception as e:\n",
        "\t\t\t\terror = True\n",
        "\t\t\t\tpass\n",
        "\n",
        "\trandom.shuffle(data)\n",
        "\n",
        "\tfor features, label in data:\n",
        "\t\tx.append(features)\n",
        "\t\ty.append(label)\n",
        "\n",
        "\tx = np.array(x).reshape(-1, img_size, img_size, 1)\n",
        "\tif error:\n",
        "\t\tprint('Erro ao processar algums imagens')\n",
        "\telse:\n",
        "\t\tprint('Imagens processadas com sucesso')\n",
        "\treturn x, y"
      ],
      "execution_count": null,
      "outputs": []
    },
    {
      "cell_type": "code",
      "metadata": {
        "id": "wWlehuHz7Zor"
      },
      "source": [
        "x, y = prepare_data('drive/My Drive/Brain/brain-mri-tumor-detection-dataset')"
      ],
      "execution_count": null,
      "outputs": []
    },
    {
      "cell_type": "code",
      "metadata": {
        "id": "bTxu2_7W6wbh"
      },
      "source": [
        "x_train, x_test, y_train, y_test = train_test_split(x, y, test_size=0.3, random_state=5)"
      ],
      "execution_count": null,
      "outputs": []
    },
    {
      "cell_type": "code",
      "metadata": {
        "id": "uhrQ7wbs7la6"
      },
      "source": [
        "x_test, x_val, y_test, y_val = train_test_split(x_test, y_test, test_size=0.1, random_state=5)"
      ],
      "execution_count": null,
      "outputs": []
    },
    {
      "cell_type": "code",
      "metadata": {
        "id": "5-WuI7qL9T8X"
      },
      "source": [
        "y_train = np.array(y_train).reshape(-1, 1)\n",
        "y_test = np.array(y_test).reshape(-1, 1)\n",
        "y_val = np.array(y_val).reshape(-1, 1)\n",
        "\n",
        "x_train = x_train / 255\n",
        "x_test = x_test / 255\n",
        "x_val = x_val / 255"
      ],
      "execution_count": null,
      "outputs": []
    },
    {
      "cell_type": "code",
      "metadata": {
        "id": "7TstXzUg5cOP"
      },
      "source": [
        "model = Sequential()\n",
        "\n",
        "# convolutional layers\n",
        "model.add(Conv2D(32, (3, 3), input_shape = x_train.shape[1:]))\n",
        "model.add(Activation(\"relu\"))\n",
        "model.add(MaxPooling2D(pool_size=(2,2)))\n",
        "\n",
        "model.add(Conv2D(64, (3, 3)))\n",
        "model.add(Activation(\"relu\"))\n",
        "model.add(MaxPooling2D(pool_size=(2,2)))\n",
        "\n",
        "model.add(Conv2D(64, (3, 3)))\n",
        "model.add(Activation(\"relu\"))\n",
        "model.add(MaxPooling2D(pool_size=(2,2)))\n",
        "model.add(Dropout(0.25))\n",
        "\n",
        "# hidden layers\n",
        "model.add(Flatten())\n",
        "model.add(Dense(128))\n",
        "model.add(Activation(\"relu\"))\n",
        "\n",
        "model.add(Dense(128))\n",
        "model.add(Activation(\"relu\"))\n",
        "\n",
        "# output layer\n",
        "model.add(Dense(2))\n",
        "model.add(Activation(\"softmax\"))\n",
        "\n",
        "# Compile\n",
        "model.compile(loss=\"sparse_categorical_crossentropy\",\n",
        "      optimizer=\"adam\",\n",
        "      metrics=[\"accuracy\"])"
      ],
      "execution_count": null,
      "outputs": []
    },
    {
      "cell_type": "code",
      "metadata": {
        "id": "UtUXwM5n5nTR"
      },
      "source": [
        "model.fit(x_train, y_train, batch_size=128, epochs=100, verbose=1)"
      ],
      "execution_count": null,
      "outputs": []
    },
    {
      "cell_type": "code",
      "metadata": {
        "id": "eWhva_ck-mLQ",
        "colab": {
          "base_uri": "https://localhost:8080/",
          "height": 72
        },
        "outputId": "8da51ab8-63c1-4b91-86e9-0275440821cf"
      },
      "source": [
        "scores = model.evaluate(x_test, y_test)\n",
        "print(\"test length \", len(x_test))\n",
        "print(\"test score %.2f%%\" % (np.mean(scores[1] * 100)))"
      ],
      "execution_count": null,
      "outputs": [
        {
          "output_type": "stream",
          "text": [
            "3/3 [==============================] - 0s 5ms/step - loss: 0.4025 - accuracy: 0.8676\n",
            "test length  68\n",
            "test score 86.76%\n"
          ],
          "name": "stdout"
        }
      ]
    },
    {
      "cell_type": "code",
      "metadata": {
        "id": "xLJBea_C-jhk",
        "colab": {
          "base_uri": "https://localhost:8080/",
          "height": 72
        },
        "outputId": "e3b77665-06c2-41bb-c5a5-7ea02e794c41"
      },
      "source": [
        "scores = model.evaluate(x_val, y_val)\n",
        "print(\"test length \", len(x_val))\n",
        "print(\"evaluation score %.2f%%\" % (np.mean(scores[1] * 100)))"
      ],
      "execution_count": null,
      "outputs": [
        {
          "output_type": "stream",
          "text": [
            "1/1 [==============================] - 0s 1ms/step - loss: 0.7894 - accuracy: 0.8750\n",
            "test length  8\n",
            "evaluation score 87.50%\n"
          ],
          "name": "stdout"
        }
      ]
    },
    {
      "cell_type": "code",
      "metadata": {
        "id": "Sp0dbv6W6pUj"
      },
      "source": [
        "def predict_image(file):\n",
        "  img_array = cv2.imread(file, cv2.IMREAD_GRAYSCALE)\n",
        "  new_array = cv2.resize(img_array, (28, 28))\n",
        "  img = new_array.reshape(-1, 28, 28, 1)\n",
        "  prediction = model.predict([img])\n",
        "  prediction = list(prediction[0])\n",
        "  print(categories[prediction.index(max(prediction))])"
      ],
      "execution_count": null,
      "outputs": []
    },
    {
      "cell_type": "code",
      "metadata": {
        "id": "DcuhuOoS-d3Y",
        "colab": {
          "base_uri": "https://localhost:8080/",
          "height": 35
        },
        "outputId": "3800f4e5-9226-4708-f18b-61369daae22d"
      },
      "source": [
        "predict_image('drive/My Drive/Brain/brain-mri-tumor-detection-dataset/YES/Y21.jpg')"
      ],
      "execution_count": null,
      "outputs": [
        {
          "output_type": "stream",
          "text": [
            "YES\n"
          ],
          "name": "stdout"
        }
      ]
    },
    {
      "cell_type": "code",
      "metadata": {
        "id": "-9V8ZEaqCFlL",
        "colab": {
          "base_uri": "https://localhost:8080/",
          "height": 35
        },
        "outputId": "94354f9a-3679-498f-d904-b09d210270c0"
      },
      "source": [
        "predict_image('drive/My Drive/Brain/brain-mri-tumor-detection-dataset/NO/N21.jpg')"
      ],
      "execution_count": null,
      "outputs": [
        {
          "output_type": "stream",
          "text": [
            "NO\n"
          ],
          "name": "stdout"
        }
      ]
    },
    {
      "cell_type": "markdown",
      "metadata": {
        "id": "vNsuohZB77tb"
      },
      "source": [
        "# Troubleshooting\n",
        "\n",
        "Resolução de alguns dos problemas mais comuns que podem acontecer ao definir e treinar seu modelo."
      ]
    },
    {
      "cell_type": "markdown",
      "metadata": {
        "id": "qc1HvFS479x3"
      },
      "source": [
        "## Input 0 is incompatible with layer lstm_xx: expected ndim=3, found ndim=2 in Keras\n",
        "\n",
        "Este problema acontece pois as cadamadas do seu modelo não estão compartilhando o mesmo input/output.\n",
        "\n",
        "Por exemplo, caso você tenha duas camadas LSTM seguidas, onde apenas a primeira tem definida o formato do input e o parametro *return_sequences* não estiver presente, é muito provavel que você tera esse erro, para resolver, apenas passe o parametro *return_sequences* para True, isto fara com que o output da primeira camada esteja de acordo com o input da segunda camada. "
      ]
    }
  ]
}