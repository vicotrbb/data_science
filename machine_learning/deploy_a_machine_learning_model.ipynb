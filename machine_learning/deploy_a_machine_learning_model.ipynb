{
  "nbformat": 4,
  "nbformat_minor": 0,
  "metadata": {
    "colab": {
      "name": "deploy_a_machine_learning_model.ipynb",
      "provenance": [],
      "toc_visible": true,
      "authorship_tag": "ABX9TyP28vTeNUhbVXuQY3IR/xs3",
      "include_colab_link": true
    },
    "kernelspec": {
      "name": "python3",
      "display_name": "Python 3"
    }
  },
  "cells": [
    {
      "cell_type": "markdown",
      "metadata": {
        "id": "view-in-github",
        "colab_type": "text"
      },
      "source": [
        "<a href=\"https://colab.research.google.com/github/vicotrbb/machine_learning/blob/master/machine_learning/deploy_a_machine_learning_model.ipynb\" target=\"_parent\"><img src=\"https://colab.research.google.com/assets/colab-badge.svg\" alt=\"Open In Colab\"/></a>"
      ]
    },
    {
      "cell_type": "markdown",
      "metadata": {
        "id": "q6ZlgEZgrNFO"
      },
      "source": [
        "# Easily deploy a ML model using gradio"
      ]
    },
    {
      "cell_type": "code",
      "metadata": {
        "id": "xQexMQ93f8xN"
      },
      "source": [
        "!pip install gradio"
      ],
      "execution_count": null,
      "outputs": []
    },
    {
      "cell_type": "code",
      "metadata": {
        "id": "pQzbLVKCqxeO"
      },
      "source": [
        "import gradio as gr\r\n",
        "import numpy as np\r\n",
        "from PIL import Image\r\n",
        "from keras.applications.vgg16 import VGG16\r\n",
        "from keras.applications.vgg16 import preprocess_input, decode_predictions"
      ],
      "execution_count": 80,
      "outputs": []
    },
    {
      "cell_type": "code",
      "metadata": {
        "id": "OYYf94FsfxQF"
      },
      "source": [
        "model = VGG16(weights='imagenet', include_top=True)"
      ],
      "execution_count": 81,
      "outputs": []
    },
    {
      "cell_type": "code",
      "metadata": {
        "id": "B4DujCIXgOsq"
      },
      "source": [
        "def predict_image(image):\r\n",
        "  # image = Image.open(image)\r\n",
        "  # image = image.resize((224, 224))\r\n",
        "  # x = np.asarray(image, dtype='float32')\r\n",
        "  x = np.expand_dims(image, axis=0)\r\n",
        "  x = preprocess_input(x)\r\n",
        "  preds = model.predict(x)\r\n",
        "  preds = decode_predictions(preds, top=3)[0]\r\n",
        "  preds = dict([el[1:] for el in preds])\r\n",
        "  for key, value in preds.items():\r\n",
        "    preds[key] = str(value)\r\n",
        "  \r\n",
        "  return preds"
      ],
      "execution_count": 91,
      "outputs": []
    },
    {
      "cell_type": "code",
      "metadata": {
        "id": "ALu7prPcg8k4"
      },
      "source": [
        "image = gr.inputs.Image(shape=(224, 224))\r\n",
        "label = gr.outputs.Label(num_top_classes=3)"
      ],
      "execution_count": 83,
      "outputs": []
    },
    {
      "cell_type": "code",
      "metadata": {
        "id": "tdcWESVPgr6N"
      },
      "source": [
        "gr_interface = gr.Interface(fn=predict_image, inputs=image, outputs=\"label\", interpretation=\"default\")"
      ],
      "execution_count": 92,
      "outputs": []
    },
    {
      "cell_type": "code",
      "metadata": {
        "colab": {
          "base_uri": "https://localhost:8080/",
          "height": 649
        },
        "id": "47BH-DrFhGqf",
        "outputId": "652fba29-8c4a-42a3-dba7-c52f48c66a8d"
      },
      "source": [
        "gr_interface.launch()"
      ],
      "execution_count": 94,
      "outputs": [
        {
          "output_type": "stream",
          "text": [
            "Colab notebook detected. To show errors in colab notebook, set `debug=True` in `launch()`\n",
            "This share link will expire in 24 hours. If you need a permanent link, visit: https://gradio.app/introducing-hosted (NEW!)\n",
            "Running on External URL: https://22370.gradio.app\n",
            "Interface loading below...\n"
          ],
          "name": "stdout"
        },
        {
          "output_type": "display_data",
          "data": {
            "text/html": [
              "\n",
              "        <iframe\n",
              "            width=\"1000\"\n",
              "            height=\"500\"\n",
              "            src=\"https://22370.gradio.app\"\n",
              "            frameborder=\"0\"\n",
              "            allowfullscreen\n",
              "        ></iframe>\n",
              "        "
            ],
            "text/plain": [
              "<IPython.lib.display.IFrame at 0x7f5e60842860>"
            ]
          },
          "metadata": {
            "tags": []
          }
        },
        {
          "output_type": "execute_result",
          "data": {
            "text/plain": [
              "(<Flask 'gradio.networking'>,\n",
              " 'http://127.0.0.1:7877/',\n",
              " 'https://22370.gradio.app')"
            ]
          },
          "metadata": {
            "tags": []
          },
          "execution_count": 94
        }
      ]
    }
  ]
}