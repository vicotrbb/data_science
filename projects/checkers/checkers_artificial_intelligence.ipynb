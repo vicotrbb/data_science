{
  "nbformat": 4,
  "nbformat_minor": 0,
  "metadata": {
    "colab": {
      "name": "checkers_artificial_intelligence.ipynb",
      "provenance": [],
      "authorship_tag": "ABX9TyOlnZ5kkoMreQkMDgI7CcLy",
      "include_colab_link": true
    },
    "kernelspec": {
      "name": "python3",
      "display_name": "Python 3"
    },
    "language_info": {
      "name": "python"
    }
  },
  "cells": [
    {
      "cell_type": "markdown",
      "metadata": {
        "id": "view-in-github",
        "colab_type": "text"
      },
      "source": [
        "<a href=\"https://colab.research.google.com/github/vicotrbb/data_science/blob/master/projects/checkers/checkers_artificial_intelligence.ipynb\" target=\"_parent\"><img src=\"https://colab.research.google.com/assets/colab-badge.svg\" alt=\"Open In Colab\"/></a>"
      ]
    },
    {
      "cell_type": "markdown",
      "metadata": {
        "id": "04kZL-jz9JQK"
      },
      "source": [
        "## Simple checkers artificial intelligence game agent"
      ]
    },
    {
      "cell_type": "code",
      "metadata": {
        "id": "WsR89NdKhnHh"
      },
      "source": [
        "from IPython.display import clear_output\n",
        "import sys\n",
        "from copy import deepcopy\n",
        "from operator import itemgetter\n",
        "from time import sleep\n",
        "from random import randint"
      ],
      "execution_count": null,
      "outputs": []
    },
    {
      "cell_type": "code",
      "metadata": {
        "id": "23t0uqP9neKy"
      },
      "source": [
        "# 0 = campo vazio\n",
        "# 1 = peça preta\n",
        "# 2 = peça branca\n",
        "# 3 = dama preta\n",
        "# 4 = dama branca\n",
        "\n",
        "def generate_board():\n",
        "  \"\"\"\n",
        "    Gera um tabuleiro de damas com as pessoas em suas respectivas posições\n",
        "  \"\"\"\n",
        "  board = [[0, 0, 0, 0, 0, 0, 0, 0],\n",
        "          [0, 0, 0, 0, 0, 0, 0, 0],\n",
        "          [0, 0, 0, 0, 0, 0, 0, 0],\n",
        "          [0, 0, 0, 0, 0, 0, 0, 0],\n",
        "          [0, 0, 0, 0, 0, 0, 0, 0],\n",
        "          [0, 0, 0, 0, 0, 0, 0, 0],\n",
        "          [0, 0, 0, 0, 0, 0, 0, 0],\n",
        "          [0, 0, 0, 0, 0, 0, 0, 0]]\n",
        "\n",
        "  # posiciona as peças pretas:\n",
        "  board[0][0], board[0][2], board[0][4], board[0][6] = 1, 1, 1, 1\n",
        "  board[1][1], board[1][3], board[1][5], board[1][7] = 1, 1, 1, 1\n",
        "  board[2][0], board[2][2], board[2][4], board[2][6] = 1, 1, 1, 1\n",
        "\n",
        "  # posiciona as peças brancas:\n",
        "  board[5][1], board[5][3], board[5][5], board[5][7] = 2, 2, 2, 2\n",
        "  board[6][0], board[6][2], board[6][4], board[6][6] = 2, 2, 2, 2\n",
        "  board[7][1], board[7][3], board[7][5], board[7][7] = 2, 2, 2, 2\n",
        "\n",
        "  return board"
      ],
      "execution_count": null,
      "outputs": []
    },
    {
      "cell_type": "code",
      "metadata": {
        "id": "PVODZqZihb6Y"
      },
      "source": [
        "def render_board(board):\n",
        "  \"\"\"\n",
        "    Limpa o output e renderiza o tabuleiro.\n",
        "  \"\"\"\n",
        "  # Limpa o output para permitir a mudança do tabuleiro sem quebra de linha\n",
        "  clear_output()\n",
        "  for row in board:\n",
        "    print(row, end='\\n')\n",
        "  print()"
      ],
      "execution_count": null,
      "outputs": []
    },
    {
      "cell_type": "code",
      "metadata": {
        "id": "rryDiJ9kzWDq"
      },
      "source": [
        "def map_pieces(player, board):\n",
        "  \"\"\"\n",
        "    Mapeia todas as posições de todas as peças de algum jogador\n",
        "  \"\"\"\n",
        "  piece_type = get_player_wide_pieces(player)\n",
        "  pieces = []\n",
        "  for x, board_row in enumerate(board):\n",
        "    for y, value in enumerate(board_row):\n",
        "      if value in piece_type: pieces.append((x, y))\n",
        "  return pieces"
      ],
      "execution_count": null,
      "outputs": []
    },
    {
      "cell_type": "code",
      "metadata": {
        "id": "mw7QTJJ79TxL"
      },
      "source": [
        "def get_opposite_player_piece(player):\n",
        "  \"\"\"\n",
        "    Retorna o jogador adversário da peça em questão\n",
        "  \"\"\"\n",
        "  map = {\n",
        "      1: 2,\n",
        "      2: 1,\n",
        "      3: 2,\n",
        "      4: 1\n",
        "  }\n",
        "  return map[player]"
      ],
      "execution_count": null,
      "outputs": []
    },
    {
      "cell_type": "code",
      "metadata": {
        "id": "J3e_6lzOwPhz"
      },
      "source": [
        "def get_player_wide_pieces(player):\n",
        "  \"\"\"\n",
        "    Retorna o set de peças possiveis para um jogador\n",
        "  \"\"\"\n",
        "  if player == 1: return [1, 3]\n",
        "  if player == 2: return [2, 4]"
      ],
      "execution_count": null,
      "outputs": []
    },
    {
      "cell_type": "code",
      "metadata": {
        "id": "AJ7jrAwE9v3e"
      },
      "source": [
        "def check_if_player_won(player, board):\n",
        "  \"\"\"\n",
        "    Verifica se um jogador em especial ganhou\n",
        "  \"\"\"\n",
        "  other_player = get_opposite_player_piece(player)\n",
        "  for x, board_row in enumerate(board):\n",
        "    for y, value in enumerate(board_row):\n",
        "      if value == other_player: return False\n",
        "  return True"
      ],
      "execution_count": null,
      "outputs": []
    },
    {
      "cell_type": "code",
      "metadata": {
        "id": "d2DcmRCZrnkY"
      },
      "source": [
        "def check_if_the_game_finished(board):\n",
        "  \"\"\"\n",
        "    Verifica se o jogo terminou e quem ganhou\n",
        "  \"\"\"\n",
        "  if check_if_player_won(1, board): return 'Pretas ganharam'\n",
        "  if check_if_player_won(2, board): return 'Brancas ganharam' \n",
        "  return 'jogando'"
      ],
      "execution_count": null,
      "outputs": []
    },
    {
      "cell_type": "code",
      "metadata": {
        "id": "JyFrm9ddv9Zu"
      },
      "source": [
        "def evaluate_possible_moves(position, board):\n",
        "  \"\"\"\n",
        "    Avalia quais as melhores opções de jogadas disponiveis para uma peça em\n",
        "    questão, a avaliação é deterministica e busca apenas verificar as jogadas\n",
        "    possiveis de acordo com a posição da peça, tipo de peça, e se os movimentos\n",
        "    são validos (não permite movimentos em cima de peças amigas). Movimentos \n",
        "    de 'comer' o adversário são priorizados e colocados a frente da lista de \n",
        "    movimentos.\n",
        "  \"\"\"\n",
        "  x, y = position\n",
        "\n",
        "  if board[x][y] == 0:\n",
        "    return\n",
        "\n",
        "  checker = lambda x,y: x + y >= 0 and x + y < 8\n",
        "  positions = []\n",
        "  vectors = [[1, -1], [1, 1]] if board[x][y] == 1 else [[-1, -1], [-1, 1]]\n",
        "\n",
        "  if board[x][y] in [3, 4]:\n",
        "    vectors = [[1, -1], [1, 1], [-1, -1], [-1, 1]]\n",
        "\n",
        "  for vector in vectors:\n",
        "    x_v, y_v = vector\n",
        "\n",
        "    if checker(x_v, x) and checker(y_v, y):\n",
        "      if not board[(x + x_v)][(y + y_v)]:\n",
        "        positions.append((x + x_v, y + y_v))\n",
        "\n",
        "      elif board[x + x_v][y + y_v] and board[x + x_v][y + y_v] != board[x][y]:\n",
        "        if checker((2 * x_v), x) and checker((2 * y_v), y) and not board[(2 * x_v)+ x][(2 * y_v) + y]:\n",
        "            positions.insert(0, (x_v + x, y_v + y ))\n",
        " \n",
        "  return positions"
      ],
      "execution_count": null,
      "outputs": []
    },
    {
      "cell_type": "code",
      "metadata": {
        "id": "94h-C02NiM4j"
      },
      "source": [
        "def perform_the_next_optimal_value(player, board, depth=5, randomness_treshhold=3):\n",
        "  \"\"\"\n",
        "    Analisa qual a melhor jogada para um jogador em dado momento, realizado uma\n",
        "    previsão do futuro baseado em profunidade de jogadas e iteração em profundidade.\n",
        "    \n",
        "    Basicamente, o algoritmo pega as jogadas possiveis para cada peça, executa \n",
        "    essa jogada de forma simulada n vezes (n = depth) e atribui pontos para a \n",
        "    jogada inicial, ao final, o algoritmo irá selecionar randomicamente uma das \n",
        "    melhores jogadas.\n",
        "    \n",
        "    A escolha de forma randomica é importante para balencear o determinismo da\n",
        "    escolha da melhor jogada, visto que é baseada em pontos e o ambiente onde o \n",
        "    algoritmo atua é estatico no estado inicial.\n",
        "  \"\"\"\n",
        "  MAX_VALUE = float('inf')\n",
        "  MEAN_VALUE = 99\n",
        "  player_wide_possible_moves = [] # dict(piece, piece_move, move_points)\n",
        "  opposite = get_opposite_player_piece(player)\n",
        "\n",
        "  pieces = map_pieces(player, board)\n",
        "  for piece in pieces:\n",
        "    possible_piece_moves = []\n",
        "    initial_possible_moves = evaluate_possible_moves(piece, board)\n",
        "    \n",
        "    for move in initial_possible_moves:\n",
        "      move_points = 0\n",
        "      new_board = deepcopy(board)\n",
        "      new_move = deepcopy(move)\n",
        "\n",
        "      for _ in range(depth):\n",
        "        if new_move[0] == 7 and player == 1:\n",
        "          move_points += MEAN_VALUE\n",
        "        elif new_move[0] == 0 and player == 2:\n",
        "          move_points += MEAN_VALUE\n",
        "        else:\n",
        "          move_points += 1\n",
        "\n",
        "        new_board[new_move[0]][new_move[1]] = player\n",
        "\n",
        "        # Em casos reais, esta parte do código deveria ser substituida por uma\n",
        "        # recursão ou iteração a dentro da profundidade com todas as\n",
        "        # possibilidades de movimento, entretanto, para facilitar a compreensão\n",
        "        # e a resolução, iteramos apenas os movimentos iniciais e os movimentos\n",
        "        # em profundidade foram substituidos para usarmos apenas o primeiro mais\n",
        "        # otimizado, sem realizar a recursão em profundidade.\n",
        "        new_move = evaluate_possible_moves(new_move, new_board)\n",
        "        if not new_move:\n",
        "          break\n",
        "        else:\n",
        "          new_move = new_move[0]\n",
        "\n",
        "        if new_board[new_move[0]][new_move[1]] == opposite:\n",
        "          move_points += MEAN_VALUE\n",
        "          break\n",
        "\n",
        "        if check_if_player_won(player, new_board):\n",
        "          possible_piece_moves.append({'piece': piece, 'move': move, 'points': MAX_VALUE})\n",
        "          break\n",
        "        \n",
        "      possible_piece_moves.append({'piece': piece, 'move': move, 'points': move_points})\n",
        "\n",
        "    if len(possible_piece_moves) != 0:\n",
        "      designated_move = sorted(possible_piece_moves, key=itemgetter('points'), reverse=True)[0]\n",
        "      player_wide_possible_moves.append(designated_move)\n",
        "  \n",
        "  if player_wide_possible_moves:\n",
        "    # Execute a randomização da melhor jogada dentro das :randomness_treshhold \n",
        "    # melhores.\n",
        "    result = sorted(player_wide_possible_moves, key=itemgetter('points'), reverse=True)[:randomness_treshhold]\n",
        "    if len(result) == 1:\n",
        "      return result[0]\n",
        "    return result[randint(1, len(result) - 1)]\n",
        "  return None"
      ],
      "execution_count": null,
      "outputs": []
    },
    {
      "cell_type": "code",
      "metadata": {
        "id": "QJkNLNG1rj9S"
      },
      "source": [
        "def play_the_game_till_win(board, depth=5):\n",
        "  \"\"\"\n",
        "    Execute e move as peças até que o jogo seja finalizado.\n",
        "  \"\"\"\n",
        "  while check_if_the_game_finished(board) == 'jogando':\n",
        "    for player in [2, 1]:\n",
        "      move = perform_the_next_optimal_value(player, board, depth)\n",
        "\n",
        "      if move:\n",
        "        move_pos = move['move']\n",
        "        old_pos = move['piece']\n",
        "        board[move_pos[0]][move_pos[1]] = player if board[old_pos[0]][old_pos[1]] == player else get_player_wide_pieces(player)[1]\n",
        "        board[old_pos[0]][old_pos[1]] = 0\n",
        "\n",
        "        if move_pos[0] == 7 and player == 1:\n",
        "          board[move_pos[0]][move_pos[1]] = 3\n",
        "        elif move_pos[0] == 0 and player == 2:\n",
        "          board[move_pos[0]][move_pos[1]] = 4\n",
        "\n",
        "      render_board(board)\n",
        "      sleep(0.5)\n",
        "      \n",
        "  render_board(board)\n",
        "  print('Jogo finalizado')\n",
        "  print(check_if_the_game_finished(board))"
      ],
      "execution_count": null,
      "outputs": []
    },
    {
      "cell_type": "code",
      "metadata": {
        "colab": {
          "base_uri": "https://localhost:8080/"
        },
        "id": "HlIPbT2awyqE",
        "outputId": "f4ab0ec1-2098-4eab-f293-50e6f949e929"
      },
      "source": [
        "board = generate_board()\n",
        "board"
      ],
      "execution_count": null,
      "outputs": [
        {
          "output_type": "execute_result",
          "data": {
            "text/plain": [
              "[[1, 0, 1, 0, 1, 0, 1, 0],\n",
              " [0, 1, 0, 1, 0, 1, 0, 1],\n",
              " [1, 0, 1, 0, 1, 0, 1, 0],\n",
              " [0, 0, 0, 0, 0, 0, 0, 0],\n",
              " [0, 0, 0, 0, 0, 0, 0, 0],\n",
              " [0, 2, 0, 2, 0, 2, 0, 2],\n",
              " [2, 0, 2, 0, 2, 0, 2, 0],\n",
              " [0, 2, 0, 2, 0, 2, 0, 2]]"
            ]
          },
          "metadata": {},
          "execution_count": 108
        }
      ]
    },
    {
      "cell_type": "code",
      "metadata": {
        "colab": {
          "base_uri": "https://localhost:8080/"
        },
        "id": "Odz7ynFvuXsf",
        "outputId": "79e822b0-b66f-4a58-87a6-df28e564bc65"
      },
      "source": [
        "play_the_game_till_win(board, 5)"
      ],
      "execution_count": null,
      "outputs": [
        {
          "output_type": "stream",
          "name": "stdout",
          "text": [
            "[4, 0, 0, 0, 0, 0, 0, 0]\n",
            "[0, 0, 0, 0, 0, 0, 0, 0]\n",
            "[0, 0, 0, 0, 0, 0, 0, 0]\n",
            "[0, 0, 0, 0, 0, 0, 0, 0]\n",
            "[0, 0, 0, 0, 0, 0, 0, 0]\n",
            "[0, 1, 0, 0, 0, 0, 0, 0]\n",
            "[1, 0, 0, 0, 0, 0, 0, 0]\n",
            "[0, 3, 0, 3, 0, 3, 0, 0]\n",
            "\n",
            "Jogo finalizado\n",
            "Pretas ganharam\n"
          ]
        }
      ]
    }
  ]
}