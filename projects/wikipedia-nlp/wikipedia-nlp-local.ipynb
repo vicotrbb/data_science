{
 "metadata": {
  "language_info": {
   "codemirror_mode": {
    "name": "ipython",
    "version": 3
   },
   "file_extension": ".py",
   "mimetype": "text/x-python",
   "name": "python",
   "nbconvert_exporter": "python",
   "pygments_lexer": "ipython3",
   "version": "3.8.5-final"
  },
  "orig_nbformat": 2,
  "kernelspec": {
   "name": "python3",
   "display_name": "Python 3"
  }
 },
 "nbformat": 4,
 "nbformat_minor": 2,
 "cells": [
  {
   "cell_type": "code",
   "execution_count": 9,
   "metadata": {
    "tags": []
   },
   "outputs": [
    {
     "output_type": "stream",
     "name": "stdout",
     "text": "Collecting tensorflow-rocm\n\u001b[33m  WARNING: Retrying (Retry(total=4, connect=None, read=None, redirect=None, status=None)) after connection broken by &#39;ReadTimeoutError(&quot;HTTPSConnectionPool(host=&#39;files.pythonhosted.org&#39;, port=443): Read timed out. (read timeout=15)&quot;)&#39;: /packages/10/05/128d79668ed9f6d3324686ec43416022a519d0c8de857a8c202c73d8658c/tensorflow_rocm-2.3.1-cp38-cp38-manylinux1_x86_64.whl\u001b[0m\n  Downloading tensorflow_rocm-2.3.1-cp38-cp38-manylinux1_x86_64.whl (281.0 MB)\n\u001b[K     |████████████████████████████████| 281.0 MB 25.0 MB/s \n\u001b[?25hRequirement already satisfied: opt-einsum&gt;=2.3.2 in /home/vicotrbb/.local/lib/python3.8/site-packages (from tensorflow-rocm) (3.3.0)\nCollecting scipy==1.4.1\n  Downloading scipy-1.4.1-cp38-cp38-manylinux1_x86_64.whl (26.0 MB)\n\u001b[K     |████████████████████████████████| 26.0 MB 13.6 MB/s \n\u001b[?25hRequirement already satisfied: absl-py&gt;=0.7.0 in /home/vicotrbb/.local/lib/python3.8/site-packages (from tensorflow-rocm) (0.10.0)\nRequirement already satisfied: termcolor&gt;=1.1.0 in /home/vicotrbb/.local/lib/python3.8/site-packages (from tensorflow-rocm) (1.1.0)\nRequirement already satisfied: wrapt&gt;=1.11.1 in /home/vicotrbb/.local/lib/python3.8/site-packages (from tensorflow-rocm) (1.12.1)\nRequirement already satisfied: wheel&gt;=0.26 in /usr/lib/python3/dist-packages (from tensorflow-rocm) (0.34.2)\nRequirement already satisfied: astunparse==1.6.3 in /home/vicotrbb/.local/lib/python3.8/site-packages (from tensorflow-rocm) (1.6.3)\nRequirement already satisfied: google-pasta&gt;=0.1.8 in /home/vicotrbb/.local/lib/python3.8/site-packages (from tensorflow-rocm) (0.2.0)\nRequirement already satisfied: grpcio&gt;=1.8.6 in /home/vicotrbb/.local/lib/python3.8/site-packages (from tensorflow-rocm) (1.32.0)\nRequirement already satisfied: tensorboard&lt;3,&gt;=2.3.0 in /home/vicotrbb/.local/lib/python3.8/site-packages (from tensorflow-rocm) (2.3.0)\nRequirement already satisfied: h5py&lt;2.11.0,&gt;=2.10.0 in /home/vicotrbb/.local/lib/python3.8/site-packages (from tensorflow-rocm) (2.10.0)\nRequirement already satisfied: numpy&lt;1.19.0,&gt;=1.16.0 in /home/vicotrbb/.local/lib/python3.8/site-packages (from tensorflow-rocm) (1.18.5)\nRequirement already satisfied: tensorflow-estimator&lt;2.4.0,&gt;=2.3.0 in /home/vicotrbb/.local/lib/python3.8/site-packages (from tensorflow-rocm) (2.3.0)\nRequirement already satisfied: protobuf&gt;=3.9.2 in /home/vicotrbb/.local/lib/python3.8/site-packages (from tensorflow-rocm) (3.13.0)\nRequirement already satisfied: six&gt;=1.12.0 in /home/vicotrbb/.local/lib/python3.8/site-packages (from tensorflow-rocm) (1.15.0)\nRequirement already satisfied: keras-preprocessing&lt;1.2,&gt;=1.1.1 in /home/vicotrbb/.local/lib/python3.8/site-packages (from tensorflow-rocm) (1.1.2)\nRequirement already satisfied: gast==0.3.3 in /home/vicotrbb/.local/lib/python3.8/site-packages (from tensorflow-rocm) (0.3.3)\nRequirement already satisfied: setuptools&gt;=41.0.0 in /usr/lib/python3/dist-packages (from tensorboard&lt;3,&gt;=2.3.0-&gt;tensorflow-rocm) (45.2.0)\nRequirement already satisfied: werkzeug&gt;=0.11.15 in /home/vicotrbb/.local/lib/python3.8/site-packages (from tensorboard&lt;3,&gt;=2.3.0-&gt;tensorflow-rocm) (1.0.1)\nRequirement already satisfied: markdown&gt;=2.6.8 in /home/vicotrbb/.local/lib/python3.8/site-packages (from tensorboard&lt;3,&gt;=2.3.0-&gt;tensorflow-rocm) (3.3)\nRequirement already satisfied: google-auth&lt;2,&gt;=1.6.3 in /home/vicotrbb/.local/lib/python3.8/site-packages (from tensorboard&lt;3,&gt;=2.3.0-&gt;tensorflow-rocm) (1.22.1)\nRequirement already satisfied: tensorboard-plugin-wit&gt;=1.6.0 in /home/vicotrbb/.local/lib/python3.8/site-packages (from tensorboard&lt;3,&gt;=2.3.0-&gt;tensorflow-rocm) (1.7.0)\nRequirement already satisfied: google-auth-oauthlib&lt;0.5,&gt;=0.4.1 in /home/vicotrbb/.local/lib/python3.8/site-packages (from tensorboard&lt;3,&gt;=2.3.0-&gt;tensorflow-rocm) (0.4.1)\nRequirement already satisfied: requests&lt;3,&gt;=2.21.0 in /usr/lib/python3/dist-packages (from tensorboard&lt;3,&gt;=2.3.0-&gt;tensorflow-rocm) (2.22.0)\nRequirement already satisfied: rsa&lt;5,&gt;=3.1.4; python_version &gt;= &quot;3.5&quot; in /home/vicotrbb/.local/lib/python3.8/site-packages (from google-auth&lt;2,&gt;=1.6.3-&gt;tensorboard&lt;3,&gt;=2.3.0-&gt;tensorflow-rocm) (4.6)\nRequirement already satisfied: pyasn1-modules&gt;=0.2.1 in /usr/lib/python3/dist-packages (from google-auth&lt;2,&gt;=1.6.3-&gt;tensorboard&lt;3,&gt;=2.3.0-&gt;tensorflow-rocm) (0.2.1)\nRequirement already satisfied: cachetools&lt;5.0,&gt;=2.0.0 in /home/vicotrbb/.local/lib/python3.8/site-packages (from google-auth&lt;2,&gt;=1.6.3-&gt;tensorboard&lt;3,&gt;=2.3.0-&gt;tensorflow-rocm) (4.1.1)\nRequirement already satisfied: requests-oauthlib&gt;=0.7.0 in /home/vicotrbb/.local/lib/python3.8/site-packages (from google-auth-oauthlib&lt;0.5,&gt;=0.4.1-&gt;tensorboard&lt;3,&gt;=2.3.0-&gt;tensorflow-rocm) (1.3.0)\nRequirement already satisfied: pyasn1&gt;=0.1.3 in /usr/lib/python3/dist-packages (from rsa&lt;5,&gt;=3.1.4; python_version &gt;= &quot;3.5&quot;-&gt;google-auth&lt;2,&gt;=1.6.3-&gt;tensorboard&lt;3,&gt;=2.3.0-&gt;tensorflow-rocm) (0.4.2)\nRequirement already satisfied: oauthlib&gt;=3.0.0 in /usr/lib/python3/dist-packages (from requests-oauthlib&gt;=0.7.0-&gt;google-auth-oauthlib&lt;0.5,&gt;=0.4.1-&gt;tensorboard&lt;3,&gt;=2.3.0-&gt;tensorflow-rocm) (3.1.0)\nInstalling collected packages: scipy, tensorflow-rocm\nSuccessfully installed scipy-1.4.1 tensorflow-rocm-2.3.1\n"
    }
   ],
   "source": [
    "!pip3 install --no-cache-dir tensorflow-rocm"
   ]
  },
  {
   "cell_type": "code",
   "execution_count": 2,
   "metadata": {
    "tags": []
   },
   "outputs": [
    {
     "output_type": "stream",
     "name": "stdout",
     "text": "Collecting tensorflow\n  Downloading tensorflow-2.3.1-cp38-cp38-manylinux2010_x86_64.whl (320.5 MB)\n\u001b[K     |████████████████████████████████| 320.5 MB 1.2 kB/s \n\u001b[?25hRequirement already satisfied: tensorflow-estimator&lt;2.4.0,&gt;=2.3.0 in /home/vicotrbb/.local/lib/python3.8/site-packages (from tensorflow) (2.3.0)\nRequirement already satisfied: h5py&lt;2.11.0,&gt;=2.10.0 in /home/vicotrbb/.local/lib/python3.8/site-packages (from tensorflow) (2.10.0)\nRequirement already satisfied: keras-preprocessing&lt;1.2,&gt;=1.1.1 in /home/vicotrbb/.local/lib/python3.8/site-packages (from tensorflow) (1.1.2)\nRequirement already satisfied: wheel&gt;=0.26 in /usr/lib/python3/dist-packages (from tensorflow) (0.34.2)\nRequirement already satisfied: numpy&lt;1.19.0,&gt;=1.16.0 in /home/vicotrbb/.local/lib/python3.8/site-packages (from tensorflow) (1.18.5)\nRequirement already satisfied: gast==0.3.3 in /home/vicotrbb/.local/lib/python3.8/site-packages (from tensorflow) (0.3.3)\nRequirement already satisfied: termcolor&gt;=1.1.0 in /home/vicotrbb/.local/lib/python3.8/site-packages (from tensorflow) (1.1.0)\nRequirement already satisfied: wrapt&gt;=1.11.1 in /home/vicotrbb/.local/lib/python3.8/site-packages (from tensorflow) (1.12.1)\nRequirement already satisfied: protobuf&gt;=3.9.2 in /home/vicotrbb/.local/lib/python3.8/site-packages (from tensorflow) (3.13.0)\nRequirement already satisfied: google-pasta&gt;=0.1.8 in /home/vicotrbb/.local/lib/python3.8/site-packages (from tensorflow) (0.2.0)\nRequirement already satisfied: six&gt;=1.12.0 in /home/vicotrbb/.local/lib/python3.8/site-packages (from tensorflow) (1.15.0)\nRequirement already satisfied: astunparse==1.6.3 in /home/vicotrbb/.local/lib/python3.8/site-packages (from tensorflow) (1.6.3)\nRequirement already satisfied: opt-einsum&gt;=2.3.2 in /home/vicotrbb/.local/lib/python3.8/site-packages (from tensorflow) (3.3.0)\nRequirement already satisfied: tensorboard&lt;3,&gt;=2.3.0 in /home/vicotrbb/.local/lib/python3.8/site-packages (from tensorflow) (2.3.0)\nRequirement already satisfied: absl-py&gt;=0.7.0 in /home/vicotrbb/.local/lib/python3.8/site-packages (from tensorflow) (0.10.0)\nRequirement already satisfied: grpcio&gt;=1.8.6 in /home/vicotrbb/.local/lib/python3.8/site-packages (from tensorflow) (1.32.0)\nRequirement already satisfied: setuptools in /usr/lib/python3/dist-packages (from protobuf&gt;=3.9.2-&gt;tensorflow) (45.2.0)\nRequirement already satisfied: markdown&gt;=2.6.8 in /home/vicotrbb/.local/lib/python3.8/site-packages (from tensorboard&lt;3,&gt;=2.3.0-&gt;tensorflow) (3.3)\nRequirement already satisfied: werkzeug&gt;=0.11.15 in /home/vicotrbb/.local/lib/python3.8/site-packages (from tensorboard&lt;3,&gt;=2.3.0-&gt;tensorflow) (1.0.1)\nRequirement already satisfied: requests&lt;3,&gt;=2.21.0 in /usr/lib/python3/dist-packages (from tensorboard&lt;3,&gt;=2.3.0-&gt;tensorflow) (2.22.0)\nRequirement already satisfied: google-auth&lt;2,&gt;=1.6.3 in /home/vicotrbb/.local/lib/python3.8/site-packages (from tensorboard&lt;3,&gt;=2.3.0-&gt;tensorflow) (1.22.1)\nRequirement already satisfied: google-auth-oauthlib&lt;0.5,&gt;=0.4.1 in /home/vicotrbb/.local/lib/python3.8/site-packages (from tensorboard&lt;3,&gt;=2.3.0-&gt;tensorflow) (0.4.1)\nRequirement already satisfied: tensorboard-plugin-wit&gt;=1.6.0 in /home/vicotrbb/.local/lib/python3.8/site-packages (from tensorboard&lt;3,&gt;=2.3.0-&gt;tensorflow) (1.7.0)\nRequirement already satisfied: rsa&lt;5,&gt;=3.1.4; python_version &gt;= &quot;3.5&quot; in /home/vicotrbb/.local/lib/python3.8/site-packages (from google-auth&lt;2,&gt;=1.6.3-&gt;tensorboard&lt;3,&gt;=2.3.0-&gt;tensorflow) (4.6)\nRequirement already satisfied: pyasn1-modules&gt;=0.2.1 in /usr/lib/python3/dist-packages (from google-auth&lt;2,&gt;=1.6.3-&gt;tensorboard&lt;3,&gt;=2.3.0-&gt;tensorflow) (0.2.1)\nRequirement already satisfied: cachetools&lt;5.0,&gt;=2.0.0 in /home/vicotrbb/.local/lib/python3.8/site-packages (from google-auth&lt;2,&gt;=1.6.3-&gt;tensorboard&lt;3,&gt;=2.3.0-&gt;tensorflow) (4.1.1)\nRequirement already satisfied: requests-oauthlib&gt;=0.7.0 in /home/vicotrbb/.local/lib/python3.8/site-packages (from google-auth-oauthlib&lt;0.5,&gt;=0.4.1-&gt;tensorboard&lt;3,&gt;=2.3.0-&gt;tensorflow) (1.3.0)\nRequirement already satisfied: pyasn1&gt;=0.1.3 in /usr/lib/python3/dist-packages (from rsa&lt;5,&gt;=3.1.4; python_version &gt;= &quot;3.5&quot;-&gt;google-auth&lt;2,&gt;=1.6.3-&gt;tensorboard&lt;3,&gt;=2.3.0-&gt;tensorflow) (0.4.2)\nRequirement already satisfied: oauthlib&gt;=3.0.0 in /usr/lib/python3/dist-packages (from requests-oauthlib&gt;=0.7.0-&gt;google-auth-oauthlib&lt;0.5,&gt;=0.4.1-&gt;tensorboard&lt;3,&gt;=2.3.0-&gt;tensorflow) (3.1.0)\nInstalling collected packages: tensorflow\nSuccessfully installed tensorflow-2.3.1\n"
    }
   ],
   "source": [
    "!pip3 install tensorflow"
   ]
  },
  {
   "cell_type": "code",
   "execution_count": 3,
   "metadata": {
    "tags": []
   },
   "outputs": [
    {
     "output_type": "stream",
     "name": "stdout",
     "text": "Requirement already satisfied: numpy in /home/vicotrbb/.local/lib/python3.8/site-packages (1.18.5)\nRequirement already satisfied: nltk in /home/vicotrbb/.local/lib/python3.8/site-packages (3.5)\nRequirement already satisfied: joblib in /home/vicotrbb/.local/lib/python3.8/site-packages (from nltk) (0.17.0)\nRequirement already satisfied: click in /usr/lib/python3/dist-packages (from nltk) (7.0)\nRequirement already satisfied: tqdm in /home/vicotrbb/.local/lib/python3.8/site-packages (from nltk) (4.50.0)\nRequirement already satisfied: regex in /home/vicotrbb/.local/lib/python3.8/site-packages (from nltk) (2020.9.27)\n"
    }
   ],
   "source": [
    "!pip3 install numpy\n",
    "!pip3 install nltk"
   ]
  },
  {
   "cell_type": "code",
   "execution_count": 5,
   "metadata": {},
   "outputs": [],
   "source": [
    "import math\n",
    "import numpy as np\n",
    "import string\n",
    "import json\n",
    "import os\n",
    "import sys\n",
    "import logging\n",
    "import nltk\n",
    "import random\n",
    "from nltk.corpus import stopwords\n",
    "\n",
    "from nltk.tokenize import word_tokenize\n",
    "\n",
    "import tensorflow as tf\n",
    "from tensorflow.python.client import device_lib\n",
    "from tensorflow.keras import backend as K\n",
    "\n",
    "from tensorflow.keras.models import Sequential\n",
    "from tensorflow.keras.layers import Dense\n",
    "from tensorflow.keras.layers import Dropout\n",
    "from tensorflow.keras.layers import LSTM\n",
    "from tensorflow.keras.layers import Embedding"
   ]
  },
  {
   "cell_type": "code",
   "execution_count": null,
   "metadata": {
    "tags": []
   },
   "outputs": [],
   "source": [
    "print(device_lib.list_local_devices())"
   ]
  },
  {
   "cell_type": "code",
   "execution_count": 6,
   "metadata": {
    "tags": []
   },
   "outputs": [
    {
     "output_type": "stream",
     "name": "stderr",
     "text": "[nltk_data] Downloading package punkt to /home/vicotrbb/nltk_data...\n[nltk_data]   Unzipping tokenizers/punkt.zip.\n[nltk_data] Downloading package stopwords to\n[nltk_data]     /home/vicotrbb/nltk_data...\n[nltk_data]   Unzipping corpora/stopwords.zip.\n"
    }
   ],
   "source": [
    "nltk.download('punkt')\n",
    "nltk.download('stopwords')"
   ]
  },
  {
   "cell_type": "code",
   "execution_count": 31,
   "metadata": {},
   "outputs": [],
   "source": [
    "chars = ''\n",
    "maxlen = 60\n",
    "step = 3"
   ]
  },
  {
   "cell_type": "code",
   "execution_count": 7,
   "metadata": {
    "tags": []
   },
   "outputs": [
    {
     "output_type": "stream",
     "name": "stdout",
     "text": "2.4.0\n2.3.1\n"
    }
   ],
   "source": [
    "print(tf.keras.__version__)\n",
    "print(tf.__version__)"
   ]
  },
  {
   "cell_type": "code",
   "execution_count": 8,
   "metadata": {},
   "outputs": [],
   "source": [
    "# Fix seed's\n",
    "os.environ['PYTHONHASHSEED']=str(66)\n",
    "tf.random.set_seed(66)\n",
    "np.random.seed(66)\n",
    "random.seed(66)"
   ]
  },
  {
   "cell_type": "code",
   "execution_count": 28,
   "metadata": {},
   "outputs": [],
   "source": [
    "def prepareData(dataFile, parts):\n",
    "    f = open(dataFile,)\n",
    "    data = json.load(f)\n",
    "\n",
    "    content = list(data[x] for x in data.keys())\n",
    "    text = ''\n",
    "\n",
    "    for c in content[:parts]:\n",
    "        for i in c:\n",
    "            text += i\n",
    "\n",
    "    print(f'Corpus length: {len(text)}')\n",
    "\n",
    "    tokens = word_tokenize(text)\n",
    "    tokens = [w.lower() for w in tokens]\n",
    "    table = str.maketrans('', '', string.punctuation)\n",
    "    stripped = [w.translate(table) for w in tokens]\n",
    "    words = [word for word in stripped if word.isalpha()]\n",
    "    stop_words = set(stopwords.words('english'))\n",
    "    words = [w for w in words if not w in stop_words]\n",
    "\n",
    "    text = ''\n",
    "    for c in words:\n",
    "        text += c\n",
    "        text += ' '\n",
    "    text = text.strip()\n",
    "\n",
    "    print(f'Finished to load file')\n",
    "    return text"
   ]
  },
  {
   "cell_type": "code",
   "execution_count": 29,
   "metadata": {
    "tags": []
   },
   "outputs": [
    {
     "output_type": "stream",
     "name": "stdout",
     "text": "Corpus length: 901824\nFinished to load file\n"
    }
   ],
   "source": [
    "text = prepareData('Carreira/PROJETOS/PESSOAIS/machine_learning/projects/wikipedia-nlp/wikipedia-content-dataset.json', 250)"
   ]
  },
  {
   "cell_type": "code",
   "execution_count": 32,
   "metadata": {
    "tags": []
   },
   "outputs": [
    {
     "output_type": "stream",
     "name": "stdout",
     "text": "Numero de sequencias: 207132\nCaracteres unicos: 254\nVetorizando o texto\n"
    }
   ],
   "source": [
    "sentences = []\n",
    "next_chars = []\n",
    "\n",
    "for i in range(0, len(text) - maxlen, step):\n",
    "    sentences.append(text[i: i + maxlen])\n",
    "    next_chars.append(text[i + maxlen])\n",
    "print('Numero de sequencias:', len(sentences))\n",
    "\n",
    "chars = sorted(list(set(text)))\n",
    "print('Caracteres unicos:', len(chars))\n",
    "char_indices = dict((char, chars.index(char)) for char in chars)\n",
    "\n",
    "print('Vetorizando o texto')\n",
    "x = np.zeros((len(sentences), maxlen, len(chars)), dtype=np.bool)\n",
    "y = np.zeros((len(sentences), len(chars)), dtype=np.bool)\n",
    "for i, sentence in enumerate(sentences):\n",
    "    for t, char in enumerate(sentence):\n",
    "        x[i, t, char_indices[char]] = 1\n",
    "    y[i, char_indices[next_chars[i]]] = 1\n",
    "print('Finalizado vetorização do texto')"
   ]
  },
  {
   "cell_type": "code",
   "execution_count": 33,
   "metadata": {
    "tags": []
   },
   "outputs": [
    {
     "output_type": "stream",
     "name": "stdout",
     "text": "(207132, 60, 254)\n(207132, 254)\n"
    }
   ],
   "source": [
    "print(x.shape)\n",
    "print(y.shape)"
   ]
  },
  {
   "cell_type": "code",
   "execution_count": 37,
   "metadata": {
    "tags": []
   },
   "outputs": [
    {
     "output_type": "stream",
     "name": "stdout",
     "text": "Model: &quot;sequential_1&quot;\n_________________________________________________________________\nLayer (type)                 Output Shape              Param #   \n=================================================================\nlstm_3 (LSTM)                (None, 60, 254)           517144    \n_________________________________________________________________\nlstm_4 (LSTM)                (None, 60, 254)           517144    \n_________________________________________________________________\nlstm_5 (LSTM)                (None, 254)               517144    \n_________________________________________________________________\ndense_2 (Dense)              (None, 254)               64770     \n_________________________________________________________________\ndense_3 (Dense)              (None, 254)               64770     \n=================================================================\nTotal params: 1,680,972\nTrainable params: 1,680,972\nNon-trainable params: 0\n_________________________________________________________________\n"
    }
   ],
   "source": [
    "model = Sequential([\n",
    "    LSTM(len(chars), return_sequences=True, input_shape=(maxlen, len(chars))),\n",
    "    LSTM(len(chars), return_sequences=True),\n",
    "    LSTM(len(chars)),\n",
    "    Dense(len(chars), activation='relu'),\n",
    "    Dense(len(chars), activation='softmax')\n",
    "])\n",
    "model.summary()"
   ]
  },
  {
   "cell_type": "code",
   "execution_count": 40,
   "metadata": {},
   "outputs": [],
   "source": [
    "model.compile(loss='categorical_crossentropy', optimizer='adam', metrics=['accuracy'])"
   ]
  },
  {
   "cell_type": "code",
   "execution_count": 41,
   "metadata": {
    "tags": []
   },
   "outputs": [
    {
     "output_type": "stream",
     "name": "stdout",
     "text": "Treino do modelo\nEpoch 1/75\n1619/1619 [==============================] - 892s 551ms/step - loss: 2.6873 - accuracy: 0.1975\nEpoch 2/75\n1619/1619 [==============================] - 876s 541ms/step - loss: 2.3570 - accuracy: 0.2764\nEpoch 3/75\n1619/1619 [==============================] - 878s 543ms/step - loss: 2.1728 - accuracy: 0.3349\nEpoch 4/75\n1619/1619 [==============================] - 884s 546ms/step - loss: 2.0028 - accuracy: 0.3889\nEpoch 5/75\n1619/1619 [==============================] - 876s 541ms/step - loss: 1.8670 - accuracy: 0.4318\nEpoch 6/75\n1616/1619 [============================&gt;.] - ETA: 1s - loss: 1.7648 - accuracy: 0.4629"
    },
    {
     "output_type": "error",
     "ename": "KeyboardInterrupt",
     "evalue": "",
     "traceback": [
      "\u001b[0;31m---------------------------------------------------------------------------\u001b[0m",
      "\u001b[0;31mKeyboardInterrupt\u001b[0m                         Traceback (most recent call last)",
      "\u001b[0;32m&lt;ipython-input-41-fad1186de572&gt;\u001b[0m in \u001b[0;36m&lt;module&gt;\u001b[0;34m\u001b[0m\n\u001b[1;32m      1\u001b[0m \u001b[0mprint\u001b[0m\u001b[0;34m(\u001b[0m\u001b[0;34m&quot;Treino do modelo&quot;\u001b[0m\u001b[0;34m)\u001b[0m\u001b[0;34m\u001b[0m\u001b[0;34m\u001b[0m\u001b[0m\n\u001b[0;32m----&gt; 2\u001b[0;31m \u001b[0mmodel\u001b[0m\u001b[0;34m.\u001b[0m\u001b[0mfit\u001b[0m\u001b[0;34m(\u001b[0m\u001b[0mx\u001b[0m\u001b[0;34m,\u001b[0m \u001b[0my\u001b[0m\u001b[0;34m,\u001b[0m \u001b[0mbatch_size\u001b[0m\u001b[0;34m=\u001b[0m\u001b[0;36m128\u001b[0m\u001b[0;34m,\u001b[0m \u001b[0mepochs\u001b[0m\u001b[0;34m=\u001b[0m\u001b[0;36m75\u001b[0m\u001b[0;34m)\u001b[0m\u001b[0;34m\u001b[0m\u001b[0;34m\u001b[0m\u001b[0m\n\u001b[0m",
      "\u001b[0;32m~/.local/lib/python3.8/site-packages/tensorflow/python/keras/engine/training.py\u001b[0m in \u001b[0;36m_method_wrapper\u001b[0;34m(self, *args, **kwargs)\u001b[0m\n\u001b[1;32m    106\u001b[0m   \u001b[0;32mdef\u001b[0m \u001b[0m_method_wrapper\u001b[0m\u001b[0;34m(\u001b[0m\u001b[0mself\u001b[0m\u001b[0;34m,\u001b[0m \u001b[0;34m*\u001b[0m\u001b[0margs\u001b[0m\u001b[0;34m,\u001b[0m \u001b[0;34m**\u001b[0m\u001b[0mkwargs\u001b[0m\u001b[0;34m)\u001b[0m\u001b[0;34m:\u001b[0m\u001b[0;34m\u001b[0m\u001b[0;34m\u001b[0m\u001b[0m\n\u001b[1;32m    107\u001b[0m     \u001b[0;32mif\u001b[0m \u001b[0;32mnot\u001b[0m \u001b[0mself\u001b[0m\u001b[0;34m.\u001b[0m\u001b[0m_in_multi_worker_mode\u001b[0m\u001b[0;34m(\u001b[0m\u001b[0;34m)\u001b[0m\u001b[0;34m:\u001b[0m  \u001b[0;31m# pylint: disable=protected-access\u001b[0m\u001b[0;34m\u001b[0m\u001b[0;34m\u001b[0m\u001b[0m\n\u001b[0;32m--&gt; 108\u001b[0;31m       \u001b[0;32mreturn\u001b[0m \u001b[0mmethod\u001b[0m\u001b[0;34m(\u001b[0m\u001b[0mself\u001b[0m\u001b[0;34m,\u001b[0m \u001b[0;34m*\u001b[0m\u001b[0margs\u001b[0m\u001b[0;34m,\u001b[0m \u001b[0;34m**\u001b[0m\u001b[0mkwargs\u001b[0m\u001b[0;34m)\u001b[0m\u001b[0;34m\u001b[0m\u001b[0;34m\u001b[0m\u001b[0m\n\u001b[0m\u001b[1;32m    109\u001b[0m \u001b[0;34m\u001b[0m\u001b[0m\n\u001b[1;32m    110\u001b[0m     \u001b[0;31m# Running inside `run_distribute_coordinator` already.\u001b[0m\u001b[0;34m\u001b[0m\u001b[0;34m\u001b[0m\u001b[0;34m\u001b[0m\u001b[0m\n",
      "\u001b[0;32m~/.local/lib/python3.8/site-packages/tensorflow/python/keras/engine/training.py\u001b[0m in \u001b[0;36mfit\u001b[0;34m(self, x, y, batch_size, epochs, verbose, callbacks, validation_split, validation_data, shuffle, class_weight, sample_weight, initial_epoch, steps_per_epoch, validation_steps, validation_batch_size, validation_freq, max_queue_size, workers, use_multiprocessing)\u001b[0m\n\u001b[1;32m   1096\u001b[0m                 batch_size=batch_size):\n\u001b[1;32m   1097\u001b[0m               \u001b[0mcallbacks\u001b[0m\u001b[0;34m.\u001b[0m\u001b[0mon_train_batch_begin\u001b[0m\u001b[0;34m(\u001b[0m\u001b[0mstep\u001b[0m\u001b[0;34m)\u001b[0m\u001b[0;34m\u001b[0m\u001b[0;34m\u001b[0m\u001b[0m\n\u001b[0;32m-&gt; 1098\u001b[0;31m               \u001b[0mtmp_logs\u001b[0m \u001b[0;34m=\u001b[0m \u001b[0mtrain_function\u001b[0m\u001b[0;34m(\u001b[0m\u001b[0miterator\u001b[0m\u001b[0;34m)\u001b[0m\u001b[0;34m\u001b[0m\u001b[0;34m\u001b[0m\u001b[0m\n\u001b[0m\u001b[1;32m   1099\u001b[0m               \u001b[0;32mif\u001b[0m \u001b[0mdata_handler\u001b[0m\u001b[0;34m.\u001b[0m\u001b[0mshould_sync\u001b[0m\u001b[0;34m:\u001b[0m\u001b[0;34m\u001b[0m\u001b[0;34m\u001b[0m\u001b[0m\n\u001b[1;32m   1100\u001b[0m                 \u001b[0mcontext\u001b[0m\u001b[0;34m.\u001b[0m\u001b[0masync_wait\u001b[0m\u001b[0;34m(\u001b[0m\u001b[0;34m)\u001b[0m\u001b[0;34m\u001b[0m\u001b[0;34m\u001b[0m\u001b[0m\n",
      "\u001b[0;32m~/.local/lib/python3.8/site-packages/tensorflow/python/eager/def_function.py\u001b[0m in \u001b[0;36m__call__\u001b[0;34m(self, *args, **kwds)\u001b[0m\n\u001b[1;32m    778\u001b[0m       \u001b[0;32melse\u001b[0m\u001b[0;34m:\u001b[0m\u001b[0;34m\u001b[0m\u001b[0;34m\u001b[0m\u001b[0m\n\u001b[1;32m    779\u001b[0m         \u001b[0mcompiler\u001b[0m \u001b[0;34m=\u001b[0m \u001b[0;34m&quot;nonXla&quot;\u001b[0m\u001b[0;34m\u001b[0m\u001b[0;34m\u001b[0m\u001b[0m\n\u001b[0;32m--&gt; 780\u001b[0;31m         \u001b[0mresult\u001b[0m \u001b[0;34m=\u001b[0m \u001b[0mself\u001b[0m\u001b[0;34m.\u001b[0m\u001b[0m_call\u001b[0m\u001b[0;34m(\u001b[0m\u001b[0;34m*\u001b[0m\u001b[0margs\u001b[0m\u001b[0;34m,\u001b[0m \u001b[0;34m**\u001b[0m\u001b[0mkwds\u001b[0m\u001b[0;34m)\u001b[0m\u001b[0;34m\u001b[0m\u001b[0;34m\u001b[0m\u001b[0m\n\u001b[0m\u001b[1;32m    781\u001b[0m \u001b[0;34m\u001b[0m\u001b[0m\n\u001b[1;32m    782\u001b[0m       \u001b[0mnew_tracing_count\u001b[0m \u001b[0;34m=\u001b[0m \u001b[0mself\u001b[0m\u001b[0;34m.\u001b[0m\u001b[0m_get_tracing_count\u001b[0m\u001b[0;34m(\u001b[0m\u001b[0;34m)\u001b[0m\u001b[0;34m\u001b[0m\u001b[0;34m\u001b[0m\u001b[0m\n",
      "\u001b[0;32m~/.local/lib/python3.8/site-packages/tensorflow/python/eager/def_function.py\u001b[0m in \u001b[0;36m_call\u001b[0;34m(self, *args, **kwds)\u001b[0m\n\u001b[1;32m    805\u001b[0m       \u001b[0;31m# In this case we have created variables on the first call, so we run the\u001b[0m\u001b[0;34m\u001b[0m\u001b[0;34m\u001b[0m\u001b[0;34m\u001b[0m\u001b[0m\n\u001b[1;32m    806\u001b[0m       \u001b[0;31m# defunned version which is guaranteed to never create variables.\u001b[0m\u001b[0;34m\u001b[0m\u001b[0;34m\u001b[0m\u001b[0;34m\u001b[0m\u001b[0m\n\u001b[0;32m--&gt; 807\u001b[0;31m       \u001b[0;32mreturn\u001b[0m \u001b[0mself\u001b[0m\u001b[0;34m.\u001b[0m\u001b[0m_stateless_fn\u001b[0m\u001b[0;34m(\u001b[0m\u001b[0;34m*\u001b[0m\u001b[0margs\u001b[0m\u001b[0;34m,\u001b[0m \u001b[0;34m**\u001b[0m\u001b[0mkwds\u001b[0m\u001b[0;34m)\u001b[0m  \u001b[0;31m# pylint: disable=not-callable\u001b[0m\u001b[0;34m\u001b[0m\u001b[0;34m\u001b[0m\u001b[0m\n\u001b[0m\u001b[1;32m    808\u001b[0m     \u001b[0;32melif\u001b[0m \u001b[0mself\u001b[0m\u001b[0;34m.\u001b[0m\u001b[0m_stateful_fn\u001b[0m \u001b[0;32mis\u001b[0m \u001b[0;32mnot\u001b[0m \u001b[0;32mNone\u001b[0m\u001b[0;34m:\u001b[0m\u001b[0;34m\u001b[0m\u001b[0;34m\u001b[0m\u001b[0m\n\u001b[1;32m    809\u001b[0m       \u001b[0;31m# Release the lock early so that multiple threads can perform the call\u001b[0m\u001b[0;34m\u001b[0m\u001b[0;34m\u001b[0m\u001b[0;34m\u001b[0m\u001b[0m\n",
      "\u001b[0;32m~/.local/lib/python3.8/site-packages/tensorflow/python/eager/function.py\u001b[0m in \u001b[0;36m__call__\u001b[0;34m(self, *args, **kwargs)\u001b[0m\n\u001b[1;32m   2827\u001b[0m     \u001b[0;32mwith\u001b[0m \u001b[0mself\u001b[0m\u001b[0;34m.\u001b[0m\u001b[0m_lock\u001b[0m\u001b[0;34m:\u001b[0m\u001b[0;34m\u001b[0m\u001b[0;34m\u001b[0m\u001b[0m\n\u001b[1;32m   2828\u001b[0m       \u001b[0mgraph_function\u001b[0m\u001b[0;34m,\u001b[0m \u001b[0margs\u001b[0m\u001b[0;34m,\u001b[0m \u001b[0mkwargs\u001b[0m \u001b[0;34m=\u001b[0m \u001b[0mself\u001b[0m\u001b[0;34m.\u001b[0m\u001b[0m_maybe_define_function\u001b[0m\u001b[0;34m(\u001b[0m\u001b[0margs\u001b[0m\u001b[0;34m,\u001b[0m \u001b[0mkwargs\u001b[0m\u001b[0;34m)\u001b[0m\u001b[0;34m\u001b[0m\u001b[0;34m\u001b[0m\u001b[0m\n\u001b[0;32m-&gt; 2829\u001b[0;31m     \u001b[0;32mreturn\u001b[0m \u001b[0mgraph_function\u001b[0m\u001b[0;34m.\u001b[0m\u001b[0m_filtered_call\u001b[0m\u001b[0;34m(\u001b[0m\u001b[0margs\u001b[0m\u001b[0;34m,\u001b[0m \u001b[0mkwargs\u001b[0m\u001b[0;34m)\u001b[0m  \u001b[0;31m# pylint: disable=protected-access\u001b[0m\u001b[0;34m\u001b[0m\u001b[0;34m\u001b[0m\u001b[0m\n\u001b[0m\u001b[1;32m   2830\u001b[0m \u001b[0;34m\u001b[0m\u001b[0m\n\u001b[1;32m   2831\u001b[0m   \u001b[0;34m@\u001b[0m\u001b[0mproperty\u001b[0m\u001b[0;34m\u001b[0m\u001b[0;34m\u001b[0m\u001b[0m\n",
      "\u001b[0;32m~/.local/lib/python3.8/site-packages/tensorflow/python/eager/function.py\u001b[0m in \u001b[0;36m_filtered_call\u001b[0;34m(self, args, kwargs, cancellation_manager)\u001b[0m\n\u001b[1;32m   1841\u001b[0m       \u001b[0;31m`\u001b[0m\u001b[0margs\u001b[0m\u001b[0;31m`\u001b[0m \u001b[0;32mand\u001b[0m\u001b[0;31m \u001b[0m\u001b[0;31m`\u001b[0m\u001b[0mkwargs\u001b[0m\u001b[0;31m`\u001b[0m\u001b[0;34m.\u001b[0m\u001b[0;34m\u001b[0m\u001b[0;34m\u001b[0m\u001b[0m\n\u001b[1;32m   1842\u001b[0m     &quot;&quot;&quot;\n\u001b[0;32m-&gt; 1843\u001b[0;31m     return self._call_flat(\n\u001b[0m\u001b[1;32m   1844\u001b[0m         [t for t in nest.flatten((args, kwargs), expand_composites=True)\n\u001b[1;32m   1845\u001b[0m          if isinstance(t, (ops.Tensor,\n",
      "\u001b[0;32m~/.local/lib/python3.8/site-packages/tensorflow/python/eager/function.py\u001b[0m in \u001b[0;36m_call_flat\u001b[0;34m(self, args, captured_inputs, cancellation_manager)\u001b[0m\n\u001b[1;32m   1921\u001b[0m         and executing_eagerly):\n\u001b[1;32m   1922\u001b[0m       \u001b[0;31m# No tape is watching; skip to running the function.\u001b[0m\u001b[0;34m\u001b[0m\u001b[0;34m\u001b[0m\u001b[0;34m\u001b[0m\u001b[0m\n\u001b[0;32m-&gt; 1923\u001b[0;31m       return self._build_call_outputs(self._inference_function.call(\n\u001b[0m\u001b[1;32m   1924\u001b[0m           ctx, args, cancellation_manager=cancellation_manager))\n\u001b[1;32m   1925\u001b[0m     forward_backward = self._select_forward_and_backward_functions(\n",
      "\u001b[0;32m~/.local/lib/python3.8/site-packages/tensorflow/python/eager/function.py\u001b[0m in \u001b[0;36mcall\u001b[0;34m(self, ctx, args, cancellation_manager)\u001b[0m\n\u001b[1;32m    543\u001b[0m       \u001b[0;32mwith\u001b[0m \u001b[0m_InterpolateFunctionError\u001b[0m\u001b[0;34m(\u001b[0m\u001b[0mself\u001b[0m\u001b[0;34m)\u001b[0m\u001b[0;34m:\u001b[0m\u001b[0;34m\u001b[0m\u001b[0;34m\u001b[0m\u001b[0m\n\u001b[1;32m    544\u001b[0m         \u001b[0;32mif\u001b[0m \u001b[0mcancellation_manager\u001b[0m \u001b[0;32mis\u001b[0m \u001b[0;32mNone\u001b[0m\u001b[0;34m:\u001b[0m\u001b[0;34m\u001b[0m\u001b[0;34m\u001b[0m\u001b[0m\n\u001b[0;32m--&gt; 545\u001b[0;31m           outputs = execute.execute(\n\u001b[0m\u001b[1;32m    546\u001b[0m               \u001b[0mstr\u001b[0m\u001b[0;34m(\u001b[0m\u001b[0mself\u001b[0m\u001b[0;34m.\u001b[0m\u001b[0msignature\u001b[0m\u001b[0;34m.\u001b[0m\u001b[0mname\u001b[0m\u001b[0;34m)\u001b[0m\u001b[0;34m,\u001b[0m\u001b[0;34m\u001b[0m\u001b[0;34m\u001b[0m\u001b[0m\n\u001b[1;32m    547\u001b[0m               \u001b[0mnum_outputs\u001b[0m\u001b[0;34m=\u001b[0m\u001b[0mself\u001b[0m\u001b[0;34m.\u001b[0m\u001b[0m_num_outputs\u001b[0m\u001b[0;34m,\u001b[0m\u001b[0;34m\u001b[0m\u001b[0;34m\u001b[0m\u001b[0m\n",
      "\u001b[0;32m~/.local/lib/python3.8/site-packages/tensorflow/python/eager/execute.py\u001b[0m in \u001b[0;36mquick_execute\u001b[0;34m(op_name, num_outputs, inputs, attrs, ctx, name)\u001b[0m\n\u001b[1;32m     57\u001b[0m   \u001b[0;32mtry\u001b[0m\u001b[0;34m:\u001b[0m\u001b[0;34m\u001b[0m\u001b[0;34m\u001b[0m\u001b[0m\n\u001b[1;32m     58\u001b[0m     \u001b[0mctx\u001b[0m\u001b[0;34m.\u001b[0m\u001b[0mensure_initialized\u001b[0m\u001b[0;34m(\u001b[0m\u001b[0;34m)\u001b[0m\u001b[0;34m\u001b[0m\u001b[0;34m\u001b[0m\u001b[0m\n\u001b[0;32m---&gt; 59\u001b[0;31m     tensors = pywrap_tfe.TFE_Py_Execute(ctx._handle, device_name, op_name,\n\u001b[0m\u001b[1;32m     60\u001b[0m                                         inputs, attrs, num_outputs)\n\u001b[1;32m     61\u001b[0m   \u001b[0;32mexcept\u001b[0m \u001b[0mcore\u001b[0m\u001b[0;34m.\u001b[0m\u001b[0m_NotOkStatusException\u001b[0m \u001b[0;32mas\u001b[0m \u001b[0me\u001b[0m\u001b[0;34m:\u001b[0m\u001b[0;34m\u001b[0m\u001b[0;34m\u001b[0m\u001b[0m\n",
      "\u001b[0;31mKeyboardInterrupt\u001b[0m: "
     ]
    }
   ],
   "source": [
    "print(\"Treino do modelo\")\n",
    "model.fit(x, y, batch_size=128, epochs=75)"
   ]
  },
  {
   "cell_type": "code",
   "execution_count": null,
   "metadata": {},
   "outputs": [],
   "source": []
  }
 ]
}