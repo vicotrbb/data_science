{
  "nbformat": 4,
  "nbformat_minor": 0,
  "metadata": {
    "colab": {
      "name": "yfinance.ipynb",
      "provenance": [],
      "authorship_tag": "ABX9TyMoxtdpU846SAcBmLOYIsCj",
      "include_colab_link": true
    },
    "kernelspec": {
      "name": "python3",
      "display_name": "Python 3"
    },
    "language_info": {
      "name": "python"
    }
  },
  "cells": [
    {
      "cell_type": "markdown",
      "metadata": {
        "id": "view-in-github",
        "colab_type": "text"
      },
      "source": [
        "<a href=\"https://colab.research.google.com/github/vicotrbb/data_science/blob/master/projects/yfinance.ipynb\" target=\"_parent\"><img src=\"https://colab.research.google.com/assets/colab-badge.svg\" alt=\"Open In Colab\"/></a>"
      ]
    },
    {
      "cell_type": "code",
      "metadata": {
        "colab": {
          "base_uri": "https://localhost:8080/"
        },
        "id": "VB-nLTb95SFc",
        "outputId": "f5af374c-4301-4e7f-de7a-2d61a80107ae"
      },
      "source": [
        "!pip install yfinance"
      ],
      "execution_count": null,
      "outputs": [
        {
          "output_type": "stream",
          "text": [
            "Collecting yfinance\n",
            "  Downloading https://files.pythonhosted.org/packages/a7/ee/315752b9ef281ba83c62aa7ec2e2074f85223da6e7e74efb4d3e11c0f510/yfinance-0.1.59.tar.gz\n",
            "Requirement already satisfied: pandas>=0.24 in /usr/local/lib/python3.7/dist-packages (from yfinance) (1.1.5)\n",
            "Requirement already satisfied: numpy>=1.15 in /usr/local/lib/python3.7/dist-packages (from yfinance) (1.19.5)\n",
            "Requirement already satisfied: requests>=2.20 in /usr/local/lib/python3.7/dist-packages (from yfinance) (2.23.0)\n",
            "Requirement already satisfied: multitasking>=0.0.7 in /usr/local/lib/python3.7/dist-packages (from yfinance) (0.0.9)\n",
            "Collecting lxml>=4.5.1\n",
            "\u001b[?25l  Downloading https://files.pythonhosted.org/packages/30/c0/d0526314971fc661b083ab135747dc68446a3022686da8c16d25fcf6ef07/lxml-4.6.3-cp37-cp37m-manylinux2014_x86_64.whl (6.3MB)\n",
            "\u001b[K     |████████████████████████████████| 6.3MB 4.3MB/s \n",
            "\u001b[?25hRequirement already satisfied: python-dateutil>=2.7.3 in /usr/local/lib/python3.7/dist-packages (from pandas>=0.24->yfinance) (2.8.1)\n",
            "Requirement already satisfied: pytz>=2017.2 in /usr/local/lib/python3.7/dist-packages (from pandas>=0.24->yfinance) (2018.9)\n",
            "Requirement already satisfied: urllib3!=1.25.0,!=1.25.1,<1.26,>=1.21.1 in /usr/local/lib/python3.7/dist-packages (from requests>=2.20->yfinance) (1.24.3)\n",
            "Requirement already satisfied: chardet<4,>=3.0.2 in /usr/local/lib/python3.7/dist-packages (from requests>=2.20->yfinance) (3.0.4)\n",
            "Requirement already satisfied: idna<3,>=2.5 in /usr/local/lib/python3.7/dist-packages (from requests>=2.20->yfinance) (2.10)\n",
            "Requirement already satisfied: certifi>=2017.4.17 in /usr/local/lib/python3.7/dist-packages (from requests>=2.20->yfinance) (2020.12.5)\n",
            "Requirement already satisfied: six>=1.5 in /usr/local/lib/python3.7/dist-packages (from python-dateutil>=2.7.3->pandas>=0.24->yfinance) (1.15.0)\n",
            "Building wheels for collected packages: yfinance\n",
            "  Building wheel for yfinance (setup.py) ... \u001b[?25l\u001b[?25hdone\n",
            "  Created wheel for yfinance: filename=yfinance-0.1.59-py2.py3-none-any.whl size=23442 sha256=eeac8bbeccb56b4c4b111675440d00c722744c1e117f151ed9728df9bcc4689f\n",
            "  Stored in directory: /root/.cache/pip/wheels/f8/2a/0f/4b5a86e1d52e451757eb6bc17fd899629f0925c777741b6d04\n",
            "Successfully built yfinance\n",
            "Installing collected packages: lxml, yfinance\n",
            "  Found existing installation: lxml 4.2.6\n",
            "    Uninstalling lxml-4.2.6:\n",
            "      Successfully uninstalled lxml-4.2.6\n",
            "Successfully installed lxml-4.6.3 yfinance-0.1.59\n"
          ],
          "name": "stdout"
        }
      ]
    },
    {
      "cell_type": "code",
      "metadata": {
        "colab": {
          "base_uri": "https://localhost:8080/"
        },
        "id": "2mGJhYTz7koI",
        "outputId": "482eaa39-d77f-4d78-d3d2-82765fc055b1"
      },
      "source": [
        "!pip install statsmodels"
      ],
      "execution_count": null,
      "outputs": [
        {
          "output_type": "stream",
          "text": [
            "Requirement already satisfied: statsmodels in /usr/local/lib/python3.7/dist-packages (0.10.2)\n",
            "Requirement already satisfied: scipy>=0.18 in /usr/local/lib/python3.7/dist-packages (from statsmodels) (1.4.1)\n",
            "Requirement already satisfied: patsy>=0.4.0 in /usr/local/lib/python3.7/dist-packages (from statsmodels) (0.5.1)\n",
            "Requirement already satisfied: numpy>=1.11 in /usr/local/lib/python3.7/dist-packages (from statsmodels) (1.19.5)\n",
            "Requirement already satisfied: pandas>=0.19 in /usr/local/lib/python3.7/dist-packages (from statsmodels) (1.1.5)\n",
            "Requirement already satisfied: six in /usr/local/lib/python3.7/dist-packages (from patsy>=0.4.0->statsmodels) (1.15.0)\n",
            "Requirement already satisfied: python-dateutil>=2.7.3 in /usr/local/lib/python3.7/dist-packages (from pandas>=0.19->statsmodels) (2.8.1)\n",
            "Requirement already satisfied: pytz>=2017.2 in /usr/local/lib/python3.7/dist-packages (from pandas>=0.19->statsmodels) (2018.9)\n"
          ],
          "name": "stdout"
        }
      ]
    },
    {
      "cell_type": "code",
      "metadata": {
        "colab": {
          "base_uri": "https://localhost:8080/"
        },
        "id": "VzE8t2dY5RoG",
        "outputId": "e59ed798-b10b-4017-b096-d97690b22409"
      },
      "source": [
        "import yfinance as yf\n",
        "yf.pdr_override()\n",
        "\n",
        "ticker_indicators = yf.Ticker(\"MSFT\")\n",
        "ticker_data = pdr.get_data_yahoo(\"MSFT\")"
      ],
      "execution_count": null,
      "outputs": [
        {
          "output_type": "stream",
          "text": [
            "\r[*********************100%***********************]  1 of 1 completed\n"
          ],
          "name": "stdout"
        }
      ]
    },
    {
      "cell_type": "code",
      "metadata": {
        "id": "CAl6IOp15i7a"
      },
      "source": [
        "from pandas_datareader import data as pdr\n",
        "import pandas as pd"
      ],
      "execution_count": null,
      "outputs": []
    },
    {
      "cell_type": "code",
      "metadata": {
        "id": "-W-gLQzf5xiM"
      },
      "source": [
        "ticker_indicators.info"
      ],
      "execution_count": null,
      "outputs": []
    },
    {
      "cell_type": "code",
      "metadata": {
        "colab": {
          "base_uri": "https://localhost:8080/",
          "height": 455
        },
        "id": "Wi3SJu3E7G9h",
        "outputId": "e547faf2-ac76-499e-a8c4-3da249c88e09"
      },
      "source": [
        "df = ticker_indicators.history(period='1d', interval=\"1m\")\n",
        "df"
      ],
      "execution_count": null,
      "outputs": [
        {
          "output_type": "execute_result",
          "data": {
            "text/html": [
              "<div>\n",
              "<style scoped>\n",
              "    .dataframe tbody tr th:only-of-type {\n",
              "        vertical-align: middle;\n",
              "    }\n",
              "\n",
              "    .dataframe tbody tr th {\n",
              "        vertical-align: top;\n",
              "    }\n",
              "\n",
              "    .dataframe thead th {\n",
              "        text-align: right;\n",
              "    }\n",
              "</style>\n",
              "<table border=\"1\" class=\"dataframe\">\n",
              "  <thead>\n",
              "    <tr style=\"text-align: right;\">\n",
              "      <th></th>\n",
              "      <th>Open</th>\n",
              "      <th>High</th>\n",
              "      <th>Low</th>\n",
              "      <th>Close</th>\n",
              "      <th>Volume</th>\n",
              "      <th>Dividends</th>\n",
              "      <th>Stock Splits</th>\n",
              "    </tr>\n",
              "    <tr>\n",
              "      <th>Datetime</th>\n",
              "      <th></th>\n",
              "      <th></th>\n",
              "      <th></th>\n",
              "      <th></th>\n",
              "      <th></th>\n",
              "      <th></th>\n",
              "      <th></th>\n",
              "    </tr>\n",
              "  </thead>\n",
              "  <tbody>\n",
              "    <tr>\n",
              "      <th>2021-05-07 09:30:00-04:00</th>\n",
              "      <td>251.850006</td>\n",
              "      <td>251.850006</td>\n",
              "      <td>251.660004</td>\n",
              "      <td>251.800003</td>\n",
              "      <td>1581179</td>\n",
              "      <td>0</td>\n",
              "      <td>0</td>\n",
              "    </tr>\n",
              "    <tr>\n",
              "      <th>2021-05-07 09:31:00-04:00</th>\n",
              "      <td>251.770004</td>\n",
              "      <td>251.830002</td>\n",
              "      <td>251.389999</td>\n",
              "      <td>251.550003</td>\n",
              "      <td>97628</td>\n",
              "      <td>0</td>\n",
              "      <td>0</td>\n",
              "    </tr>\n",
              "    <tr>\n",
              "      <th>2021-05-07 09:32:00-04:00</th>\n",
              "      <td>251.570007</td>\n",
              "      <td>251.740005</td>\n",
              "      <td>251.339996</td>\n",
              "      <td>251.505005</td>\n",
              "      <td>128051</td>\n",
              "      <td>0</td>\n",
              "      <td>0</td>\n",
              "    </tr>\n",
              "    <tr>\n",
              "      <th>2021-05-07 09:33:00-04:00</th>\n",
              "      <td>251.485001</td>\n",
              "      <td>251.729996</td>\n",
              "      <td>251.300003</td>\n",
              "      <td>251.570007</td>\n",
              "      <td>95727</td>\n",
              "      <td>0</td>\n",
              "      <td>0</td>\n",
              "    </tr>\n",
              "    <tr>\n",
              "      <th>2021-05-07 09:34:00-04:00</th>\n",
              "      <td>251.570007</td>\n",
              "      <td>251.639999</td>\n",
              "      <td>251.169998</td>\n",
              "      <td>251.449997</td>\n",
              "      <td>89753</td>\n",
              "      <td>0</td>\n",
              "      <td>0</td>\n",
              "    </tr>\n",
              "    <tr>\n",
              "      <th>...</th>\n",
              "      <td>...</td>\n",
              "      <td>...</td>\n",
              "      <td>...</td>\n",
              "      <td>...</td>\n",
              "      <td>...</td>\n",
              "      <td>...</td>\n",
              "      <td>...</td>\n",
              "    </tr>\n",
              "    <tr>\n",
              "      <th>2021-05-07 15:55:00-04:00</th>\n",
              "      <td>252.740005</td>\n",
              "      <td>252.869995</td>\n",
              "      <td>252.710007</td>\n",
              "      <td>252.789993</td>\n",
              "      <td>101844</td>\n",
              "      <td>0</td>\n",
              "      <td>0</td>\n",
              "    </tr>\n",
              "    <tr>\n",
              "      <th>2021-05-07 15:56:00-04:00</th>\n",
              "      <td>252.800003</td>\n",
              "      <td>252.809998</td>\n",
              "      <td>252.490005</td>\n",
              "      <td>252.600006</td>\n",
              "      <td>106881</td>\n",
              "      <td>0</td>\n",
              "      <td>0</td>\n",
              "    </tr>\n",
              "    <tr>\n",
              "      <th>2021-05-07 15:57:00-04:00</th>\n",
              "      <td>252.610001</td>\n",
              "      <td>252.830002</td>\n",
              "      <td>252.610001</td>\n",
              "      <td>252.794998</td>\n",
              "      <td>80800</td>\n",
              "      <td>0</td>\n",
              "      <td>0</td>\n",
              "    </tr>\n",
              "    <tr>\n",
              "      <th>2021-05-07 15:58:00-04:00</th>\n",
              "      <td>252.789993</td>\n",
              "      <td>252.824997</td>\n",
              "      <td>252.470001</td>\n",
              "      <td>252.520004</td>\n",
              "      <td>172548</td>\n",
              "      <td>0</td>\n",
              "      <td>0</td>\n",
              "    </tr>\n",
              "    <tr>\n",
              "      <th>2021-05-07 15:59:00-04:00</th>\n",
              "      <td>252.524994</td>\n",
              "      <td>252.669998</td>\n",
              "      <td>252.309998</td>\n",
              "      <td>252.460007</td>\n",
              "      <td>351595</td>\n",
              "      <td>0</td>\n",
              "      <td>0</td>\n",
              "    </tr>\n",
              "  </tbody>\n",
              "</table>\n",
              "<p>390 rows × 7 columns</p>\n",
              "</div>"
            ],
            "text/plain": [
              "                                 Open        High  ...  Dividends  Stock Splits\n",
              "Datetime                                           ...                         \n",
              "2021-05-07 09:30:00-04:00  251.850006  251.850006  ...          0             0\n",
              "2021-05-07 09:31:00-04:00  251.770004  251.830002  ...          0             0\n",
              "2021-05-07 09:32:00-04:00  251.570007  251.740005  ...          0             0\n",
              "2021-05-07 09:33:00-04:00  251.485001  251.729996  ...          0             0\n",
              "2021-05-07 09:34:00-04:00  251.570007  251.639999  ...          0             0\n",
              "...                               ...         ...  ...        ...           ...\n",
              "2021-05-07 15:55:00-04:00  252.740005  252.869995  ...          0             0\n",
              "2021-05-07 15:56:00-04:00  252.800003  252.809998  ...          0             0\n",
              "2021-05-07 15:57:00-04:00  252.610001  252.830002  ...          0             0\n",
              "2021-05-07 15:58:00-04:00  252.789993  252.824997  ...          0             0\n",
              "2021-05-07 15:59:00-04:00  252.524994  252.669998  ...          0             0\n",
              "\n",
              "[390 rows x 7 columns]"
            ]
          },
          "metadata": {
            "tags": []
          },
          "execution_count": 27
        }
      ]
    },
    {
      "cell_type": "code",
      "metadata": {
        "id": "HyOF_2Fp7iEY",
        "colab": {
          "base_uri": "https://localhost:8080/"
        },
        "outputId": "e2709556-6e9d-42b3-9835-fd3c57c279e0"
      },
      "source": [
        "from statsmodels.tsa.arima_model import ARIMA\n",
        "from matplotlib import pyplot as plt"
      ],
      "execution_count": null,
      "outputs": [
        {
          "output_type": "stream",
          "text": [
            "/usr/local/lib/python3.7/dist-packages/statsmodels/tools/_testing.py:19: FutureWarning: pandas.util.testing is deprecated. Use the functions in the public API at pandas.testing instead.\n",
            "  import pandas.util.testing as tm\n"
          ],
          "name": "stderr"
        }
      ]
    },
    {
      "cell_type": "markdown",
      "metadata": {
        "id": "Y2SIvQnp7wLX"
      },
      "source": [
        "# Stocks predictor"
      ]
    },
    {
      "cell_type": "code",
      "metadata": {
        "id": "O5wrwjtQ7vt8"
      },
      "source": [
        "google = yf.Ticker('GOOG')\n",
        "df = google.history(period='1d', interval=\"1m\")\n",
        "df = google.history(period='1d', interval=\"1m\")\n",
        "df = df[['Low']]\n",
        "df['date'] = pd.to_datetime(df.index).time\n",
        "df.set_index('date', inplace=True)"
      ],
      "execution_count": null,
      "outputs": []
    },
    {
      "cell_type": "code",
      "metadata": {
        "id": "ZMgLfN39-YC3"
      },
      "source": [
        "google.info"
      ],
      "execution_count": null,
      "outputs": []
    },
    {
      "cell_type": "code",
      "metadata": {
        "colab": {
          "base_uri": "https://localhost:8080/",
          "height": 238
        },
        "id": "_ZYyWXeb8tq4",
        "outputId": "8c804532-dd8f-4826-db81-d3051b337a2e"
      },
      "source": [
        "df.head()"
      ],
      "execution_count": null,
      "outputs": [
        {
          "output_type": "execute_result",
          "data": {
            "text/html": [
              "<div>\n",
              "<style scoped>\n",
              "    .dataframe tbody tr th:only-of-type {\n",
              "        vertical-align: middle;\n",
              "    }\n",
              "\n",
              "    .dataframe tbody tr th {\n",
              "        vertical-align: top;\n",
              "    }\n",
              "\n",
              "    .dataframe thead th {\n",
              "        text-align: right;\n",
              "    }\n",
              "</style>\n",
              "<table border=\"1\" class=\"dataframe\">\n",
              "  <thead>\n",
              "    <tr style=\"text-align: right;\">\n",
              "      <th></th>\n",
              "      <th>Low</th>\n",
              "    </tr>\n",
              "    <tr>\n",
              "      <th>date</th>\n",
              "      <th></th>\n",
              "    </tr>\n",
              "  </thead>\n",
              "  <tbody>\n",
              "    <tr>\n",
              "      <th>09:30:00</th>\n",
              "      <td>2370.510010</td>\n",
              "    </tr>\n",
              "    <tr>\n",
              "      <th>09:31:00</th>\n",
              "      <td>2368.889893</td>\n",
              "    </tr>\n",
              "    <tr>\n",
              "      <th>09:32:00</th>\n",
              "      <td>2366.145020</td>\n",
              "    </tr>\n",
              "    <tr>\n",
              "      <th>09:33:00</th>\n",
              "      <td>2362.000000</td>\n",
              "    </tr>\n",
              "    <tr>\n",
              "      <th>09:34:00</th>\n",
              "      <td>2356.659912</td>\n",
              "    </tr>\n",
              "  </tbody>\n",
              "</table>\n",
              "</div>"
            ],
            "text/plain": [
              "                  Low\n",
              "date                 \n",
              "09:30:00  2370.510010\n",
              "09:31:00  2368.889893\n",
              "09:32:00  2366.145020\n",
              "09:33:00  2362.000000\n",
              "09:34:00  2356.659912"
            ]
          },
          "metadata": {
            "tags": []
          },
          "execution_count": 9
        }
      ]
    },
    {
      "cell_type": "code",
      "metadata": {
        "id": "4Or7J67D8vAf"
      },
      "source": [
        "X = df.index.values\n",
        "y = df['Low'].values\n",
        "\n",
        "offset = int(0.10*len(df))\n",
        "\n",
        "X_train = X[:-offset]\n",
        "y_train = y[:-offset]\n",
        "X_test  = X[-offset:]\n",
        "y_test  = y[-offset:]"
      ],
      "execution_count": null,
      "outputs": []
    },
    {
      "cell_type": "code",
      "metadata": {
        "colab": {
          "base_uri": "https://localhost:8080/",
          "height": 265
        },
        "id": "RRXkezGf81y8",
        "outputId": "7fc05ec4-d592-49d3-9603-f8ac33c2e206"
      },
      "source": [
        "plt.plot(range(0,len(y_train)),y_train, label='Train')\n",
        "plt.plot(range(len(y_train),len(y)),y_test,label='Test')\n",
        "plt.legend()\n",
        "plt.show()"
      ],
      "execution_count": null,
      "outputs": [
        {
          "output_type": "display_data",
          "data": {
            "image/png": "[encoded data removed]",
            "text/plain": [
              "<Figure size 432x288 with 1 Axes>"
            ]
          },
          "metadata": {
            "tags": [],
            "needs_background": "light"
          }
        }
      ]
    },
    {
      "cell_type": "code",
      "metadata": {
        "id": "iLo1FWKF88_C"
      },
      "source": [
        "model = ARIMA(y_train, order=(5,0,1)).fit()\n",
        "forecast = model.forecast(steps=1)[0]"
      ],
      "execution_count": null,
      "outputs": []
    },
    {
      "cell_type": "code",
      "metadata": {
        "colab": {
          "base_uri": "https://localhost:8080/"
        },
        "id": "PWsVQRTf9DY4",
        "outputId": "0122419c-7524-486f-f102-f6e710d6d7fb"
      },
      "source": [
        "print(f'Real data for time 0: {y_train[len(y_train)-1]}')\n",
        "print(f'Real data for time 1: {y_test[0]}')\n",
        "print(f'Pred data for time 1: {forecast}')"
      ],
      "execution_count": null,
      "outputs": [
        {
          "output_type": "stream",
          "text": [
            "Real data for time 0: 2345.820068359375\n",
            "Real data for time 1: 2343.85009765625\n",
            "Pred data for time 1: [2345.69042077]\n"
          ],
          "name": "stdout"
        }
      ]
    },
    {
      "cell_type": "code",
      "metadata": {
        "colab": {
          "base_uri": "https://localhost:8080/"
        },
        "id": "6rz1DkdlJ05T",
        "outputId": "e12e5e21-3fde-4e13-c64c-1f536310cc14"
      },
      "source": [
        "y_test"
      ],
      "execution_count": null,
      "outputs": [
        {
          "output_type": "execute_result",
          "data": {
            "text/plain": [
              "array([2343.85009766, 2344.89501953, 2344.99511719, 2345.42993164,\n",
              "       2346.        , 2346.4699707 , 2346.59008789, 2348.09008789,\n",
              "       2347.92993164, 2347.97241211, 2348.25      , 2348.27490234,\n",
              "       2349.66992188, 2348.01000977, 2347.13989258, 2348.76000977,\n",
              "       2348.19995117, 2349.07006836, 2348.        , 2348.70996094,\n",
              "       2348.91992188, 2347.18994141, 2347.86010742, 2346.83007812,\n",
              "       2346.44995117, 2348.08007812, 2346.02001953, 2343.77001953,\n",
              "       2342.76000977, 2340.29003906, 2339.37011719, 2343.77001953,\n",
              "       2343.12988281, 2341.98999023, 2341.5300293 , 2341.65991211])"
            ]
          },
          "metadata": {
            "tags": []
          },
          "execution_count": 21
        }
      ]
    },
    {
      "cell_type": "code",
      "metadata": {
        "id": "A9KXO-129PHA"
      },
      "source": [
        "pred_test = model.forecast(steps=100)"
      ],
      "execution_count": null,
      "outputs": []
    },
    {
      "cell_type": "code",
      "metadata": {
        "colab": {
          "base_uri": "https://localhost:8080/"
        },
        "id": "M9T8SFY1J3I0",
        "outputId": "cd8edfdb-753c-42b8-ebd2-72e362ccde8e"
      },
      "source": [
        "pred_test[0]"
      ],
      "execution_count": null,
      "outputs": [
        {
          "output_type": "execute_result",
          "data": {
            "text/plain": [
              "array([2345.69042077, 2346.00955553, 2346.12348981, 2346.12613607,\n",
              "       2346.21788337, 2346.28452322, 2346.33588649, 2346.39161824,\n",
              "       2346.4533875 , 2346.50493442, 2346.56232237, 2346.61521401,\n",
              "       2346.67096504, 2346.72264465, 2346.77726689, 2346.82829952,\n",
              "       2346.88152405, 2346.9318494 , 2346.98386774, 2347.03341437,\n",
              "       2347.08427313, 2347.13303952, 2347.18278956, 2347.23075735,\n",
              "       2347.27944867, 2347.32660948, 2347.37428266, 2347.42063289,\n",
              "       2347.46732474, 2347.51286396, 2347.55860729, 2347.60333814,\n",
              "       2347.64816247, 2347.69208991, 2347.73602206, 2347.77915286,\n",
              "       2347.82221743, 2347.86455981, 2347.90677949, 2347.94834279,\n",
              "       2347.98973871, 2348.03053313, 2348.07112506, 2348.11116147,\n",
              "       2348.15096803, 2348.19025779, 2348.22929663, 2348.26785143,\n",
              "       2348.30613937, 2348.34397114, 2348.38152425, 2348.41864507,\n",
              "       2348.45547879, 2348.49190083, 2348.52803002, 2348.56376543,\n",
              "       2348.59920445, 2348.6342654 , 2348.66902815, 2348.70342672,\n",
              "       2348.73752669, 2348.77127485, 2348.80472516, 2348.83783478,\n",
              "       2348.87064819, 2348.90313101, 2348.93531996, 2348.96718755,\n",
              "       2348.99876419, 2349.03002798, 2349.06100417, 2349.09167539,\n",
              "       2349.12206272, 2349.15215246, 2349.18196225, 2349.21148142,\n",
              "       2349.24072477, 2349.26968407, 2349.29837183, 2349.3267818 ,\n",
              "       2349.35492461, 2349.3827956 , 2349.41040388, 2349.43774606,\n",
              "       2349.46482999, 2349.49165335, 2349.51822295, 2349.5445373 ,\n",
              "       2349.57060236, 2349.59641732, 2349.62198745, 2349.64731248,\n",
              "       2349.6723971 , 2349.69724148, 2349.72184983, 2349.74622267,\n",
              "       2349.77036379, 2349.79427402, 2349.81795682, 2349.8414132 ])"
            ]
          },
          "metadata": {
            "tags": []
          },
          "execution_count": 24
        }
      ]
    },
    {
      "cell_type": "code",
      "metadata": {
        "id": "vuB_TEPk9RrX"
      },
      "source": [
        "print(f'Real data for time 0-10: {y_test[0:10]}')\n",
        "print(f'Pred data for time 0-10: {pred_test[0]}')"
      ],
      "execution_count": null,
      "outputs": []
    },
    {
      "cell_type": "code",
      "metadata": {
        "colab": {
          "base_uri": "https://localhost:8080/",
          "height": 265
        },
        "id": "-O5e6QviKWmO",
        "outputId": "7b2bd545-f943-4bd0-c9d5-a20aca8a4eef"
      },
      "source": [
        "plt.plot(range(0,len(y_train)),y_train, label='Train', c='blue')\n",
        "plt.plot(range(len(y_train),len(y)),y_test,label='Test', c='orange')\n",
        "plt.plot(range(len(y_train),len(y_train) + len(pred_test[0][0:len(y_test)])),pred_test[0][0:len(y_test)],label='Predicted', c='red')\n",
        "plt.legend()\n",
        "plt.show()"
      ],
      "execution_count": null,
      "outputs": [
        {
          "output_type": "display_data",
          "data": {
            "image/png": "[encoded data removed]",
            "text/plain": [
              "<Figure size 432x288 with 1 Axes>"
            ]
          },
          "metadata": {
            "tags": [],
            "needs_background": "light"
          }
        }
      ]
    },
    {
      "cell_type": "code",
      "metadata": {
        "id": "vVp_qRa9Z8Ad"
      },
      "source": [
        "google = yf.Ticker('WEGE3.SA')\n",
        "df = google.history(period='1d', interval=\"1m\")\n",
        "df = google.history(period='1d', interval=\"1m\")\n",
        "df = df[['Low']]\n",
        "df['date'] = pd.to_datetime(df.index).time\n",
        "df.set_index('date', inplace=True)"
      ],
      "execution_count": null,
      "outputs": []
    },
    {
      "cell_type": "code",
      "metadata": {
        "id": "JmxiHc4fbhLG"
      },
      "source": [
        "X = df.index.values\n",
        "y = df['Low'].values\n",
        "\n",
        "offset = int(0.10*len(df))\n",
        "\n",
        "X_train = X[:-offset]\n",
        "y_train = y[:-offset]\n",
        "X_test  = X[-offset:]\n",
        "y_test  = y[-offset:]\n",
        "\n",
        "model = ARIMA(y_train, order=(5,0,1)).fit()\n",
        "forecast = model.predict(dynamic=True)"
      ],
      "execution_count": null,
      "outputs": []
    },
    {
      "cell_type": "code",
      "metadata": {
        "colab": {
          "base_uri": "https://localhost:8080/",
          "height": 265
        },
        "id": "Nr8hcIqTaVW6",
        "outputId": "ba1680fe-cb9e-41a5-d3ec-7ecdd085ac79"
      },
      "source": [
        "plt.plot(range(0,len(y_train)),y_train, label='Train', c='blue')\n",
        "plt.plot(range(len(y_train),len(y)),y_test,label='Test', c='orange')\n",
        "plt.legend()\n",
        "plt.show()"
      ],
      "execution_count": null,
      "outputs": [
        {
          "output_type": "display_data",
          "data": {
            "image/png": "[encoded data removed]",
            "text/plain": [
              "<Figure size 432x288 with 1 Axes>"
            ]
          },
          "metadata": {
            "tags": [],
            "needs_background": "light"
          }
        }
      ]
    }
  ]
}