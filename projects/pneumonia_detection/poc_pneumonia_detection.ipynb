{
  "nbformat": 4,
  "nbformat_minor": 0,
  "metadata": {
    "colab": {
      "name": "poc_pneumonia_detection.ipynb",
      "provenance": [],
      "authorship_tag": "ABX9TyMRI2/AUfU5vDZ1RZmeLSpu",
      "include_colab_link": true
    },
    "kernelspec": {
      "name": "python3",
      "display_name": "Python 3"
    }
  },
  "cells": [
    {
      "cell_type": "markdown",
      "metadata": {
        "id": "view-in-github",
        "colab_type": "text"
      },
      "source": [
        "<a href=\"https://colab.research.google.com/github/vicotrbb/machine_learning/blob/master/projects/pneumonia_detection/poc_pneumonia_detection.ipynb\" target=\"_parent\"><img src=\"https://colab.research.google.com/assets/colab-badge.svg\" alt=\"Open In Colab\"/></a>"
      ]
    },
    {
      "cell_type": "markdown",
      "metadata": {
        "id": "xUjO4tfqbVI_",
        "colab_type": "text"
      },
      "source": [
        "# Implementação de um classificar de CV para detecção de pneumonia"
      ]
    },
    {
      "cell_type": "code",
      "metadata": {
        "id": "6LuprjKDbRus",
        "colab_type": "code",
        "colab": {}
      },
      "source": [
        "import numpy as np\n",
        "import os\n",
        "import cv2\n",
        "import random\n",
        "import pickle\n",
        "\n",
        "import tensorflow as tf \n",
        "from tensorflow.keras.models import Sequential\n",
        "from tensorflow.keras.layers import Dense, Dropout, Activation, Flatten, Conv2D, MaxPooling2D\n",
        "import pickle\n",
        "from tensorflow.keras.models import model_from_json\n",
        "from tensorflow.keras.models import load_model\n",
        "import matplotlib.pyplot as plt"
      ],
      "execution_count": 1,
      "outputs": []
    },
    {
      "cell_type": "code",
      "metadata": {
        "id": "BlQ72e9CcPN6",
        "colab_type": "code",
        "colab": {}
      },
      "source": [
        "def prepare_data(datadir, img_size=28):\n",
        "\tfile_list = []\n",
        "\tclass_list = []\n",
        "\tx = []\n",
        "\ty = []\n",
        "\tdata = []\n",
        "\terror = False\n",
        "\tcategories = ['normal', 'pneumonia']\n",
        "\n",
        "\tfor category in categories: \n",
        "\t\tpath = os.path.join(datadir, category)\n",
        "\t\tclass_index = categories.index(category)\n",
        "\t\tfor img in os.listdir(path):\n",
        "\t\t\ttry:\n",
        "\t\t\t\timg_array = cv2.imread(os.path.join(path, img), cv2.IMREAD_GRAYSCALE)\n",
        "\t\t\t\tnew_array = cv2.resize(img_array, (img_size, img_size))\n",
        "\t\t\t\tdata.append([new_array, class_index])\n",
        "\t\t\texcept Exception as e:\n",
        "\t\t\t\terror = True\n",
        "\t\t\t\tpass\n",
        "\n",
        "\trandom.shuffle(data)\n",
        "\n",
        "\tfor features, label in data:\n",
        "\t\tx.append(features)\n",
        "\t\ty.append(label)\n",
        "\n",
        "\tx = np.array(x).reshape(-1, img_size, img_size, 1)\n",
        "\tif error:\n",
        "\t\tprint('Erro ao processar algums imagens')\n",
        "\telse:\n",
        "\t\tprint('Imagens processadas com sucesso')\n",
        "\treturn x, y\n"
      ],
      "execution_count": null,
      "outputs": []
    },
    {
      "cell_type": "code",
      "metadata": {
        "id": "LyLj3nW3cRlx",
        "colab_type": "code",
        "colab": {}
      },
      "source": [
        "class Pneumonia:\n",
        "\n",
        "\tdef __init__(self, train_dir, test_dir):\n",
        "\t\tself.model = Sequential()\n",
        "\t\tself.img_size = 28\n",
        "\t\tself.categories = ['normal', 'pneumonia']\n",
        "\t\tself.x_train, self.y_train = prepare_data(train_dir)\n",
        "\t\tself.x_test, self.y_test = prepare_data(test_dir)\n",
        "\n",
        "\n",
        "\tdef create_train_model(self):\n",
        "\t\tself.model = Sequential()\n",
        "\t\tself.x_train /= 255\n",
        "\n",
        "\t\t# convolutional layers\n",
        "\t\tself.model.add(Conv2D(32, (3, 3), input_shape = x.shape[1:]))\n",
        "\t\tself.model.add(Activation(\"relu\"))\n",
        "\t\tself.model.add(MaxPooling2D(pool_size=(2,2)))\n",
        "\n",
        "\t\tself.model.add(Conv2D(64, (3, 3)))\n",
        "\t\tself.model.add(Activation(\"relu\"))\n",
        "\t\tself.model.add(MaxPooling2D(pool_size=(2,2)))\n",
        "\n",
        "\t\tself.model.add(Conv2D(64, (3, 3)))\n",
        "\t\tself.model.add(Activation(\"relu\"))\n",
        "\t\tself.model.add(MaxPooling2D(pool_size=(2,2)))\n",
        "\t\tself.model.add(Dropout(0.25))\n",
        "\n",
        "\t\t# hidden layers\n",
        "\t\tself.model.add(Flatten())\n",
        "\t\tself.model.add(Dense(128))\n",
        "\t\tself.model.add(Activation(\"relu\"))\n",
        "\n",
        "\t\tself.model.add(Dense(128))\n",
        "\t\tself.model.add(Activation(\"relu\"))\n",
        "\n",
        "\t\t# output layer\n",
        "\t\tself.model.add(Dense(2))\n",
        "\t\tself.model.add(Activation(\"softmax\"))\n",
        "\n",
        "\t\t# Compile\n",
        "\t\tself.model.compile(loss=\"sparse_categorical_crossentropy\",\n",
        "\t\t\t\toptimizer=\"adam\",\n",
        "\t\t\t\tmetrics=[\"accuracy\"])\n",
        "\n",
        "\t\tself.model.fit(self.x_train, self.y_test, batch_size=32, epochs=40, validation_split=0.1,\n",
        "\t\t\tverbose=1, validation_data=(self.x_test, self.y_test))\n",
        "\n",
        "\t\treturn self\n",
        "\n",
        "\n",
        "\tdef predict_image(self, file):\n",
        "\t\timg_array = cv2.imread(file, cv2.IMREAD_GRAYSCALE)\n",
        "\t\tnew_array = cv2.resize(img_array, (self.img_size, self.img_size))\n",
        "\t\timg = new_array.reshape(-1, self.img_size, self.img_size, 1)\n",
        "\t\tprediction = model.predict([img])\n",
        "\t\tprediction = list(prediction[0])\n",
        "\t\tprint(self.categories[prediction.index(max(prediction))])\n",
        "\n",
        "\n",
        "#Pneumonia('pneumonia_dataset/train', 'pneumonia_dataset/test')\n"
      ],
      "execution_count": null,
      "outputs": []
    }
  ]
}