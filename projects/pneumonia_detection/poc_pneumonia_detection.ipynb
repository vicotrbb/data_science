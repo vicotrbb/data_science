{
  "nbformat": 4,
  "nbformat_minor": 0,
  "metadata": {
    "colab": {
      "name": "poc_pneumonia_detection.ipynb",
      "provenance": [],
      "toc_visible": true,
      "mount_file_id": "https://github.com/vicotrbb/machine_learning/blob/master/projects/pneumonia_detection/poc_pneumonia_detection.ipynb",
      "authorship_tag": "ABX9TyNj5RONp3R+FEvgKhM8K7MP",
      "include_colab_link": true
    },
    "kernelspec": {
      "name": "python3",
      "display_name": "Python 3"
    }
  },
  "cells": [
    {
      "cell_type": "markdown",
      "metadata": {
        "id": "view-in-github",
        "colab_type": "text"
      },
      "source": [
        "<a href=\"https://colab.research.google.com/github/vicotrbb/machine_learning/blob/master/projects/pneumonia_detection/poc_pneumonia_detection.ipynb\" target=\"_parent\"><img src=\"https://colab.research.google.com/assets/colab-badge.svg\" alt=\"Open In Colab\"/></a>"
      ]
    },
    {
      "cell_type": "markdown",
      "metadata": {
        "id": "xUjO4tfqbVI_",
        "colab_type": "text"
      },
      "source": [
        "# Implementação de um classificar de CV para detecção de pneumonia"
      ]
    },
    {
      "cell_type": "code",
      "metadata": {
        "id": "6LuprjKDbRus",
        "colab_type": "code",
        "colab": {}
      },
      "source": [
        "import numpy as np\n",
        "import os\n",
        "import cv2\n",
        "import random\n",
        "import pickle\n",
        "from zipfile import ZipFile\n",
        "\n",
        "import tensorflow as tf \n",
        "from tensorflow.keras.models import Sequential\n",
        "from tensorflow.keras.layers import Dense, Dropout, Activation, Flatten, Conv2D, MaxPooling2D\n",
        "import pickle\n",
        "from tensorflow.keras.models import model_from_json\n",
        "from tensorflow.keras.models import load_model\n",
        "import matplotlib.pyplot as plt"
      ],
      "execution_count": 6,
      "outputs": []
    },
    {
      "cell_type": "code",
      "metadata": {
        "id": "tCBDsI9gHIK2",
        "colab_type": "code",
        "colab": {
          "base_uri": "https://localhost:8080/",
          "height": 35
        },
        "outputId": "3aed72a3-3aac-4e20-9b1d-e90baa8f6f63"
      },
      "source": [
        "!ls 'drive/My Drive/train'"
      ],
      "execution_count": 4,
      "outputs": [
        {
          "output_type": "stream",
          "text": [
            "NORMAL\tPNEUMONIA\n"
          ],
          "name": "stdout"
        }
      ]
    },
    {
      "cell_type": "code",
      "metadata": {
        "id": "HFnOhCc6CGb2",
        "colab_type": "code",
        "colab": {}
      },
      "source": [
        "def unzip_data(datadir):\n",
        "  with ZipFile(datadir, 'r') as zip_ref:\n",
        "    zip_ref.extractall(datadir.replace('zip', ''))\n"
      ],
      "execution_count": 9,
      "outputs": []
    },
    {
      "cell_type": "code",
      "metadata": {
        "id": "BlQ72e9CcPN6",
        "colab_type": "code",
        "colab": {}
      },
      "source": [
        "def prepare_data(datadir, img_size=28):\n",
        "\tfile_list = []\n",
        "\tclass_list = []\n",
        "\tx = []\n",
        "\ty = []\n",
        "\tdata = []\n",
        "\terror = False\n",
        "\tcategories = ['NORMAL', 'PNEUMONIA']\n",
        "\n",
        "\tfor category in categories: \n",
        "\t\tpath = os.path.join(datadir, category)\n",
        "\t\tclass_index = categories.index(category)\n",
        "\t\tfor img in os.listdir(path):\n",
        "\t\t\ttry:\n",
        "\t\t\t\timg_array = cv2.imread(os.path.join(path, img), cv2.IMREAD_GRAYSCALE)\n",
        "\t\t\t\tnew_array = cv2.resize(img_array, (img_size, img_size))\n",
        "\t\t\t\tdata.append([new_array, class_index])\n",
        "\t\t\texcept Exception as e:\n",
        "\t\t\t\terror = True\n",
        "\t\t\t\tpass\n",
        "\n",
        "\trandom.shuffle(data)\n",
        "\n",
        "\tfor features, label in data:\n",
        "\t\tx.append(features)\n",
        "\t\ty.append(label)\n",
        "\n",
        "\tx = np.array(x).reshape(-1, img_size, img_size, 1)\n",
        "\tif error:\n",
        "\t\tprint('Erro ao processar algums imagens')\n",
        "\telse:\n",
        "\t\tprint('Imagens processadas com sucesso')\n",
        "\treturn x, y\n"
      ],
      "execution_count": 15,
      "outputs": []
    },
    {
      "cell_type": "code",
      "metadata": {
        "id": "LyLj3nW3cRlx",
        "colab_type": "code",
        "colab": {}
      },
      "source": [
        "class Pneumonia:\n",
        "\n",
        "\tdef __init__(self, train_dir, test_dir):\n",
        "\t\tself.model = Sequential()\n",
        "\t\tself.img_size = 28\n",
        "\t\tself.categories = ['NORMAL', 'PNEUMONIA']\n",
        "\t\tself.x_train, self.y_train = prepare_data(train_dir)\n",
        "\t\tself.x_test, self.y_test = prepare_data(test_dir)\n",
        "\n",
        "\n",
        "\tdef create_train_model(self):\n",
        "\t\tself.model = Sequential()\n",
        "\t\tself.x_train /= 255\n",
        "\n",
        "\t\t# convolutional layers\n",
        "\t\tself.model.add(Conv2D(32, (3, 3), input_shape = x.shape[1:]))\n",
        "\t\tself.model.add(Activation(\"relu\"))\n",
        "\t\tself.model.add(MaxPooling2D(pool_size=(2,2)))\n",
        "\n",
        "\t\tself.model.add(Conv2D(64, (3, 3)))\n",
        "\t\tself.model.add(Activation(\"relu\"))\n",
        "\t\tself.model.add(MaxPooling2D(pool_size=(2,2)))\n",
        "\n",
        "\t\tself.model.add(Conv2D(64, (3, 3)))\n",
        "\t\tself.model.add(Activation(\"relu\"))\n",
        "\t\tself.model.add(MaxPooling2D(pool_size=(2,2)))\n",
        "\t\tself.model.add(Dropout(0.25))\n",
        "\n",
        "\t\t# hidden layers\n",
        "\t\tself.model.add(Flatten())\n",
        "\t\tself.model.add(Dense(128))\n",
        "\t\tself.model.add(Activation(\"relu\"))\n",
        "\n",
        "\t\tself.model.add(Dense(128))\n",
        "\t\tself.model.add(Activation(\"relu\"))\n",
        "\n",
        "\t\t# output layer\n",
        "\t\tself.model.add(Dense(2))\n",
        "\t\tself.model.add(Activation(\"softmax\"))\n",
        "\n",
        "\t\t# Compile\n",
        "\t\tself.model.compile(loss=\"sparse_categorical_crossentropy\",\n",
        "\t\t\t\toptimizer=\"adam\",\n",
        "\t\t\t\tmetrics=[\"accuracy\"])\n",
        "\n",
        "\t\tself.model.fit(self.x_train, self.y_test, batch_size=32, epochs=40, validation_split=0.1,\n",
        "\t\t\tverbose=1, validation_data=(self.x_test, self.y_test))\n",
        "\n",
        "\t\treturn self\n",
        "\n",
        "\n",
        "\tdef predict_image(self, file):\n",
        "\t\timg_array = cv2.imread(file, cv2.IMREAD_GRAYSCALE)\n",
        "\t\tnew_array = cv2.resize(img_array, (self.img_size, self.img_size))\n",
        "\t\timg = new_array.reshape(-1, self.img_size, self.img_size, 1)\n",
        "\t\tprediction = model.predict([img])\n",
        "\t\tprediction = list(prediction[0])\n",
        "\t\tprint(self.categories[prediction.index(max(prediction))])\n"
      ],
      "execution_count": 16,
      "outputs": []
    },
    {
      "cell_type": "code",
      "metadata": {
        "id": "Ok5u-1SOEEAu",
        "colab_type": "code",
        "colab": {}
      },
      "source": [
        "model = Pneumonia('drive/My Drive/train', 'drive/My Drive/chest_xray_lite_dataset/test')"
      ],
      "execution_count": null,
      "outputs": []
    },
    {
      "cell_type": "code",
      "metadata": {
        "id": "fX0xnva2T7FA",
        "colab_type": "code",
        "colab": {}
      },
      "source": [
        "x_train = model.x_train\n",
        "y_train = model.y_train\n",
        "x_test = model.x_test\n",
        "y_test = model.y_test\n",
        "\n",
        "y_train = np.array(y_train).reshape(-1, 1)\n",
        "y_test = np.array(y_test).reshape(-1, 1)"
      ],
      "execution_count": 87,
      "outputs": []
    },
    {
      "cell_type": "code",
      "metadata": {
        "id": "Il0pPU_uUh6v",
        "colab_type": "code",
        "colab": {}
      },
      "source": [
        "x_train = x_train / 255"
      ],
      "execution_count": 88,
      "outputs": []
    },
    {
      "cell_type": "code",
      "metadata": {
        "id": "PDwCo8F1n6tb",
        "colab_type": "code",
        "colab": {
          "base_uri": "https://localhost:8080/",
          "height": 35
        },
        "outputId": "9ca8b661-d305-46c9-a514-027c3bb0ea4c"
      },
      "source": [
        "print(x_train.shape, x_train.dtype)"
      ],
      "execution_count": 89,
      "outputs": [
        {
          "output_type": "stream",
          "text": [
            "(5214, 28, 28, 1) float64\n"
          ],
          "name": "stdout"
        }
      ]
    },
    {
      "cell_type": "code",
      "metadata": {
        "id": "NNCPk08vn-0r",
        "colab_type": "code",
        "colab": {
          "base_uri": "https://localhost:8080/",
          "height": 35
        },
        "outputId": "efadb365-3306-423d-dacc-3f989c0b5f11"
      },
      "source": [
        "print(y_train.shape, y_train.dtype)"
      ],
      "execution_count": 90,
      "outputs": [
        {
          "output_type": "stream",
          "text": [
            "(5214, 1) int64\n"
          ],
          "name": "stdout"
        }
      ]
    },
    {
      "cell_type": "code",
      "metadata": {
        "id": "rAtl9of1UKaH",
        "colab_type": "code",
        "colab": {
          "base_uri": "https://localhost:8080/",
          "height": 1000
        },
        "outputId": "fb30a877-18fc-4364-ddf0-5359a9b9032b"
      },
      "source": [
        "ml_model = Sequential()\n",
        "\n",
        "# convolutional layers\n",
        "ml_model.add(Conv2D(32, (3, 3), input_shape = x_train.shape[1:]))\n",
        "ml_model.add(Activation(\"relu\"))\n",
        "ml_model.add(MaxPooling2D(pool_size=(2,2)))\n",
        "\n",
        "ml_model.add(Conv2D(64, (3, 3)))\n",
        "ml_model.add(Activation(\"relu\"))\n",
        "ml_model.add(MaxPooling2D(pool_size=(2,2)))\n",
        "\n",
        "ml_model.add(Conv2D(64, (3, 3)))\n",
        "ml_model.add(Activation(\"relu\"))\n",
        "ml_model.add(MaxPooling2D(pool_size=(2,2)))\n",
        "ml_model.add(Dropout(0.25))\n",
        "\n",
        "# hidden layers\n",
        "ml_model.add(Flatten())\n",
        "ml_model.add(Dense(128))\n",
        "ml_model.add(Activation(\"relu\"))\n",
        "\n",
        "ml_model.add(Dense(128))\n",
        "ml_model.add(Activation(\"relu\"))\n",
        "\n",
        "# output layer\n",
        "ml_model.add(Dense(2))\n",
        "ml_model.add(Activation(\"softmax\"))\n",
        "\n",
        "# Compile\n",
        "ml_model.compile(loss=\"sparse_categorical_crossentropy\",\n",
        "      optimizer=\"adam\",\n",
        "      metrics=[\"accuracy\"])\n",
        "\n",
        "ml_model.fit(x_train, y_train, batch_size=128, epochs=100, verbose=1)"
      ],
      "execution_count": 92,
      "outputs": [
        {
          "output_type": "stream",
          "text": [
            "Epoch 1/100\n",
            "41/41 [==============================] - 4s 103ms/step - loss: 0.5547 - accuracy: 0.7440\n",
            "Epoch 2/100\n",
            "41/41 [==============================] - 4s 103ms/step - loss: 0.3646 - accuracy: 0.8274\n",
            "Epoch 3/100\n",
            "41/41 [==============================] - 4s 103ms/step - loss: 0.2860 - accuracy: 0.8744\n",
            "Epoch 4/100\n",
            "41/41 [==============================] - 4s 104ms/step - loss: 0.2461 - accuracy: 0.8949\n",
            "Epoch 5/100\n",
            "41/41 [==============================] - 4s 104ms/step - loss: 0.2403 - accuracy: 0.9010\n",
            "Epoch 6/100\n",
            "41/41 [==============================] - 4s 105ms/step - loss: 0.1836 - accuracy: 0.9298\n",
            "Epoch 7/100\n",
            "41/41 [==============================] - 4s 106ms/step - loss: 0.1599 - accuracy: 0.9373\n",
            "Epoch 8/100\n",
            "41/41 [==============================] - 4s 104ms/step - loss: 0.1394 - accuracy: 0.9467\n",
            "Epoch 9/100\n",
            "41/41 [==============================] - 4s 102ms/step - loss: 0.1380 - accuracy: 0.9517\n",
            "Epoch 10/100\n",
            "41/41 [==============================] - 4s 103ms/step - loss: 0.1215 - accuracy: 0.9559\n",
            "Epoch 11/100\n",
            "41/41 [==============================] - 4s 105ms/step - loss: 0.1084 - accuracy: 0.9568\n",
            "Epoch 12/100\n",
            "41/41 [==============================] - 4s 104ms/step - loss: 0.0986 - accuracy: 0.9626\n",
            "Epoch 13/100\n",
            "41/41 [==============================] - 4s 102ms/step - loss: 0.0961 - accuracy: 0.9638\n",
            "Epoch 14/100\n",
            "41/41 [==============================] - 4s 103ms/step - loss: 0.0883 - accuracy: 0.9676\n",
            "Epoch 15/100\n",
            "41/41 [==============================] - 4s 103ms/step - loss: 0.0761 - accuracy: 0.9735\n",
            "Epoch 16/100\n",
            "41/41 [==============================] - 4s 103ms/step - loss: 0.0720 - accuracy: 0.9739\n",
            "Epoch 17/100\n",
            "41/41 [==============================] - 4s 103ms/step - loss: 0.0649 - accuracy: 0.9741\n",
            "Epoch 18/100\n",
            "41/41 [==============================] - 4s 103ms/step - loss: 0.0714 - accuracy: 0.9728\n",
            "Epoch 19/100\n",
            "41/41 [==============================] - 4s 104ms/step - loss: 0.0680 - accuracy: 0.9756\n",
            "Epoch 20/100\n",
            "41/41 [==============================] - 4s 104ms/step - loss: 0.0657 - accuracy: 0.9745\n",
            "Epoch 21/100\n",
            "41/41 [==============================] - 4s 104ms/step - loss: 0.0588 - accuracy: 0.9791\n",
            "Epoch 22/100\n",
            "41/41 [==============================] - 4s 104ms/step - loss: 0.0440 - accuracy: 0.9822\n",
            "Epoch 23/100\n",
            "41/41 [==============================] - 4s 104ms/step - loss: 0.0421 - accuracy: 0.9845\n",
            "Epoch 24/100\n",
            "41/41 [==============================] - 4s 103ms/step - loss: 0.0414 - accuracy: 0.9845\n",
            "Epoch 25/100\n",
            "41/41 [==============================] - 4s 104ms/step - loss: 0.0379 - accuracy: 0.9881\n",
            "Epoch 26/100\n",
            "41/41 [==============================] - 4s 104ms/step - loss: 0.0358 - accuracy: 0.9845\n",
            "Epoch 27/100\n",
            "41/41 [==============================] - 4s 101ms/step - loss: 0.0300 - accuracy: 0.9893\n",
            "Epoch 28/100\n",
            "41/41 [==============================] - 4s 101ms/step - loss: 0.0302 - accuracy: 0.9895\n",
            "Epoch 29/100\n",
            "41/41 [==============================] - 4s 102ms/step - loss: 0.0208 - accuracy: 0.9925\n",
            "Epoch 30/100\n",
            "41/41 [==============================] - 4s 102ms/step - loss: 0.0209 - accuracy: 0.9908\n",
            "Epoch 31/100\n",
            "41/41 [==============================] - 4s 102ms/step - loss: 0.0285 - accuracy: 0.9883\n",
            "Epoch 32/100\n",
            "41/41 [==============================] - 4s 100ms/step - loss: 0.0209 - accuracy: 0.9918\n",
            "Epoch 33/100\n",
            "41/41 [==============================] - 4s 101ms/step - loss: 0.0218 - accuracy: 0.9914\n",
            "Epoch 34/100\n",
            "41/41 [==============================] - 4s 100ms/step - loss: 0.0227 - accuracy: 0.9914\n",
            "Epoch 35/100\n",
            "41/41 [==============================] - 4s 101ms/step - loss: 0.0146 - accuracy: 0.9944\n",
            "Epoch 36/100\n",
            "41/41 [==============================] - 4s 100ms/step - loss: 0.0193 - accuracy: 0.9942\n",
            "Epoch 37/100\n",
            "41/41 [==============================] - 4s 101ms/step - loss: 0.0193 - accuracy: 0.9935\n",
            "Epoch 38/100\n",
            "41/41 [==============================] - 4s 102ms/step - loss: 0.0199 - accuracy: 0.9937\n",
            "Epoch 39/100\n",
            "41/41 [==============================] - 4s 104ms/step - loss: 0.0091 - accuracy: 0.9969\n",
            "Epoch 40/100\n",
            "41/41 [==============================] - 4s 101ms/step - loss: 0.0078 - accuracy: 0.9977\n",
            "Epoch 41/100\n",
            "41/41 [==============================] - 4s 100ms/step - loss: 0.0138 - accuracy: 0.9944\n",
            "Epoch 42/100\n",
            "41/41 [==============================] - 4s 100ms/step - loss: 0.0170 - accuracy: 0.9941\n",
            "Epoch 43/100\n",
            "41/41 [==============================] - 4s 100ms/step - loss: 0.0095 - accuracy: 0.9967\n",
            "Epoch 44/100\n",
            "41/41 [==============================] - 4s 100ms/step - loss: 0.0195 - accuracy: 0.9927\n",
            "Epoch 45/100\n",
            "41/41 [==============================] - 4s 101ms/step - loss: 0.0103 - accuracy: 0.9956\n",
            "Epoch 46/100\n",
            "41/41 [==============================] - 4s 100ms/step - loss: 0.0050 - accuracy: 0.9985\n",
            "Epoch 47/100\n",
            "41/41 [==============================] - 4s 101ms/step - loss: 0.0156 - accuracy: 0.9935\n",
            "Epoch 48/100\n",
            "41/41 [==============================] - 4s 99ms/step - loss: 0.0203 - accuracy: 0.9923\n",
            "Epoch 49/100\n",
            "41/41 [==============================] - 4s 100ms/step - loss: 0.0072 - accuracy: 0.9979\n",
            "Epoch 50/100\n",
            "41/41 [==============================] - 4s 100ms/step - loss: 0.0044 - accuracy: 0.9987\n",
            "Epoch 51/100\n",
            "41/41 [==============================] - 4s 100ms/step - loss: 0.0075 - accuracy: 0.9971\n",
            "Epoch 52/100\n",
            "41/41 [==============================] - 4s 105ms/step - loss: 0.0097 - accuracy: 0.9971\n",
            "Epoch 53/100\n",
            "41/41 [==============================] - 4s 101ms/step - loss: 0.0066 - accuracy: 0.9975\n",
            "Epoch 54/100\n",
            "41/41 [==============================] - 4s 101ms/step - loss: 0.0046 - accuracy: 0.9988\n",
            "Epoch 55/100\n",
            "41/41 [==============================] - 4s 101ms/step - loss: 0.0091 - accuracy: 0.9960\n",
            "Epoch 56/100\n",
            "41/41 [==============================] - 4s 100ms/step - loss: 0.0111 - accuracy: 0.9964\n",
            "Epoch 57/100\n",
            "41/41 [==============================] - 4s 100ms/step - loss: 0.0090 - accuracy: 0.9964\n",
            "Epoch 58/100\n",
            "41/41 [==============================] - 4s 100ms/step - loss: 0.0067 - accuracy: 0.9983\n",
            "Epoch 59/100\n",
            "41/41 [==============================] - 4s 103ms/step - loss: 0.0075 - accuracy: 0.9979\n",
            "Epoch 60/100\n",
            "41/41 [==============================] - 4s 100ms/step - loss: 0.0138 - accuracy: 0.9952\n",
            "Epoch 61/100\n",
            "41/41 [==============================] - 4s 99ms/step - loss: 0.0071 - accuracy: 0.9977\n",
            "Epoch 62/100\n",
            "41/41 [==============================] - 4s 100ms/step - loss: 0.0054 - accuracy: 0.9977\n",
            "Epoch 63/100\n",
            "41/41 [==============================] - 4s 102ms/step - loss: 0.0109 - accuracy: 0.9969\n",
            "Epoch 64/100\n",
            "41/41 [==============================] - 4s 100ms/step - loss: 0.0087 - accuracy: 0.9973\n",
            "Epoch 65/100\n",
            "41/41 [==============================] - 4s 99ms/step - loss: 0.0069 - accuracy: 0.9975\n",
            "Epoch 66/100\n",
            "41/41 [==============================] - 4s 100ms/step - loss: 0.0102 - accuracy: 0.9958\n",
            "Epoch 67/100\n",
            "41/41 [==============================] - 4s 100ms/step - loss: 0.0292 - accuracy: 0.9904\n",
            "Epoch 68/100\n",
            "41/41 [==============================] - 4s 102ms/step - loss: 0.0110 - accuracy: 0.9964\n",
            "Epoch 69/100\n",
            "41/41 [==============================] - 4s 101ms/step - loss: 0.0035 - accuracy: 0.9985\n",
            "Epoch 70/100\n",
            "41/41 [==============================] - 4s 100ms/step - loss: 0.0068 - accuracy: 0.9977\n",
            "Epoch 71/100\n",
            "41/41 [==============================] - 4s 101ms/step - loss: 0.0026 - accuracy: 0.9994\n",
            "Epoch 72/100\n",
            "41/41 [==============================] - 4s 100ms/step - loss: 0.0021 - accuracy: 0.9994\n",
            "Epoch 73/100\n",
            "41/41 [==============================] - 4s 100ms/step - loss: 0.0046 - accuracy: 0.9987\n",
            "Epoch 74/100\n",
            "41/41 [==============================] - 4s 101ms/step - loss: 0.0054 - accuracy: 0.9983\n",
            "Epoch 75/100\n",
            "41/41 [==============================] - 4s 100ms/step - loss: 0.0027 - accuracy: 0.9992\n",
            "Epoch 76/100\n",
            "41/41 [==============================] - 4s 103ms/step - loss: 0.0061 - accuracy: 0.9975\n",
            "Epoch 77/100\n",
            "41/41 [==============================] - 4s 100ms/step - loss: 0.0056 - accuracy: 0.9979\n",
            "Epoch 78/100\n",
            "41/41 [==============================] - 4s 99ms/step - loss: 0.0014 - accuracy: 0.9996\n",
            "Epoch 79/100\n",
            "41/41 [==============================] - 4s 100ms/step - loss: 5.8264e-04 - accuracy: 1.0000\n",
            "Epoch 80/100\n",
            "41/41 [==============================] - 4s 100ms/step - loss: 0.0027 - accuracy: 0.9994\n",
            "Epoch 81/100\n",
            "41/41 [==============================] - 4s 101ms/step - loss: 0.0013 - accuracy: 0.9998\n",
            "Epoch 82/100\n",
            "41/41 [==============================] - 4s 99ms/step - loss: 4.8107e-04 - accuracy: 1.0000\n",
            "Epoch 83/100\n",
            "41/41 [==============================] - 4s 100ms/step - loss: 4.4463e-04 - accuracy: 1.0000\n",
            "Epoch 84/100\n",
            "41/41 [==============================] - 4s 100ms/step - loss: 0.0014 - accuracy: 0.9994\n",
            "Epoch 85/100\n",
            "41/41 [==============================] - 4s 100ms/step - loss: 0.0055 - accuracy: 0.9981\n",
            "Epoch 86/100\n",
            "41/41 [==============================] - 4s 101ms/step - loss: 0.0050 - accuracy: 0.9981\n",
            "Epoch 87/100\n",
            "41/41 [==============================] - 4s 100ms/step - loss: 0.0071 - accuracy: 0.9985\n",
            "Epoch 88/100\n",
            "41/41 [==============================] - 4s 100ms/step - loss: 0.0070 - accuracy: 0.9977\n",
            "Epoch 89/100\n",
            "41/41 [==============================] - 4s 102ms/step - loss: 0.0142 - accuracy: 0.9950\n",
            "Epoch 90/100\n",
            "41/41 [==============================] - 4s 100ms/step - loss: 0.0106 - accuracy: 0.9967\n",
            "Epoch 91/100\n",
            "41/41 [==============================] - 4s 101ms/step - loss: 0.0101 - accuracy: 0.9969\n",
            "Epoch 92/100\n",
            "41/41 [==============================] - 4s 100ms/step - loss: 0.0025 - accuracy: 0.9992\n",
            "Epoch 93/100\n",
            "41/41 [==============================] - 8s 185ms/step - loss: 0.0033 - accuracy: 0.9990\n",
            "Epoch 94/100\n",
            "41/41 [==============================] - 4s 101ms/step - loss: 0.0061 - accuracy: 0.9985\n",
            "Epoch 95/100\n",
            "41/41 [==============================] - 4s 101ms/step - loss: 0.0115 - accuracy: 0.9965\n",
            "Epoch 96/100\n",
            "41/41 [==============================] - 4s 101ms/step - loss: 0.0122 - accuracy: 0.9958\n",
            "Epoch 97/100\n",
            "41/41 [==============================] - 4s 104ms/step - loss: 0.0075 - accuracy: 0.9967\n",
            "Epoch 98/100\n",
            "41/41 [==============================] - 4s 102ms/step - loss: 0.0026 - accuracy: 0.9996\n",
            "Epoch 99/100\n",
            "41/41 [==============================] - 4s 99ms/step - loss: 0.0018 - accuracy: 0.9992\n",
            "Epoch 100/100\n",
            "41/41 [==============================] - 4s 100ms/step - loss: 0.0012 - accuracy: 0.9994\n"
          ],
          "name": "stdout"
        },
        {
          "output_type": "execute_result",
          "data": {
            "text/plain": [
              "<tensorflow.python.keras.callbacks.History at 0x7f22fd00c080>"
            ]
          },
          "metadata": {
            "tags": []
          },
          "execution_count": 92
        }
      ]
    },
    {
      "cell_type": "code",
      "metadata": {
        "id": "kbKIwtDpUvZM",
        "colab_type": "code",
        "colab": {}
      },
      "source": [
        "ml_model.save('pneumonia_model.hdf5')"
      ],
      "execution_count": 93,
      "outputs": []
    },
    {
      "cell_type": "code",
      "metadata": {
        "id": "x88hIM4bwesl",
        "colab_type": "code",
        "colab": {}
      },
      "source": [
        "categories = ['NORMAL', 'PNEUMONIA']"
      ],
      "execution_count": 96,
      "outputs": []
    },
    {
      "cell_type": "code",
      "metadata": {
        "id": "mkCHs31QwPOQ",
        "colab_type": "code",
        "colab": {}
      },
      "source": [
        "def predict_image(file):\n",
        "  img_array = cv2.imread(file, cv2.IMREAD_GRAYSCALE)\n",
        "  new_array = cv2.resize(img_array, (28, 28))\n",
        "  img = new_array.reshape(-1, 28, 28, 1)\n",
        "  prediction = ml_model.predict([img])\n",
        "  prediction = list(prediction[0])\n",
        "  print(categories[prediction.index(max(prediction))])"
      ],
      "execution_count": 95,
      "outputs": []
    },
    {
      "cell_type": "code",
      "metadata": {
        "id": "oJxv79xKwt1y",
        "colab_type": "code",
        "colab": {
          "base_uri": "https://localhost:8080/",
          "height": 35
        },
        "outputId": "87cfa564-41b7-4e22-b21a-3074fc3732be"
      },
      "source": [
        "!ls 'drive/My Drive/chest_xray_lite_dataset/val'"
      ],
      "execution_count": 100,
      "outputs": [
        {
          "output_type": "stream",
          "text": [
            "NORMAL\tPNEUMONIA\n"
          ],
          "name": "stdout"
        }
      ]
    },
    {
      "cell_type": "code",
      "metadata": {
        "id": "lpMYssVFw0pH",
        "colab_type": "code",
        "colab": {
          "base_uri": "https://localhost:8080/",
          "height": 35
        },
        "outputId": "4cfa3867-42ea-4620-c073-b8e1a3286158"
      },
      "source": [
        "predict_image('drive/My Drive/chest_xray_lite_dataset/test/NORMAL/NORMAL2-IM-0339-0001.jpeg')"
      ],
      "execution_count": 99,
      "outputs": [
        {
          "output_type": "stream",
          "text": [
            "NORMAL\n"
          ],
          "name": "stdout"
        }
      ]
    },
    {
      "cell_type": "code",
      "metadata": {
        "id": "mzqwEReTxAK9",
        "colab_type": "code",
        "colab": {
          "base_uri": "https://localhost:8080/",
          "height": 35
        },
        "outputId": "c928d105-57ed-41d2-9fe4-74f787e79544"
      },
      "source": [
        "x_val, y_val = prepare_data('drive/My Drive/chest_xray_lite_dataset/val')"
      ],
      "execution_count": 101,
      "outputs": [
        {
          "output_type": "stream",
          "text": [
            "Imagens processadas com sucesso\n"
          ],
          "name": "stdout"
        }
      ]
    },
    {
      "cell_type": "code",
      "metadata": {
        "id": "brbo5uSXxje0",
        "colab_type": "code",
        "colab": {}
      },
      "source": [
        "y_val = np.array(y_val).reshape(-1, 1)"
      ],
      "execution_count": 105,
      "outputs": []
    },
    {
      "cell_type": "code",
      "metadata": {
        "id": "dJ90aw_VxHLw",
        "colab_type": "code",
        "colab": {
          "base_uri": "https://localhost:8080/",
          "height": 54
        },
        "outputId": "caebd0e3-76af-4a90-97fc-411d10e34f57"
      },
      "source": [
        "scores = ml_model.evaluate(x_val, y_val)\n",
        "print(\"%.2f%% (+/- %.2f%%)\" % (np.mean(scores[1] * 100), np.std(scores[1] * 100)))"
      ],
      "execution_count": 110,
      "outputs": [
        {
          "output_type": "stream",
          "text": [
            "1/1 [==============================] - 0s 2ms/step - loss: 23.0543 - accuracy: 0.8125\n",
            "81.25% (+/- 0.00%)\n"
          ],
          "name": "stdout"
        }
      ]
    }
  ]
}