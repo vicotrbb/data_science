{
  "nbformat": 4,
  "nbformat_minor": 0,
  "metadata": {
    "colab": {
      "name": "medium_crawler.ipynb",
      "provenance": []
    },
    "kernelspec": {
      "name": "python3",
      "display_name": "Python 3"
    }
  },
  "cells": [
    {
      "cell_type": "code",
      "metadata": {
        "id": "_LU6jp4HkgK3"
      },
      "source": [
        "!pip install scrapy"
      ],
      "execution_count": null,
      "outputs": []
    },
    {
      "cell_type": "code",
      "metadata": {
        "id": "mapBEU-ci6_x"
      },
      "source": [
        "import scrapy\n",
        "\n",
        "class StoriesSpider(scrapy.Spider):\n",
        "  name = \"stories\"\n",
        "\n",
        "  start_urls = [\n",
        "    \"https://medium.com/cafe-e-tech/simple-classification-problem-with-sklearn-and-iris-flower-data-set-85d7c8e0aeed\"\n",
        "  ] \n",
        "  \n",
        "# For All Stories\n",
        "  def parse(self, response):\n",
        "    for story in response.css('div.postArticle'):\n",
        "      yield {\n",
        "        'nameOfAuthor': story.css('div.u-marginBottom10 div div.postMetaInline-authorLockup a::text').extract_first(),\n",
        "        'linkOfAuthorProfile': story.css('div.u-marginBottom10 div div.postMetaInline-avatar a::attr(href)').extract_first(),\n",
        "        'article': story.css('div.postArticle-content section div.section-content div h3::text').extract_first(),\n",
        "        'articleLink': story.css('div.postArticle-readMore a::attr(href)').extract_first(),\n",
        "        'postingTime': story.css('div div.u-marginBottom10 div div.postMetaInline-authorLockup div a time::text').extract_first(),\n",
        "        'recommendation': story.css('div.u-paddingTop10 div.u-floatLeft div div button.u-disablePointerEvents::text').extract_first(),\n",
        "      }"
      ],
      "execution_count": 2,
      "outputs": []
    },
    {
      "cell_type": "code",
      "metadata": {
        "id": "t3vrnHmGkq29"
      },
      "source": [
        "from scrapy.crawler import CrawlerProcess"
      ],
      "execution_count": 3,
      "outputs": []
    },
    {
      "cell_type": "code",
      "metadata": {
        "id": "ynfCcqrEkbWX"
      },
      "source": [
        "process = CrawlerProcess({\n",
        "    'USER_AGENT': 'Mozilla/4.0 (compatible; MSIE 7.0; Windows NT 5.1)'\n",
        "})\n",
        "\n",
        "process.crawl(StoriesSpider)\n",
        "process.start()"
      ],
      "execution_count": null,
      "outputs": []
    }
  ]
}