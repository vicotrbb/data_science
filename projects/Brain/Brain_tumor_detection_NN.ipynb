{
  "nbformat": 4,
  "nbformat_minor": 0,
  "metadata": {
    "colab": {
      "name": "Brain_tumor_detection_NN.ipynb",
      "provenance": [],
      "toc_visible": true
    },
    "kernelspec": {
      "name": "python3",
      "display_name": "Python 3"
    }
  },
  "cells": [
    {
      "cell_type": "markdown",
      "metadata": {
        "id": "hCXxxxmc4Im_"
      },
      "source": [
        "# Detecção de tumor cerebral utilizando modelo de neural network\n",
        "\n",
        "Este modelo de rede neural convolutional tem como objetivo detectar a presença de um tumor cerebral."
      ]
    },
    {
      "cell_type": "code",
      "metadata": {
        "id": "NYE9BO7b3ylc"
      },
      "source": [
        "import numpy as np\n",
        "import os\n",
        "import cv2\n",
        "import random\n",
        "import pickle\n",
        "from zipfile import ZipFile\n",
        "\n",
        "import tensorflow as tf \n",
        "from tensorflow.keras.models import Sequential\n",
        "from tensorflow.keras.layers import Dense, Dropout, Activation, Flatten, Conv2D, MaxPooling2D\n",
        "from sklearn.model_selection import train_test_split\n",
        "import pickle\n",
        "from tensorflow.keras.models import model_from_json\n",
        "from tensorflow.keras.models import load_model\n",
        "import matplotlib.pyplot as plt"
      ],
      "execution_count": 6,
      "outputs": []
    },
    {
      "cell_type": "code",
      "metadata": {
        "id": "F4hgX7o45Ddt",
        "outputId": "94d2f90f-d8dc-4703-eef8-d535d97b9849",
        "colab": {
          "base_uri": "https://localhost:8080/",
          "height": 35
        }
      },
      "source": [
        "from google.colab import drive\n",
        "drive.mount('/content/drive')"
      ],
      "execution_count": 2,
      "outputs": [
        {
          "output_type": "stream",
          "text": [
            "Drive already mounted at /content/drive; to attempt to forcibly remount, call drive.mount(\"/content/drive\", force_remount=True).\n"
          ],
          "name": "stdout"
        }
      ]
    },
    {
      "cell_type": "code",
      "metadata": {
        "id": "51o1QEyV5BPc",
        "outputId": "ac10f958-cf3f-4d9c-d068-98ac13d6a3f5",
        "colab": {
          "base_uri": "https://localhost:8080/",
          "height": 35
        }
      },
      "source": [
        "!ls 'drive/My Drive/Brain/brain-mri-tumor-detection-dataset'"
      ],
      "execution_count": 23,
      "outputs": [
        {
          "output_type": "stream",
          "text": [
            "NO  YES\n"
          ],
          "name": "stdout"
        }
      ]
    },
    {
      "cell_type": "markdown",
      "metadata": {
        "id": "w8_ZVi5e66ii"
      },
      "source": [
        "# Setup da aplicação"
      ]
    },
    {
      "cell_type": "code",
      "metadata": {
        "id": "WxKZxRvm65_L"
      },
      "source": [
        "os.environ['PYTHONHASHSEED']=str(66)\n",
        "tf.random.set_seed(66)\n",
        "np.random.seed(66)\n",
        "random.seed(66)\n",
        "\n",
        "categories = ['NO', 'YES']"
      ],
      "execution_count": 50,
      "outputs": []
    },
    {
      "cell_type": "markdown",
      "metadata": {
        "id": "k1KER_rH5po5"
      },
      "source": [
        "# Preparação dos dados"
      ]
    },
    {
      "cell_type": "code",
      "metadata": {
        "id": "cDV4r9yw42XO"
      },
      "source": [
        "def prepare_data(datadir, img_size=28):\n",
        "\tfile_list = []\n",
        "\tclass_list = []\n",
        "\tx = []\n",
        "\ty = []\n",
        "\tdata = []\n",
        "\terror = False\n",
        "\tcategories = ['NO', 'YES']\n",
        "\n",
        "\tfor category in categories: \n",
        "\t\tpath = os.path.join(datadir, category)\n",
        "\t\tclass_index = categories.index(category)\n",
        "\t\tfor img in os.listdir(path):\n",
        "\t\t\ttry:\n",
        "\t\t\t\timg_array = cv2.imread(os.path.join(path, img), cv2.IMREAD_GRAYSCALE)\n",
        "\t\t\t\tnew_array = cv2.resize(img_array, (img_size, img_size))\n",
        "\t\t\t\tdata.append([new_array, class_index])\n",
        "\t\t\texcept Exception as e:\n",
        "\t\t\t\terror = True\n",
        "\t\t\t\tpass\n",
        "\n",
        "\trandom.shuffle(data)\n",
        "\n",
        "\tfor features, label in data:\n",
        "\t\tx.append(features)\n",
        "\t\ty.append(label)\n",
        "\n",
        "\tx = np.array(x).reshape(-1, img_size, img_size, 1)\n",
        "\tif error:\n",
        "\t\tprint('Erro ao processar algums imagens')\n",
        "\telse:\n",
        "\t\tprint('Imagens processadas com sucesso')\n",
        "\treturn x, y"
      ],
      "execution_count": 9,
      "outputs": []
    },
    {
      "cell_type": "code",
      "metadata": {
        "id": "wWlehuHz7Zor",
        "outputId": "d35eebbb-05d4-484a-bce8-b42523c4ad8f",
        "colab": {
          "base_uri": "https://localhost:8080/",
          "height": 35
        }
      },
      "source": [
        "x, y = prepare_data('drive/My Drive/Brain/brain-mri-tumor-detection-dataset')"
      ],
      "execution_count": 10,
      "outputs": [
        {
          "output_type": "stream",
          "text": [
            "Imagens processadas com sucesso\n"
          ],
          "name": "stdout"
        }
      ]
    },
    {
      "cell_type": "code",
      "metadata": {
        "id": "bTxu2_7W6wbh"
      },
      "source": [
        "x_train, x_test, y_train, y_test = train_test_split(x, y, test_size=0.3, random_state=5)"
      ],
      "execution_count": 11,
      "outputs": []
    },
    {
      "cell_type": "code",
      "metadata": {
        "id": "uhrQ7wbs7la6"
      },
      "source": [
        "x_test, x_val, y_test, y_val = train_test_split(x_test, y_test, test_size=0.1, random_state=5)"
      ],
      "execution_count": 12,
      "outputs": []
    },
    {
      "cell_type": "code",
      "metadata": {
        "id": "5-WuI7qL9T8X"
      },
      "source": [
        "y_train = np.array(y_train).reshape(-1, 1)\n",
        "y_test = np.array(y_test).reshape(-1, 1)\n",
        "y_val = np.array(y_val).reshape(-1, 1)\n",
        "\n",
        "x_train = x_train / 255\n",
        "x_test = x_test / 255\n",
        "x_val = x_val / 255"
      ],
      "execution_count": 16,
      "outputs": []
    },
    {
      "cell_type": "markdown",
      "metadata": {
        "id": "glwJqnmR5rwx"
      },
      "source": [
        "# Definição do modelo e explicação"
      ]
    },
    {
      "cell_type": "code",
      "metadata": {
        "id": "7TstXzUg5cOP"
      },
      "source": [
        "model = Sequential()\n",
        "\n",
        "# convolutional layers\n",
        "model.add(Conv2D(32, (3, 3), input_shape = x_train.shape[1:]))\n",
        "model.add(Activation(\"relu\"))\n",
        "model.add(MaxPooling2D(pool_size=(2,2)))\n",
        "\n",
        "model.add(Conv2D(64, (3, 3)))\n",
        "model.add(Activation(\"relu\"))\n",
        "model.add(MaxPooling2D(pool_size=(2,2)))\n",
        "\n",
        "model.add(Conv2D(64, (3, 3)))\n",
        "model.add(Activation(\"relu\"))\n",
        "model.add(MaxPooling2D(pool_size=(2,2)))\n",
        "model.add(Dropout(0.25))\n",
        "\n",
        "# hidden layers\n",
        "model.add(Flatten())\n",
        "model.add(Dense(128))\n",
        "model.add(Activation(\"relu\"))\n",
        "\n",
        "model.add(Dense(128))\n",
        "model.add(Activation(\"relu\"))\n",
        "\n",
        "# output layer\n",
        "model.add(Dense(2))\n",
        "model.add(Activation(\"softmax\"))\n",
        "\n",
        "# Compile\n",
        "model.compile(loss=\"sparse_categorical_crossentropy\",\n",
        "      optimizer=\"adam\",\n",
        "      metrics=[\"accuracy\"])"
      ],
      "execution_count": 17,
      "outputs": []
    },
    {
      "cell_type": "markdown",
      "metadata": {
        "id": "ziYys-bl5uCN"
      },
      "source": [
        "## Treino do modelo"
      ]
    },
    {
      "cell_type": "code",
      "metadata": {
        "id": "UtUXwM5n5nTR",
        "outputId": "15fc379c-b4e0-4359-e306-dbb05b21c2c5",
        "colab": {
          "base_uri": "https://localhost:8080/",
          "height": 1000
        }
      },
      "source": [
        "model.fit(x_train, y_train, batch_size=128, epochs=100, verbose=1)"
      ],
      "execution_count": 18,
      "outputs": [
        {
          "output_type": "stream",
          "text": [
            "Epoch 1/100\n",
            "2/2 [==============================] - 0s 23ms/step - loss: 0.6970 - accuracy: 0.4915\n",
            "Epoch 2/100\n",
            "2/2 [==============================] - 0s 22ms/step - loss: 0.6743 - accuracy: 0.5819\n",
            "Epoch 3/100\n",
            "2/2 [==============================] - 0s 21ms/step - loss: 0.6730 - accuracy: 0.5819\n",
            "Epoch 4/100\n",
            "2/2 [==============================] - 0s 21ms/step - loss: 0.6737 - accuracy: 0.5819\n",
            "Epoch 5/100\n",
            "2/2 [==============================] - 0s 29ms/step - loss: 0.6647 - accuracy: 0.5819\n",
            "Epoch 6/100\n",
            "2/2 [==============================] - 0s 22ms/step - loss: 0.6680 - accuracy: 0.5819\n",
            "Epoch 7/100\n",
            "2/2 [==============================] - 0s 22ms/step - loss: 0.6599 - accuracy: 0.5819\n",
            "Epoch 8/100\n",
            "2/2 [==============================] - 0s 21ms/step - loss: 0.6623 - accuracy: 0.5819\n",
            "Epoch 9/100\n",
            "2/2 [==============================] - 0s 21ms/step - loss: 0.6570 - accuracy: 0.5819\n",
            "Epoch 10/100\n",
            "2/2 [==============================] - 0s 21ms/step - loss: 0.6473 - accuracy: 0.5819\n",
            "Epoch 11/100\n",
            "2/2 [==============================] - 0s 21ms/step - loss: 0.6497 - accuracy: 0.5819\n",
            "Epoch 12/100\n",
            "2/2 [==============================] - 0s 21ms/step - loss: 0.6317 - accuracy: 0.5876\n",
            "Epoch 13/100\n",
            "2/2 [==============================] - 0s 23ms/step - loss: 0.6339 - accuracy: 0.5819\n",
            "Epoch 14/100\n",
            "2/2 [==============================] - 0s 21ms/step - loss: 0.6206 - accuracy: 0.6328\n",
            "Epoch 15/100\n",
            "2/2 [==============================] - 0s 22ms/step - loss: 0.6047 - accuracy: 0.7175\n",
            "Epoch 16/100\n",
            "2/2 [==============================] - 0s 21ms/step - loss: 0.5875 - accuracy: 0.7571\n",
            "Epoch 17/100\n",
            "2/2 [==============================] - 0s 21ms/step - loss: 0.5656 - accuracy: 0.7232\n",
            "Epoch 18/100\n",
            "2/2 [==============================] - 0s 22ms/step - loss: 0.5645 - accuracy: 0.7119\n",
            "Epoch 19/100\n",
            "2/2 [==============================] - 0s 22ms/step - loss: 0.5382 - accuracy: 0.7684\n",
            "Epoch 20/100\n",
            "2/2 [==============================] - 0s 22ms/step - loss: 0.5289 - accuracy: 0.7740\n",
            "Epoch 21/100\n",
            "2/2 [==============================] - 0s 21ms/step - loss: 0.5123 - accuracy: 0.7514\n",
            "Epoch 22/100\n",
            "2/2 [==============================] - 0s 22ms/step - loss: 0.4854 - accuracy: 0.7401\n",
            "Epoch 23/100\n",
            "2/2 [==============================] - 0s 23ms/step - loss: 0.4899 - accuracy: 0.7853\n",
            "Epoch 24/100\n",
            "2/2 [==============================] - 0s 21ms/step - loss: 0.4716 - accuracy: 0.7853\n",
            "Epoch 25/100\n",
            "2/2 [==============================] - 0s 21ms/step - loss: 0.4854 - accuracy: 0.7797\n",
            "Epoch 26/100\n",
            "2/2 [==============================] - 0s 22ms/step - loss: 0.4787 - accuracy: 0.7684\n",
            "Epoch 27/100\n",
            "2/2 [==============================] - 0s 21ms/step - loss: 0.5014 - accuracy: 0.7401\n",
            "Epoch 28/100\n",
            "2/2 [==============================] - 0s 22ms/step - loss: 0.4613 - accuracy: 0.7797\n",
            "Epoch 29/100\n",
            "2/2 [==============================] - 0s 23ms/step - loss: 0.4931 - accuracy: 0.7627\n",
            "Epoch 30/100\n",
            "2/2 [==============================] - 0s 22ms/step - loss: 0.4366 - accuracy: 0.8192\n",
            "Epoch 31/100\n",
            "2/2 [==============================] - 0s 22ms/step - loss: 0.4496 - accuracy: 0.7853\n",
            "Epoch 32/100\n",
            "2/2 [==============================] - 0s 23ms/step - loss: 0.4390 - accuracy: 0.7966\n",
            "Epoch 33/100\n",
            "2/2 [==============================] - 0s 23ms/step - loss: 0.4239 - accuracy: 0.8079\n",
            "Epoch 34/100\n",
            "2/2 [==============================] - 0s 23ms/step - loss: 0.4194 - accuracy: 0.8079\n",
            "Epoch 35/100\n",
            "2/2 [==============================] - 0s 22ms/step - loss: 0.4195 - accuracy: 0.7910\n",
            "Epoch 36/100\n",
            "2/2 [==============================] - 0s 21ms/step - loss: 0.4000 - accuracy: 0.8136\n",
            "Epoch 37/100\n",
            "2/2 [==============================] - 0s 22ms/step - loss: 0.3978 - accuracy: 0.8305\n",
            "Epoch 38/100\n",
            "2/2 [==============================] - 0s 22ms/step - loss: 0.3853 - accuracy: 0.8136\n",
            "Epoch 39/100\n",
            "2/2 [==============================] - 0s 21ms/step - loss: 0.3920 - accuracy: 0.8136\n",
            "Epoch 40/100\n",
            "2/2 [==============================] - 0s 22ms/step - loss: 0.3523 - accuracy: 0.8701\n",
            "Epoch 41/100\n",
            "2/2 [==============================] - 0s 21ms/step - loss: 0.3413 - accuracy: 0.8588\n",
            "Epoch 42/100\n",
            "2/2 [==============================] - 0s 21ms/step - loss: 0.3423 - accuracy: 0.8588\n",
            "Epoch 43/100\n",
            "2/2 [==============================] - 0s 22ms/step - loss: 0.3139 - accuracy: 0.8814\n",
            "Epoch 44/100\n",
            "2/2 [==============================] - 0s 22ms/step - loss: 0.3277 - accuracy: 0.8701\n",
            "Epoch 45/100\n",
            "2/2 [==============================] - 0s 22ms/step - loss: 0.2990 - accuracy: 0.8588\n",
            "Epoch 46/100\n",
            "2/2 [==============================] - 0s 27ms/step - loss: 0.2763 - accuracy: 0.8983\n",
            "Epoch 47/100\n",
            "2/2 [==============================] - 0s 22ms/step - loss: 0.2609 - accuracy: 0.9096\n",
            "Epoch 48/100\n",
            "2/2 [==============================] - 0s 22ms/step - loss: 0.2730 - accuracy: 0.8644\n",
            "Epoch 49/100\n",
            "2/2 [==============================] - 0s 23ms/step - loss: 0.2589 - accuracy: 0.8983\n",
            "Epoch 50/100\n",
            "2/2 [==============================] - 0s 22ms/step - loss: 0.2440 - accuracy: 0.9040\n",
            "Epoch 51/100\n",
            "2/2 [==============================] - 0s 22ms/step - loss: 0.2129 - accuracy: 0.9040\n",
            "Epoch 52/100\n",
            "2/2 [==============================] - 0s 22ms/step - loss: 0.2303 - accuracy: 0.9040\n",
            "Epoch 53/100\n",
            "2/2 [==============================] - 0s 22ms/step - loss: 0.2132 - accuracy: 0.9209\n",
            "Epoch 54/100\n",
            "2/2 [==============================] - 0s 22ms/step - loss: 0.1869 - accuracy: 0.9435\n",
            "Epoch 55/100\n",
            "2/2 [==============================] - 0s 23ms/step - loss: 0.2474 - accuracy: 0.8870\n",
            "Epoch 56/100\n",
            "2/2 [==============================] - 0s 22ms/step - loss: 0.2345 - accuracy: 0.9040\n",
            "Epoch 57/100\n",
            "2/2 [==============================] - 0s 22ms/step - loss: 0.1618 - accuracy: 0.9153\n",
            "Epoch 58/100\n",
            "2/2 [==============================] - 0s 23ms/step - loss: 0.1867 - accuracy: 0.9209\n",
            "Epoch 59/100\n",
            "2/2 [==============================] - 0s 22ms/step - loss: 0.1379 - accuracy: 0.9887\n",
            "Epoch 60/100\n",
            "2/2 [==============================] - 0s 23ms/step - loss: 0.1373 - accuracy: 0.9605\n",
            "Epoch 61/100\n",
            "2/2 [==============================] - 0s 22ms/step - loss: 0.1111 - accuracy: 0.9661\n",
            "Epoch 62/100\n",
            "2/2 [==============================] - 0s 22ms/step - loss: 0.0998 - accuracy: 0.9774\n",
            "Epoch 63/100\n",
            "2/2 [==============================] - 0s 21ms/step - loss: 0.0997 - accuracy: 0.9661\n",
            "Epoch 64/100\n",
            "2/2 [==============================] - 0s 21ms/step - loss: 0.0825 - accuracy: 0.9718\n",
            "Epoch 65/100\n",
            "2/2 [==============================] - 0s 22ms/step - loss: 0.0897 - accuracy: 0.9831\n",
            "Epoch 66/100\n",
            "2/2 [==============================] - 0s 23ms/step - loss: 0.0946 - accuracy: 0.9661\n",
            "Epoch 67/100\n",
            "2/2 [==============================] - 0s 23ms/step - loss: 0.0683 - accuracy: 0.9944\n",
            "Epoch 68/100\n",
            "2/2 [==============================] - 0s 22ms/step - loss: 0.0673 - accuracy: 0.9944\n",
            "Epoch 69/100\n",
            "2/2 [==============================] - 0s 21ms/step - loss: 0.0753 - accuracy: 0.9831\n",
            "Epoch 70/100\n",
            "2/2 [==============================] - 0s 23ms/step - loss: 0.0515 - accuracy: 0.9887\n",
            "Epoch 71/100\n",
            "2/2 [==============================] - 0s 22ms/step - loss: 0.0416 - accuracy: 0.9944\n",
            "Epoch 72/100\n",
            "2/2 [==============================] - 0s 22ms/step - loss: 0.0581 - accuracy: 0.9831\n",
            "Epoch 73/100\n",
            "2/2 [==============================] - 0s 26ms/step - loss: 0.0445 - accuracy: 1.0000\n",
            "Epoch 74/100\n",
            "2/2 [==============================] - 0s 22ms/step - loss: 0.0314 - accuracy: 1.0000\n",
            "Epoch 75/100\n",
            "2/2 [==============================] - 0s 22ms/step - loss: 0.0306 - accuracy: 0.9944\n",
            "Epoch 76/100\n",
            "2/2 [==============================] - 0s 22ms/step - loss: 0.0260 - accuracy: 1.0000\n",
            "Epoch 77/100\n",
            "2/2 [==============================] - 0s 22ms/step - loss: 0.0304 - accuracy: 0.9887\n",
            "Epoch 78/100\n",
            "2/2 [==============================] - 0s 22ms/step - loss: 0.0147 - accuracy: 1.0000\n",
            "Epoch 79/100\n",
            "2/2 [==============================] - 0s 22ms/step - loss: 0.0136 - accuracy: 1.0000\n",
            "Epoch 80/100\n",
            "2/2 [==============================] - 0s 22ms/step - loss: 0.0321 - accuracy: 0.9887\n",
            "Epoch 81/100\n",
            "2/2 [==============================] - 0s 23ms/step - loss: 0.0213 - accuracy: 1.0000\n",
            "Epoch 82/100\n",
            "2/2 [==============================] - 0s 24ms/step - loss: 0.0261 - accuracy: 1.0000\n",
            "Epoch 83/100\n",
            "2/2 [==============================] - 0s 21ms/step - loss: 0.0448 - accuracy: 0.9774\n",
            "Epoch 84/100\n",
            "2/2 [==============================] - 0s 22ms/step - loss: 0.0216 - accuracy: 0.9944\n",
            "Epoch 85/100\n",
            "2/2 [==============================] - 0s 21ms/step - loss: 0.0160 - accuracy: 1.0000\n",
            "Epoch 86/100\n",
            "2/2 [==============================] - 0s 22ms/step - loss: 0.0149 - accuracy: 1.0000\n",
            "Epoch 87/100\n",
            "2/2 [==============================] - 0s 26ms/step - loss: 0.0167 - accuracy: 0.9944\n",
            "Epoch 88/100\n",
            "2/2 [==============================] - 0s 22ms/step - loss: 0.0184 - accuracy: 0.9944\n",
            "Epoch 89/100\n",
            "2/2 [==============================] - 0s 21ms/step - loss: 0.0131 - accuracy: 1.0000\n",
            "Epoch 90/100\n",
            "2/2 [==============================] - 0s 22ms/step - loss: 0.0101 - accuracy: 1.0000\n",
            "Epoch 91/100\n",
            "2/2 [==============================] - 0s 22ms/step - loss: 0.0126 - accuracy: 1.0000\n",
            "Epoch 92/100\n",
            "2/2 [==============================] - 0s 22ms/step - loss: 0.0059 - accuracy: 1.0000\n",
            "Epoch 93/100\n",
            "2/2 [==============================] - 0s 22ms/step - loss: 0.0057 - accuracy: 1.0000\n",
            "Epoch 94/100\n",
            "2/2 [==============================] - 0s 27ms/step - loss: 0.0093 - accuracy: 1.0000\n",
            "Epoch 95/100\n",
            "2/2 [==============================] - 0s 22ms/step - loss: 0.0085 - accuracy: 1.0000\n",
            "Epoch 96/100\n",
            "2/2 [==============================] - 0s 22ms/step - loss: 0.0065 - accuracy: 1.0000\n",
            "Epoch 97/100\n",
            "2/2 [==============================] - 0s 24ms/step - loss: 0.0136 - accuracy: 0.9944\n",
            "Epoch 98/100\n",
            "2/2 [==============================] - 0s 22ms/step - loss: 0.0108 - accuracy: 1.0000\n",
            "Epoch 99/100\n",
            "2/2 [==============================] - 0s 22ms/step - loss: 0.0105 - accuracy: 1.0000\n",
            "Epoch 100/100\n",
            "2/2 [==============================] - 0s 21ms/step - loss: 0.0048 - accuracy: 1.0000\n"
          ],
          "name": "stdout"
        },
        {
          "output_type": "execute_result",
          "data": {
            "text/plain": [
              "<tensorflow.python.keras.callbacks.History at 0x7f0cea4cf710>"
            ]
          },
          "metadata": {
            "tags": []
          },
          "execution_count": 18
        }
      ]
    },
    {
      "cell_type": "code",
      "metadata": {
        "id": "w_qGYzKV6cb9"
      },
      "source": [
        "model.save('brain_tumor_model.hdf5')"
      ],
      "execution_count": 20,
      "outputs": []
    },
    {
      "cell_type": "code",
      "metadata": {
        "id": "sM27jz609p2R"
      },
      "source": [
        "!cp brain_tumor_model.hdf5 drive/My\\ Drive/Brain/Models"
      ],
      "execution_count": 26,
      "outputs": []
    },
    {
      "cell_type": "markdown",
      "metadata": {
        "id": "dNAyxuMg6sd6"
      },
      "source": [
        "# Teste e evaluation do modelo"
      ]
    },
    {
      "cell_type": "code",
      "metadata": {
        "id": "eWhva_ck-mLQ",
        "outputId": "8da51ab8-63c1-4b91-86e9-0275440821cf",
        "colab": {
          "base_uri": "https://localhost:8080/",
          "height": 72
        }
      },
      "source": [
        "scores = model.evaluate(x_test, y_test)\n",
        "print(\"test length \", len(x_test))\n",
        "print(\"test score %.2f%%\" % (np.mean(scores[1] * 100)))"
      ],
      "execution_count": 41,
      "outputs": [
        {
          "output_type": "stream",
          "text": [
            "3/3 [==============================] - 0s 5ms/step - loss: 0.4025 - accuracy: 0.8676\n",
            "test length  68\n",
            "test score 86.76%\n"
          ],
          "name": "stdout"
        }
      ]
    },
    {
      "cell_type": "code",
      "metadata": {
        "id": "xLJBea_C-jhk",
        "outputId": "e3b77665-06c2-41bb-c5a5-7ea02e794c41",
        "colab": {
          "base_uri": "https://localhost:8080/",
          "height": 72
        }
      },
      "source": [
        "scores = model.evaluate(x_val, y_val)\n",
        "print(\"test length \", len(x_val))\n",
        "print(\"evaluation score %.2f%%\" % (np.mean(scores[1] * 100)))"
      ],
      "execution_count": 43,
      "outputs": [
        {
          "output_type": "stream",
          "text": [
            "1/1 [==============================] - 0s 1ms/step - loss: 0.7894 - accuracy: 0.8750\n",
            "test length  8\n",
            "evaluation score 87.50%\n"
          ],
          "name": "stdout"
        }
      ]
    },
    {
      "cell_type": "markdown",
      "metadata": {
        "id": "9bwRGe946pwp"
      },
      "source": [
        "# Detectando o tumor"
      ]
    },
    {
      "cell_type": "code",
      "metadata": {
        "id": "Sp0dbv6W6pUj"
      },
      "source": [
        "def predict_image(file):\n",
        "  img_array = cv2.imread(file, cv2.IMREAD_GRAYSCALE)\n",
        "  new_array = cv2.resize(img_array, (28, 28))\n",
        "  img = new_array.reshape(-1, 28, 28, 1)\n",
        "  prediction = model.predict([img])\n",
        "  prediction = list(prediction[0])\n",
        "  print(categories[prediction.index(max(prediction))])"
      ],
      "execution_count": 51,
      "outputs": []
    },
    {
      "cell_type": "code",
      "metadata": {
        "id": "DcuhuOoS-d3Y",
        "outputId": "3800f4e5-9226-4708-f18b-61369daae22d",
        "colab": {
          "base_uri": "https://localhost:8080/",
          "height": 35
        }
      },
      "source": [
        "predict_image('drive/My Drive/Brain/brain-mri-tumor-detection-dataset/YES/Y21.jpg')"
      ],
      "execution_count": 52,
      "outputs": [
        {
          "output_type": "stream",
          "text": [
            "YES\n"
          ],
          "name": "stdout"
        }
      ]
    },
    {
      "cell_type": "code",
      "metadata": {
        "id": "-9V8ZEaqCFlL",
        "outputId": "94354f9a-3679-498f-d904-b09d210270c0",
        "colab": {
          "base_uri": "https://localhost:8080/",
          "height": 35
        }
      },
      "source": [
        "predict_image('drive/My Drive/Brain/brain-mri-tumor-detection-dataset/NO/N21.jpg')"
      ],
      "execution_count": 53,
      "outputs": [
        {
          "output_type": "stream",
          "text": [
            "NO\n"
          ],
          "name": "stdout"
        }
      ]
    }
  ]
}