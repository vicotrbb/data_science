{
  "nbformat": 4,
  "nbformat_minor": 0,
  "metadata": {
    "colab": {
      "name": "video_to_text_summarizer.ipynb",
      "provenance": [],
      "collapsed_sections": [],
      "authorship_tag": "ABX9TyNN1aM3lXRdQMt/l9ZToldZ",
      "include_colab_link": true
    },
    "kernelspec": {
      "name": "python3",
      "display_name": "Python 3"
    }
  },
  "cells": [
    {
      "cell_type": "markdown",
      "metadata": {
        "id": "view-in-github",
        "colab_type": "text"
      },
      "source": [
        "<a href=\"https://colab.research.google.com/github/vicotrbb/machine_learning/blob/master/projects/podcast_summarizer/video_to_text_summarizer.ipynb\" target=\"_parent\"><img src=\"https://colab.research.google.com/assets/colab-badge.svg\" alt=\"Open In Colab\"/></a>"
      ]
    },
    {
      "cell_type": "code",
      "metadata": {
        "id": "0JU73VDtDSjn",
        "outputId": "26ac09aa-3071-4c99-b5b1-da65da8da7ed",
        "colab": {
          "base_uri": "https://localhost:8080/",
          "height": 164
        }
      },
      "source": [
        "!pip install youtube_dl\n",
        "!pip install SpeechRecognition pydub"
      ],
      "execution_count": 15,
      "outputs": [
        {
          "output_type": "stream",
          "text": [
            "Requirement already satisfied: youtube_dl in /usr/local/lib/python3.6/dist-packages (2020.9.20)\n",
            "Collecting SpeechRecognition\n",
            "\u001b[?25l  Downloading https://files.pythonhosted.org/packages/26/e1/7f5678cd94ec1234269d23756dbdaa4c8cfaed973412f88ae8adf7893a50/SpeechRecognition-3.8.1-py2.py3-none-any.whl (32.8MB)\n",
            "\u001b[K     |████████████████████████████████| 32.8MB 125kB/s \n",
            "\u001b[?25hCollecting pydub\n",
            "  Downloading https://files.pythonhosted.org/packages/7b/d1/fbfa79371a8cd9bb15c2e3c480d7e6e340ed5cc55005174e16f48418333a/pydub-0.24.1-py2.py3-none-any.whl\n",
            "Installing collected packages: SpeechRecognition, pydub\n",
            "Successfully installed SpeechRecognition-3.8.1 pydub-0.24.1\n"
          ],
          "name": "stdout"
        }
      ]
    },
    {
      "cell_type": "code",
      "metadata": {
        "id": "ORq4RZ2hFf8x"
      },
      "source": [
        "from __future__ import unicode_literals\n",
        "import youtube_dl as yt\n",
        "\n",
        "import speech_recognition as sr \n",
        "import os\n",
        "from pydub import AudioSegment\n",
        "from pydub.silence import split_on_silence"
      ],
      "execution_count": 16,
      "outputs": []
    },
    {
      "cell_type": "code",
      "metadata": {
        "id": "zfP0q1WEFqjJ"
      },
      "source": [
        "%edit yt.main\n",
        "help(yt)"
      ],
      "execution_count": null,
      "outputs": []
    },
    {
      "cell_type": "code",
      "metadata": {
        "id": "HSs2-koyLkQh"
      },
      "source": [
        "help(AudioSegment)"
      ],
      "execution_count": null,
      "outputs": []
    },
    {
      "cell_type": "code",
      "metadata": {
        "id": "26Vmh65hDQWs"
      },
      "source": [
        "def download_sound_file(sound_link, source='youtube'):\n",
        "  ydl_opts = {\n",
        "      'format': 'bestaudio/best',\n",
        "      'postprocessors': [{\n",
        "        'key': 'FFmpegExtractAudio',\n",
        "        'preferredcodec': 'mp3',\n",
        "        'preferredquality': '192',\n",
        "      }]\n",
        "  }\n",
        "\n",
        "  with yt.YoutubeDL(ydl_opts) as ydl:\n",
        "    ydl.download([sound_link])\n",
        "\n",
        "  return True"
      ],
      "execution_count": 35,
      "outputs": []
    },
    {
      "cell_type": "code",
      "metadata": {
        "id": "nDh_wNFRKf2g"
      },
      "source": [
        "def convert_sound_to_text(sound_file):\n",
        "    r = sr.Recognizer()\n",
        "    folder_name = \"audio-chunks\"\n",
        "    sound = AudioSegment.from_mp3(sound_file)\n",
        "\n",
        "    chunks = split_on_silence(\n",
        "        sound,\n",
        "        min_silence_len = 500,\n",
        "        silence_thresh = sound.dBFS-14,\n",
        "        keep_silence=500,\n",
        "    )\n",
        "\n",
        "    if not os.path.isdir(folder_name):\n",
        "        os.mkdir(folder_name)\n",
        "    converted_text = \"\"\n",
        "\n",
        "    for i, audio_chunk in enumerate(chunks, start=1):\n",
        "        chunk_filename = os.path.join(folder_name, f\"chunk{i}.wav\")\n",
        "        audio_chunk.export(chunk_filename, format=\"wav\")\n",
        "        with sr.AudioFile(chunk_filename) as source:\n",
        "            audio_listened = r.record(source)\n",
        "            try:\n",
        "                text = r.recognize_google(audio_listened)\n",
        "            except sr.UnknownValueError as e:\n",
        "                print(\"Error:\", str(e))\n",
        "            else:\n",
        "                text = f\"{text.capitalize()}. \"\n",
        "                print(chunk_filename, \":\", text)\n",
        "                converted_text += text\n",
        "\n",
        "    return converted_text"
      ],
      "execution_count": 22,
      "outputs": []
    },
    {
      "cell_type": "code",
      "metadata": {
        "id": "w28X2J4_KS9Q",
        "outputId": "46decc3a-a6a5-41f1-8feb-537620e5cdc8",
        "colab": {
          "base_uri": "https://localhost:8080/",
          "height": 127
        }
      },
      "source": [
        "print(download_sound_file('https://www.youtube.com/watch?v=LLyd-bqLnu8&t=61s'))"
      ],
      "execution_count": 36,
      "outputs": [
        {
          "output_type": "stream",
          "text": [
            "[youtube] LLyd-bqLnu8: Downloading webpage\n",
            "[download] Destination: The Truth About Programming-LLyd-bqLnu8.webm\n",
            "[download] 100% of 4.89MiB in 00:00\n",
            "[ffmpeg] Destination: The Truth About Programming-LLyd-bqLnu8.mp3\n",
            "Deleting original file The Truth About Programming-LLyd-bqLnu8.webm (pass -k to keep)\n",
            "True\n"
          ],
          "name": "stdout"
        }
      ]
    },
    {
      "cell_type": "code",
      "metadata": {
        "id": "ainAJ6byM1Cr",
        "outputId": "8dc90460-2551-4c76-e502-fa7b6b287878",
        "colab": {
          "base_uri": "https://localhost:8080/",
          "height": 276
        }
      },
      "source": [
        "text = convert_sound_to_text('The Truth About Programming-LLyd-bqLnu8.mp3')\n",
        "print(text)"
      ],
      "execution_count": 37,
      "outputs": [
        {
          "output_type": "stream",
          "text": [
            "audio-chunks/chunk1.wav : If you've actually done any kind of programming you would know that programming is frustrating. \n",
            "audio-chunks/chunk2.wav : It's confusing. \n",
            "audio-chunks/chunk3.wav : And sometimes it's even demoralizing. \n",
            "audio-chunks/chunk4.wav : You remember when you just started. \n",
            "audio-chunks/chunk5.wav : You were so motivated so passionate about the things you can do with it all you see are people building their empires with it and affecting billions of lives with their lines of code but no one ever told you about their failures the untold stories of people who have fallen and the hardships that brought to them the reality is when we start programming and building things break things get stuck projects get scraped or even worse business has died and jobs are lost startups fail and time is wasted failure after failure or happening everyday but all you see are two successes that coating brought to these different people but no one talks about the path to get their programming is hard and you will fail at one point you will doubt yourself you'll see you're not smart enough that you're not lucky enough but i do not gifted enough worse other people will tell you that you're not meant for computer science you're not meant to be an entrepreneur you're not smart enough to be a programmer you know what i'll tell you that i think that some of you are not born to be programmers you might be wasting your time. \n",
            "audio-chunks/chunk6.wav : Do you want to ignore my advice and closes video. \n",
            "audio-chunks/chunk7.wav : Get ignore my advice if that's you then it means you're very stubborn but you don't give up and you care it means you fail all the time but you pick yourself back up and you become stronger it means you're dumb enough to try to do something impossible but then you make it with you push technology to its limit and you are at the forefront of innovation and you push even further and when people tell you that you can't do it you go ahead and you do it when people tell you you're wasting your time you go back and you work twice as hard and you come back and prove them wrong when people tell you you're crazy it's a compliment to you if that sounds like you then you are a true innovator and we need more people like you because we need more people to face the impossible. \n",
            "audio-chunks/chunk8.wav : Conqueror. \n",
            "audio-chunks/chunk9.wav : I don't care if you're just trying to pass a cs course or that you're building a rocket ship startup what matter is that you are not stopping until you reach your goal as a society we have many many problems but we tackle them head-on and we keep innovating to make our lives better on planet earth one of the problems i care a lot about is natural disasters. \n",
            "audio-chunks/chunk10.wav : I'm partnered with ibm today to talk about a global initiative called call for code which calls for developers to build something impactful and have a positive change across the world through their cold as you know there are hundreds of natural disasters every year like hurricanes earthquake floods volcanoes and wildfires those affect numbers lies and causes tremendous damage the families across the globe if you strive for real impact we desperately need you this is why the 2019 call for code global challenge is a competition to ask people like you to build solutions that help the health and well-being of these victims the natural disasters there are so many aspects of that providing food and water safely controlling infectious diseases building supply distribution networks and even getting access to mental health during natural disasters. \n",
            "audio-chunks/chunk11.wav : We need all kinds of technologies here are a few examples of potential projects you like working on blockchain build secure supply networks to distribute aid to the people need you like ai and nlp build boss to help real-time communication. \n",
            "audio-chunks/chunk12.wav : Hearing today science analyze and predict what the affected populations need before they even ask for it every one of your project will matter and it will be for an extremely good cause now of course this is still a competition so they have a grand prize of $200,000 not only that the project with the greatest potential impact will be implemented through the ibm code and respond initiative and receive open-source support through the linux foundation last year's winning team project owl has already begun to deploy their solution in puerto rico as part of the code in response so are you up for the challenge do the impossible be an innovator joined a call for code. \n",
            "If you've actually done any kind of programming you would know that programming is frustrating. It's confusing. And sometimes it's even demoralizing. You remember when you just started. You were so motivated so passionate about the things you can do with it all you see are people building their empires with it and affecting billions of lives with their lines of code but no one ever told you about their failures the untold stories of people who have fallen and the hardships that brought to them the reality is when we start programming and building things break things get stuck projects get scraped or even worse business has died and jobs are lost startups fail and time is wasted failure after failure or happening everyday but all you see are two successes that coating brought to these different people but no one talks about the path to get their programming is hard and you will fail at one point you will doubt yourself you'll see you're not smart enough that you're not lucky enough but i do not gifted enough worse other people will tell you that you're not meant for computer science you're not meant to be an entrepreneur you're not smart enough to be a programmer you know what i'll tell you that i think that some of you are not born to be programmers you might be wasting your time. Do you want to ignore my advice and closes video. Get ignore my advice if that's you then it means you're very stubborn but you don't give up and you care it means you fail all the time but you pick yourself back up and you become stronger it means you're dumb enough to try to do something impossible but then you make it with you push technology to its limit and you are at the forefront of innovation and you push even further and when people tell you that you can't do it you go ahead and you do it when people tell you you're wasting your time you go back and you work twice as hard and you come back and prove them wrong when people tell you you're crazy it's a compliment to you if that sounds like you then you are a true innovator and we need more people like you because we need more people to face the impossible. Conqueror. I don't care if you're just trying to pass a cs course or that you're building a rocket ship startup what matter is that you are not stopping until you reach your goal as a society we have many many problems but we tackle them head-on and we keep innovating to make our lives better on planet earth one of the problems i care a lot about is natural disasters. I'm partnered with ibm today to talk about a global initiative called call for code which calls for developers to build something impactful and have a positive change across the world through their cold as you know there are hundreds of natural disasters every year like hurricanes earthquake floods volcanoes and wildfires those affect numbers lies and causes tremendous damage the families across the globe if you strive for real impact we desperately need you this is why the 2019 call for code global challenge is a competition to ask people like you to build solutions that help the health and well-being of these victims the natural disasters there are so many aspects of that providing food and water safely controlling infectious diseases building supply distribution networks and even getting access to mental health during natural disasters. We need all kinds of technologies here are a few examples of potential projects you like working on blockchain build secure supply networks to distribute aid to the people need you like ai and nlp build boss to help real-time communication. Hearing today science analyze and predict what the affected populations need before they even ask for it every one of your project will matter and it will be for an extremely good cause now of course this is still a competition so they have a grand prize of $200,000 not only that the project with the greatest potential impact will be implemented through the ibm code and respond initiative and receive open-source support through the linux foundation last year's winning team project owl has already begun to deploy their solution in puerto rico as part of the code in response so are you up for the challenge do the impossible be an innovator joined a call for code. \n"
          ],
          "name": "stdout"
        }
      ]
    },
    {
      "cell_type": "code",
      "metadata": {
        "id": "GnbjgCBiO9iT",
        "outputId": "21ad742b-a0f3-4f29-a2b2-a0ec163dc737",
        "colab": {
          "base_uri": "https://localhost:8080/",
          "height": 72
        }
      },
      "source": [
        "from nltk.corpus import stopwords\n",
        "import nltk\n",
        "from nltk.cluster.util import cosine_distance\n",
        "import numpy as np\n",
        "import networkx as nx\n",
        "\n",
        "nltk.download('stopwords')"
      ],
      "execution_count": 38,
      "outputs": [
        {
          "output_type": "stream",
          "text": [
            "[nltk_data] Downloading package stopwords to /root/nltk_data...\n",
            "[nltk_data]   Unzipping corpora/stopwords.zip.\n"
          ],
          "name": "stdout"
        },
        {
          "output_type": "execute_result",
          "data": {
            "text/plain": [
              "True"
            ]
          },
          "metadata": {
            "tags": []
          },
          "execution_count": 38
        }
      ]
    },
    {
      "cell_type": "code",
      "metadata": {
        "id": "JnuzGbLMQcuj"
      },
      "source": [
        "def read_article(text):\n",
        "    article = text.split(\". \")\n",
        "    sentences = []\n",
        "\n",
        "    for sentence in article:\n",
        "        print(sentence)\n",
        "        sentences.append(sentence.replace(\"[^a-zA-Z]\", \" \").split(\" \"))\n",
        "    sentences.pop()\n",
        "    \n",
        "    return sentences\n",
        "\n",
        "def sentence_similarity(sent1, sent2, stopwords=None):\n",
        "    if stopwords is None:\n",
        "        stopwords = []\n",
        " \n",
        "    sent1 = [w.lower() for w in sent1]\n",
        "    sent2 = [w.lower() for w in sent2]\n",
        " \n",
        "    all_words = list(set(sent1 + sent2))\n",
        " \n",
        "    vector1 = [0] * len(all_words)\n",
        "    vector2 = [0] * len(all_words)\n",
        " \n",
        "    for w in sent1:\n",
        "        if w in stopwords:\n",
        "            continue\n",
        "        vector1[all_words.index(w)] += 1\n",
        " \n",
        "    for w in sent2:\n",
        "        if w in stopwords:\n",
        "            continue\n",
        "        vector2[all_words.index(w)] += 1\n",
        " \n",
        "    return 1 - cosine_distance(vector1, vector2)\n",
        " \n",
        "def build_similarity_matrix(sentences, stop_words):\n",
        "    similarity_matrix = np.zeros((len(sentences), len(sentences)))\n",
        " \n",
        "    for idx1 in range(len(sentences)):\n",
        "        for idx2 in range(len(sentences)):\n",
        "            if idx1 == idx2:\n",
        "                continue \n",
        "            similarity_matrix[idx1][idx2] = sentence_similarity(sentences[idx1], sentences[idx2], stop_words)\n",
        "\n",
        "    return similarity_matrix\n",
        "\n",
        "\n",
        "def generate_summary(text, top_n=5):\n",
        "    stop_words = stopwords.words('english')\n",
        "    summarize_text = []\n",
        "\n",
        "    sentences =  read_article(text)\n",
        "\n",
        "    sentence_similarity_martix = build_similarity_matrix(sentences, stop_words)\n",
        "\n",
        "    sentence_similarity_graph = nx.from_numpy_array(sentence_similarity_martix)\n",
        "    scores = nx.pagerank(sentence_similarity_graph)\n",
        "\n",
        "    ranked_sentence = sorted(((scores[i],s) for i,s in enumerate(sentences)), reverse=True)    \n",
        "    print(\"Indexes of top ranked_sentence order are \", ranked_sentence)    \n",
        "\n",
        "    for i in range(top_n):\n",
        "      summarize_text.append(\" \".join(ranked_sentence[i][1]))\n",
        "\n",
        "    print(\"Summarize Text: \\n\", \". \".join(summarize_text))\n",
        "    return summarize_text"
      ],
      "execution_count": 59,
      "outputs": []
    },
    {
      "cell_type": "code",
      "metadata": {
        "id": "zhqHNxOmQsIA",
        "outputId": "16ba81e5-b5b7-432a-aef4-945eda586eba",
        "colab": {
          "base_uri": "https://localhost:8080/",
          "height": 331
        }
      },
      "source": [
        "summary = generate_summary(text, top_n=2)"
      ],
      "execution_count": 57,
      "outputs": [
        {
          "output_type": "stream",
          "text": [
            "If you've actually done any kind of programming you would know that programming is frustrating\n",
            "It's confusing\n",
            "And sometimes it's even demoralizing\n",
            "You remember when you just started\n",
            "You were so motivated so passionate about the things you can do with it all you see are people building their empires with it and affecting billions of lives with their lines of code but no one ever told you about their failures the untold stories of people who have fallen and the hardships that brought to them the reality is when we start programming and building things break things get stuck projects get scraped or even worse business has died and jobs are lost startups fail and time is wasted failure after failure or happening everyday but all you see are two successes that coating brought to these different people but no one talks about the path to get their programming is hard and you will fail at one point you will doubt yourself you'll see you're not smart enough that you're not lucky enough but i do not gifted enough worse other people will tell you that you're not meant for computer science you're not meant to be an entrepreneur you're not smart enough to be a programmer you know what i'll tell you that i think that some of you are not born to be programmers you might be wasting your time\n",
            "Do you want to ignore my advice and closes video\n",
            "Get ignore my advice if that's you then it means you're very stubborn but you don't give up and you care it means you fail all the time but you pick yourself back up and you become stronger it means you're dumb enough to try to do something impossible but then you make it with you push technology to its limit and you are at the forefront of innovation and you push even further and when people tell you that you can't do it you go ahead and you do it when people tell you you're wasting your time you go back and you work twice as hard and you come back and prove them wrong when people tell you you're crazy it's a compliment to you if that sounds like you then you are a true innovator and we need more people like you because we need more people to face the impossible\n",
            "Conqueror\n",
            "I don't care if you're just trying to pass a cs course or that you're building a rocket ship startup what matter is that you are not stopping until you reach your goal as a society we have many many problems but we tackle them head-on and we keep innovating to make our lives better on planet earth one of the problems i care a lot about is natural disasters\n",
            "I'm partnered with ibm today to talk about a global initiative called call for code which calls for developers to build something impactful and have a positive change across the world through their cold as you know there are hundreds of natural disasters every year like hurricanes earthquake floods volcanoes and wildfires those affect numbers lies and causes tremendous damage the families across the globe if you strive for real impact we desperately need you this is why the 2019 call for code global challenge is a competition to ask people like you to build solutions that help the health and well-being of these victims the natural disasters there are so many aspects of that providing food and water safely controlling infectious diseases building supply distribution networks and even getting access to mental health during natural disasters\n",
            "We need all kinds of technologies here are a few examples of potential projects you like working on blockchain build secure supply networks to distribute aid to the people need you like ai and nlp build boss to help real-time communication\n",
            "Hearing today science analyze and predict what the affected populations need before they even ask for it every one of your project will matter and it will be for an extremely good cause now of course this is still a competition so they have a grand prize of $200,000 not only that the project with the greatest potential impact will be implemented through the ibm code and respond initiative and receive open-source support through the linux foundation last year's winning team project owl has already begun to deploy their solution in puerto rico as part of the code in response so are you up for the challenge do the impossible be an innovator joined a call for code\n",
            "\n",
            "Indexes of top ranked_sentence order are  [(0.18652929818250172, ['Get', 'ignore', 'my', 'advice', 'if', \"that's\", 'you', 'then', 'it', 'means', \"you're\", 'very', 'stubborn', 'but', 'you', \"don't\", 'give', 'up', 'and', 'you', 'care', 'it', 'means', 'you', 'fail', 'all', 'the', 'time', 'but', 'you', 'pick', 'yourself', 'back', 'up', 'and', 'you', 'become', 'stronger', 'it', 'means', \"you're\", 'dumb', 'enough', 'to', 'try', 'to', 'do', 'something', 'impossible', 'but', 'then', 'you', 'make', 'it', 'with', 'you', 'push', 'technology', 'to', 'its', 'limit', 'and', 'you', 'are', 'at', 'the', 'forefront', 'of', 'innovation', 'and', 'you', 'push', 'even', 'further', 'and', 'when', 'people', 'tell', 'you', 'that', 'you', \"can't\", 'do', 'it', 'you', 'go', 'ahead', 'and', 'you', 'do', 'it', 'when', 'people', 'tell', 'you', \"you're\", 'wasting', 'your', 'time', 'you', 'go', 'back', 'and', 'you', 'work', 'twice', 'as', 'hard', 'and', 'you', 'come', 'back', 'and', 'prove', 'them', 'wrong', 'when', 'people', 'tell', 'you', \"you're\", 'crazy', \"it's\", 'a', 'compliment', 'to', 'you', 'if', 'that', 'sounds', 'like', 'you', 'then', 'you', 'are', 'a', 'true', 'innovator', 'and', 'we', 'need', 'more', 'people', 'like', 'you', 'because', 'we', 'need', 'more', 'people', 'to', 'face', 'the', 'impossible']), (0.17206917957733353, [\"I'm\", 'partnered', 'with', 'ibm', 'today', 'to', 'talk', 'about', 'a', 'global', 'initiative', 'called', 'call', 'for', 'code', 'which', 'calls', 'for', 'developers', 'to', 'build', 'something', 'impactful', 'and', 'have', 'a', 'positive', 'change', 'across', 'the', 'world', 'through', 'their', 'cold', 'as', 'you', 'know', 'there', 'are', 'hundreds', 'of', 'natural', 'disasters', 'every', 'year', 'like', 'hurricanes', 'earthquake', 'floods', 'volcanoes', 'and', 'wildfires', 'those', 'affect', 'numbers', 'lies', 'and', 'causes', 'tremendous', 'damage', 'the', 'families', 'across', 'the', 'globe', 'if', 'you', 'strive', 'for', 'real', 'impact', 'we', 'desperately', 'need', 'you', 'this', 'is', 'why', 'the', '2019', 'call', 'for', 'code', 'global', 'challenge', 'is', 'a', 'competition', 'to', 'ask', 'people', 'like', 'you', 'to', 'build', 'solutions', 'that', 'help', 'the', 'health', 'and', 'well-being', 'of', 'these', 'victims', 'the', 'natural', 'disasters', 'there', 'are', 'so', 'many', 'aspects', 'of', 'that', 'providing', 'food', 'and', 'water', 'safely', 'controlling', 'infectious', 'diseases', 'building', 'supply', 'distribution', 'networks', 'and', 'even', 'getting', 'access', 'to', 'mental', 'health', 'during', 'natural', 'disasters']), (0.16248446453710452, ['You', 'were', 'so', 'motivated', 'so', 'passionate', 'about', 'the', 'things', 'you', 'can', 'do', 'with', 'it', 'all', 'you', 'see', 'are', 'people', 'building', 'their', 'empires', 'with', 'it', 'and', 'affecting', 'billions', 'of', 'lives', 'with', 'their', 'lines', 'of', 'code', 'but', 'no', 'one', 'ever', 'told', 'you', 'about', 'their', 'failures', 'the', 'untold', 'stories', 'of', 'people', 'who', 'have', 'fallen', 'and', 'the', 'hardships', 'that', 'brought', 'to', 'them', 'the', 'reality', 'is', 'when', 'we', 'start', 'programming', 'and', 'building', 'things', 'break', 'things', 'get', 'stuck', 'projects', 'get', 'scraped', 'or', 'even', 'worse', 'business', 'has', 'died', 'and', 'jobs', 'are', 'lost', 'startups', 'fail', 'and', 'time', 'is', 'wasted', 'failure', 'after', 'failure', 'or', 'happening', 'everyday', 'but', 'all', 'you', 'see', 'are', 'two', 'successes', 'that', 'coating', 'brought', 'to', 'these', 'different', 'people', 'but', 'no', 'one', 'talks', 'about', 'the', 'path', 'to', 'get', 'their', 'programming', 'is', 'hard', 'and', 'you', 'will', 'fail', 'at', 'one', 'point', 'you', 'will', 'doubt', 'yourself', \"you'll\", 'see', \"you're\", 'not', 'smart', 'enough', 'that', \"you're\", 'not', 'lucky', 'enough', 'but', 'i', 'do', 'not', 'gifted', 'enough', 'worse', 'other', 'people', 'will', 'tell', 'you', 'that', \"you're\", 'not', 'meant', 'for', 'computer', 'science', \"you're\", 'not', 'meant', 'to', 'be', 'an', 'entrepreneur', \"you're\", 'not', 'smart', 'enough', 'to', 'be', 'a', 'programmer', 'you', 'know', 'what', \"i'll\", 'tell', 'you', 'that', 'i', 'think', 'that', 'some', 'of', 'you', 'are', 'not', 'born', 'to', 'be', 'programmers', 'you', 'might', 'be', 'wasting', 'your', 'time']), (0.11908284661785061, ['We', 'need', 'all', 'kinds', 'of', 'technologies', 'here', 'are', 'a', 'few', 'examples', 'of', 'potential', 'projects', 'you', 'like', 'working', 'on', 'blockchain', 'build', 'secure', 'supply', 'networks', 'to', 'distribute', 'aid', 'to', 'the', 'people', 'need', 'you', 'like', 'ai', 'and', 'nlp', 'build', 'boss', 'to', 'help', 'real-time', 'communication']), (0.11216387190119251, ['Hearing', 'today', 'science', 'analyze', 'and', 'predict', 'what', 'the', 'affected', 'populations', 'need', 'before', 'they', 'even', 'ask', 'for', 'it', 'every', 'one', 'of', 'your', 'project', 'will', 'matter', 'and', 'it', 'will', 'be', 'for', 'an', 'extremely', 'good', 'cause', 'now', 'of', 'course', 'this', 'is', 'still', 'a', 'competition', 'so', 'they', 'have', 'a', 'grand', 'prize', 'of', '$200,000', 'not', 'only', 'that', 'the', 'project', 'with', 'the', 'greatest', 'potential', 'impact', 'will', 'be', 'implemented', 'through', 'the', 'ibm', 'code', 'and', 'respond', 'initiative', 'and', 'receive', 'open-source', 'support', 'through', 'the', 'linux', 'foundation', 'last', \"year's\", 'winning', 'team', 'project', 'owl', 'has', 'already', 'begun', 'to', 'deploy', 'their', 'solution', 'in', 'puerto', 'rico', 'as', 'part', 'of', 'the', 'code', 'in', 'response', 'so', 'are', 'you', 'up', 'for', 'the', 'challenge', 'do', 'the', 'impossible', 'be', 'an', 'innovator', 'joined', 'a', 'call', 'for', 'code']), (0.0713686406433113, ['I', \"don't\", 'care', 'if', \"you're\", 'just', 'trying', 'to', 'pass', 'a', 'cs', 'course', 'or', 'that', \"you're\", 'building', 'a', 'rocket', 'ship', 'startup', 'what', 'matter', 'is', 'that', 'you', 'are', 'not', 'stopping', 'until', 'you', 'reach', 'your', 'goal', 'as', 'a', 'society', 'we', 'have', 'many', 'many', 'problems', 'but', 'we', 'tackle', 'them', 'head-on', 'and', 'we', 'keep', 'innovating', 'to', 'make', 'our', 'lives', 'better', 'on', 'planet', 'earth', 'one', 'of', 'the', 'problems', 'i', 'care', 'a', 'lot', 'about', 'is', 'natural', 'disasters']), (0.054980173676407715, ['And', 'sometimes', \"it's\", 'even', 'demoralizing']), (0.04302018967024239, ['If', \"you've\", 'actually', 'done', 'any', 'kind', 'of', 'programming', 'you', 'would', 'know', 'that', 'programming', 'is', 'frustrating']), (0.030682287497527015, ['Do', 'you', 'want', 'to', 'ignore', 'my', 'advice', 'and', 'closes', 'video']), (0.015873015898842845, ['You', 'remember', 'when', 'you', 'just', 'started']), (0.015873015898842845, [\"It's\", 'confusing']), (0.015873015898842845, ['Conqueror'])]\n",
            "Summarize Text: \n",
            " Get ignore my advice if that's you then it means you're very stubborn but you don't give up and you care it means you fail all the time but you pick yourself back up and you become stronger it means you're dumb enough to try to do something impossible but then you make it with you push technology to its limit and you are at the forefront of innovation and you push even further and when people tell you that you can't do it you go ahead and you do it when people tell you you're wasting your time you go back and you work twice as hard and you come back and prove them wrong when people tell you you're crazy it's a compliment to you if that sounds like you then you are a true innovator and we need more people like you because we need more people to face the impossible. I'm partnered with ibm today to talk about a global initiative called call for code which calls for developers to build something impactful and have a positive change across the world through their cold as you know there are hundreds of natural disasters every year like hurricanes earthquake floods volcanoes and wildfires those affect numbers lies and causes tremendous damage the families across the globe if you strive for real impact we desperately need you this is why the 2019 call for code global challenge is a competition to ask people like you to build solutions that help the health and well-being of these victims the natural disasters there are so many aspects of that providing food and water safely controlling infectious diseases building supply distribution networks and even getting access to mental health during natural disasters\n"
          ],
          "name": "stdout"
        }
      ]
    },
    {
      "cell_type": "code",
      "metadata": {
        "id": "ohKQOLu8Q7jZ",
        "outputId": "f00e475e-8204-4650-bfc6-26833d75160e",
        "colab": {
          "base_uri": "https://localhost:8080/",
          "height": 74
        }
      },
      "source": [
        "for point in summary:\n",
        "  print('-> ' + point + ';')"
      ],
      "execution_count": 58,
      "outputs": [
        {
          "output_type": "stream",
          "text": [
            "-> Get ignore my advice if that's you then it means you're very stubborn but you don't give up and you care it means you fail all the time but you pick yourself back up and you become stronger it means you're dumb enough to try to do something impossible but then you make it with you push technology to its limit and you are at the forefront of innovation and you push even further and when people tell you that you can't do it you go ahead and you do it when people tell you you're wasting your time you go back and you work twice as hard and you come back and prove them wrong when people tell you you're crazy it's a compliment to you if that sounds like you then you are a true innovator and we need more people like you because we need more people to face the impossible;\n",
            "-> I'm partnered with ibm today to talk about a global initiative called call for code which calls for developers to build something impactful and have a positive change across the world through their cold as you know there are hundreds of natural disasters every year like hurricanes earthquake floods volcanoes and wildfires those affect numbers lies and causes tremendous damage the families across the globe if you strive for real impact we desperately need you this is why the 2019 call for code global challenge is a competition to ask people like you to build solutions that help the health and well-being of these victims the natural disasters there are so many aspects of that providing food and water safely controlling infectious diseases building supply distribution networks and even getting access to mental health during natural disasters;\n"
          ],
          "name": "stdout"
        }
      ]
    }
  ]
}