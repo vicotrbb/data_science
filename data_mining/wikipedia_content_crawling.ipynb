{
  "nbformat": 4,
  "nbformat_minor": 0,
  "metadata": {
    "colab": {
      "name": "wikipedia_content_crawling.ipynb",
      "provenance": [],
      "collapsed_sections": []
    },
    "kernelspec": {
      "name": "python3",
      "display_name": "Python 3"
    }
  },
  "cells": [
    {
      "cell_type": "markdown",
      "metadata": {
        "id": "R-EGQgxLEGKt",
        "colab_type": "text"
      },
      "source": [
        "# Crawler de conteudo da wikipedia\n",
        "\n",
        "A ideia deste projeto é criar um crawler capaz de ler e criar um grande dataset com o conteudo do wikipedia, abrangindo todo tipo de informação possivel.\n",
        "\n",
        "O dataset pode ser destinado para treinar modelos de machine learning de NLP, como o BERT.\n",
        "\n",
        "## Special:Random\n",
        "\n",
        "Esta funcionalidade do wikipedia acessa um conteudo aleatório presente no site, a ideia é utilizar o recurso pra acessar diversos tipos de conteudo, extrair o texto e informação e executar a procura randomica novamente, criando um laço de crawling."
      ]
    },
    {
      "cell_type": "code",
      "metadata": {
        "id": "7lGuiu7gEC6E",
        "colab_type": "code",
        "colab": {
          "base_uri": "https://localhost:8080/",
          "height": 35
        },
        "outputId": "485bc73c-c168-429d-8c61-c1c83c847028"
      },
      "source": [
        "lenguage_code = 'pt'\n",
        "random_wikipedia_route = f'https://{lenguage_code}.wikipedia.org/wiki/Special:Random'\n",
        "\n",
        "print(random_wikipedia_route)"
      ],
      "execution_count": 16,
      "outputs": [
        {
          "output_type": "stream",
          "text": [
            "https://pt.wikipedia.org/wiki/Special:Random\n"
          ],
          "name": "stdout"
        }
      ]
    },
    {
      "cell_type": "code",
      "metadata": {
        "id": "QQhMhDW-FhOt",
        "colab_type": "code",
        "colab": {}
      },
      "source": [
        ""
      ],
      "execution_count": null,
      "outputs": []
    }
  ]
}