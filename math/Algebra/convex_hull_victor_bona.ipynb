{
  "nbformat": 4,
  "nbformat_minor": 0,
  "metadata": {
    "colab": {
      "name": "convex_hull_victor_bona.ipynb",
      "provenance": [],
      "authorship_tag": "ABX9TyPbSIOC3F8akacaSDr60eld",
      "include_colab_link": true
    },
    "kernelspec": {
      "name": "python3",
      "display_name": "Python 3"
    }
  },
  "cells": [
    {
      "cell_type": "markdown",
      "metadata": {
        "id": "view-in-github",
        "colab_type": "text"
      },
      "source": [
        "<a href=\"https://colab.research.google.com/github/vicotrbb/data_science/blob/master/math/Algebra/convex_hull_victor_bona.ipynb\" target=\"_parent\"><img src=\"https://colab.research.google.com/assets/colab-badge.svg\" alt=\"Open In Colab\"/></a>"
      ]
    },
    {
      "cell_type": "markdown",
      "metadata": {
        "id": "Xn9s_W-7dioZ"
      },
      "source": [
        "# Victor Bona"
      ]
    },
    {
      "cell_type": "code",
      "metadata": {
        "id": "GoK8NGjncbe3"
      },
      "source": [
        "def _(o, a, b):\r\n",
        "  return (a[0] - o[0]) * (b[1] - o[1]) - (a[1] - o[1]) * (b[0] - o[0])\r\n",
        "\r\n",
        "def convex_hull(points):\r\n",
        "    points = sorted(set(points))\r\n",
        "    if len(points) <= 1:\r\n",
        "        return points\r\n",
        "\r\n",
        "    lower = []\r\n",
        "    for p in points:\r\n",
        "        while len(lower) >= 2 and _(lower[-2], lower[-1], p) <= 0:\r\n",
        "            lower.pop()\r\n",
        "        lower.append(p)\r\n",
        "\r\n",
        "    upper = []\r\n",
        "    for p in reversed(points):\r\n",
        "        while len(upper) >= 2 and _(upper[-2], upper[-1], p) <= 0:\r\n",
        "            upper.pop()\r\n",
        "        upper.append(p)\r\n",
        "\r\n",
        "    return lower[:-1] + upper[:-1]"
      ],
      "execution_count": 55,
      "outputs": []
    },
    {
      "cell_type": "code",
      "metadata": {
        "id": "_EHZxAdaeZje"
      },
      "source": [
        "import numpy as np"
      ],
      "execution_count": 56,
      "outputs": []
    },
    {
      "cell_type": "code",
      "metadata": {
        "id": "u8-JFv3kdBbY"
      },
      "source": [
        "pts = [(np.random.rand(1)[0], np.random.rand(1)[0]) for i in range(100)]"
      ],
      "execution_count": 62,
      "outputs": []
    },
    {
      "cell_type": "code",
      "metadata": {
        "id": "Pg_U_fHPcnke"
      },
      "source": [
        "cvx_pts = convex_hull(pts)"
      ],
      "execution_count": 63,
      "outputs": []
    },
    {
      "cell_type": "code",
      "metadata": {
        "id": "j68I3cpEdfmt"
      },
      "source": [
        "import matplotlib.pyplot as plt"
      ],
      "execution_count": 40,
      "outputs": []
    },
    {
      "cell_type": "code",
      "metadata": {
        "id": "1USG0CISePas"
      },
      "source": [
        "x = [i[0] for i in pts]\r\n",
        "y = [i[1] for i in pts]"
      ],
      "execution_count": 64,
      "outputs": []
    },
    {
      "cell_type": "code",
      "metadata": {
        "id": "V0NgYAAYfJbR"
      },
      "source": [
        "cvx_x = [i[0] for i in cvx_pts]\r\n",
        "cvx_y = [i[1] for i in cvx_pts]"
      ],
      "execution_count": 65,
      "outputs": []
    },
    {
      "cell_type": "code",
      "metadata": {
        "colab": {
          "base_uri": "https://localhost:8080/",
          "height": 279
        },
        "id": "512dgBe5dpYJ",
        "outputId": "d6fc1952-ce60-427c-d01a-940098ac4ae5"
      },
      "source": [
        "plt.scatter(x, y)\r\n",
        "plt.plot(cvx_x, cvx_y, c='red')\r\n",
        "plt.xlabel('x')\r\n",
        "plt.ylabel('y')\r\n",
        "plt.show()"
      ],
      "execution_count": 66,
      "outputs": [
        {
          "output_type": "display_data",
          "data": {
            "image/png": "[encoded data removed]",
            "text/plain": [
              "<Figure size 432x288 with 1 Axes>"
            ]
          },
          "metadata": {
            "tags": [],
            "needs_background": "light"
          }
        }
      ]
    }
  ]
}