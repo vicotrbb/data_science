{
  "nbformat": 4,
  "nbformat_minor": 0,
  "metadata": {
    "colab": {
      "name": "Math.ipynb",
      "provenance": []
    },
    "kernelspec": {
      "name": "python3",
      "display_name": "Python 3"
    }
  },
  "cells": [
    {
      "cell_type": "markdown",
      "metadata": {
        "id": "qTOBaJmv5bTY",
        "colab_type": "text"
      },
      "source": [
        "# Math\n",
        "\n",
        "Este notebook tem como objetivo, compreender conhecimento matematicos gerais e aplicados a Machine learning, Inteligencia Artificial e data science no geral.\n",
        "\n",
        "## Tópicos \n",
        "\n",
        "* \n",
        "\n",
        "## Author\n",
        "\n",
        "Victor Bona - https://www.linkedin.com/in/victorbona/"
      ]
    },
    {
      "cell_type": "code",
      "metadata": {
        "id": "KrCy-xO9Plu4",
        "colab_type": "code",
        "colab": {}
      },
      "source": [
        ""
      ],
      "execution_count": null,
      "outputs": []
    }
  ]
}