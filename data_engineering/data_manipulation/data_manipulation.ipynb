{
  "nbformat": 4,
  "nbformat_minor": 0,
  "metadata": {
    "colab": {
      "name": "data_normalization.ipynb",
      "provenance": [],
      "collapsed_sections": [],
      "include_colab_link": true
    },
    "kernelspec": {
      "name": "python3",
      "display_name": "Python 3"
    }
  },
  "cells": [
    {
      "cell_type": "markdown",
      "metadata": {
        "id": "view-in-github",
        "colab_type": "text"
      },
      "source": [
        "<a href=\"https://colab.research.google.com/github/vicotrbb/machine_learning/blob/master/data_manipulation/data_manipulation.ipynb\" target=\"_parent\"><img src=\"https://colab.research.google.com/assets/colab-badge.svg\" alt=\"Open In Colab\"/></a>"
      ]
    },
    {
      "cell_type": "markdown",
      "metadata": {
        "id": "YjfHZPY9tbWO",
        "colab_type": "text"
      },
      "source": [
        "# Normalizacao de dados\n",
        "\n",
        "A normalizacao de dados serve para colocarmos todos os dados de um conjunto no mesmo \"nivel\", para que tenham o mesmo impacto estatisticamente.\n",
        "\n",
        "Digamos por exemplo que tenhamos o dataset a seguir, como podemos ver, os atributos \"Idade\" e \"Patrimonio\" e muito diferente em escala, na casa dos 1k, para solucionarmos isto iremos normalizar os dados para que eles tenham o mesmo impacto e estejam em mesma escala. Exitem 3 metodos para tal.\n",
        "\n",
        "### Autor\n",
        "\n",
        "Victor Bona"
      ]
    },
    {
      "cell_type": "code",
      "metadata": {
        "id": "iuMuZn7OtTLS",
        "colab_type": "code",
        "outputId": "fba25009-4227-4653-b9a6-04d2879f6573",
        "colab": {
          "base_uri": "https://localhost:8080/",
          "height": 206
        }
      },
      "source": [
        "import pandas as pd\n",
        "import numpy as np\n",
        "from sklearn.preprocessing import StandardScaler\n",
        "\n",
        "idade = [20, 30, 40, 50, 55]\n",
        "patrimonio = [100000, 300000, 350000, 50000, 800000]\n",
        "\n",
        "att = {'idade': idade, \n",
        "       'patrimonio': patrimonio}\n",
        "\n",
        "ds = pd.DataFrame(att, columns=['idade', 'patrimonio'])\n",
        "ds"
      ],
      "execution_count": 1,
      "outputs": [
        {
          "output_type": "execute_result",
          "data": {
            "text/html": [
              "<div>\n",
              "<style scoped>\n",
              "    .dataframe tbody tr th:only-of-type {\n",
              "        vertical-align: middle;\n",
              "    }\n",
              "\n",
              "    .dataframe tbody tr th {\n",
              "        vertical-align: top;\n",
              "    }\n",
              "\n",
              "    .dataframe thead th {\n",
              "        text-align: right;\n",
              "    }\n",
              "</style>\n",
              "<table border=\"1\" class=\"dataframe\">\n",
              "  <thead>\n",
              "    <tr style=\"text-align: right;\">\n",
              "      <th></th>\n",
              "      <th>idade</th>\n",
              "      <th>patrimonio</th>\n",
              "    </tr>\n",
              "  </thead>\n",
              "  <tbody>\n",
              "    <tr>\n",
              "      <th>0</th>\n",
              "      <td>20</td>\n",
              "      <td>100000</td>\n",
              "    </tr>\n",
              "    <tr>\n",
              "      <th>1</th>\n",
              "      <td>30</td>\n",
              "      <td>300000</td>\n",
              "    </tr>\n",
              "    <tr>\n",
              "      <th>2</th>\n",
              "      <td>40</td>\n",
              "      <td>350000</td>\n",
              "    </tr>\n",
              "    <tr>\n",
              "      <th>3</th>\n",
              "      <td>50</td>\n",
              "      <td>50000</td>\n",
              "    </tr>\n",
              "    <tr>\n",
              "      <th>4</th>\n",
              "      <td>55</td>\n",
              "      <td>800000</td>\n",
              "    </tr>\n",
              "  </tbody>\n",
              "</table>\n",
              "</div>"
            ],
            "text/plain": [
              "   idade  patrimonio\n",
              "0     20      100000\n",
              "1     30      300000\n",
              "2     40      350000\n",
              "3     50       50000\n",
              "4     55      800000"
            ]
          },
          "metadata": {
            "tags": []
          },
          "execution_count": 1
        }
      ]
    },
    {
      "cell_type": "markdown",
      "metadata": {
        "id": "ViQUN1APvdnV",
        "colab_type": "text"
      },
      "source": [
        "### Escalamento simples\n",
        "\n",
        "Consiste basicamente em dividir cada valor do registro pelo maximo possivel daquela caracteristica\n",
        "\n",
        "$Xnew = \\frac{Xold}{Xmax}$\n"
      ]
    },
    {
      "cell_type": "code",
      "metadata": {
        "id": "uhxhoNE8wWHV",
        "colab_type": "code",
        "outputId": "a7b8c927-e445-46d1-dcc5-b5fbb45b30c6",
        "colab": {
          "base_uri": "https://localhost:8080/",
          "height": 206
        }
      },
      "source": [
        "se = ds/ds.max()\n",
        "se"
      ],
      "execution_count": 0,
      "outputs": [
        {
          "output_type": "execute_result",
          "data": {
            "text/html": [
              "<div>\n",
              "<style scoped>\n",
              "    .dataframe tbody tr th:only-of-type {\n",
              "        vertical-align: middle;\n",
              "    }\n",
              "\n",
              "    .dataframe tbody tr th {\n",
              "        vertical-align: top;\n",
              "    }\n",
              "\n",
              "    .dataframe thead th {\n",
              "        text-align: right;\n",
              "    }\n",
              "</style>\n",
              "<table border=\"1\" class=\"dataframe\">\n",
              "  <thead>\n",
              "    <tr style=\"text-align: right;\">\n",
              "      <th></th>\n",
              "      <th>idade</th>\n",
              "      <th>patrimonio</th>\n",
              "    </tr>\n",
              "  </thead>\n",
              "  <tbody>\n",
              "    <tr>\n",
              "      <th>0</th>\n",
              "      <td>0.363636</td>\n",
              "      <td>0.1250</td>\n",
              "    </tr>\n",
              "    <tr>\n",
              "      <th>1</th>\n",
              "      <td>0.545455</td>\n",
              "      <td>0.3750</td>\n",
              "    </tr>\n",
              "    <tr>\n",
              "      <th>2</th>\n",
              "      <td>0.727273</td>\n",
              "      <td>0.4375</td>\n",
              "    </tr>\n",
              "    <tr>\n",
              "      <th>3</th>\n",
              "      <td>0.909091</td>\n",
              "      <td>0.0625</td>\n",
              "    </tr>\n",
              "    <tr>\n",
              "      <th>4</th>\n",
              "      <td>1.000000</td>\n",
              "      <td>1.0000</td>\n",
              "    </tr>\n",
              "  </tbody>\n",
              "</table>\n",
              "</div>"
            ],
            "text/plain": [
              "      idade  patrimonio\n",
              "0  0.363636      0.1250\n",
              "1  0.545455      0.3750\n",
              "2  0.727273      0.4375\n",
              "3  0.909091      0.0625\n",
              "4  1.000000      1.0000"
            ]
          },
          "metadata": {
            "tags": []
          },
          "execution_count": 18
        }
      ]
    },
    {
      "cell_type": "markdown",
      "metadata": {
        "id": "HuHClggdwbJg",
        "colab_type": "text"
      },
      "source": [
        "### Min-Max\n",
        "\n",
        "Consiste basicamente cada registro subtraido pelo seu minimo possivel dividio pelo subtracao do maximo possivel pelo minimpo possivel.\n",
        "\n",
        "$Xnew = \\frac{Xold - Xmin}{Xmax - Xmin}$"
      ]
    },
    {
      "cell_type": "code",
      "metadata": {
        "id": "KcCbIRFnwzUJ",
        "colab_type": "code",
        "outputId": "cbb2e3b8-a7e6-4110-bbeb-6744cb1031d9",
        "colab": {
          "base_uri": "https://localhost:8080/",
          "height": 206
        }
      },
      "source": [
        "mm = (ds - ds.min())/(ds.max() - ds.min())\n",
        "mm"
      ],
      "execution_count": 0,
      "outputs": [
        {
          "output_type": "execute_result",
          "data": {
            "text/html": [
              "<div>\n",
              "<style scoped>\n",
              "    .dataframe tbody tr th:only-of-type {\n",
              "        vertical-align: middle;\n",
              "    }\n",
              "\n",
              "    .dataframe tbody tr th {\n",
              "        vertical-align: top;\n",
              "    }\n",
              "\n",
              "    .dataframe thead th {\n",
              "        text-align: right;\n",
              "    }\n",
              "</style>\n",
              "<table border=\"1\" class=\"dataframe\">\n",
              "  <thead>\n",
              "    <tr style=\"text-align: right;\">\n",
              "      <th></th>\n",
              "      <th>idade</th>\n",
              "      <th>patrimonio</th>\n",
              "    </tr>\n",
              "  </thead>\n",
              "  <tbody>\n",
              "    <tr>\n",
              "      <th>0</th>\n",
              "      <td>0.000000</td>\n",
              "      <td>0.066667</td>\n",
              "    </tr>\n",
              "    <tr>\n",
              "      <th>1</th>\n",
              "      <td>0.285714</td>\n",
              "      <td>0.333333</td>\n",
              "    </tr>\n",
              "    <tr>\n",
              "      <th>2</th>\n",
              "      <td>0.571429</td>\n",
              "      <td>0.400000</td>\n",
              "    </tr>\n",
              "    <tr>\n",
              "      <th>3</th>\n",
              "      <td>0.857143</td>\n",
              "      <td>0.000000</td>\n",
              "    </tr>\n",
              "    <tr>\n",
              "      <th>4</th>\n",
              "      <td>1.000000</td>\n",
              "      <td>1.000000</td>\n",
              "    </tr>\n",
              "  </tbody>\n",
              "</table>\n",
              "</div>"
            ],
            "text/plain": [
              "      idade  patrimonio\n",
              "0  0.000000    0.066667\n",
              "1  0.285714    0.333333\n",
              "2  0.571429    0.400000\n",
              "3  0.857143    0.000000\n",
              "4  1.000000    1.000000"
            ]
          },
          "metadata": {
            "tags": []
          },
          "execution_count": 19
        }
      ]
    },
    {
      "cell_type": "markdown",
      "metadata": {
        "id": "cJFNsrFYwzvR",
        "colab_type": "text"
      },
      "source": [
        "### Z-Score\n",
        "\n",
        "Consiste em cada registro subtraido pela media dos registros divididos pelo desvio padrao(sigma), este metodo pode gerar valores menores que 0.\n",
        "\n",
        "$Xnew = \\frac{Xold - \\mu }{\\sigma}$"
      ]
    },
    {
      "cell_type": "code",
      "metadata": {
        "id": "Ncu5BXQhxdDU",
        "colab_type": "code",
        "outputId": "2dd2a768-35d3-4b24-d7c8-22060f7cf119",
        "colab": {
          "base_uri": "https://localhost:8080/",
          "height": 206
        }
      },
      "source": [
        "zs = (ds - ds.mean())/ds.std()\n",
        "zs"
      ],
      "execution_count": 0,
      "outputs": [
        {
          "output_type": "execute_result",
          "data": {
            "text/html": [
              "<div>\n",
              "<style scoped>\n",
              "    .dataframe tbody tr th:only-of-type {\n",
              "        vertical-align: middle;\n",
              "    }\n",
              "\n",
              "    .dataframe tbody tr th {\n",
              "        vertical-align: top;\n",
              "    }\n",
              "\n",
              "    .dataframe thead th {\n",
              "        text-align: right;\n",
              "    }\n",
              "</style>\n",
              "<table border=\"1\" class=\"dataframe\">\n",
              "  <thead>\n",
              "    <tr style=\"text-align: right;\">\n",
              "      <th></th>\n",
              "      <th>idade</th>\n",
              "      <th>patrimonio</th>\n",
              "    </tr>\n",
              "  </thead>\n",
              "  <tbody>\n",
              "    <tr>\n",
              "      <th>0</th>\n",
              "      <td>-1.327018</td>\n",
              "      <td>-0.740569</td>\n",
              "    </tr>\n",
              "    <tr>\n",
              "      <th>1</th>\n",
              "      <td>-0.628587</td>\n",
              "      <td>-0.067324</td>\n",
              "    </tr>\n",
              "    <tr>\n",
              "      <th>2</th>\n",
              "      <td>0.069843</td>\n",
              "      <td>0.100987</td>\n",
              "    </tr>\n",
              "    <tr>\n",
              "      <th>3</th>\n",
              "      <td>0.768273</td>\n",
              "      <td>-0.908880</td>\n",
              "    </tr>\n",
              "    <tr>\n",
              "      <th>4</th>\n",
              "      <td>1.117488</td>\n",
              "      <td>1.615786</td>\n",
              "    </tr>\n",
              "  </tbody>\n",
              "</table>\n",
              "</div>"
            ],
            "text/plain": [
              "      idade  patrimonio\n",
              "0 -1.327018   -0.740569\n",
              "1 -0.628587   -0.067324\n",
              "2  0.069843    0.100987\n",
              "3  0.768273   -0.908880\n",
              "4  1.117488    1.615786"
            ]
          },
          "metadata": {
            "tags": []
          },
          "execution_count": 20
        }
      ]
    },
    {
      "cell_type": "markdown",
      "metadata": {
        "id": "3cyHefdpQp5N",
        "colab_type": "text"
      },
      "source": [
        "### Standard Scaler - Sklearn\n",
        "\n",
        "Outro metodo de normalizar dados simultaneamente, e utilizando o Standard Scaler do sklearn."
      ]
    },
    {
      "cell_type": "code",
      "metadata": {
        "id": "av_lGAdiQ2Bp",
        "colab_type": "code",
        "colab": {
          "base_uri": "https://localhost:8080/",
          "height": 206
        },
        "outputId": "94e9e7f4-d895-4258-9da8-6e275d3eb1f0"
      },
      "source": [
        "scale = StandardScaler()\n",
        "scale.fit(ds)\n",
        "\n",
        "x_scale = scale.transform(ds)\n",
        "ds_scale = pd.DataFrame(x_scale, columns=['idade', 'patrimonio'])\n",
        "ds_scale"
      ],
      "execution_count": 6,
      "outputs": [
        {
          "output_type": "execute_result",
          "data": {
            "text/html": [
              "<div>\n",
              "<style scoped>\n",
              "    .dataframe tbody tr th:only-of-type {\n",
              "        vertical-align: middle;\n",
              "    }\n",
              "\n",
              "    .dataframe tbody tr th {\n",
              "        vertical-align: top;\n",
              "    }\n",
              "\n",
              "    .dataframe thead th {\n",
              "        text-align: right;\n",
              "    }\n",
              "</style>\n",
              "<table border=\"1\" class=\"dataframe\">\n",
              "  <thead>\n",
              "    <tr style=\"text-align: right;\">\n",
              "      <th></th>\n",
              "      <th>idade</th>\n",
              "      <th>patrimonio</th>\n",
              "    </tr>\n",
              "  </thead>\n",
              "  <tbody>\n",
              "    <tr>\n",
              "      <th>0</th>\n",
              "      <td>-1.483651</td>\n",
              "      <td>-0.827981</td>\n",
              "    </tr>\n",
              "    <tr>\n",
              "      <th>1</th>\n",
              "      <td>-0.702782</td>\n",
              "      <td>-0.075271</td>\n",
              "    </tr>\n",
              "    <tr>\n",
              "      <th>2</th>\n",
              "      <td>0.078087</td>\n",
              "      <td>0.112906</td>\n",
              "    </tr>\n",
              "    <tr>\n",
              "      <th>3</th>\n",
              "      <td>0.858956</td>\n",
              "      <td>-1.016158</td>\n",
              "    </tr>\n",
              "    <tr>\n",
              "      <th>4</th>\n",
              "      <td>1.249390</td>\n",
              "      <td>1.806504</td>\n",
              "    </tr>\n",
              "  </tbody>\n",
              "</table>\n",
              "</div>"
            ],
            "text/plain": [
              "      idade  patrimonio\n",
              "0 -1.483651   -0.827981\n",
              "1 -0.702782   -0.075271\n",
              "2  0.078087    0.112906\n",
              "3  0.858956   -1.016158\n",
              "4  1.249390    1.806504"
            ]
          },
          "metadata": {
            "tags": []
          },
          "execution_count": 6
        }
      ]
    },
    {
      "cell_type": "markdown",
      "metadata": {
        "id": "oPldFpwYbZCK",
        "colab_type": "text"
      },
      "source": [
        "# Dados caterogiros para quantitativos\n",
        "\n",
        "Este método é utilziado para converter dados categoricos(e.g: \"flor\", \"carro\", \"pessoa\") em dados quantitativos(numericos), dado a nova colun adicionada ao dataset, utilizamos o metodo get_dummies do pandas para criarmos colunas quantitativas dessas classes\n",
        "\n",
        "\n",
        "\n"
      ]
    },
    {
      "cell_type": "code",
      "metadata": {
        "id": "0w8Cbu2UbtX8",
        "colab_type": "code",
        "outputId": "8ea02acc-550d-4b4b-d624-2f41143ddfee",
        "colab": {
          "base_uri": "https://localhost:8080/",
          "height": 206
        }
      },
      "source": [
        "ds['classe'] = ['pobre', 'pobre', 'media', 'pobre', 'rico']\n",
        "ds"
      ],
      "execution_count": 0,
      "outputs": [
        {
          "output_type": "execute_result",
          "data": {
            "text/html": [
              "<div>\n",
              "<style scoped>\n",
              "    .dataframe tbody tr th:only-of-type {\n",
              "        vertical-align: middle;\n",
              "    }\n",
              "\n",
              "    .dataframe tbody tr th {\n",
              "        vertical-align: top;\n",
              "    }\n",
              "\n",
              "    .dataframe thead th {\n",
              "        text-align: right;\n",
              "    }\n",
              "</style>\n",
              "<table border=\"1\" class=\"dataframe\">\n",
              "  <thead>\n",
              "    <tr style=\"text-align: right;\">\n",
              "      <th></th>\n",
              "      <th>idade</th>\n",
              "      <th>patrimonio</th>\n",
              "      <th>classe</th>\n",
              "    </tr>\n",
              "  </thead>\n",
              "  <tbody>\n",
              "    <tr>\n",
              "      <th>0</th>\n",
              "      <td>20</td>\n",
              "      <td>100000</td>\n",
              "      <td>pobre</td>\n",
              "    </tr>\n",
              "    <tr>\n",
              "      <th>1</th>\n",
              "      <td>30</td>\n",
              "      <td>300000</td>\n",
              "      <td>pobre</td>\n",
              "    </tr>\n",
              "    <tr>\n",
              "      <th>2</th>\n",
              "      <td>40</td>\n",
              "      <td>350000</td>\n",
              "      <td>media</td>\n",
              "    </tr>\n",
              "    <tr>\n",
              "      <th>3</th>\n",
              "      <td>50</td>\n",
              "      <td>50000</td>\n",
              "      <td>pobre</td>\n",
              "    </tr>\n",
              "    <tr>\n",
              "      <th>4</th>\n",
              "      <td>55</td>\n",
              "      <td>800000</td>\n",
              "      <td>rico</td>\n",
              "    </tr>\n",
              "  </tbody>\n",
              "</table>\n",
              "</div>"
            ],
            "text/plain": [
              "   idade  patrimonio classe\n",
              "0     20      100000  pobre\n",
              "1     30      300000  pobre\n",
              "2     40      350000  media\n",
              "3     50       50000  pobre\n",
              "4     55      800000   rico"
            ]
          },
          "metadata": {
            "tags": []
          },
          "execution_count": 21
        }
      ]
    },
    {
      "cell_type": "code",
      "metadata": {
        "id": "6Sl474S5kLGb",
        "colab_type": "code",
        "outputId": "33d65a4b-29f2-448c-b3dd-896a527e29c1",
        "colab": {
          "base_uri": "https://localhost:8080/",
          "height": 206
        }
      },
      "source": [
        "ap = pd.get_dummies(ds['classe'])\n",
        "ap"
      ],
      "execution_count": 0,
      "outputs": [
        {
          "output_type": "execute_result",
          "data": {
            "text/html": [
              "<div>\n",
              "<style scoped>\n",
              "    .dataframe tbody tr th:only-of-type {\n",
              "        vertical-align: middle;\n",
              "    }\n",
              "\n",
              "    .dataframe tbody tr th {\n",
              "        vertical-align: top;\n",
              "    }\n",
              "\n",
              "    .dataframe thead th {\n",
              "        text-align: right;\n",
              "    }\n",
              "</style>\n",
              "<table border=\"1\" class=\"dataframe\">\n",
              "  <thead>\n",
              "    <tr style=\"text-align: right;\">\n",
              "      <th></th>\n",
              "      <th>media</th>\n",
              "      <th>pobre</th>\n",
              "      <th>rico</th>\n",
              "    </tr>\n",
              "  </thead>\n",
              "  <tbody>\n",
              "    <tr>\n",
              "      <th>0</th>\n",
              "      <td>0</td>\n",
              "      <td>1</td>\n",
              "      <td>0</td>\n",
              "    </tr>\n",
              "    <tr>\n",
              "      <th>1</th>\n",
              "      <td>0</td>\n",
              "      <td>1</td>\n",
              "      <td>0</td>\n",
              "    </tr>\n",
              "    <tr>\n",
              "      <th>2</th>\n",
              "      <td>1</td>\n",
              "      <td>0</td>\n",
              "      <td>0</td>\n",
              "    </tr>\n",
              "    <tr>\n",
              "      <th>3</th>\n",
              "      <td>0</td>\n",
              "      <td>1</td>\n",
              "      <td>0</td>\n",
              "    </tr>\n",
              "    <tr>\n",
              "      <th>4</th>\n",
              "      <td>0</td>\n",
              "      <td>0</td>\n",
              "      <td>1</td>\n",
              "    </tr>\n",
              "  </tbody>\n",
              "</table>\n",
              "</div>"
            ],
            "text/plain": [
              "   media  pobre  rico\n",
              "0      0      1     0\n",
              "1      0      1     0\n",
              "2      1      0     0\n",
              "3      0      1     0\n",
              "4      0      0     1"
            ]
          },
          "metadata": {
            "tags": []
          },
          "execution_count": 29
        }
      ]
    }
  ]
}