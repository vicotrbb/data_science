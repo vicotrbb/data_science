{
  "nbformat": 4,
  "nbformat_minor": 0,
  "metadata": {
    "colab": {
      "name": "Polynomial_regression.ipynb",
      "provenance": [],
      "collapsed_sections": []
    },
    "kernelspec": {
      "name": "python3",
      "display_name": "Python 3"
    }
  },
  "cells": [
    {
      "cell_type": "markdown",
      "metadata": {
        "id": "B2bm2Uz_7gai",
        "colab_type": "text"
      },
      "source": [
        "# REGRESSAO POLINOMIAL\n",
        "\n",
        "A regressao polinomial e um modelo de regressao linear, utilizada principalmente quando modelos de regressao linear normais nao sao a melhor escolha para os dados que estao sendo trabalhados, como por exemplo para descrever relacionamentos curvilineos entre os dados.\n",
        "\n",
        "### Regressao curvilinea\n",
        "Devemos lembrar primeiramente, que podemos aproximar qualquer funcao utilizando um polinomio. A regressao polinomial basicamente cria novas variaveis utilizando as antigas para criar polinomios a serem usados no modelo. A aplicacao do modelo de regressao linear nao muda, apesar das novas variaveis a serem introduzidas.\n",
        "\n",
        "E.g: Elevar as variaveis em polinomios quadrados\n",
        "\n",
        "### Tipos de modelo e formulas\n",
        "O modelo de regressao polinomial, pode ser quadratico por exemplo, significando que elevaremos nossas variaveis ao quadrado e segue a seguinte funcao:\n",
        "\n",
        "* $\\hat{y} = b_{0} + b_{1}x_{1} + b_{2}(x_1)^{2}$\n",
        "\n",
        "Uma regressao polinomial cubica seria representada pela seguinte equacao:\n",
        "\n",
        "* $\\hat{y} = b_{0} + b_{1}x_{1} + b_{2}(x_1)^{2} + b_{3}(x_1)^{3}$\n",
        "\n",
        "Ao adicionar polinomios de maiores ordens a equacao criamos modelos de regressoes polinomiais de maior ordem\n",
        "\n",
        "* $\\hat{y} = b_{0} + b_{1}x_{1} + b_{2}(x_1)^{2} + b_{3}(x_1)^{3} + ... + b_{n}(x_1)^{n}$\n",
        "\n",
        "\n",
        "### Calculando variaveis polinomiais de terceira ordem\n",
        "\n",
        "Para isto, utilizamos as funcoes do numpy, o codigo a seguir serve para modelos de regressao linear simples.\n",
        "\n",
        "Segue codigo exemplo:"
      ]
    },
    {
      "cell_type": "code",
      "metadata": {
        "id": "piVZMSR77b3W",
        "colab_type": "code",
        "colab": {
          "base_uri": "https://localhost:8080/",
          "height": 52
        },
        "outputId": "18c4f4d0-573c-40d5-b4bb-da7e441d2089"
      },
      "source": [
        "import numpy as np\n",
        "import pandas as pd\n",
        "from sklearn.linear_model import LinearRegression\n",
        "from sklearn.preprocessing import PolynomialFeatures\n",
        "\n",
        "df = pd.read_csv('https://s3-api.us-geo.objectstorage.softlayer.net/cf-courses-data/CognitiveClass/DA0101EN/automobileEDA.csv')\n",
        "x = df['highway-mpg']\n",
        "y = df['price']\n",
        "\n",
        "f = np.polyfit(x, y, 3)\n",
        "p = np.poly1d(f)\n",
        "\n",
        "print(p)"
      ],
      "execution_count": 5,
      "outputs": [
        {
          "output_type": "stream",
          "text": [
            "        3         2\n",
            "-1.557 x + 204.8 x - 8965 x + 1.379e+05\n"
          ],
          "name": "stdout"
        }
      ]
    },
    {
      "cell_type": "markdown",
      "metadata": {
        "id": "_z-lNfvtDicX",
        "colab_type": "text"
      },
      "source": [
        "### Regressao Linear polinomial multipla\n",
        "\n",
        "Da forma que foi apresentada antes, e possivel criar apenas modelos simples, para criamos modelos multiplos, utilizamos o sklearn.\n",
        "\n",
        "Um polinimio multiplo segue a seguinte equacao:\n",
        "\n",
        "* $\\hat{y} = b0 + b1X_1 + b2X_2 + b3X_1X_2 + b4(X_1)^{2} + b5(X_2)^{2} + ...$\n",
        "\n",
        "Segue codigo:\n"
      ]
    },
    {
      "cell_type": "code",
      "metadata": {
        "id": "OLlkk3HDDl9D",
        "colab_type": "code",
        "colab": {
          "base_uri": "https://localhost:8080/",
          "height": 52
        },
        "outputId": "4f45ce7b-dd20-4700-9a2e-74d9eaa4855e"
      },
      "source": [
        "z = [[1,2], [2, 1]]\n",
        "pr = PolynomialFeatures(degree=2)\n",
        "z = pr.fit_transform(z)\n",
        "\n",
        "z"
      ],
      "execution_count": 14,
      "outputs": [
        {
          "output_type": "execute_result",
          "data": {
            "text/plain": [
              "array([[1., 1., 2., 1., 2., 4.],\n",
              "       [1., 2., 1., 4., 2., 1.]])"
            ]
          },
          "metadata": {
            "tags": []
          },
          "execution_count": 14
        }
      ]
    }
  ]
}