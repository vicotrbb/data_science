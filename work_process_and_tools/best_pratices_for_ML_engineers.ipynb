{
  "nbformat": 4,
  "nbformat_minor": 0,
  "metadata": {
    "colab": {
      "name": "Best_pratices_for_ML_engineers.ipynb",
      "provenance": [],
      "toc_visible": true,
      "include_colab_link": true
    },
    "kernelspec": {
      "name": "python3",
      "display_name": "Python 3"
    }
  },
  "cells": [
    {
      "cell_type": "markdown",
      "metadata": {
        "id": "view-in-github",
        "colab_type": "text"
      },
      "source": [
        "<a href=\"https://colab.research.google.com/github/vicotrbb/machine_learning/blob/master/work_process_and_tools/best_pratices_for_ML_engineers.ipynb\" target=\"_parent\"><img src=\"https://colab.research.google.com/assets/colab-badge.svg\" alt=\"Open In Colab\"/></a>"
      ]
    },
    {
      "cell_type": "markdown",
      "metadata": {
        "id": "uXJDf46z7TX3"
      },
      "source": [
        "# Importantes dicas para ser um engenheiro de ML melhor\n",
        "\n",
        "Um questionamento constante que tenho quando estou desenvolvendo um novo script para treinar um modelo ou mesmo uma nova API para poder consumi-los, é se oque eu se estou seguindo as boas práticas, criar serviços voltados a ML e IA não são iguais ao desenvolvimento de software convencional, mas isso não quer dizer que não devemos seguir boas práticas e manter esses serviços o melhor possivel.\n",
        "\n",
        "A frente, seguem dicas que podem ajudar a melhorar seu trabalho. A maioria dos topicos são retirados de leituras que realizei e alguns poucos são de minha autoria, referencias seguem abaixo.\n",
        "\n",
        "## Author\n",
        "\n",
        "* Victor Bona - https://www.linkedin.com/in/victorbona/\n",
        "\n",
        "## Referencias\n",
        "\n",
        "* https://medium.com/modern-nlp/10-great-ml-practices-for-python-developers-b089eefc18fc"
      ]
    },
    {
      "cell_type": "markdown",
      "metadata": {
        "id": "e-DV2T-EEkWH"
      },
      "source": [
        "# Apresente o progresso de tarefas importantes e onerosas\n",
        "\n",
        "Acompanhar o progresso de grandes tarefas pode ser uma excelente pratica, visando facilitar o acompanhamento do processo, melhor percepção de métricas e facilitar a percepção de *leaks*.\n",
        "\n",
        "Para esta tarefa, recomenda-se o uso da lib fastprogress, como demonstrado no exemplo abaixo."
      ]
    },
    {
      "cell_type": "code",
      "metadata": {
        "id": "UvLCEVLo6-hl",
        "colab": {
          "base_uri": "https://localhost:8080/",
          "height": 37
        },
        "outputId": "79ce4c82-783c-457d-8d27-723a368950f1"
      },
      "source": [
        "from fastprogress.fastprogress import progress_bar\n",
        "from time import sleep\n",
        "for j in progress_bar(range(100)):\n",
        "  sleep(0.01)"
      ],
      "execution_count": null,
      "outputs": [
        {
          "output_type": "display_data",
          "data": {
            "text/html": [
              "\n",
              "    <div>\n",
              "        <style>\n",
              "            /* Turns off some styling */\n",
              "            progress {\n",
              "                /* gets rid of default border in Firefox and Opera. */\n",
              "                border: none;\n",
              "                /* Needs to be in here for Safari polyfill so background images work as expected. */\n",
              "                background-size: auto;\n",
              "            }\n",
              "            .progress-bar-interrupted, .progress-bar-interrupted::-webkit-progress-bar {\n",
              "                background: #F44336;\n",
              "            }\n",
              "        </style>\n",
              "      <progress value='100' class='' max='100' style='width:300px; height:20px; vertical-align: middle;'></progress>\n",
              "      100.00% [100/100 00:01<00:00]\n",
              "    </div>\n",
              "    "
            ],
            "text/plain": [
              "<IPython.core.display.HTML object>"
            ]
          },
          "metadata": {
            "tags": []
          }
        }
      ]
    },
    {
      "cell_type": "markdown",
      "metadata": {
        "id": "diOwp76GGB1D"
      },
      "source": [
        "# Contabilize tempo de execução\n",
        "\n",
        "Da mesma forma como a dica anterior, esta visa também facilitar o acompanhamento dos processos, poder contabilizar quanto tempo um processo demora para executar por completo, pode ajudar muito e antender onde melhorar no seu pipeline ou identificar possiveis *leaks*.\n",
        "\n",
        "A ideia do exemplo abaixo, é criar um *decorator* para permitir a facil metrificação do tempo de execução dos métodos."
      ]
    },
    {
      "cell_type": "code",
      "metadata": {
        "id": "3_vCxY8CGB5i"
      },
      "source": [
        "import time\n",
        "from functools import wraps\n",
        "\n",
        "def timing(f):\n",
        "  \"\"\"Decorator for timing functions\n",
        "  Usage:\n",
        "  @timing\n",
        "  def function(a):\n",
        "    pass\n",
        "  \"\"\"\n",
        "\n",
        "  @wraps(f)\n",
        "  def wrapper(*args, **kwargs):\n",
        "    start = time.time()\n",
        "    result = f(*args, **kwargs)\n",
        "    end = time.time()\n",
        "    print('function:%r took: %2.2f sec' % (f.__name__,  end - start))\n",
        "    return result\n",
        "  return wrapper"
      ],
      "execution_count": null,
      "outputs": []
    },
    {
      "cell_type": "code",
      "metadata": {
        "id": "GQeVBspzGneM",
        "colab": {
          "base_uri": "https://localhost:8080/",
          "height": 54
        },
        "outputId": "987e43ec-2dcd-4fd5-f402-e51920b2af58"
      },
      "source": [
        "@timing\n",
        "def teste():\n",
        "  y = 0\n",
        "  for x in range(1,10000000):\n",
        "    y += x\n",
        "  print(y)\n",
        "\n",
        "teste()"
      ],
      "execution_count": null,
      "outputs": [
        {
          "output_type": "stream",
          "text": [
            "49999995000000\n",
            "function:'teste' took: 0.61 sec\n"
          ],
          "name": "stdout"
        }
      ]
    },
    {
      "cell_type": "markdown",
      "metadata": {
        "id": "UVOGB6YvHdVO"
      },
      "source": [
        "# Sempre tenha formas de evitar disperdicio de recursos\n",
        "\n",
        "Quando vamos treinar um modelo em uma maquina na nuvem, normalmente isso custa muito caro, pricipalmente por que as maquinas utilizadas são de alto desempenho e custam mais caro naturalmente. \n",
        "\n",
        "O problema mesmo é quando o egenheiro que projetou o pipeline acaba esquecendo de checar quando o modelo já esta pronto para desligar a maquina ou pausa-la, ocasionando em gastos desnecessários.\n",
        "\n",
        "Visando evitar esse problema, crie algum método para desligar a maquina depois que terminar e salvar o processo."
      ]
    },
    {
      "cell_type": "code",
      "metadata": {
        "id": "KBSGtgh7HeAI"
      },
      "source": [
        "import os\n",
        "\n",
        "def shutdown(seconds=0):\n",
        "  os.system(f'sudo shutdown -h -t sec {seconds}')"
      ],
      "execution_count": null,
      "outputs": []
    },
    {
      "cell_type": "markdown",
      "metadata": {
        "id": "H3BayxPOkmuV"
      },
      "source": [
        "# Fixe as seeds do seu projeto\n",
        "\n",
        "Uma boa pratica, é fixar as \"seeds\" do seu projeto, para que seja possivel reproduzir seus resultados em outros ambientes. Essas seeds são os valores utilizados como parametro para realizar alguns processos importantes.\n",
        "\n",
        "Normalmente, as seeds são fixadas no topo do seu projeto ou em um método de setup."
      ]
    },
    {
      "cell_type": "code",
      "metadata": {
        "id": "p-iekiZEkm7a"
      },
      "source": [
        "import numpy as np\n",
        "import os\n",
        "import tensorflow as tf\n",
        "import random\n",
        "\n",
        "os.environ['PYTHONHASHSEED']=str(66)\n",
        "tf.random.set_seed(66)\n",
        "np.random.seed(66)\n",
        "random.seed(66)"
      ],
      "execution_count": null,
      "outputs": []
    },
    {
      "cell_type": "markdown",
      "metadata": {
        "id": "vj3qm4kt68xh"
      },
      "source": [
        "# Crie um aviso visual ou sonoro\n",
        "\n",
        "Uma outra boa prática para caso você esteja utilizando uma maquina local para treinar seu modelo ou executar um payload pesado, é criar um aviso sonoro ou visual para ser avisado quando finalizar o trabalho.\n",
        "\n",
        "Windows:"
      ]
    },
    {
      "cell_type": "code",
      "metadata": {
        "id": "N7VgRQjg7iGY"
      },
      "source": [
        "import winsound\n",
        "\n",
        "def make_noise():\n",
        "  duration = 1000  # milliseconds\n",
        "  freq = 440  # Hz\n",
        "  winsound.Beep(freq, duration)"
      ],
      "execution_count": null,
      "outputs": []
    },
    {
      "cell_type": "markdown",
      "metadata": {
        "id": "yM_xg5688DTN"
      },
      "source": [
        "Linux:"
      ]
    },
    {
      "cell_type": "code",
      "metadata": {
        "id": "mEkJ0P-38JXR"
      },
      "source": [
        "!sudo apt install sox"
      ],
      "execution_count": null,
      "outputs": []
    },
    {
      "cell_type": "code",
      "metadata": {
        "id": "xcktDQjb8Exm"
      },
      "source": [
        "import os \n",
        "\n",
        "def make_noise():\n",
        "    '''Make noise after finishing executing a code'''\n",
        "    duration = 1  # seconds\n",
        "    freq = 440  # Hz\n",
        "    os.system('play -nq -t alsa synth {} sine {}'.format(duration, freq))"
      ],
      "execution_count": null,
      "outputs": []
    },
    {
      "cell_type": "markdown",
      "metadata": {
        "id": "zA4Ee92v8LRA"
      },
      "source": [
        "# Receba uma notificação no email\n",
        "\n",
        "Como a dica anterior, esta dica serve para lhe avisar quando alguma tarefa está completa e que esteja sendo executada longe de você, visando evitar o desperdicio de recursos. \n",
        "\n",
        "Para esta solução, irá ser enviado um email avisando da finalização da tarefa e enviar algumas métricas.\n",
        "\n",
        "Lembrando que para usar a biblioteca abaixo, é preciso utilizar um email gmail."
      ]
    },
    {
      "cell_type": "code",
      "metadata": {
        "id": "YdUDgyen8hMH"
      },
      "source": [
        "!pip install knockknock"
      ],
      "execution_count": null,
      "outputs": []
    },
    {
      "cell_type": "code",
      "metadata": {
        "id": "8bn1SADv8kvK"
      },
      "source": [
        "from knockknock import email_sender\n",
        "\n",
        "\n",
        "@email_sender(recipient_emails=[\"youremail@gmail.com\"], sender_email=\"anotheremail@gmail.com\")\n",
        "def main():\n",
        "    even_arr = []\n",
        "    for i in range(10000):\n",
        "        if i%2==0:\n",
        "            even_arr.append(i)"
      ],
      "execution_count": null,
      "outputs": []
    },
    {
      "cell_type": "markdown",
      "metadata": {
        "id": "Yzv7jtdItQ1f"
      },
      "source": [
        "# Tenha em mente o uso de memória de seu modelo\n",
        "\n",
        "Um problema que pode acabar sendo recorrente ao se treinar um modelo de ML ou trabalhar com grandes quantidades de dados, é acabar estourando a memória disponivel no sistema, principalmente caso esteja treinando um modelo de NLP.\n",
        "\n",
        "Para estes casos, pode ser interessante ter em mente a quantidade de memória que os objetos estão utilizando."
      ]
    },
    {
      "cell_type": "code",
      "metadata": {
        "id": "66Ssy5g5tQ75"
      },
      "source": [
        "from collections import Mapping, Container\n",
        "from sys import getsizeof\n",
        " \n",
        "def deep_getsizeof(o, ids):\n",
        "    \"\"\"\n",
        "      Return memory size in MB\n",
        "    \"\"\"\n",
        "    d = deep_getsizeof\n",
        "    if id(o) in ids:\n",
        "        return 0\n",
        " \n",
        "    r = getsizeof(o)\n",
        "    ids.add(id(o))\n",
        " \n",
        "    if isinstance(o, str):\n",
        "        return r / 1048576\n",
        " \n",
        "    if isinstance(o, Mapping):\n",
        "        return (r + sum(d(k, ids) + d(v, ids) for k, v in o.iteritems())) / 1048576\n",
        " \n",
        "    if isinstance(o, Container):\n",
        "        return (r + sum(d(x, ids) for x in o)) / 1048576\n",
        "    \n",
        "    return r / 1048576"
      ],
      "execution_count": null,
      "outputs": []
    },
    {
      "cell_type": "markdown",
      "metadata": {
        "id": "GNrfR7uVPEiG"
      },
      "source": [
        "# Verifique pela frequencia de valores NaN em seus dataframes\n",
        "\n",
        "Organizar seus dados é importante e isso inclui lidar com dados faltantes em seus dataframes, uma forma elegante e pratica de fazer isso é utilizando o missingno, uma excelente ferramenta para verificar a frequencia de valores faltantes em seus dataframe/dataset."
      ]
    },
    {
      "cell_type": "code",
      "metadata": {
        "id": "lMSoe0fRPYDv"
      },
      "source": [
        "import pandas as pd\n",
        "import missingno as msno"
      ],
      "execution_count": null,
      "outputs": []
    },
    {
      "cell_type": "code",
      "metadata": {
        "id": "1vx4gA5HSdw8",
        "colab": {
          "base_uri": "https://localhost:8080/",
          "height": 226
        },
        "outputId": "4db229bf-12a0-4f76-bddf-931ab8a2a6df"
      },
      "source": [
        "data = pd.read_csv('data.csv', sep=\"\\t\")\n",
        "data.head()"
      ],
      "execution_count": null,
      "outputs": [
        {
          "output_type": "execute_result",
          "data": {
            "text/html": [
              "<div>\n",
              "<style scoped>\n",
              "    .dataframe tbody tr th:only-of-type {\n",
              "        vertical-align: middle;\n",
              "    }\n",
              "\n",
              "    .dataframe tbody tr th {\n",
              "        vertical-align: top;\n",
              "    }\n",
              "\n",
              "    .dataframe thead th {\n",
              "        text-align: right;\n",
              "    }\n",
              "</style>\n",
              "<table border=\"1\" class=\"dataframe\">\n",
              "  <thead>\n",
              "    <tr style=\"text-align: right;\">\n",
              "      <th></th>\n",
              "      <th>Q1</th>\n",
              "      <th>Q2</th>\n",
              "      <th>Q3</th>\n",
              "      <th>Q4</th>\n",
              "      <th>Q5</th>\n",
              "      <th>Q6</th>\n",
              "      <th>Q7</th>\n",
              "      <th>Q8</th>\n",
              "      <th>Q9</th>\n",
              "      <th>Q10</th>\n",
              "      <th>Q11</th>\n",
              "      <th>Q12</th>\n",
              "      <th>Q13</th>\n",
              "      <th>Q14</th>\n",
              "      <th>Q15</th>\n",
              "      <th>Q16</th>\n",
              "      <th>Q17</th>\n",
              "      <th>Q18</th>\n",
              "      <th>Q19</th>\n",
              "      <th>Q20</th>\n",
              "      <th>Q21</th>\n",
              "      <th>Q22</th>\n",
              "      <th>Q23</th>\n",
              "      <th>Q24</th>\n",
              "      <th>Q25</th>\n",
              "      <th>Q26</th>\n",
              "      <th>Q27</th>\n",
              "      <th>Q28</th>\n",
              "      <th>Q29</th>\n",
              "      <th>Q30</th>\n",
              "      <th>Q31</th>\n",
              "      <th>Q32</th>\n",
              "      <th>Q33</th>\n",
              "      <th>Q34</th>\n",
              "      <th>Q35</th>\n",
              "      <th>Q36</th>\n",
              "      <th>Q37</th>\n",
              "      <th>Q38</th>\n",
              "      <th>Q39</th>\n",
              "      <th>Q40</th>\n",
              "      <th>Q41</th>\n",
              "      <th>Q42</th>\n",
              "      <th>Q43</th>\n",
              "      <th>Q44</th>\n",
              "      <th>introelapse</th>\n",
              "      <th>testelapse</th>\n",
              "      <th>country</th>\n",
              "      <th>IPC</th>\n",
              "      <th>source</th>\n",
              "      <th>engnat</th>\n",
              "      <th>age</th>\n",
              "      <th>education</th>\n",
              "      <th>gender</th>\n",
              "      <th>orientation</th>\n",
              "      <th>race</th>\n",
              "      <th>religion</th>\n",
              "      <th>hand</th>\n",
              "    </tr>\n",
              "  </thead>\n",
              "  <tbody>\n",
              "    <tr>\n",
              "      <th>0</th>\n",
              "      <td>1</td>\n",
              "      <td>4</td>\n",
              "      <td>1</td>\n",
              "      <td>5</td>\n",
              "      <td>2</td>\n",
              "      <td>5</td>\n",
              "      <td>1</td>\n",
              "      <td>5</td>\n",
              "      <td>1</td>\n",
              "      <td>4</td>\n",
              "      <td>1</td>\n",
              "      <td>5</td>\n",
              "      <td>5</td>\n",
              "      <td>5</td>\n",
              "      <td>1</td>\n",
              "      <td>1</td>\n",
              "      <td>1</td>\n",
              "      <td>5</td>\n",
              "      <td>1</td>\n",
              "      <td>5</td>\n",
              "      <td>1</td>\n",
              "      <td>5</td>\n",
              "      <td>4</td>\n",
              "      <td>5</td>\n",
              "      <td>1</td>\n",
              "      <td>5</td>\n",
              "      <td>1</td>\n",
              "      <td>5</td>\n",
              "      <td>1</td>\n",
              "      <td>5</td>\n",
              "      <td>1</td>\n",
              "      <td>5</td>\n",
              "      <td>1</td>\n",
              "      <td>5</td>\n",
              "      <td>1</td>\n",
              "      <td>3</td>\n",
              "      <td>1</td>\n",
              "      <td>5</td>\n",
              "      <td>1</td>\n",
              "      <td>4</td>\n",
              "      <td>1</td>\n",
              "      <td>5</td>\n",
              "      <td>1</td>\n",
              "      <td>5</td>\n",
              "      <td>579</td>\n",
              "      <td>211</td>\n",
              "      <td>US</td>\n",
              "      <td>1</td>\n",
              "      <td>1</td>\n",
              "      <td>1</td>\n",
              "      <td>18</td>\n",
              "      <td>2</td>\n",
              "      <td>2</td>\n",
              "      <td>2</td>\n",
              "      <td>6</td>\n",
              "      <td>1.0</td>\n",
              "      <td>1.0</td>\n",
              "    </tr>\n",
              "    <tr>\n",
              "      <th>1</th>\n",
              "      <td>1</td>\n",
              "      <td>5</td>\n",
              "      <td>1</td>\n",
              "      <td>1</td>\n",
              "      <td>1</td>\n",
              "      <td>4</td>\n",
              "      <td>5</td>\n",
              "      <td>1</td>\n",
              "      <td>5</td>\n",
              "      <td>5</td>\n",
              "      <td>4</td>\n",
              "      <td>3</td>\n",
              "      <td>1</td>\n",
              "      <td>4</td>\n",
              "      <td>5</td>\n",
              "      <td>2</td>\n",
              "      <td>5</td>\n",
              "      <td>4</td>\n",
              "      <td>4</td>\n",
              "      <td>2</td>\n",
              "      <td>5</td>\n",
              "      <td>4</td>\n",
              "      <td>5</td>\n",
              "      <td>3</td>\n",
              "      <td>1</td>\n",
              "      <td>3</td>\n",
              "      <td>5</td>\n",
              "      <td>1</td>\n",
              "      <td>1</td>\n",
              "      <td>1</td>\n",
              "      <td>1</td>\n",
              "      <td>1</td>\n",
              "      <td>3</td>\n",
              "      <td>4</td>\n",
              "      <td>3</td>\n",
              "      <td>3</td>\n",
              "      <td>5</td>\n",
              "      <td>2</td>\n",
              "      <td>5</td>\n",
              "      <td>3</td>\n",
              "      <td>5</td>\n",
              "      <td>5</td>\n",
              "      <td>5</td>\n",
              "      <td>3</td>\n",
              "      <td>63</td>\n",
              "      <td>242</td>\n",
              "      <td>PE</td>\n",
              "      <td>1</td>\n",
              "      <td>0</td>\n",
              "      <td>1</td>\n",
              "      <td>19</td>\n",
              "      <td>2</td>\n",
              "      <td>1</td>\n",
              "      <td>2</td>\n",
              "      <td>6</td>\n",
              "      <td>1.0</td>\n",
              "      <td>2.0</td>\n",
              "    </tr>\n",
              "    <tr>\n",
              "      <th>2</th>\n",
              "      <td>1</td>\n",
              "      <td>4</td>\n",
              "      <td>3</td>\n",
              "      <td>3</td>\n",
              "      <td>2</td>\n",
              "      <td>5</td>\n",
              "      <td>2</td>\n",
              "      <td>5</td>\n",
              "      <td>2</td>\n",
              "      <td>3</td>\n",
              "      <td>5</td>\n",
              "      <td>1</td>\n",
              "      <td>1</td>\n",
              "      <td>3</td>\n",
              "      <td>3</td>\n",
              "      <td>2</td>\n",
              "      <td>1</td>\n",
              "      <td>4</td>\n",
              "      <td>2</td>\n",
              "      <td>3</td>\n",
              "      <td>1</td>\n",
              "      <td>3</td>\n",
              "      <td>5</td>\n",
              "      <td>1</td>\n",
              "      <td>1</td>\n",
              "      <td>5</td>\n",
              "      <td>2</td>\n",
              "      <td>4</td>\n",
              "      <td>1</td>\n",
              "      <td>3</td>\n",
              "      <td>1</td>\n",
              "      <td>1</td>\n",
              "      <td>5</td>\n",
              "      <td>4</td>\n",
              "      <td>3</td>\n",
              "      <td>2</td>\n",
              "      <td>5</td>\n",
              "      <td>5</td>\n",
              "      <td>1</td>\n",
              "      <td>4</td>\n",
              "      <td>2</td>\n",
              "      <td>1</td>\n",
              "      <td>3</td>\n",
              "      <td>3</td>\n",
              "      <td>24</td>\n",
              "      <td>265</td>\n",
              "      <td>CH</td>\n",
              "      <td>1</td>\n",
              "      <td>0</td>\n",
              "      <td>2</td>\n",
              "      <td>18</td>\n",
              "      <td>2</td>\n",
              "      <td>2</td>\n",
              "      <td>1</td>\n",
              "      <td>1</td>\n",
              "      <td>1.0</td>\n",
              "      <td>1.0</td>\n",
              "    </tr>\n",
              "    <tr>\n",
              "      <th>3</th>\n",
              "      <td>1</td>\n",
              "      <td>1</td>\n",
              "      <td>4</td>\n",
              "      <td>4</td>\n",
              "      <td>5</td>\n",
              "      <td>4</td>\n",
              "      <td>5</td>\n",
              "      <td>5</td>\n",
              "      <td>4</td>\n",
              "      <td>2</td>\n",
              "      <td>1</td>\n",
              "      <td>4</td>\n",
              "      <td>4</td>\n",
              "      <td>2</td>\n",
              "      <td>4</td>\n",
              "      <td>2</td>\n",
              "      <td>5</td>\n",
              "      <td>2</td>\n",
              "      <td>2</td>\n",
              "      <td>3</td>\n",
              "      <td>2</td>\n",
              "      <td>4</td>\n",
              "      <td>2</td>\n",
              "      <td>4</td>\n",
              "      <td>5</td>\n",
              "      <td>2</td>\n",
              "      <td>4</td>\n",
              "      <td>4</td>\n",
              "      <td>1</td>\n",
              "      <td>1</td>\n",
              "      <td>5</td>\n",
              "      <td>4</td>\n",
              "      <td>5</td>\n",
              "      <td>5</td>\n",
              "      <td>4</td>\n",
              "      <td>2</td>\n",
              "      <td>1</td>\n",
              "      <td>4</td>\n",
              "      <td>2</td>\n",
              "      <td>3</td>\n",
              "      <td>4</td>\n",
              "      <td>1</td>\n",
              "      <td>4</td>\n",
              "      <td>3</td>\n",
              "      <td>3</td>\n",
              "      <td>231</td>\n",
              "      <td>US</td>\n",
              "      <td>1</td>\n",
              "      <td>1</td>\n",
              "      <td>1</td>\n",
              "      <td>19</td>\n",
              "      <td>3</td>\n",
              "      <td>2</td>\n",
              "      <td>1</td>\n",
              "      <td>6</td>\n",
              "      <td>2.0</td>\n",
              "      <td>1.0</td>\n",
              "    </tr>\n",
              "    <tr>\n",
              "      <th>4</th>\n",
              "      <td>1</td>\n",
              "      <td>2</td>\n",
              "      <td>3</td>\n",
              "      <td>4</td>\n",
              "      <td>3</td>\n",
              "      <td>3</td>\n",
              "      <td>5</td>\n",
              "      <td>1</td>\n",
              "      <td>3</td>\n",
              "      <td>2</td>\n",
              "      <td>4</td>\n",
              "      <td>1</td>\n",
              "      <td>1</td>\n",
              "      <td>3</td>\n",
              "      <td>4</td>\n",
              "      <td>1</td>\n",
              "      <td>4</td>\n",
              "      <td>4</td>\n",
              "      <td>3</td>\n",
              "      <td>1</td>\n",
              "      <td>4</td>\n",
              "      <td>2</td>\n",
              "      <td>5</td>\n",
              "      <td>2</td>\n",
              "      <td>2</td>\n",
              "      <td>2</td>\n",
              "      <td>4</td>\n",
              "      <td>1</td>\n",
              "      <td>2</td>\n",
              "      <td>1</td>\n",
              "      <td>2</td>\n",
              "      <td>1</td>\n",
              "      <td>1</td>\n",
              "      <td>2</td>\n",
              "      <td>2</td>\n",
              "      <td>4</td>\n",
              "      <td>4</td>\n",
              "      <td>3</td>\n",
              "      <td>3</td>\n",
              "      <td>1</td>\n",
              "      <td>1</td>\n",
              "      <td>3</td>\n",
              "      <td>4</td>\n",
              "      <td>3</td>\n",
              "      <td>25</td>\n",
              "      <td>274</td>\n",
              "      <td>US</td>\n",
              "      <td>2</td>\n",
              "      <td>1</td>\n",
              "      <td>1</td>\n",
              "      <td>16</td>\n",
              "      <td>2</td>\n",
              "      <td>1</td>\n",
              "      <td>1</td>\n",
              "      <td>6</td>\n",
              "      <td>2.0</td>\n",
              "      <td>1.0</td>\n",
              "    </tr>\n",
              "  </tbody>\n",
              "</table>\n",
              "</div>"
            ],
            "text/plain": [
              "   Q1  Q2  Q3  Q4  Q5  Q6  ...  education  gender  orientation  race  religion  hand\n",
              "0   1   4   1   5   2   5  ...          2       2            2     6       1.0   1.0\n",
              "1   1   5   1   1   1   4  ...          2       1            2     6       1.0   2.0\n",
              "2   1   4   3   3   2   5  ...          2       2            1     1       1.0   1.0\n",
              "3   1   1   4   4   5   4  ...          3       2            1     6       2.0   1.0\n",
              "4   1   2   3   4   3   3  ...          2       1            1     6       2.0   1.0\n",
              "\n",
              "[5 rows x 57 columns]"
            ]
          },
          "metadata": {
            "tags": []
          },
          "execution_count": 4
        }
      ]
    },
    {
      "cell_type": "code",
      "metadata": {
        "id": "fphaPHSCOdpE",
        "colab": {
          "base_uri": "https://localhost:8080/",
          "height": 602
        },
        "outputId": "98704762-8cc8-4c31-e5af-40f7dfba4192"
      },
      "source": [
        "msno.bar(data)"
      ],
      "execution_count": null,
      "outputs": [
        {
          "output_type": "execute_result",
          "data": {
            "text/plain": [
              "<matplotlib.axes._subplots.AxesSubplot at 0x7fbf938dccf8>"
            ]
          },
          "metadata": {
            "tags": []
          },
          "execution_count": 31
        },
        {
          "output_type": "display_data",
          "data": {
            "image/png": "[encoded data removed]",
            "text/plain": [
              "<Figure size 1728x720 with 2 Axes>"
            ]
          },
          "metadata": {
            "tags": [],
            "needs_background": "light"
          }
        }
      ]
    },
    {
      "cell_type": "markdown",
      "metadata": {
        "id": "qyzQsFAlWakK"
      },
      "source": [
        "# Lide com dados faltantes utilizando SimpleImputer\n",
        "\n",
        "Como mencionado a cima, problemas com dados faltantes são comuns e é de extrema importancia saber lidar com os mesmo, para isso, pode-se utilizar o simpleImputer, visando preencher esses dados mediante alguma regra ou estrategia."
      ]
    },
    {
      "cell_type": "code",
      "metadata": {
        "id": "AIIANACPT_oV"
      },
      "source": [
        "X_train, X_test, y_train, y_test = train_test_split(data[features], data[target],\n",
        "                                                    train_size=0.80, test_size=0.20)"
      ],
      "execution_count": null,
      "outputs": []
    },
    {
      "cell_type": "code",
      "metadata": {
        "id": "rumMs-ByRFm2"
      },
      "source": [
        "imputer = SimpleImputer(strategy=\"median\")\n",
        "imputer.fit(X_train)\n",
        "\n",
        "X_train = imputer.transform(X_train)\n",
        "X_test = imputer.transform(X_test)"
      ],
      "execution_count": null,
      "outputs": []
    },
    {
      "cell_type": "markdown",
      "metadata": {
        "id": "ZfFvRElV_BzU"
      },
      "source": [
        "# Crie checkpoint durante o treino de seus modelos\n",
        "\n",
        "Evitar perder seu trabalho por algum problema inprevisivel deve ser prioridade de um bom engenheiro de ML, visto que os recursos utilizados durante o treino de modelos podem ser muito caros.\n",
        "\n",
        "Dito isto, é uma boa pratica implementar um checkpoint automatico durante o treino do seu modelo para salvar parte do processo em caso de problemas, ou mesmo para testar o modelo em diferentes etapas ou epocas."
      ]
    },
    {
      "cell_type": "code",
      "metadata": {
        "id": "HClf7DXa_sU9"
      },
      "source": [
        "from keras.callbacks import ModelCheckpoint"
      ],
      "execution_count": null,
      "outputs": []
    },
    {
      "cell_type": "code",
      "metadata": {
        "id": "sMeMlw93_X2C"
      },
      "source": [
        "filepath = \"checkpoint-{epoch:02d}-{loss:.4f}.hdf5\"\n",
        "\n",
        "checkpoint = ModelCheckpoint(\n",
        "    filepath, monitor='loss', \n",
        "    verbose=0,        \n",
        "    save_best_only=True,        \n",
        "    mode='min'\n",
        ")\n",
        "\n",
        "callbacks_list = [checkpoint]\n",
        "model.fit(x, y, epochs=250, batch_size=64, callbacks=callbacks_list)"
      ],
      "execution_count": null,
      "outputs": []
    },
    {
      "cell_type": "markdown",
      "metadata": {
        "id": "Se0fBuEs2eJF"
      },
      "source": [
        "# Uso de mapeamento de dicionarios inteligente\r\n",
        "\r\n",
        "Muitas vezes nos vemos na necessidade de mapear valor de um dicionario para outro, onde muitas vezes, o valor das chaves será igual em ambos os dicionarios. Para que seja mais facil mapear um dicionario no outro, utilizar o seguinte método pode ser a melhor alternativa:\r\n",
        "\r\n",
        "Obs: Este método pode ser muito util ao trabalhar com bancos de dados não relacionais como Elasticsearch e MongoDB."
      ]
    },
    {
      "cell_type": "code",
      "metadata": {
        "id": "EqX6Ob5G3Gra"
      },
      "source": [
        "x = {\r\n",
        "    'x': 1,\r\n",
        "    'y': 2,\r\n",
        "    'd': 3,\r\n",
        "    'u': 6,\r\n",
        "    'i': 100100110\r\n",
        "}\r\n",
        "\r\n",
        "y = {}\r\n",
        "\r\n",
        "attr = ['x', 'd', 'i']"
      ],
      "execution_count": null,
      "outputs": []
    },
    {
      "cell_type": "code",
      "metadata": {
        "id": "O2kWv35l2-dZ"
      },
      "source": [
        "def map_dict_to_dict(data, target, attrs):\r\n",
        "  for attr in attrs:\r\n",
        "    target[attr] = data[attr]"
      ],
      "execution_count": null,
      "outputs": []
    },
    {
      "cell_type": "code",
      "metadata": {
        "colab": {
          "base_uri": "https://localhost:8080/"
        },
        "id": "2LYVUXNc3afL",
        "outputId": "b773709c-108b-4b88-c8ee-b1c80816759b"
      },
      "source": [
        "map_dict_to_dict(x, y, attrs=attr)\r\n",
        "y"
      ],
      "execution_count": null,
      "outputs": [
        {
          "output_type": "execute_result",
          "data": {
            "text/plain": [
              "{'d': 3, 'i': 100100110, 'x': 1}"
            ]
          },
          "metadata": {
            "tags": []
          },
          "execution_count": 4
        }
      ]
    },
    {
      "cell_type": "markdown",
      "metadata": {
        "id": "b8kA6lx2Ya3O"
      },
      "source": [
        "# Acompanhe o consumo de memória de seus métodos\r\n",
        " "
      ]
    },
    {
      "cell_type": "code",
      "metadata": {
        "id": "fvNqse3IYaZJ"
      },
      "source": [
        "import tracemalloc\r\n",
        "from functools import wraps\r\n",
        "\r\n",
        "def memory(f):\r\n",
        "  \"\"\"Decorator for functions memory consuption\r\n",
        "  Usage:\r\n",
        "  @memory\r\n",
        "  def function(a):\r\n",
        "    pass\r\n",
        "  \"\"\"\r\n",
        "\r\n",
        "  @wraps(f)\r\n",
        "  def wrapper(*args, **kwargs):\r\n",
        "    tracemalloc.start()\r\n",
        "    result = f(*args, **kwargs)\r\n",
        "    current, peak = tracemalloc.get_traced_memory()\r\n",
        "    print(f\"Current memory usage is \" + \"{:.2f}\".format(current / 10**6) + \"MB; Peak was \" + \"{:.2f}\".format(peak / 10**6) + \"MB\")\r\n",
        "    tracemalloc.stop()\r\n",
        "    return result\r\n",
        "  return wrapper"
      ],
      "execution_count": null,
      "outputs": []
    },
    {
      "cell_type": "code",
      "metadata": {
        "id": "5JnSUibcZJqc",
        "colab": {
          "base_uri": "https://localhost:8080/"
        },
        "outputId": "e8aa9363-ff29-4413-f541-0135bc7f249e"
      },
      "source": [
        "@memory\r\n",
        "def teste():\r\n",
        "  y = 0\r\n",
        "  for x in range(1,10000000):\r\n",
        "    y += x\r\n",
        "  print(y)\r\n",
        "\r\n",
        "teste()"
      ],
      "execution_count": null,
      "outputs": [
        {
          "output_type": "stream",
          "text": [
            "49999995000000\n",
            "Current memory usage is 0.11MB; Peak was 0.17MB\n"
          ],
          "name": "stdout"
        }
      ]
    },
    {
      "cell_type": "markdown",
      "metadata": {
        "id": "mO4n2Fwehs84"
      },
      "source": [
        "# Problema complexo, pense pratico, resolva simples \r\n",
        "\r\n",
        "Muitos problemas complexos possuem soluções prontas simples, a seguir vemos um exemplo simples de classificação de imagens usando um modelo de rede neural pronto.\r\n",
        "\r\n",
        "Obs: O mesmo exemplo se aplica para diversas situação, não apenas para classificação de imagens."
      ]
    },
    {
      "cell_type": "code",
      "metadata": {
        "id": "zjfp8HQDh51c"
      },
      "source": [
        "import numpy as np\r\n",
        "from PIL import Image\r\n",
        "\r\n",
        "from keras.applications.vgg16 import VGG16\r\n",
        "from keras.applications.vgg16 import preprocess_input, decode_predictions"
      ],
      "execution_count": 1,
      "outputs": []
    },
    {
      "cell_type": "code",
      "metadata": {
        "colab": {
          "base_uri": "https://localhost:8080/"
        },
        "id": "xcGDThLth-6X",
        "outputId": "617764d7-1fd9-4e1e-ede3-a010422f7cde"
      },
      "source": [
        "model = VGG16(weights='imagenet', include_top=True)"
      ],
      "execution_count": 2,
      "outputs": [
        {
          "output_type": "stream",
          "text": [
            "Downloading data from https://storage.googleapis.com/tensorflow/keras-applications/vgg16/vgg16_weights_tf_dim_ordering_tf_kernels.h5\n",
            "553467904/553467096 [==============================] - 4s 0us/step\n"
          ],
          "name": "stdout"
        }
      ]
    },
    {
      "cell_type": "code",
      "metadata": {
        "id": "TIYfeZyxiAuf"
      },
      "source": [
        "layers = dict([(layer.name, layer.output) for layer in model.layers])"
      ],
      "execution_count": 3,
      "outputs": []
    },
    {
      "cell_type": "code",
      "metadata": {
        "colab": {
          "base_uri": "https://localhost:8080/",
          "height": 241
        },
        "id": "MNv4gLaTiGVc",
        "outputId": "b8d563ed-9d71-452e-940a-b074718438b6"
      },
      "source": [
        "image_path = 'glasses.jpg'\r\n",
        "image = Image.open(image_path)\r\n",
        "image = image.resize((224, 224))\r\n",
        "image"
      ],
      "execution_count": 4,
      "outputs": [
        {
          "output_type": "execute_result",
          "data": {
            "image/png": "[encoded data removed]",
            "text/plain": [
              "<PIL.Image.Image image mode=RGB size=224x224 at 0x7F46C87E9208>"
            ]
          },
          "metadata": {
            "tags": []
          },
          "execution_count": 4
        }
      ]
    },
    {
      "cell_type": "code",
      "metadata": {
        "id": "84rV9U7oiQKx"
      },
      "source": [
        "x = np.asarray(image, dtype='float32')\r\n",
        "x = np.expand_dims(x, axis=0)\r\n",
        "x = preprocess_input(x)"
      ],
      "execution_count": 5,
      "outputs": []
    },
    {
      "cell_type": "code",
      "metadata": {
        "colab": {
          "base_uri": "https://localhost:8080/"
        },
        "id": "A2Z4MlSAiSvH",
        "outputId": "29fd440e-1237-4b4c-c906-6dd571c505ae"
      },
      "source": [
        "preds = model.predict(x)\r\n",
        "print('Predicted:', decode_predictions(preds, top=3))"
      ],
      "execution_count": 7,
      "outputs": [
        {
          "output_type": "stream",
          "text": [
            "Predicted: [[('n04356056', 'sunglasses', 0.46897006), ('n04355933', 'sunglass', 0.42783365), ('n03476684', 'hair_slide', 0.012760546)]]\n"
          ],
          "name": "stdout"
        }
      ]
    }
  ]
}