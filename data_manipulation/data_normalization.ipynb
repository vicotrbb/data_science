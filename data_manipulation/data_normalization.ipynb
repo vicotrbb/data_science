{
  "nbformat": 4,
  "nbformat_minor": 0,
  "metadata": {
    "colab": {
      "name": "data_normalization.ipynb",
      "provenance": [],
      "collapsed_sections": []
    },
    "kernelspec": {
      "name": "python3",
      "display_name": "Python 3"
    }
  },
  "cells": [
    {
      "cell_type": "markdown",
      "metadata": {
        "id": "YjfHZPY9tbWO",
        "colab_type": "text"
      },
      "source": [
        "# Normalizacao de dados\n",
        "\n",
        "A normalizacao de dados serve para colocarmos todos os dados de um conjunto no mesmo \"nivel\", para que tenham o mesmo impacto estatisticamente.\n",
        "\n",
        "Digamos por exemplo que tenhamos o dataset a seguir, como podemos ver, os atributos \"Idade\" e \"Patrimonio\" e muito diferente em escala, na casa dos 1k, para solucionarmos isto iremos normalizar os dados para que eles tenham o mesmo impacto e estejam em mesma escala. Exitem 3 metodos para tal.\n",
        "\n",
        "## Autor\n",
        "\n",
        "Victor Bona"
      ]
    },
    {
      "cell_type": "code",
      "metadata": {
        "id": "iuMuZn7OtTLS",
        "colab_type": "code",
        "colab": {
          "base_uri": "https://localhost:8080/",
          "height": 206
        },
        "outputId": "b45516ba-b9ff-45c7-ad40-2299517ad693"
      },
      "source": [
        "import pandas as pd\n",
        "import numpy as np\n",
        "\n",
        "idade = [20, 30, 40, 50, 55]\n",
        "patrimonio = [100000, 300000, 350000, 50000, 800000]\n",
        "\n",
        "att = {'idade': idade, \n",
        "       'patrimonio': patrimonio}\n",
        "\n",
        "ds = pd.DataFrame(att, columns=['idade', 'patrimonio'])\n",
        "ds"
      ],
      "execution_count": 9,
      "outputs": [
        {
          "output_type": "execute_result",
          "data": {
            "text/html": [
              "<div>\n",
              "<style scoped>\n",
              "    .dataframe tbody tr th:only-of-type {\n",
              "        vertical-align: middle;\n",
              "    }\n",
              "\n",
              "    .dataframe tbody tr th {\n",
              "        vertical-align: top;\n",
              "    }\n",
              "\n",
              "    .dataframe thead th {\n",
              "        text-align: right;\n",
              "    }\n",
              "</style>\n",
              "<table border=\"1\" class=\"dataframe\">\n",
              "  <thead>\n",
              "    <tr style=\"text-align: right;\">\n",
              "      <th></th>\n",
              "      <th>idade</th>\n",
              "      <th>patrimonio</th>\n",
              "    </tr>\n",
              "  </thead>\n",
              "  <tbody>\n",
              "    <tr>\n",
              "      <th>0</th>\n",
              "      <td>20</td>\n",
              "      <td>100000</td>\n",
              "    </tr>\n",
              "    <tr>\n",
              "      <th>1</th>\n",
              "      <td>30</td>\n",
              "      <td>300000</td>\n",
              "    </tr>\n",
              "    <tr>\n",
              "      <th>2</th>\n",
              "      <td>40</td>\n",
              "      <td>350000</td>\n",
              "    </tr>\n",
              "    <tr>\n",
              "      <th>3</th>\n",
              "      <td>50</td>\n",
              "      <td>50000</td>\n",
              "    </tr>\n",
              "    <tr>\n",
              "      <th>4</th>\n",
              "      <td>55</td>\n",
              "      <td>800000</td>\n",
              "    </tr>\n",
              "  </tbody>\n",
              "</table>\n",
              "</div>"
            ],
            "text/plain": [
              "   idade  patrimonio\n",
              "0     20      100000\n",
              "1     30      300000\n",
              "2     40      350000\n",
              "3     50       50000\n",
              "4     55      800000"
            ]
          },
          "metadata": {
            "tags": []
          },
          "execution_count": 9
        }
      ]
    },
    {
      "cell_type": "markdown",
      "metadata": {
        "id": "ViQUN1APvdnV",
        "colab_type": "text"
      },
      "source": [
        "# Escalamento simples\n",
        "\n",
        "Consiste basicamente em dividir cada valor do registro pelo maximo possivel daquela caracteristica\n",
        "\n",
        "$Xnew = \\frac{Xold}{Xmax}$\n"
      ]
    },
    {
      "cell_type": "code",
      "metadata": {
        "id": "uhxhoNE8wWHV",
        "colab_type": "code",
        "colab": {
          "base_uri": "https://localhost:8080/",
          "height": 206
        },
        "outputId": "e4c4960b-aca0-44ae-a0dc-9a109dcf03d1"
      },
      "source": [
        "se = ds/ds.max()\n",
        "se"
      ],
      "execution_count": 10,
      "outputs": [
        {
          "output_type": "execute_result",
          "data": {
            "text/html": [
              "<div>\n",
              "<style scoped>\n",
              "    .dataframe tbody tr th:only-of-type {\n",
              "        vertical-align: middle;\n",
              "    }\n",
              "\n",
              "    .dataframe tbody tr th {\n",
              "        vertical-align: top;\n",
              "    }\n",
              "\n",
              "    .dataframe thead th {\n",
              "        text-align: right;\n",
              "    }\n",
              "</style>\n",
              "<table border=\"1\" class=\"dataframe\">\n",
              "  <thead>\n",
              "    <tr style=\"text-align: right;\">\n",
              "      <th></th>\n",
              "      <th>idade</th>\n",
              "      <th>patrimonio</th>\n",
              "    </tr>\n",
              "  </thead>\n",
              "  <tbody>\n",
              "    <tr>\n",
              "      <th>0</th>\n",
              "      <td>0.363636</td>\n",
              "      <td>0.1250</td>\n",
              "    </tr>\n",
              "    <tr>\n",
              "      <th>1</th>\n",
              "      <td>0.545455</td>\n",
              "      <td>0.3750</td>\n",
              "    </tr>\n",
              "    <tr>\n",
              "      <th>2</th>\n",
              "      <td>0.727273</td>\n",
              "      <td>0.4375</td>\n",
              "    </tr>\n",
              "    <tr>\n",
              "      <th>3</th>\n",
              "      <td>0.909091</td>\n",
              "      <td>0.0625</td>\n",
              "    </tr>\n",
              "    <tr>\n",
              "      <th>4</th>\n",
              "      <td>1.000000</td>\n",
              "      <td>1.0000</td>\n",
              "    </tr>\n",
              "  </tbody>\n",
              "</table>\n",
              "</div>"
            ],
            "text/plain": [
              "      idade  patrimonio\n",
              "0  0.363636      0.1250\n",
              "1  0.545455      0.3750\n",
              "2  0.727273      0.4375\n",
              "3  0.909091      0.0625\n",
              "4  1.000000      1.0000"
            ]
          },
          "metadata": {
            "tags": []
          },
          "execution_count": 10
        }
      ]
    },
    {
      "cell_type": "markdown",
      "metadata": {
        "id": "HuHClggdwbJg",
        "colab_type": "text"
      },
      "source": [
        "# Min-Max\n",
        "\n",
        "Consiste basicamente cada registro subtraido pelo seu minimo possivel dividio pelo subtracao do maximo possivel pelo minimpo possivel.\n",
        "\n",
        "$Xnew = \\frac{Xold - Xmin}{Xmax - Xmin}$"
      ]
    },
    {
      "cell_type": "code",
      "metadata": {
        "id": "KcCbIRFnwzUJ",
        "colab_type": "code",
        "colab": {
          "base_uri": "https://localhost:8080/",
          "height": 206
        },
        "outputId": "f22e7f82-0d65-4938-e435-1ee9b516e004"
      },
      "source": [
        "mm = (ds - ds.min())/(ds.max() - ds.min())\n",
        "mm"
      ],
      "execution_count": 15,
      "outputs": [
        {
          "output_type": "execute_result",
          "data": {
            "text/html": [
              "<div>\n",
              "<style scoped>\n",
              "    .dataframe tbody tr th:only-of-type {\n",
              "        vertical-align: middle;\n",
              "    }\n",
              "\n",
              "    .dataframe tbody tr th {\n",
              "        vertical-align: top;\n",
              "    }\n",
              "\n",
              "    .dataframe thead th {\n",
              "        text-align: right;\n",
              "    }\n",
              "</style>\n",
              "<table border=\"1\" class=\"dataframe\">\n",
              "  <thead>\n",
              "    <tr style=\"text-align: right;\">\n",
              "      <th></th>\n",
              "      <th>idade</th>\n",
              "      <th>patrimonio</th>\n",
              "    </tr>\n",
              "  </thead>\n",
              "  <tbody>\n",
              "    <tr>\n",
              "      <th>0</th>\n",
              "      <td>0.000000</td>\n",
              "      <td>0.066667</td>\n",
              "    </tr>\n",
              "    <tr>\n",
              "      <th>1</th>\n",
              "      <td>0.285714</td>\n",
              "      <td>0.333333</td>\n",
              "    </tr>\n",
              "    <tr>\n",
              "      <th>2</th>\n",
              "      <td>0.571429</td>\n",
              "      <td>0.400000</td>\n",
              "    </tr>\n",
              "    <tr>\n",
              "      <th>3</th>\n",
              "      <td>0.857143</td>\n",
              "      <td>0.000000</td>\n",
              "    </tr>\n",
              "    <tr>\n",
              "      <th>4</th>\n",
              "      <td>1.000000</td>\n",
              "      <td>1.000000</td>\n",
              "    </tr>\n",
              "  </tbody>\n",
              "</table>\n",
              "</div>"
            ],
            "text/plain": [
              "      idade  patrimonio\n",
              "0  0.000000    0.066667\n",
              "1  0.285714    0.333333\n",
              "2  0.571429    0.400000\n",
              "3  0.857143    0.000000\n",
              "4  1.000000    1.000000"
            ]
          },
          "metadata": {
            "tags": []
          },
          "execution_count": 15
        }
      ]
    },
    {
      "cell_type": "markdown",
      "metadata": {
        "id": "cJFNsrFYwzvR",
        "colab_type": "text"
      },
      "source": [
        "# Z-Score\n",
        "\n",
        "Consiste em cada registro subtraido pela media dos registros divididos pelo desvio padrao(sigma), este metodo pode gerar valores menores que 0.\n",
        "\n",
        "$Xnew = \\frac{Xold - \\mu }{\\sigma}$"
      ]
    },
    {
      "cell_type": "code",
      "metadata": {
        "id": "Ncu5BXQhxdDU",
        "colab_type": "code",
        "colab": {
          "base_uri": "https://localhost:8080/",
          "height": 206
        },
        "outputId": "522b01a5-9cd1-41bf-8923-a68d3fca6b7a"
      },
      "source": [
        "zs = (ds - ds.mean())/ds.std()\n",
        "zs"
      ],
      "execution_count": 16,
      "outputs": [
        {
          "output_type": "execute_result",
          "data": {
            "text/html": [
              "<div>\n",
              "<style scoped>\n",
              "    .dataframe tbody tr th:only-of-type {\n",
              "        vertical-align: middle;\n",
              "    }\n",
              "\n",
              "    .dataframe tbody tr th {\n",
              "        vertical-align: top;\n",
              "    }\n",
              "\n",
              "    .dataframe thead th {\n",
              "        text-align: right;\n",
              "    }\n",
              "</style>\n",
              "<table border=\"1\" class=\"dataframe\">\n",
              "  <thead>\n",
              "    <tr style=\"text-align: right;\">\n",
              "      <th></th>\n",
              "      <th>idade</th>\n",
              "      <th>patrimonio</th>\n",
              "    </tr>\n",
              "  </thead>\n",
              "  <tbody>\n",
              "    <tr>\n",
              "      <th>0</th>\n",
              "      <td>-1.327018</td>\n",
              "      <td>-0.740569</td>\n",
              "    </tr>\n",
              "    <tr>\n",
              "      <th>1</th>\n",
              "      <td>-0.628587</td>\n",
              "      <td>-0.067324</td>\n",
              "    </tr>\n",
              "    <tr>\n",
              "      <th>2</th>\n",
              "      <td>0.069843</td>\n",
              "      <td>0.100987</td>\n",
              "    </tr>\n",
              "    <tr>\n",
              "      <th>3</th>\n",
              "      <td>0.768273</td>\n",
              "      <td>-0.908880</td>\n",
              "    </tr>\n",
              "    <tr>\n",
              "      <th>4</th>\n",
              "      <td>1.117488</td>\n",
              "      <td>1.615786</td>\n",
              "    </tr>\n",
              "  </tbody>\n",
              "</table>\n",
              "</div>"
            ],
            "text/plain": [
              "      idade  patrimonio\n",
              "0 -1.327018   -0.740569\n",
              "1 -0.628587   -0.067324\n",
              "2  0.069843    0.100987\n",
              "3  0.768273   -0.908880\n",
              "4  1.117488    1.615786"
            ]
          },
          "metadata": {
            "tags": []
          },
          "execution_count": 16
        }
      ]
    }
  ]
}